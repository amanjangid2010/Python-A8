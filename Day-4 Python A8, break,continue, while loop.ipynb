{
 "cells": [
  {
   "cell_type": "code",
   "execution_count": null,
   "id": "01f589cf-7429-489e-aed4-6973def64c53",
   "metadata": {},
   "outputs": [],
   "source": []
  },
  {
   "cell_type": "code",
   "execution_count": 8,
   "id": "c5c918f0-9e5b-4715-8c72-95b33864715b",
   "metadata": {},
   "outputs": [
    {
     "name": "stdout",
     "output_type": "stream",
     "text": [
      "1\n",
      "2\n",
      "3\n",
      "4\n",
      "outside\n"
     ]
    }
   ],
   "source": [
    "# break continue\n",
    "\n",
    "for i in range(1,5):\n",
    "    print(i)\n",
    "print(\"outside\")"
   ]
  },
  {
   "cell_type": "code",
   "execution_count": 12,
   "id": "34cd9a5c-f94b-4378-9444-714ccabef6e3",
   "metadata": {},
   "outputs": [
    {
     "name": "stdout",
     "output_type": "stream",
     "text": [
      "1\n",
      "outside\n"
     ]
    }
   ],
   "source": [
    "for i in range(1,5):\n",
    "    print(i)\n",
    "    break\n",
    "\n",
    "print(\"outside\")"
   ]
  },
  {
   "cell_type": "code",
   "execution_count": 22,
   "id": "4da2e689-bbef-4257-af60-2b485053a0a6",
   "metadata": {},
   "outputs": [
    {
     "name": "stdout",
     "output_type": "stream",
     "text": [
      "1\n",
      "2\n",
      "outside\n"
     ]
    }
   ],
   "source": [
    "for i in range(1,5):\n",
    "    if(i==3):\n",
    "        break\n",
    "    print(i)\n",
    "print(\"outside\")"
   ]
  },
  {
   "cell_type": "code",
   "execution_count": 26,
   "id": "4bdf7298-2866-4b82-acd9-cda9c4f50674",
   "metadata": {},
   "outputs": [
    {
     "name": "stdout",
     "output_type": "stream",
     "text": [
      "2\n",
      "3\n",
      "4\n",
      "5\n",
      "6\n",
      "7\n",
      "8\n",
      "9\n",
      "10\n",
      "11\n",
      "12\n",
      "13\n",
      "14\n"
     ]
    }
   ],
   "source": [
    "num = 15\n",
    "for i in range(2,15):\n",
    "    print(i)"
   ]
  },
  {
   "cell_type": "code",
   "execution_count": 36,
   "id": "2ef2f24b-a334-407b-8925-7f52efb648c1",
   "metadata": {},
   "outputs": [
    {
     "name": "stdout",
     "output_type": "stream",
     "text": [
      "this is prime 15\n",
      "this is not prime\n"
     ]
    }
   ],
   "source": [
    "num = 15\n",
    "for i in range(2,15):\n",
    "    if(num%i==0):\n",
    "        print(\"this is not prime\")\n",
    "        break\n",
    "    else:\n",
    "        print(\"this is prime\",num)"
   ]
  },
  {
   "cell_type": "code",
   "execution_count": 42,
   "id": "98cdab00-b0ef-46e8-b2b1-e6c753c9dcc3",
   "metadata": {},
   "outputs": [
    {
     "name": "stdout",
     "output_type": "stream",
     "text": [
      "without break\n"
     ]
    }
   ],
   "source": [
    "\n",
    "z = 0\n",
    "for i in range(1,5):\n",
    "    if(i==8):\n",
    "        z=1\n",
    "        break\n",
    "if(z==0):\n",
    "    print(\"without break\")\n",
    "else:\n",
    "    print(\"with break\")"
   ]
  },
  {
   "cell_type": "code",
   "execution_count": 62,
   "id": "f9752959-a728-4101-b7c7-56b62bf05619",
   "metadata": {},
   "outputs": [
    {
     "name": "stdin",
     "output_type": "stream",
     "text": [
      "enter any number 7\n"
     ]
    },
    {
     "name": "stdout",
     "output_type": "stream",
     "text": [
      "prime number\n"
     ]
    }
   ],
   "source": [
    "num = int(input(\"enter any number\"))\n",
    "a = 0\n",
    "for i in range(2,num):\n",
    "    if(num%i==0):\n",
    "        a = 1\n",
    "        break\n",
    "if(a==0):\n",
    "    print(\"prime number\")\n",
    "else:\n",
    "    print(\"not prime\")"
   ]
  },
  {
   "cell_type": "code",
   "execution_count": 73,
   "id": "d6491f4b-e033-4043-9612-411bbc54a40f",
   "metadata": {},
   "outputs": [
    {
     "name": "stdout",
     "output_type": "stream",
     "text": [
      "1\n",
      "2\n",
      "4\n"
     ]
    }
   ],
   "source": [
    "for i in range(1,5):\n",
    "    if(i==3):\n",
    "        continue\n",
    "    print(i)"
   ]
  },
  {
   "cell_type": "code",
   "execution_count": 77,
   "id": "be9cb4a4-67e9-436f-8bff-fa63dbb72e6c",
   "metadata": {},
   "outputs": [
    {
     "name": "stdout",
     "output_type": "stream",
     "text": [
      "1 5\n",
      "2 4\n",
      "3 3\n",
      "4 2\n"
     ]
    }
   ],
   "source": [
    "# while loop\n",
    "# while loop => based on certain condition\n",
    "num = 5\n",
    "for i in range(1,num):\n",
    "    print(i,num)\n",
    "    num-=1\n",
    "    "
   ]
  },
  {
   "cell_type": "code",
   "execution_count": 1,
   "id": "37b3f979-2e46-4e39-8ef9-15c9b4922194",
   "metadata": {},
   "outputs": [
    {
     "name": "stdout",
     "output_type": "stream",
     "text": [
      "hey 5\n",
      "hey 4\n",
      "hey 3\n"
     ]
    }
   ],
   "source": [
    "num = 5\n",
    "while(num>2):\n",
    "    print(\"hey\",num)\n",
    "    num = num -1"
   ]
  },
  {
   "cell_type": "code",
   "execution_count": 2,
   "id": "f1dc764d-c56f-401b-a422-16bf268fb09f",
   "metadata": {},
   "outputs": [
    {
     "name": "stdout",
     "output_type": "stream",
     "text": [
      "odd\n"
     ]
    }
   ],
   "source": [
    "num = 5\n",
    "\n",
    "while(num==5):\n",
    "    if(num%2==0):\n",
    "        print(\"even\")\n",
    "    else:\n",
    "        print(\"odd\")\n",
    "    num = num+1"
   ]
  },
  {
   "cell_type": "code",
   "execution_count": 30,
   "id": "f1691dd8-5487-42e0-a8fa-6e068456c216",
   "metadata": {},
   "outputs": [
    {
     "name": "stdout",
     "output_type": "stream",
     "text": [
      "even number: 10\n",
      "odd number 11\n",
      "even number: 12\n",
      "odd number 13\n",
      "even number: 14\n",
      "odd number 15\n",
      "even number: 16\n",
      "odd number 17\n",
      "even number: 18\n",
      "odd number 19\n"
     ]
    }
   ],
   "source": [
    "num = 20\n",
    "start = 10\n",
    "while(start<num):\n",
    "    if(start%2==0):\n",
    "        print(\"even number:\",start)\n",
    "    else:\n",
    "        print(\"odd number\",start)\n",
    "    start += 1\n",
    "    \n",
    "    "
   ]
  },
  {
   "cell_type": "code",
   "execution_count": 20,
   "id": "f3ca0267-3b7c-4739-985b-6279ba826242",
   "metadata": {},
   "outputs": [
    {
     "name": "stdin",
     "output_type": "stream",
     "text": [
      "enter any number 5\n"
     ]
    },
    {
     "name": "stdout",
     "output_type": "stream",
     "text": [
      "prime number\n"
     ]
    }
   ],
   "source": [
    "start = 2\n",
    "end = int(input(\"enter any number\"))\n",
    "while(start<end):\n",
    "    if(end%start==0):\n",
    "        print(\"not prime number\")\n",
    "        break\n",
    "    start = start +1\n",
    "else:\n",
    "    print(\"prime number\")"
   ]
  },
  {
   "cell_type": "code",
   "execution_count": 26,
   "id": "5c303f05-b0e9-4501-ba2a-4acde5082690",
   "metadata": {},
   "outputs": [
    {
     "name": "stdout",
     "output_type": "stream",
     "text": [
      "1\n",
      "2\n",
      "3\n",
      "4\n",
      "5\n",
      "6\n",
      "7\n",
      "8\n",
      "9\n",
      "10\n"
     ]
    }
   ],
   "source": [
    "start = 1\n",
    "end = 11\n",
    "while(start<end):\n",
    "    print(start)\n",
    "    start = start +1"
   ]
  },
  {
   "cell_type": "code",
   "execution_count": null,
   "id": "079d347c-23ee-4128-8bfa-70435d651b74",
   "metadata": {},
   "outputs": [],
   "source": []
  }
 ],
 "metadata": {
  "kernelspec": {
   "display_name": "Python [conda env:base] *",
   "language": "python",
   "name": "conda-base-py"
  },
  "language_info": {
   "codemirror_mode": {
    "name": "ipython",
    "version": 3
   },
   "file_extension": ".py",
   "mimetype": "text/x-python",
   "name": "python",
   "nbconvert_exporter": "python",
   "pygments_lexer": "ipython3",
   "version": "3.12.7"
  }
 },
 "nbformat": 4,
 "nbformat_minor": 5
}

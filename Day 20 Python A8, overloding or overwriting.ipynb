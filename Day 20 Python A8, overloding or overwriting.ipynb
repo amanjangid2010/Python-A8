{
 "cells": [
  {
   "cell_type": "code",
   "execution_count": 4,
   "id": "eeef8348-c24b-45ee-bbe2-3584ac876a7f",
   "metadata": {},
   "outputs": [
    {
     "ename": "NameError",
     "evalue": "name 'self' is not defined",
     "output_type": "error",
     "traceback": [
      "\u001b[1;31m---------------------------------------------------------------------------\u001b[0m",
      "\u001b[1;31mNameError\u001b[0m                                 Traceback (most recent call last)",
      "Cell \u001b[1;32mIn[4], line 4\u001b[0m\n\u001b[0;32m      1\u001b[0m \u001b[38;5;28;01mclass\u001b[39;00m \u001b[38;5;21;01mparent\u001b[39;00m:\n\u001b[0;32m      2\u001b[0m     \u001b[38;5;28mid\u001b[39m\u001b[38;5;241m=\u001b[39m\u001b[38;5;241m10\u001b[39m\n\u001b[1;32m----> 4\u001b[0m \u001b[38;5;28;01mclass\u001b[39;00m \u001b[38;5;21;01mchild\u001b[39;00m(parent):\n\u001b[0;32m      5\u001b[0m     \u001b[38;5;28mprint\u001b[39m(\u001b[38;5;28mself\u001b[39m\u001b[38;5;241m.\u001b[39mid)\n",
      "Cell \u001b[1;32mIn[4], line 5\u001b[0m, in \u001b[0;36mchild\u001b[1;34m()\u001b[0m\n\u001b[0;32m      4\u001b[0m \u001b[38;5;28;01mclass\u001b[39;00m \u001b[38;5;21;01mchild\u001b[39;00m(parent):\n\u001b[1;32m----> 5\u001b[0m     \u001b[38;5;28mprint\u001b[39m(\u001b[38;5;28mself\u001b[39m\u001b[38;5;241m.\u001b[39mid)\n",
      "\u001b[1;31mNameError\u001b[0m: name 'self' is not defined"
     ]
    }
   ],
   "source": [
    "class parent:\n",
    "    id=10\n",
    "\n",
    "class child(parent):\n",
    "    print(self.id)"
   ]
  },
  {
   "cell_type": "code",
   "execution_count": 8,
   "id": "382e0446-5463-4656-92aa-29752bc0a23a",
   "metadata": {},
   "outputs": [],
   "source": [
    "class parent:\n",
    "    id=10\n",
    "\n",
    "class child(parent):\n",
    "    def __init__(self):\n",
    "        print(self.id)"
   ]
  },
  {
   "cell_type": "code",
   "execution_count": 12,
   "id": "feff88c2-b6f8-4371-a935-5c0417e670c9",
   "metadata": {},
   "outputs": [
    {
     "name": "stdout",
     "output_type": "stream",
     "text": [
      "10\n"
     ]
    }
   ],
   "source": [
    "c1=child()"
   ]
  },
  {
   "cell_type": "code",
   "execution_count": 16,
   "id": "8cc536c4-9cf8-4fca-b9be-b9a9635f424a",
   "metadata": {},
   "outputs": [],
   "source": [
    "class parent:\n",
    "    id=10\n",
    "\n",
    "class child(parent):\n",
    "    def __init__(self):\n",
    "        print(self.id)\n",
    "        super().__init__()"
   ]
  },
  {
   "cell_type": "code",
   "execution_count": 20,
   "id": "08998e36-f5a5-43d6-95e5-fd3e074d9120",
   "metadata": {},
   "outputs": [
    {
     "name": "stdout",
     "output_type": "stream",
     "text": [
      "10\n"
     ]
    }
   ],
   "source": [
    "c1=child()"
   ]
  },
  {
   "cell_type": "code",
   "execution_count": 22,
   "id": "273e1876-2f26-4051-a49c-8fb6ae8a3156",
   "metadata": {},
   "outputs": [],
   "source": [
    "class parent:\n",
    "    id=10\n",
    "\n",
    "class child(parent):\n",
    "    def __init__(self):\n",
    "        print(self.id)\n",
    "        print(parent.id)"
   ]
  },
  {
   "cell_type": "code",
   "execution_count": 24,
   "id": "a80716f6-e6db-476f-b7b9-329e230db1a6",
   "metadata": {},
   "outputs": [
    {
     "name": "stdout",
     "output_type": "stream",
     "text": [
      "10\n",
      "10\n"
     ]
    }
   ],
   "source": [
    "c1=child()"
   ]
  },
  {
   "cell_type": "code",
   "execution_count": 26,
   "id": "79283b00-8936-4f5b-bc75-8e2f6b4e61a8",
   "metadata": {},
   "outputs": [],
   "source": [
    "# single level\n",
    "# multiple\n",
    "# multi - level\n",
    "# hierachal\n",
    "# hybrid"
   ]
  },
  {
   "cell_type": "code",
   "execution_count": 30,
   "id": "e48b54b8-6103-4b93-8036-968964e9afa7",
   "metadata": {},
   "outputs": [],
   "source": [
    "class GP:\n",
    "    amount = 500\n",
    "\n",
    "class Father(GP):\n",
    "    business=1000000\n",
    "\n",
    "class child(Father):\n",
    "    spend=50000"
   ]
  },
  {
   "cell_type": "code",
   "execution_count": 48,
   "id": "ec0247d2-3044-4eb2-b608-a3e534030b78",
   "metadata": {},
   "outputs": [],
   "source": [
    "class GP:\n",
    "    def __init__(self):\n",
    "        self.amount=500\n",
    "        \n",
    "class Father(GP):\n",
    "    def __init__(self):\n",
    "        self.business=100000\n",
    "\n",
    "class child(Father):\n",
    "    def __init__(self):\n",
    "        self.spend=500\n",
    "        super().__init__()  # constructor of father\n",
    "        GP.__init__(self)"
   ]
  },
  {
   "cell_type": "code",
   "execution_count": 50,
   "id": "53bb9ff9-bb23-4b7c-b240-a1e9697db18d",
   "metadata": {},
   "outputs": [
    {
     "data": {
      "text/plain": [
       "500"
      ]
     },
     "execution_count": 50,
     "metadata": {},
     "output_type": "execute_result"
    }
   ],
   "source": [
    "c1=child()\n",
    "c1.amount\n"
   ]
  },
  {
   "cell_type": "code",
   "execution_count": 73,
   "id": "293363a8-2ba8-446f-aced-d700e6189b97",
   "metadata": {},
   "outputs": [
    {
     "name": "stdout",
     "output_type": "stream",
     "text": [
      "500\n",
      "100000\n",
      "500\n"
     ]
    }
   ],
   "source": [
    "class GP1:\n",
    "    def __init__(self):\n",
    "        self.amount=500\n",
    "        \n",
    "class Father(GP1):\n",
    "    def __init__(self):\n",
    "        self.business=100000\n",
    "        super().__init__()\n",
    "\n",
    "class Tushar(Father):\n",
    "    def __init__(self):\n",
    "        self.spend=500\n",
    "        super().__init__()\n",
    "\n",
    "t=Tushar()\n",
    "print(t.spend)\n",
    "\n",
    "f1=Father()\n",
    "print(f1.business)\n",
    "print(f1.amount)"
   ]
  },
  {
   "cell_type": "code",
   "execution_count": 69,
   "id": "fee5a092-ea0b-4ea5-948d-1e3f0850b727",
   "metadata": {},
   "outputs": [],
   "source": [
    "# class variable jo consector ke bhar bane or ase variable hota hai jo class bhi acces kar\n",
    "# skta hai or object he acces kar skta hai\n",
    "# class variable ko change hota hai to class he change karti hai\n",
    "# object change nhi karta hai or ye humesha acces milega \n",
    "# object ya insernt variable jiske ki value har ek object k unique rhe gi\n",
    "# isko kon acces kar skta sirf or sirf object or ye kaha bnata hai constructor k andar\n",
    "# or constructor ka name kya hota hai => __init__\n"
   ]
  },
  {
   "cell_type": "code",
   "execution_count": 2,
   "id": "1081ce74-5b50-4691-bb81-ec29a40ce26e",
   "metadata": {},
   "outputs": [],
   "source": [
    "# super => super ek bilden function hai which use to call the method of my parent class\n",
    "# constructor chaning => ek asa mecinusum hai jisme hum parent class ya kese bhi or class ke\n",
    "# constructor ko call karte hai"
   ]
  },
  {
   "cell_type": "code",
   "execution_count": 4,
   "id": "e18af55e-cea5-4ddb-8296-406fe78b0549",
   "metadata": {},
   "outputs": [],
   "source": [
    "# multipl inheritance"
   ]
  },
  {
   "cell_type": "code",
   "execution_count": 26,
   "id": "d34db7aa-8cde-4580-bc80-3120b7ed84a9",
   "metadata": {},
   "outputs": [],
   "source": [
    "class multiply1:\n",
    "    def mul1(self,x,y):\n",
    "        return x*y\n",
    "\n",
    "class addNo1:\n",
    "    def add1(self,a,b):\n",
    "        return a+b\n",
    "\n",
    "class Arithm(addNo1,multiply1):\n",
    "    def divideno(self,d,e):\n",
    "        return d/e"
   ]
  },
  {
   "cell_type": "code",
   "execution_count": 32,
   "id": "c2dfbd97-84e5-4ab0-92ea-f8bee164f870",
   "metadata": {},
   "outputs": [
    {
     "name": "stdout",
     "output_type": "stream",
     "text": [
      "4.0\n",
      "25\n",
      "100\n"
     ]
    }
   ],
   "source": [
    "a1=Arithm()\n",
    "print(a1.divideno(20,5))\n",
    "print(a1.add1(20,5))\n",
    "print(a1.mul1(20,5))"
   ]
  },
  {
   "cell_type": "code",
   "execution_count": 42,
   "id": "35091a3d-df9a-406b-8d6e-42714879c17b",
   "metadata": {},
   "outputs": [],
   "source": [
    "class multiply1:\n",
    "    def calculation(self,x,y):\n",
    "        return x*y\n",
    "\n",
    "class addNo1:\n",
    "    def calculation(self,a,b):\n",
    "        return a+b\n",
    "\n",
    "class Arithm(multiply1,addNo1):\n",
    "    def divideno(self,d,e):\n",
    "        return d/e"
   ]
  },
  {
   "cell_type": "code",
   "execution_count": 44,
   "id": "57dfac1c-9f82-4352-a7d2-93a7de3c7fc7",
   "metadata": {},
   "outputs": [
    {
     "data": {
      "text/plain": [
       "100"
      ]
     },
     "execution_count": 44,
     "metadata": {},
     "output_type": "execute_result"
    }
   ],
   "source": [
    "a1=Arithm()\n",
    "a1.divideno(20,3)\n",
    "a1.calculation(20,5)"
   ]
  },
  {
   "cell_type": "code",
   "execution_count": 46,
   "id": "f992237c-fd69-4fdc-a4c3-b92425fbda32",
   "metadata": {},
   "outputs": [],
   "source": [
    "# Something called MRO\n",
    "# same class 2 parent class dono parent main same function jab main chalaung to konsa function\n",
    "# chalega usko hum bolte hai MRO => method regulation order\n",
    "# Method => agr main kese class ke andr koi function bante hai use bola jata hai method\n",
    "# normal koi def se function bante hai bina class ke to wo function hai kese class ke\n",
    "# saath jud gaya to Method hai\n",
    "# MRO kya hota hai or ye kese resulation order ko sort kart hai"
   ]
  },
  {
   "cell_type": "code",
   "execution_count": 52,
   "id": "da570eab-7fa6-4c22-b7b8-736affc675db",
   "metadata": {},
   "outputs": [],
   "source": [
    "# polymorphism => do word se bana hua hai\n",
    "# poly => poly ka mtlab hot hai multipl\n",
    "# morphism =>  ka mtlab hot hai forms\n",
    "# polymorphism => ek asa fechar objebutal programing ka jaga par hum kese bhi chiz ko\n",
    "# multiple format main dekh skte hai\n",
    "# object, methods => alag way main dekh skate ho to usko polymorphism bolte hai\n",
    "# polymorphism => 3type ki hoti hai / polymorphism ko achiv karne ke 3tin tarike hai\n",
    "# 1st => method overloding\n",
    "# 2nd=> method overwriting\n",
    "# 3rd=> opretor overloding"
   ]
  },
  {
   "cell_type": "code",
   "execution_count": 54,
   "id": "b11df244-5401-4412-8658-07e9038ed7fa",
   "metadata": {},
   "outputs": [],
   "source": [
    "# method overlod => mere pass ek function usme 2do value dene hai\n",
    "# func(a,b) => kese vajsh se 3in value daale de a,b,c => ye overlod ban jaye ga\n",
    "# capicite se jada but python main method overloding suport nhi karti hai\n",
    "# method ko overload kare skte hai par or koi tarike se"
   ]
  },
  {
   "cell_type": "code",
   "execution_count": 56,
   "id": "70646089-d35e-4e20-94e4-ae57c0d6612e",
   "metadata": {},
   "outputs": [],
   "source": [
    "class father:\n",
    "    def func(self,a,b):\n",
    "        return a+b\n",
    "\n",
    "    def func(self,a,b,c):\n",
    "        return a+b+c"
   ]
  },
  {
   "cell_type": "code",
   "execution_count": 58,
   "id": "c5e41c54-8ee4-47f1-a566-db00aa117454",
   "metadata": {},
   "outputs": [
    {
     "ename": "TypeError",
     "evalue": "father.func() missing 1 required positional argument: 'c'",
     "output_type": "error",
     "traceback": [
      "\u001b[1;31m---------------------------------------------------------------------------\u001b[0m",
      "\u001b[1;31mTypeError\u001b[0m                                 Traceback (most recent call last)",
      "Cell \u001b[1;32mIn[58], line 2\u001b[0m\n\u001b[0;32m      1\u001b[0m f1\u001b[38;5;241m=\u001b[39mfather()\n\u001b[1;32m----> 2\u001b[0m f1\u001b[38;5;241m.\u001b[39mfunc(\u001b[38;5;241m10\u001b[39m,\u001b[38;5;241m20\u001b[39m)\n",
      "\u001b[1;31mTypeError\u001b[0m: father.func() missing 1 required positional argument: 'c'"
     ]
    }
   ],
   "source": [
    "f1=father()\n",
    "f1.func(10,20)"
   ]
  },
  {
   "cell_type": "code",
   "execution_count": 60,
   "id": "c0cf5328-4807-4824-bc15-fba794f4e4c8",
   "metadata": {},
   "outputs": [],
   "source": [
    "# python main overwriting suport karta hai => jo function apne bnate hai last main wahi calega\n"
   ]
  },
  {
   "cell_type": "code",
   "execution_count": 98,
   "id": "a1e93e78-1dd4-49ed-ada1-e5f25790eebf",
   "metadata": {},
   "outputs": [],
   "source": [
    "class father:\n",
    "    def func(self,a,b):\n",
    "        print(\"Father class:\",a+b)\n",
    "\n",
    "class child(father):\n",
    "    def func(self,x,y):\n",
    "        print(\"Child class:\",x*y)"
   ]
  },
  {
   "cell_type": "code",
   "execution_count": 100,
   "id": "e4b52507-f0d8-41cf-8792-4aad29952e7c",
   "metadata": {},
   "outputs": [
    {
     "name": "stdout",
     "output_type": "stream",
     "text": [
      "Child class: 200\n"
     ]
    }
   ],
   "source": [
    "c1=child()\n",
    "c1.func(10,20)"
   ]
  },
  {
   "cell_type": "code",
   "execution_count": 102,
   "id": "7872af1a-d743-44ac-bff3-a8dc77297e26",
   "metadata": {},
   "outputs": [],
   "source": [
    "# agar parent class main koi function hai or child class main koi function hai same name se\n",
    "# same number of arguments pe to hum child wale function ko he call karte hai\n",
    "# child class kese function ko implement kare jo parent class main bhi hai to us type ke\n",
    "# fichere ko bolte hao method overwriting ke liy bola jata hai ki jo mere function ka name he\n",
    "# wo same hona chiye or dono mainn perent  class main bhi or child class main bhi jo argumet\n",
    "# hai ya variable hai wo bhi same hone chaiye\n",
    "# child class ki implimating(logic) alag hogi parent class se\n",
    "# parent main child main same function hai fuction ka name same hai argument same hai \n",
    "# but working alag hai logic alga hai to method overwriting\n",
    "# function ka name same hai or parameter change hao jaye to method overloading\n"
   ]
  },
  {
   "cell_type": "code",
   "execution_count": 104,
   "id": "83a92af6-60aa-4a21-8af7-44ae3dd19b46",
   "metadata": {},
   "outputs": [],
   "source": [
    "# that is called ace opreter overloding\n",
    "# method overloding or method overwriting main kya fark hai\n",
    "# operetor over loding kya hota hai"
   ]
  },
  {
   "cell_type": "code",
   "execution_count": null,
   "id": "0a3e61af-6b39-4ebf-9900-353f3310adf3",
   "metadata": {},
   "outputs": [],
   "source": []
  }
 ],
 "metadata": {
  "kernelspec": {
   "display_name": "Python [conda env:base] *",
   "language": "python",
   "name": "conda-base-py"
  },
  "language_info": {
   "codemirror_mode": {
    "name": "ipython",
    "version": 3
   },
   "file_extension": ".py",
   "mimetype": "text/x-python",
   "name": "python",
   "nbconvert_exporter": "python",
   "pygments_lexer": "ipython3",
   "version": "3.12.7"
  }
 },
 "nbformat": 4,
 "nbformat_minor": 5
}

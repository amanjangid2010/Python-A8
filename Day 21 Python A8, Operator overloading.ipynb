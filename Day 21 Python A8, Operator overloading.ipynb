{
 "cells": [
  {
   "cell_type": "code",
   "execution_count": 2,
   "id": "f3a5621a-201a-4eba-b75b-8669cbcec3d9",
   "metadata": {},
   "outputs": [],
   "source": [
    "# Operator overloading\n",
    "# feature => polymorphism"
   ]
  },
  {
   "cell_type": "code",
   "execution_count": 4,
   "id": "cfe00a72-4218-47da-9c00-1fed4e020140",
   "metadata": {},
   "outputs": [
    {
     "data": {
      "text/plain": [
       "3"
      ]
     },
     "execution_count": 4,
     "metadata": {},
     "output_type": "execute_result"
    }
   ],
   "source": [
    "1+2"
   ]
  },
  {
   "cell_type": "code",
   "execution_count": 6,
   "id": "a85c0198-3b9a-4dc2-a896-8de5e5d33898",
   "metadata": {},
   "outputs": [
    {
     "data": {
      "text/plain": [
       "'12'"
      ]
     },
     "execution_count": 6,
     "metadata": {},
     "output_type": "execute_result"
    }
   ],
   "source": [
    "\"1\"+\"2\""
   ]
  },
  {
   "cell_type": "code",
   "execution_count": 8,
   "id": "3ef716ef-5d1c-4754-94a3-bc59b7216552",
   "metadata": {},
   "outputs": [
    {
     "data": {
      "text/plain": [
       "[10, 20, 5]"
      ]
     },
     "execution_count": 8,
     "metadata": {},
     "output_type": "execute_result"
    }
   ],
   "source": [
    "[10,20]+[5]"
   ]
  },
  {
   "cell_type": "code",
   "execution_count": 10,
   "id": "eb4544b4-51bb-41eb-9868-96048c3c8def",
   "metadata": {},
   "outputs": [
    {
     "data": {
      "text/plain": [
       "20"
      ]
     },
     "execution_count": 10,
     "metadata": {},
     "output_type": "execute_result"
    }
   ],
   "source": [
    "class Addno:\n",
    "    def __init__(self,x,y):\n",
    "        self.x=y\n",
    "        self.y=y\n",
    "\n",
    "a=Addno(10,20)\n",
    "a.x"
   ]
  },
  {
   "cell_type": "code",
   "execution_count": 32,
   "id": "fe120bb8-bedd-4886-8efa-6dc6b3701b59",
   "metadata": {},
   "outputs": [],
   "source": [
    "class Addno:\n",
    "    def __init__(self,x,y):\n",
    "        self.x=y\n",
    "        self.y=y\n",
    "\n",
    "    def __add__(self,func):\n",
    "        print(\"calling the dunder function\")\n",
    "\n",
    "a1=Addno(10,20)\n",
    "a2=Addno(32,96)"
   ]
  },
  {
   "cell_type": "code",
   "execution_count": 34,
   "id": "dfb99373-46dd-43ef-896f-e0b28c572ced",
   "metadata": {},
   "outputs": [
    {
     "name": "stdout",
     "output_type": "stream",
     "text": [
      "calling the dunder function\n"
     ]
    }
   ],
   "source": [
    "a1+a2\n",
    "# dunder function => __add__, * __mul__, __div__\n",
    "# a1.__add__"
   ]
  },
  {
   "cell_type": "code",
   "execution_count": 1,
   "id": "7ced88c9-6178-4d1f-b143-3e229a222253",
   "metadata": {},
   "outputs": [],
   "source": [
    "class Addno:\n",
    "    def __init__(self,x,y):\n",
    "        self.x=y\n",
    "        self.y=y\n",
    "\n",
    "    def __add__(self,z):\n",
    "        return (self.x+z.x, self.y+z.y)\n",
    "\n",
    "a1=Addno(10,20)\n",
    "a2=Addno(32,96)"
   ]
  },
  {
   "cell_type": "code",
   "execution_count": 3,
   "id": "0429e131-e4fd-4d1d-a608-90c0665cf902",
   "metadata": {},
   "outputs": [
    {
     "data": {
      "text/plain": [
       "(116, 116)"
      ]
     },
     "execution_count": 3,
     "metadata": {},
     "output_type": "execute_result"
    }
   ],
   "source": [
    "a1+a2 # wrong answere aaya hai 42,116 aana chiye tha baad main check karna hia"
   ]
  },
  {
   "cell_type": "code",
   "execution_count": 19,
   "id": "2c5b049e-4b57-48a2-b746-de3e063b5584",
   "metadata": {},
   "outputs": [],
   "source": [
    "class Addno:\n",
    "    def __init__(self,num1):\n",
    "        self.num1=num1\n",
    "    def __gt__(self,ref):\n",
    "        if(self.num1==ref.num1):\n",
    "            return False\n",
    "        else:\n",
    "            return True\n",
    "        print(self.num1, ref.num1)\n",
    "a1=Addno(10)\n",
    "a2=Addno(32)"
   ]
  },
  {
   "cell_type": "code",
   "execution_count": 21,
   "id": "dbae3c60-7119-4b5a-87b7-c660b19924e4",
   "metadata": {},
   "outputs": [
    {
     "data": {
      "text/plain": [
       "True"
      ]
     },
     "execution_count": 21,
     "metadata": {},
     "output_type": "execute_result"
    }
   ],
   "source": [
    "a1 > a2 # a1.__gt__(a2)"
   ]
  },
  {
   "cell_type": "code",
   "execution_count": 23,
   "id": "aee30d06-20cf-468e-92b2-c430b7279bd5",
   "metadata": {},
   "outputs": [],
   "source": [
    "# dunnder function => python ka khud ka function hai "
   ]
  },
  {
   "cell_type": "code",
   "execution_count": 25,
   "id": "0e3d7c01-d860-4cec-aae8-52acdcc8c67e",
   "metadata": {},
   "outputs": [],
   "source": [
    "# encapsulation\n",
    "# capsule => []\n",
    "# method and attribute => bind kar paye ya jode paye\n",
    "# function and variable method ko ek saath jodte hai class main\n",
    "# inside the class main jode te hai\n",
    "# help kara hai konse chiz acces kar skta hai konse acces nhi kar skta hai\n",
    "\n",
    "# encapsulation to provide the accessibility => access modifier\n",
    "# private, public, protected, default(package protected)"
   ]
  },
  {
   "cell_type": "code",
   "execution_count": 37,
   "id": "695ccff0-ce59-4f26-97f1-11cef151888e",
   "metadata": {},
   "outputs": [],
   "source": [
    "class family:\n",
    "    _bank=5000                  # variable should act protected\n",
    "    __home_property=999999;\n",
    "    "
   ]
  },
  {
   "cell_type": "code",
   "execution_count": 43,
   "id": "b4f05b4e-579b-45e2-9b22-8bab9936ad59",
   "metadata": {},
   "outputs": [
    {
     "data": {
      "text/plain": [
       "999999"
      ]
     },
     "execution_count": 43,
     "metadata": {},
     "output_type": "execute_result"
    }
   ],
   "source": [
    "f1=family()\n",
    "f1._family__home_property  #__var => _class__Var"
   ]
  },
  {
   "cell_type": "code",
   "execution_count": 35,
   "id": "e59702bf-197f-4d22-b4e4-4551f821b03b",
   "metadata": {},
   "outputs": [
    {
     "data": {
      "text/plain": [
       "5000"
      ]
     },
     "execution_count": 35,
     "metadata": {},
     "output_type": "execute_result"
    }
   ],
   "source": [
    "class child(family):\n",
    "    salary=100\n",
    "\n",
    "c1=child()\n",
    "c1._bank"
   ]
  },
  {
   "cell_type": "code",
   "execution_count": 39,
   "id": "e5d2fa8d-1b8d-4ec4-83a9-569c94ea99f5",
   "metadata": {},
   "outputs": [],
   "source": [
    "# sirf sirf ye dekhane ka tarika hai protictive variable \n",
    "# doublabpur ko batana k liy kiy jata hai\n",
    "# python main privet tu uska object bhi usko acces nhi kar skta \n",
    "# __ lagne pr privet ho jaye ga"
   ]
  },
  {
   "cell_type": "code",
   "execution_count": null,
   "id": "0568b734-830f-41fd-8c10-6c1cc712af65",
   "metadata": {},
   "outputs": [],
   "source": []
  }
 ],
 "metadata": {
  "kernelspec": {
   "display_name": "Python [conda env:base] *",
   "language": "python",
   "name": "conda-base-py"
  },
  "language_info": {
   "codemirror_mode": {
    "name": "ipython",
    "version": 3
   },
   "file_extension": ".py",
   "mimetype": "text/x-python",
   "name": "python",
   "nbconvert_exporter": "python",
   "pygments_lexer": "ipython3",
   "version": "3.12.7"
  }
 },
 "nbformat": 4,
 "nbformat_minor": 5
}

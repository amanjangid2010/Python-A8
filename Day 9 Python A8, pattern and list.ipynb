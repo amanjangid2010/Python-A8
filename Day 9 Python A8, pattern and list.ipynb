{
 "cells": [
  {
   "cell_type": "code",
   "execution_count": 4,
   "id": "f9bd1649-d105-456c-90ea-2165abfa48cc",
   "metadata": {},
   "outputs": [
    {
     "name": "stdout",
     "output_type": "stream",
     "text": [
      "- - - \n",
      "- - \n",
      "- \n",
      "\n"
     ]
    }
   ],
   "source": [
    "for i in range(1,5):\n",
    "    for j in range(i,4):\n",
    "        print(\"-\",end=\" \")\n",
    "    print()\n",
    "        "
   ]
  },
  {
   "cell_type": "code",
   "execution_count": 26,
   "id": "79b93cc9-bd9e-4639-a2c4-7c7629604886",
   "metadata": {},
   "outputs": [
    {
     "name": "stdout",
     "output_type": "stream",
     "text": [
      "   * \n",
      "  * * \n",
      " * * * \n",
      "* * * * \n"
     ]
    }
   ],
   "source": [
    "for i in range(1,5):\n",
    "    for j in range(i,4):\n",
    "        print(\" \",end=\"\")\n",
    "    for k in range(1,i+1):\n",
    "        print(\"*\",end=\" \")\n",
    "    print()"
   ]
  },
  {
   "cell_type": "code",
   "execution_count": 28,
   "id": "a0d7a983-6f20-4c20-b6af-7a08c3cf96c3",
   "metadata": {},
   "outputs": [
    {
     "name": "stdout",
     "output_type": "stream",
     "text": [
      "* * * * \n",
      " * * * \n",
      "  * * \n",
      "   * \n"
     ]
    }
   ],
   "source": [
    "for i in range(1,5):\n",
    "    for j in range(1,i):\n",
    "        print(\" \",end=\"\")\n",
    "    for k in range(i,5):\n",
    "        print(\"*\",end=\" \")\n",
    "    print()"
   ]
  },
  {
   "cell_type": "code",
   "execution_count": 61,
   "id": "959d6ddd-0d66-4902-93f5-45848f4a392d",
   "metadata": {},
   "outputs": [
    {
     "name": "stdout",
     "output_type": "stream",
     "text": [
      "- - - - * \n",
      "- - - * * * \n",
      "- - * * * * * \n",
      "- * * * * * * * \n",
      "* * * * * * * * * \n"
     ]
    }
   ],
   "source": [
    "num=5\n",
    "count = 2\n",
    "for i in range(1,num+1):\n",
    "    for j in range(i,num):\n",
    "        print(\"-\",end=\" \")\n",
    "    for k in range(1,count):\n",
    "        print(\"*\",end=\" \")\n",
    "\n",
    "    count+=2\n",
    "    print(\"\")\n",
    "        "
   ]
  },
  {
   "cell_type": "code",
   "execution_count": 65,
   "id": "d884cba5-7178-4c7b-8227-d0c2a5b3dfab",
   "metadata": {},
   "outputs": [
    {
     "name": "stdout",
     "output_type": "stream",
     "text": [
      "- - - - * \n",
      "- - - * * * \n",
      "- - * * * * * \n",
      "- * * * * * * * \n",
      "* * * * * * * * * \n"
     ]
    }
   ],
   "source": [
    "num=5\n",
    "for i in range(1,num+1):\n",
    "    for j in range(i,num):\n",
    "        print(\"-\",end=\" \")\n",
    "    for k in range(1,2*i):\n",
    "        print(\"*\",end=\" \")\n",
    "\n",
    "    print(\"\")\n",
    "        "
   ]
  },
  {
   "cell_type": "code",
   "execution_count": 97,
   "id": "1bc5ddcc-675c-4b90-90a9-63650466946e",
   "metadata": {},
   "outputs": [
    {
     "name": "stdout",
     "output_type": "stream",
     "text": [
      "*********\n",
      "-*******\n",
      "--*****\n",
      "---***\n",
      "----*\n"
     ]
    }
   ],
   "source": [
    "num=5\n",
    "count=num*2\n",
    "for i in range(1,num+1):\n",
    "    for j in range(1,i):\n",
    "        print(\"-\",end=\"\")\n",
    "    for k in range(1,count):\n",
    "        print(\"*\",end=\"\")\n",
    "    \n",
    "    count-=2\n",
    "    print()"
   ]
  },
  {
   "cell_type": "code",
   "execution_count": 99,
   "id": "89e905c9-5216-474f-af09-fb574a2026d2",
   "metadata": {},
   "outputs": [],
   "source": [
    "# list \n",
    "# collect multiple value together\n",
    "# , \n",
    "# mutuable => value change kr sakte ho\n"
   ]
  },
  {
   "cell_type": "code",
   "execution_count": 103,
   "id": "06274e5a-b529-4ae0-865b-004cb6c1f11e",
   "metadata": {},
   "outputs": [
    {
     "data": {
      "text/plain": [
       "list"
      ]
     },
     "execution_count": 103,
     "metadata": {},
     "output_type": "execute_result"
    }
   ],
   "source": [
    "marks=[10,55.0,90,87.6]\n",
    "type(marks)"
   ]
  },
  {
   "cell_type": "code",
   "execution_count": 105,
   "id": "8bb23734-ee30-49d4-8099-279b907cca7d",
   "metadata": {},
   "outputs": [
    {
     "data": {
      "text/plain": [
       "10"
      ]
     },
     "execution_count": 105,
     "metadata": {},
     "output_type": "execute_result"
    }
   ],
   "source": [
    "# index position data access\n",
    "marks[0]"
   ]
  },
  {
   "cell_type": "code",
   "execution_count": 109,
   "id": "62b8a776-ee84-405b-b15e-41f9603d5f7d",
   "metadata": {},
   "outputs": [
    {
     "data": {
      "text/plain": [
       "[10, 55.0, 90]"
      ]
     },
     "execution_count": 109,
     "metadata": {},
     "output_type": "execute_result"
    }
   ],
   "source": [
    "marks=[10,55.0,90,87.6]\n",
    "marks[0:3]"
   ]
  },
  {
   "cell_type": "code",
   "execution_count": 115,
   "id": "aee43b36-83a8-4085-87d7-c4cd1a0f3501",
   "metadata": {},
   "outputs": [
    {
     "name": "stdout",
     "output_type": "stream",
     "text": [
      "[30, 55.0, 90, 87.6]\n"
     ]
    }
   ],
   "source": [
    "marks=[10,55.0,90,87.6]\n",
    "marks[0] = 30 # update the value of list\n",
    "print(marks)"
   ]
  },
  {
   "cell_type": "code",
   "execution_count": 119,
   "id": "df4e28d2-ba29-4f2a-8e3b-84dbe57b635a",
   "metadata": {},
   "outputs": [
    {
     "ename": "IndexError",
     "evalue": "list assignment index out of range",
     "output_type": "error",
     "traceback": [
      "\u001b[1;31m---------------------------------------------------------------------------\u001b[0m",
      "\u001b[1;31mIndexError\u001b[0m                                Traceback (most recent call last)",
      "Cell \u001b[1;32mIn[119], line 3\u001b[0m\n\u001b[0;32m      1\u001b[0m \u001b[38;5;66;03m# error\u001b[39;00m\n\u001b[0;32m      2\u001b[0m marks\u001b[38;5;241m=\u001b[39m[\u001b[38;5;241m10\u001b[39m,\u001b[38;5;241m55.0\u001b[39m,\u001b[38;5;241m90\u001b[39m,\u001b[38;5;241m87.6\u001b[39m]\n\u001b[1;32m----> 3\u001b[0m marks[\u001b[38;5;241m10\u001b[39m] \u001b[38;5;241m=\u001b[39m \u001b[38;5;241m30\u001b[39m \u001b[38;5;66;03m# update the value of list\u001b[39;00m\n\u001b[0;32m      4\u001b[0m \u001b[38;5;28mprint\u001b[39m(marks)\n",
      "\u001b[1;31mIndexError\u001b[0m: list assignment index out of range"
     ]
    }
   ],
   "source": [
    "# error\n",
    "marks=[10,55.0,90,87.6]\n",
    "marks[10] = 30 # update the value of list\n",
    "print(marks)"
   ]
  },
  {
   "cell_type": "code",
   "execution_count": 123,
   "id": "f5e2ff71-120c-4b9d-a076-161d30751860",
   "metadata": {},
   "outputs": [
    {
     "name": "stdout",
     "output_type": "stream",
     "text": [
      "[10, 55.0, 90, 87.6, 'hey']\n"
     ]
    }
   ],
   "source": [
    "marks=[10,55.0,90,87.6]\n",
    "marks.append(\"hey\") # append koi bhi data add karne ke kaam aata hai and ye last main add karta hai\n",
    "print(marks)"
   ]
  },
  {
   "cell_type": "code",
   "execution_count": 127,
   "id": "06451c9f-5c4e-4cd9-afd9-58aa6cff44a3",
   "metadata": {},
   "outputs": [
    {
     "name": "stdout",
     "output_type": "stream",
     "text": [
      "[10, 55.0, 90, 87.6, 'h', 'e', 'y']\n"
     ]
    }
   ],
   "source": [
    "marks=[10,55.0,90,87.6]\n",
    "marks.extend(\"hey\") # extend (iterable) \n",
    "print(marks)"
   ]
  },
  {
   "cell_type": "code",
   "execution_count": 133,
   "id": "7a54f399-ac30-4470-996d-8a0efd6e97e4",
   "metadata": {},
   "outputs": [
    {
     "name": "stdout",
     "output_type": "stream",
     "text": [
      "[10, 55.0, 90, 87.6, 'h', 'e', 'y', 100, 'hi']\n"
     ]
    }
   ],
   "source": [
    "marks=[10,55.0,90,87.6]\n",
    "marks.extend(\"hey\")\n",
    "marks.extend([100,'hi'])\n",
    "print(marks)"
   ]
  },
  {
   "cell_type": "code",
   "execution_count": 137,
   "id": "491beb8a-723f-484a-93e1-85455439ea5e",
   "metadata": {},
   "outputs": [
    {
     "name": "stdout",
     "output_type": "stream",
     "text": [
      "[55, 10, 55.0, 90, 87.6]\n"
     ]
    }
   ],
   "source": [
    "marks=[10,55.0,90,87.6]\n",
    "marks.insert(0,55)\n",
    "print(marks)"
   ]
  },
  {
   "cell_type": "code",
   "execution_count": 143,
   "id": "422c317c-7d4e-4715-94c9-e3fc95bfc341",
   "metadata": {},
   "outputs": [
    {
     "name": "stdout",
     "output_type": "stream",
     "text": [
      "[10, 55.0, 99, 90, 87.6]\n"
     ]
    }
   ],
   "source": [
    "marks=[10,55.0,90,87.6] # iska use nhi karte hai\n",
    "marks.insert(2,99)\n",
    "print(marks)"
   ]
  },
  {
   "cell_type": "code",
   "execution_count": 145,
   "id": "1ab02de2-c521-4ee4-9cd1-e6141a6d610a",
   "metadata": {},
   "outputs": [
    {
     "name": "stdout",
     "output_type": "stream",
     "text": [
      "[10, 55.0, 90]\n"
     ]
    }
   ],
   "source": [
    "marks=[10,55.0,90,87.6]\n",
    "marks.pop() # last wale data ko delete karta hai\n",
    "print(marks)"
   ]
  },
  {
   "cell_type": "code",
   "execution_count": 155,
   "id": "04844535-659b-452b-a289-ff9e91744652",
   "metadata": {},
   "outputs": [
    {
     "name": "stdout",
     "output_type": "stream",
     "text": [
      "[10, 55.0, 90] 87.6\n"
     ]
    }
   ],
   "source": [
    "marks=[10,55.0,90,87.6]\n",
    "x = marks.pop() # data delete karta hai and value ko waphis bhi dega\n",
    "print(marks,x)"
   ]
  },
  {
   "cell_type": "code",
   "execution_count": 159,
   "id": "5a200a64-9f1a-4cba-8a84-6c1a359e3c38",
   "metadata": {},
   "outputs": [
    {
     "name": "stdout",
     "output_type": "stream",
     "text": [
      "[10, 55.0, 87.6, 90]\n"
     ]
    }
   ],
   "source": [
    "marks=[10,55.0,90,87.6]\n",
    "marks.sort()\n",
    "print(marks)"
   ]
  },
  {
   "cell_type": "code",
   "execution_count": 161,
   "id": "0b292702-3b9c-4990-a4d1-5ca6bff86c38",
   "metadata": {},
   "outputs": [
    {
     "name": "stdout",
     "output_type": "stream",
     "text": [
      "h\n",
      "e\n",
      "l\n",
      "l\n",
      "o\n"
     ]
    }
   ],
   "source": [
    "for i in \"hello\":\n",
    "    print(i)"
   ]
  },
  {
   "cell_type": "code",
   "execution_count": 169,
   "id": "abd3cfe4-56c2-465c-8de7-006111291aa4",
   "metadata": {},
   "outputs": [
    {
     "name": "stdout",
     "output_type": "stream",
     "text": [
      "0 h\n",
      "1 e\n",
      "2 l\n",
      "3 l\n",
      "4 o\n"
     ]
    }
   ],
   "source": [
    "data=\"hello\"\n",
    "for i in range(0,len(data)):\n",
    "    print(i,data[i])"
   ]
  },
  {
   "cell_type": "code",
   "execution_count": 173,
   "id": "9862bdff-4287-4a6d-959a-a48176ae5d85",
   "metadata": {},
   "outputs": [
    {
     "name": "stdout",
     "output_type": "stream",
     "text": [
      "0 10\n",
      "1 20\n",
      "2 30\n",
      "3 hey\n",
      "4 90\n"
     ]
    }
   ],
   "source": [
    "data =[10,20,30,\"hey\",90]\n",
    "for i in range(0,len(data)):\n",
    "    print(i, data[i])"
   ]
  },
  {
   "cell_type": "code",
   "execution_count": 181,
   "id": "1904a77e-6451-4d6c-a3bf-f4fe455f68c5",
   "metadata": {},
   "outputs": [
    {
     "name": "stdout",
     "output_type": "stream",
     "text": [
      "10\n",
      "20\n",
      "30\n",
      "90\n",
      "500\n"
     ]
    }
   ],
   "source": [
    "data =[10,20,30,90,500]\n",
    "target=50\n",
    "for i in range(0,len(data)):\n",
    "    print(data[i])"
   ]
  },
  {
   "cell_type": "code",
   "execution_count": 187,
   "id": "8aa2f3b2-0168-47fc-b2ba-0ea42742623e",
   "metadata": {},
   "outputs": [
    {
     "name": "stdout",
     "output_type": "stream",
     "text": [
      "90\n",
      "500\n"
     ]
    }
   ],
   "source": [
    "data =[10,20,30,90,500]\n",
    "target=50\n",
    "for i in range(0,len(data)):\n",
    "    if(data[i]>target):\n",
    "        print(data[i])\n",
    "        "
   ]
  },
  {
   "cell_type": "code",
   "execution_count": 212,
   "id": "6ec0a3ef-c279-4b15-ad55-a084d310c2a6",
   "metadata": {},
   "outputs": [
    {
     "name": "stdout",
     "output_type": "stream",
     "text": [
      "[10, 20, 30, 'hey', 'hey']\n"
     ]
    }
   ],
   "source": [
    "data =[10,20,30,90,500]\n",
    "target=50\n",
    "for i in range(0,len(data)):\n",
    "    if(data[i]>target):\n",
    "        data[i]=\"hey\"\n",
    "print(data)\n",
    "\n",
    "        "
   ]
  },
  {
   "cell_type": "code",
   "execution_count": 265,
   "id": "943972bf-8209-4e19-84f5-f148c25e9dbc",
   "metadata": {},
   "outputs": [
    {
     "name": "stdout",
     "output_type": "stream",
     "text": [
      "90\n"
     ]
    }
   ],
   "source": [
    "data =[10,20,30,90,5]\n",
    "maxi = 0\n",
    "for i in range(0,len(data)):\n",
    "    \n",
    "    if(data[i]>maxi):\n",
    "        maxi = data[i]\n",
    "print(maxi)"
   ]
  },
  {
   "cell_type": "code",
   "execution_count": 267,
   "id": "f0d829bb-8706-411e-8b4a-480d97f5fce9",
   "metadata": {},
   "outputs": [],
   "source": [
    "# find out the total of of a list\n",
    "# find the average of the list\n",
    "# list middle position\n",
    "# second highest from the list\n",
    "\n",
    "# tupple \n",
    "# problem solving on lsit"
   ]
  }
 ],
 "metadata": {
  "kernelspec": {
   "display_name": "Python [conda env:base] *",
   "language": "python",
   "name": "conda-base-py"
  },
  "language_info": {
   "codemirror_mode": {
    "name": "ipython",
    "version": 3
   },
   "file_extension": ".py",
   "mimetype": "text/x-python",
   "name": "python",
   "nbconvert_exporter": "python",
   "pygments_lexer": "ipython3",
   "version": "3.12.7"
  }
 },
 "nbformat": 4,
 "nbformat_minor": 5
}

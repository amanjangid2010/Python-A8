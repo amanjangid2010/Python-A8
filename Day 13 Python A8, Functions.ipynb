{
 "cells": [
  {
   "cell_type": "code",
   "execution_count": 2,
   "id": "a63749ef-83bf-4fc9-8054-f5076b498269",
   "metadata": {},
   "outputs": [],
   "source": [
    "# problem solving\n",
    "# basic syntax, if-else, loops, for while\n",
    "# list, dictionary, set, set operator\n",
    "# list , dictionary\n",
    "# enumerate, zip functions"
   ]
  },
  {
   "cell_type": "code",
   "execution_count": 6,
   "id": "922d6bb4-f811-48b4-a898-6b9cd5efe82c",
   "metadata": {},
   "outputs": [],
   "source": [
    "# functions\n",
    "# collection of statement\n",
    "#''''\n",
    "#code reusable\n",
    "\n",
    "\n",
    "#''''\n",
    "# tamplet hai \n",
    "# def se function banta hai\n",
    "# code syntax be small\n",
    "# error handle \n",
    "# debugg => result mila yaa nhi mila jo mai chata tha"
   ]
  },
  {
   "cell_type": "code",
   "execution_count": 12,
   "id": "8367d144-fa41-4849-810a-f0f67a72da3d",
   "metadata": {},
   "outputs": [],
   "source": [
    "# function declaration\n",
    "def regex():\n",
    "    print(\"hello\")\n",
    "    print(\"good morning\")"
   ]
  },
  {
   "cell_type": "code",
   "execution_count": 14,
   "id": "64859cf1-b49d-4351-a193-4993e25fb0ce",
   "metadata": {},
   "outputs": [
    {
     "name": "stdout",
     "output_type": "stream",
     "text": [
      "hello\n",
      "good morning\n"
     ]
    }
   ],
   "source": [
    "regex() # calling the function"
   ]
  },
  {
   "cell_type": "code",
   "execution_count": 20,
   "id": "2cc2027b-942f-4970-92d4-09e759c5555d",
   "metadata": {},
   "outputs": [],
   "source": [
    "def regex():\n",
    "    var=\"tushar\"  # local variable => function ke andar to usko andar he use kar skte hai \n",
    "                  # function ke bhar usko koi work nhi hai\n",
    "    print(\"hello\",var)\n",
    "    print(\"good morning\")"
   ]
  },
  {
   "cell_type": "code",
   "execution_count": 22,
   "id": "4eef18ad-124e-4c1b-9a36-518734107833",
   "metadata": {},
   "outputs": [
    {
     "name": "stdout",
     "output_type": "stream",
     "text": [
      "hello tushar\n",
      "good morning\n"
     ]
    }
   ],
   "source": [
    "regex()"
   ]
  },
  {
   "cell_type": "code",
   "execution_count": 24,
   "id": "5bafc1b6-94fc-4470-beff-05f9e1c2b8e0",
   "metadata": {},
   "outputs": [],
   "source": [
    "var=\"tushar\"  # global variable => cant be use any place Isko har jahg use kar skte hai\n",
    "def regex():\n",
    "    print(\"hello\")\n",
    "    print(\"good morning\")"
   ]
  },
  {
   "cell_type": "code",
   "execution_count": 26,
   "id": "3816a9c7-4d5e-4499-be4d-9294b44245d3",
   "metadata": {},
   "outputs": [
    {
     "name": "stdout",
     "output_type": "stream",
     "text": [
      "hello\n",
      "good morning\n",
      "tushar\n"
     ]
    }
   ],
   "source": [
    "regex()\n",
    "print(var)"
   ]
  },
  {
   "cell_type": "code",
   "execution_count": 32,
   "id": "f809b2f6-5ebf-4f7e-a956-d5382cdc9fbf",
   "metadata": {},
   "outputs": [],
   "source": [
    "var=\"tushar\"\n",
    "def regex():\n",
    "    var=\"ram\"\n",
    "    print(\"hello\",var)\n",
    "    print(\"good morning\")"
   ]
  },
  {
   "cell_type": "code",
   "execution_count": 36,
   "id": "2052c732-dca2-4d78-b7d2-9589d63d9c9a",
   "metadata": {},
   "outputs": [
    {
     "name": "stdout",
     "output_type": "stream",
     "text": [
      "hello ram\n",
      "good morning\n",
      "tushar\n"
     ]
    }
   ],
   "source": [
    "regex()\n",
    "print(var)"
   ]
  },
  {
   "cell_type": "code",
   "execution_count": 44,
   "id": "806e30cc-ff54-4de2-be2f-113d722c80e6",
   "metadata": {},
   "outputs": [
    {
     "name": "stdout",
     "output_type": "stream",
     "text": [
      "hello\n",
      "good morning\n"
     ]
    }
   ],
   "source": [
    "def regex():\n",
    "    print(\"hello\")\n",
    "    print(\"good morning\")\n",
    "\n",
    "regex()"
   ]
  },
  {
   "cell_type": "code",
   "execution_count": 56,
   "id": "aca24209-c70c-456b-b9d3-45cd3c951eea",
   "metadata": {},
   "outputs": [
    {
     "name": "stdout",
     "output_type": "stream",
     "text": [
      "hello tushar\n",
      "good morning\n",
      "hello aman\n",
      "good morning\n"
     ]
    }
   ],
   "source": [
    "def regex(x):\n",
    "    print(\"hello\",x)\n",
    "    print(\"good morning\")\n",
    "\n",
    "regex(\"tushar\")\n",
    "regex(\"aman\")"
   ]
  },
  {
   "cell_type": "code",
   "execution_count": 66,
   "id": "3d5b7b64-69b2-4774-b819-dea18dd8d76f",
   "metadata": {},
   "outputs": [
    {
     "name": "stdout",
     "output_type": "stream",
     "text": [
      "adding number 30\n"
     ]
    }
   ],
   "source": [
    "def regex():\n",
    "    c= 10\n",
    "    d=20\n",
    "    print(\"adding number\",c+d)\n",
    "\n",
    "regex()"
   ]
  },
  {
   "cell_type": "code",
   "execution_count": 76,
   "id": "fa599ee7-870a-4551-a9cf-6498fb11f178",
   "metadata": {},
   "outputs": [],
   "source": [
    "def regex(c,d):\n",
    "    print(\"adding number\",\"C:\",c, c+d)"
   ]
  },
  {
   "cell_type": "code",
   "execution_count": 80,
   "id": "a4d22d46-fbe8-4aa8-9af4-ca18bae2ddee",
   "metadata": {},
   "outputs": [
    {
     "name": "stdout",
     "output_type": "stream",
     "text": [
      "adding number C: 10 30\n",
      "adding number C: 100 120\n",
      "adding number C: 10 30\n"
     ]
    }
   ],
   "source": [
    "a=10\n",
    "b=20\n",
    "\n",
    "regex(10,20)\n",
    "regex(100,20)\n",
    "regex(a,b)"
   ]
  },
  {
   "cell_type": "code",
   "execution_count": 86,
   "id": "9e798792-9500-4f45-8861-674c43dfc8e7",
   "metadata": {},
   "outputs": [],
   "source": [
    "def regex(c):   # parameter => function bante time banaya jo parameter\n",
    "    print(\"C vlaue is:\",c)"
   ]
  },
  {
   "cell_type": "code",
   "execution_count": 90,
   "id": "4ea9bfab-c7eb-43f3-8337-be7e76319f6b",
   "metadata": {},
   "outputs": [
    {
     "name": "stdout",
     "output_type": "stream",
     "text": [
      "C vlaue is: 10\n",
      "C vlaue is: 20\n"
     ]
    }
   ],
   "source": [
    "a = 20\n",
    "regex(10)  #10 => argument => vlaue denge tab argument\n",
    "regex(a)"
   ]
  },
  {
   "cell_type": "code",
   "execution_count": 92,
   "id": "c06b6507-1345-4c87-a696-ef04f830e97f",
   "metadata": {},
   "outputs": [],
   "source": [
    "def regex(c): \n",
    "    c=11\n",
    "    print(\"C vlaue is:\",c)"
   ]
  },
  {
   "cell_type": "code",
   "execution_count": 96,
   "id": "dc12944f-f347-4756-9b90-54a3a0a94488",
   "metadata": {},
   "outputs": [
    {
     "name": "stdout",
     "output_type": "stream",
     "text": [
      "before a 140731220765400\n",
      "C vlaue is: 11\n",
      "after a 140731220765400 10\n"
     ]
    }
   ],
   "source": [
    "a=10\n",
    "print(\"before a\",id(a))\n",
    "regex(a)\n",
    "print(\"after a\", id(a),a)"
   ]
  },
  {
   "cell_type": "code",
   "execution_count": 98,
   "id": "912d856a-ee87-4ddc-9211-b7e18088f6a3",
   "metadata": {},
   "outputs": [],
   "source": [
    "# type of argument\n",
    "def func(eid, name,salary):\n",
    "    print(f\"eid:{eid} Name:{name} salary:{salary}\")"
   ]
  },
  {
   "cell_type": "code",
   "execution_count": 102,
   "id": "370f9c1c-2dd8-42c5-b9fb-67e9b8f8a150",
   "metadata": {},
   "outputs": [
    {
     "name": "stdout",
     "output_type": "stream",
     "text": [
      "eid:10 Name:aman salary:99\n"
     ]
    }
   ],
   "source": [
    "# required argument => jitne value utane argument hone chaiy na jada na kam\n",
    "func(10,\"aman\",99)"
   ]
  },
  {
   "cell_type": "code",
   "execution_count": 106,
   "id": "d919f494-d372-4d8f-abca-edc83d6a3492",
   "metadata": {},
   "outputs": [
    {
     "name": "stdout",
     "output_type": "stream",
     "text": [
      "eid:tushar Name:10 salary:1010\n"
     ]
    }
   ],
   "source": [
    "# positional argument\n",
    "func(\"tushar\",10,1010)"
   ]
  },
  {
   "cell_type": "code",
   "execution_count": 110,
   "id": "997cfd91-afd3-4cb8-b6bf-b81bc2a1eb59",
   "metadata": {},
   "outputs": [
    {
     "name": "stdout",
     "output_type": "stream",
     "text": [
      "eid:10 Name:naina salary:999\n"
     ]
    }
   ],
   "source": [
    "# keyword argument\n",
    "def func(eid, name,salary):\n",
    "    print(f\"eid:{eid} Name:{name} salary:{salary}\")\n",
    "\n",
    "func(eid=10,salary=999,name=\"naina\")"
   ]
  },
  {
   "cell_type": "code",
   "execution_count": 112,
   "id": "42c7822c-b7f1-497c-b56c-91e499b924ae",
   "metadata": {},
   "outputs": [
    {
     "name": "stdout",
     "output_type": "stream",
     "text": [
      "eid:10 Name:naina salary:999\n"
     ]
    }
   ],
   "source": [
    "def func(eid, name,salary):\n",
    "    print(f\"eid:{eid} Name:{name} salary:{salary}\")\n",
    "\n",
    "func(10,salary=999,name=\"naina\") # positional argument start main aaye ga\n",
    "# func(salary=999,name=\"naina\",10) Error\n",
    "# func(999,name=\"naina\",10)   Error\n",
    "# func(999,10, name=\"naina\")  Error => multiple values"
   ]
  },
  {
   "cell_type": "code",
   "execution_count": 114,
   "id": "6dd25785-76b7-4146-88cc-4e4e0da4e853",
   "metadata": {},
   "outputs": [],
   "source": [
    "# functions kya hai \n",
    "# functions parameter => youtube par regex softwere"
   ]
  },
  {
   "cell_type": "code",
   "execution_count": null,
   "id": "5ab4bc7a-368c-4646-b47e-225da5d32615",
   "metadata": {},
   "outputs": [],
   "source": []
  }
 ],
 "metadata": {
  "kernelspec": {
   "display_name": "Python [conda env:base] *",
   "language": "python",
   "name": "conda-base-py"
  },
  "language_info": {
   "codemirror_mode": {
    "name": "ipython",
    "version": 3
   },
   "file_extension": ".py",
   "mimetype": "text/x-python",
   "name": "python",
   "nbconvert_exporter": "python",
   "pygments_lexer": "ipython3",
   "version": "3.12.7"
  }
 },
 "nbformat": 4,
 "nbformat_minor": 5
}

{
 "cells": [
  {
   "cell_type": "code",
   "execution_count": 2,
   "id": "f73fdeac-7103-4467-af80-1dfe5b2c6f2f",
   "metadata": {},
   "outputs": [],
   "source": [
    "# Brute Force (Nested Loop) Approach"
   ]
  },
  {
   "cell_type": "code",
   "execution_count": 6,
   "id": "78dbfac2-bf71-4a30-ab2f-36074c9e90d4",
   "metadata": {},
   "outputs": [
    {
     "name": "stdout",
     "output_type": "stream",
     "text": [
      "[0, 1]\n",
      "[1, 2]\n",
      "[0, 1]\n"
     ]
    }
   ],
   "source": [
    "def twoSum(nums, target):\n",
    "    for i in range(len(nums)):\n",
    "        for j in range(i + 1, len(nums)): # Check all numbers after i\n",
    "            if nums[i] + nums[j] == target: # If sum matches target\n",
    "                return [i,j]\n",
    "\n",
    "# Example Usage:\n",
    "print(twoSum([2,7,11,15],9))\n",
    "print(twoSum([3,2,4],6))\n",
    "print(twoSum([3,3],6))"
   ]
  },
  {
   "cell_type": "code",
   "execution_count": 9,
   "id": "c8b5f815-4b63-415a-a921-d7526a1da71f",
   "metadata": {},
   "outputs": [],
   "source": [
    "# Problem Statement \n",
    "# A company tracks the monthly sales of 6 employees in a list\n",
    "# Your task is to determine which employees achieved\n",
    "# sales above 5000 units.\n",
    "# Example Input:\n",
    "# sales = [ 4500,6000,3000,8000,5500,4200]\n",
    "# Expected Output:\n",
    "# [\"Employee 2\", \"Employee 4\", \"Employee 5\"]"
   ]
  },
  {
   "cell_type": "code",
   "execution_count": 13,
   "id": "8ffcb9ad-a70e-4ac9-a9d3-acfc9a3da6e8",
   "metadata": {},
   "outputs": [
    {
     "name": "stdout",
     "output_type": "stream",
     "text": [
      "['Employee 2', 'Employee 4', 'Employee 5']\n"
     ]
    }
   ],
   "source": [
    "sales = [ 4500,6000,3000,8000,5500,4200]\n",
    "high_performers = []\n",
    "\n",
    "for i in range(len(sales)):\n",
    "    if sales[i] > 5000:\n",
    "        high_performers.append(f\"Employee {i+1}\")\n",
    "print(high_performers)"
   ]
  },
  {
   "cell_type": "code",
   "execution_count": null,
   "id": "c5bc3da4-ed1b-4266-bb20-269afa9f75a1",
   "metadata": {},
   "outputs": [],
   "source": []
  },
  {
   "cell_type": "code",
   "execution_count": 16,
   "id": "d853fa30-dbc6-456e-aedf-1f8cf49647b5",
   "metadata": {},
   "outputs": [
    {
     "name": "stdout",
     "output_type": "stream",
     "text": [
      "5\n",
      "0\n"
     ]
    }
   ],
   "source": [
    "def maxProfit(prices):\n",
    "    max_profit = 0\n",
    "    for i in range(len(prices)): # Buying day\n",
    "        for j in range(i +1, len(prices)): # Selling day (must be after buying\n",
    "            profit = prices[j] - prices[i] # Calculate profit\n",
    "            max_profit = max(max_profit, profit) # Update max profit\n",
    "    return max_profit\n",
    "\n",
    "# Example Usage:\n",
    "print(maxProfit([7,1,5,3,6,4]))\n",
    "print(maxProfit([7,6,4,3,1]))"
   ]
  },
  {
   "cell_type": "code",
   "execution_count": 22,
   "id": "0b264b86-5a71-438a-a13c-9ad5a153b628",
   "metadata": {},
   "outputs": [],
   "source": [
    "# Find the Most Expensive Product in a store\n",
    "# Problem statement:\n",
    "# A store sells different products, and their prices are stored in list.\n",
    "# find the most expensive product."
   ]
  },
  {
   "cell_type": "code",
   "execution_count": 24,
   "id": "7be1cbc4-5f08-497d-958d-aa3b59fc514b",
   "metadata": {},
   "outputs": [
    {
     "name": "stdout",
     "output_type": "stream",
     "text": [
      "Laptop - $800\n"
     ]
    }
   ],
   "source": [
    "products = [\"Laptop\", \"Phone\", \"Headphones\", \"Monitor\", \"Keyboard\"]\n",
    "prices = [800,500,200,300,100]\n",
    "max_price = max(prices)\n",
    "index = prices.index(max_price)\n",
    "print(f\"{products[index]} - ${max_price}\")"
   ]
  },
  {
   "cell_type": "code",
   "execution_count": null,
   "id": "8954ea6b-bebb-4311-b837-1fcc9970626c",
   "metadata": {},
   "outputs": [],
   "source": []
  }
 ],
 "metadata": {
  "kernelspec": {
   "display_name": "Python [conda env:base] *",
   "language": "python",
   "name": "conda-base-py"
  },
  "language_info": {
   "codemirror_mode": {
    "name": "ipython",
    "version": 3
   },
   "file_extension": ".py",
   "mimetype": "text/x-python",
   "name": "python",
   "nbconvert_exporter": "python",
   "pygments_lexer": "ipython3",
   "version": "3.12.7"
  }
 },
 "nbformat": 4,
 "nbformat_minor": 5
}

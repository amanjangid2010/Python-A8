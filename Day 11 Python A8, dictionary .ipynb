{
 "cells": [
  {
   "cell_type": "code",
   "execution_count": 2,
   "id": "009b8770-9ee2-4307-99fb-20c228dbd4ca",
   "metadata": {},
   "outputs": [],
   "source": [
    "# dictionary\n",
    "# key us unique"
   ]
  },
  {
   "cell_type": "code",
   "execution_count": 6,
   "id": "64778139-4f02-4998-b5f3-6b3ddd278ae6",
   "metadata": {},
   "outputs": [
    {
     "name": "stdout",
     "output_type": "stream",
     "text": [
      "abc\n"
     ]
    }
   ],
   "source": [
    "mydisc={1:\"abc\", 2:\"def\"}\n",
    "print(mydisc[1])"
   ]
  },
  {
   "cell_type": "code",
   "execution_count": 10,
   "id": "b1dcaba0-8898-4b25-9759-6085c2510c98",
   "metadata": {},
   "outputs": [
    {
     "name": "stdout",
     "output_type": "stream",
     "text": [
      "{1: 'abc', 2: 'def'}\n"
     ]
    }
   ],
   "source": [
    "print(mydisc)"
   ]
  },
  {
   "cell_type": "code",
   "execution_count": 12,
   "id": "d02fb7d5-999a-41d4-a9ec-df0eb8b49bc4",
   "metadata": {},
   "outputs": [],
   "source": [
    "# to print the number of vowels from a string"
   ]
  },
  {
   "cell_type": "code",
   "execution_count": 32,
   "id": "7d681c2e-673a-48cd-9f56-43aee2b83d6d",
   "metadata": {},
   "outputs": [
    {
     "name": "stdout",
     "output_type": "stream",
     "text": [
      "{'total': 1}\n"
     ]
    }
   ],
   "source": [
    "myvowel={\"total\":0}\n",
    "\n",
    "for char in \"hey\":\n",
    "    if char in \"aeiou\":\n",
    "        myvowel[\"total\"]=myvowel[\"total\"]+1\n",
    "\n",
    "print(myvowel)"
   ]
  },
  {
   "cell_type": "code",
   "execution_count": 24,
   "id": "1fa81d27-1b8f-410b-89a8-108cbcd9de3e",
   "metadata": {},
   "outputs": [
    {
     "data": {
      "text/plain": [
       "True"
      ]
     },
     "execution_count": 24,
     "metadata": {},
     "output_type": "execute_result"
    }
   ],
   "source": [
    "mydis={1:\"acb\", 20:\"def\"}\n",
    "1 in mydis"
   ]
  },
  {
   "cell_type": "code",
   "execution_count": 34,
   "id": "353b4256-82a4-426c-a60c-5db1f590e16d",
   "metadata": {},
   "outputs": [
    {
     "name": "stdout",
     "output_type": "stream",
     "text": [
      "{'e': 1, 'a': 2, 'i': 1}\n"
     ]
    }
   ],
   "source": [
    "myvowel={}\n",
    "\n",
    "for char in \"heyaia\":\n",
    "    if char in \"aeiou\":\n",
    "        if char not in myvowel:\n",
    "            myvowel[char]=1\n",
    "        else:\n",
    "            myvowel[char]=myvowel[char]+1\n",
    "print(myvowel)"
   ]
  },
  {
   "cell_type": "code",
   "execution_count": 58,
   "id": "005cecca-d732-49f2-b531-2b6d7c6b180b",
   "metadata": {},
   "outputs": [
    {
     "name": "stdout",
     "output_type": "stream",
     "text": [
      "{10: 0, 20: 1, 30: 2, 40: 3, 12: 4}\n"
     ]
    }
   ],
   "source": [
    "mylist=[10,20,30,40,12]\n",
    "myvalue={}\n",
    "for i in range(0,len(mylist)):\n",
    "    myvalue[mylist[i]]=i\n",
    "\n",
    "print(myvalue)"
   ]
  },
  {
   "cell_type": "code",
   "execution_count": 68,
   "id": "1035c949-a631-4728-8891-58a41139569c",
   "metadata": {},
   "outputs": [
    {
     "name": "stdout",
     "output_type": "stream",
     "text": [
      "{10: 0, 20: 1, 30: 2, 40: 3, 12: 4}\n",
      "Target is match: 40 10\n",
      "Target is match: 30 20\n",
      "Target is match: 20 30\n",
      "Target is match: 10 40\n"
     ]
    }
   ],
   "source": [
    "mylist=[10,20,30,40,12]\n",
    "myvalue={}\n",
    "target = 50\n",
    "for i in range(0,len(mylist)):\n",
    "    myvalue[mylist[i]]=i\n",
    "\n",
    "print(myvalue)\n",
    "\n",
    "for i in mylist:\n",
    "    x= target-i\n",
    "    if(x in myvalue):\n",
    "        print(\"Target is match:\",x,i)"
   ]
  },
  {
   "cell_type": "code",
   "execution_count": 98,
   "id": "84af6ee2-96a9-4bbb-8eb0-d9456c0e4b27",
   "metadata": {},
   "outputs": [
    {
     "name": "stdout",
     "output_type": "stream",
     "text": [
      "{'e': 1, 'a': 2, 'i': 1}\n"
     ]
    }
   ],
   "source": [
    "# {A:65, B:66\n",
    "myvowel={}\n",
    "\n",
    "for char in \"heyaia\":\n",
    "    if char in \"aeiou\":\n",
    "        if char not in myvowel:\n",
    "            myvowel[char]=1\n",
    "        else:\n",
    "            myvowel[char]=myvowel[char]+1\n",
    "print(myvowel)"
   ]
  },
  {
   "cell_type": "code",
   "execution_count": 1,
   "id": "cd76845f-dee3-4df7-96f5-9f7a4497e3c0",
   "metadata": {},
   "outputs": [
    {
     "name": "stdout",
     "output_type": "stream",
     "text": [
      "{'A': 1, 'B': 1, 'C': 1, 'D': 1, 'E': 1, 'F': 1, 'G': 1, 'H': 1, 'I': 1, 'J': 1, 'K': 1, 'L': 1, 'M': 1, 'N': 1, 'O': 1, 'P': 1, 'Q': 1, 'R': 1, 'S': 1, 'T': 1, 'U': 1, 'V': 1, 'W': 1, 'X': 1, 'Y': 1, 'Z': 1}\n"
     ]
    }
   ],
   "source": [
    "myvalue={}\n",
    "for i in range(65,91):\n",
    "    myvalue[chr(i)]=1\n",
    "\n",
    "print(myvalue)"
   ]
  },
  {
   "cell_type": "code",
   "execution_count": 5,
   "id": "aebcbfca-fa27-468e-a7e2-d574e79f437f",
   "metadata": {},
   "outputs": [
    {
     "name": "stdout",
     "output_type": "stream",
     "text": [
      "{65: 'A', 66: 'B', 67: 'C', 68: 'D', 69: 'E', 70: 'F', 71: 'G', 72: 'H', 73: 'I', 74: 'J', 75: 'K', 76: 'L', 77: 'M', 78: 'N', 79: 'O', 80: 'P', 81: 'Q', 82: 'R', 83: 'S', 84: 'T', 85: 'U', 86: 'V', 87: 'W', 88: 'X', 89: 'Y', 90: 'Z'}\n"
     ]
    }
   ],
   "source": [
    "myvalue={}\n",
    "for i in range(65,91):\n",
    "    myvalue[i]=chr(i)\n",
    "\n",
    "print(myvalue)"
   ]
  },
  {
   "cell_type": "code",
   "execution_count": 9,
   "id": "6222a1c9-3b10-4a3e-b8fa-cd123443bd6f",
   "metadata": {},
   "outputs": [
    {
     "name": "stdout",
     "output_type": "stream",
     "text": [
      "{65: 'A', 66: 'B', 67: 'C', 68: 'D', 69: 'E', 70: 'F', 71: 'G', 72: 'H', 73: 'I', 74: 'J', 75: 'K', 76: 'L', 77: 'M', 78: 'N', 79: 'O', 80: 'P', 81: 'Q', 82: 'R', 83: 'S', 84: 'T', 85: 'U', 86: 'V', 87: 'W', 88: 'X', 89: 'Y', 90: 'Z'}\n",
      "A\n",
      "B\n",
      "C\n",
      "D\n"
     ]
    }
   ],
   "source": [
    "myvalue={}\n",
    "for i in range(65,91):\n",
    "    myvalue[i]=chr(i)\n",
    "\n",
    "print(myvalue)\n",
    "\n",
    "data=\"abcd\"\n",
    "for char in data:\n",
    "    x =ord(char)-32\n",
    "    if(x in myvalue):\n",
    "        print(myvalue[x])"
   ]
  },
  {
   "cell_type": "code",
   "execution_count": 36,
   "id": "83ed7c41-446e-4b74-ae23-2d90379f6f4c",
   "metadata": {},
   "outputs": [],
   "source": [
    "# set \n",
    "# unique value\n",
    "# mutuable ( change kar skte hai)\n",
    "# do not have index position\n",
    "# unoreder hota hai\n"
   ]
  },
  {
   "cell_type": "code",
   "execution_count": 3,
   "id": "eb22bf51-88a2-4895-891d-f2a317912da2",
   "metadata": {},
   "outputs": [],
   "source": [
    "myset={1,2,\"a\",3,4,1,1,2}"
   ]
  },
  {
   "cell_type": "code",
   "execution_count": 5,
   "id": "e6dd108e-d27e-4d3b-9968-f67869366647",
   "metadata": {},
   "outputs": [],
   "source": [
    "# union\n",
    "# intersection\n",
    "# difference\n",
    "# isdisjoint\n",
    "#symmetric_difference"
   ]
  },
  {
   "cell_type": "code",
   "execution_count": 7,
   "id": "037e6cbb-d963-4f52-b57f-72303f36d2d9",
   "metadata": {},
   "outputs": [],
   "source": [
    "# indeed\n",
    "# naukari\n",
    "# apna\n",
    "# monster"
   ]
  },
  {
   "cell_type": "code",
   "execution_count": null,
   "id": "526fef44-fb3d-4607-a786-eb192881598a",
   "metadata": {},
   "outputs": [],
   "source": []
  }
 ],
 "metadata": {
  "kernelspec": {
   "display_name": "Python [conda env:base] *",
   "language": "python",
   "name": "conda-base-py"
  },
  "language_info": {
   "codemirror_mode": {
    "name": "ipython",
    "version": 3
   },
   "file_extension": ".py",
   "mimetype": "text/x-python",
   "name": "python",
   "nbconvert_exporter": "python",
   "pygments_lexer": "ipython3",
   "version": "3.12.7"
  }
 },
 "nbformat": 4,
 "nbformat_minor": 5
}

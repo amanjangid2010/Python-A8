{
 "cells": [
  {
   "cell_type": "markdown",
   "id": "ef187135-0f30-4e5f-93a1-144fa486ca61",
   "metadata": {},
   "source": [
    "# Oops"
   ]
  },
  {
   "cell_type": "code",
   "execution_count": 33,
   "id": "86b14d0f-286d-455a-8b29-41e0f9837fce",
   "metadata": {},
   "outputs": [],
   "source": [
    "# oops concepts\n",
    "# object oriented programming system\n",
    "# object => real-time entity => characteristic and behavior\n",
    "# object => \n",
    "# class: blueprint for an object\n",
    "# object => name => unique identifier"
   ]
  },
  {
   "cell_type": "code",
   "execution_count": 47,
   "id": "749927fb-7d91-4f2e-85c2-69ee09667e9d",
   "metadata": {},
   "outputs": [],
   "source": [
    "class HouseDesign:\n",
    "    color=\"white\"\n",
    "    room = 4\n",
    "\n",
    "    def rent(self):   # method\n",
    "        print(\"House will be for rent\")"
   ]
  },
  {
   "cell_type": "code",
   "execution_count": 49,
   "id": "217eac72-7c15-4b61-94a9-f3dcde032685",
   "metadata": {},
   "outputs": [
    {
     "name": "stdout",
     "output_type": "stream",
     "text": [
      "white 4\n",
      "House will be for rent\n"
     ]
    }
   ],
   "source": [
    "h1=HouseDesign()\n",
    "# h1 => object / instance\n",
    "print(h1.color, h1.room)\n",
    "h1.rent()"
   ]
  },
  {
   "cell_type": "code",
   "execution_count": 53,
   "id": "4476a583-547d-42d5-86f1-1e8e12f5a77d",
   "metadata": {},
   "outputs": [],
   "source": [
    "class HouseDesign:\n",
    "    color=\"white\"\n",
    "    room = 4\n"
   ]
  },
  {
   "cell_type": "code",
   "execution_count": 65,
   "id": "20206829-beb5-4d45-a830-9d6ef2d04e6d",
   "metadata": {},
   "outputs": [
    {
     "name": "stdout",
     "output_type": "stream",
     "text": [
      "yellow\n"
     ]
    }
   ],
   "source": [
    "HouseDesign.color=\"yellow\" # color and room ko class variable bolte hai\n",
    "h1=HouseDesign()          # ek asa variable jo class se juda hua hai\n",
    "print(h1.color)        # agr main class main change kiya to object ko bhi wo changes access honge"
   ]
  },
  {
   "cell_type": "code",
   "execution_count": 59,
   "id": "366251c4-e192-4490-90a4-6b69c2b1f828",
   "metadata": {},
   "outputs": [
    {
     "name": "stdout",
     "output_type": "stream",
     "text": [
      "white\n",
      "new orange\n"
     ]
    }
   ],
   "source": [
    "h1=HouseDesign()\n",
    "print(h1.color)\n",
    "h1.color=\"orange\"\n",
    "print(\"new\",h1.color)"
   ]
  },
  {
   "cell_type": "code",
   "execution_count": 61,
   "id": "4c4ad4d1-4855-4437-a3ce-cebbf4997200",
   "metadata": {},
   "outputs": [
    {
     "name": "stdout",
     "output_type": "stream",
     "text": [
      "white\n"
     ]
    }
   ],
   "source": [
    "h2=HouseDesign()\n",
    "print(h2.color)"
   ]
  },
  {
   "cell_type": "code",
   "execution_count": 91,
   "id": "611e3c39-ebe8-4819-8263-147b210960ad",
   "metadata": {},
   "outputs": [],
   "source": [
    "# constructor => function jo memmory addresh ko asin kare ga object k liy\n",
    "# used to initialize memory for an object\n",
    "# constructor => in hindi mistriy object ko memory dende ka kaam hota hai\n",
    "# type of constructor => 1. default and 2. parameterized\n",
    "class HouseDesign:\n",
    "    def __init__(self):  # constructor ka name syntex\n",
    "        print(\"constructor ko bulaya\",self)"
   ]
  },
  {
   "cell_type": "code",
   "execution_count": 93,
   "id": "fb160af2-2830-4c50-91a7-63d789f9843a",
   "metadata": {},
   "outputs": [
    {
     "name": "stdout",
     "output_type": "stream",
     "text": [
      "constructor ko bulaya <__main__.HouseDesign object at 0x000002555EDC23C0>\n"
     ]
    },
    {
     "data": {
      "text/plain": [
       "<__main__.HouseDesign at 0x2555edc23c0>"
      ]
     },
     "execution_count": 93,
     "metadata": {},
     "output_type": "execute_result"
    }
   ],
   "source": [
    "HouseDesign() # constructor memmory addrsh deta hai"
   ]
  },
  {
   "cell_type": "code",
   "execution_count": 95,
   "id": "45d21c59-0faf-4a11-8f2b-ff094c862bd8",
   "metadata": {},
   "outputs": [
    {
     "name": "stdout",
     "output_type": "stream",
     "text": [
      "constructor ko bulaya <__main__.HouseDesign object at 0x000002555BA13FE0>\n",
      "h1 => <__main__.HouseDesign object at 0x000002555BA13FE0>\n"
     ]
    }
   ],
   "source": [
    "h1=HouseDesign()\n",
    "print(\"h1 =>\", h1)"
   ]
  },
  {
   "cell_type": "code",
   "execution_count": 97,
   "id": "0d578d23-1059-4b65-9bff-c38041420b67",
   "metadata": {},
   "outputs": [],
   "source": [
    "# self =>  is variable that access the current object referenc "
   ]
  },
  {
   "cell_type": "code",
   "execution_count": 101,
   "id": "897e35e7-7f5e-483b-9317-12e1b5ee535d",
   "metadata": {},
   "outputs": [
    {
     "name": "stdout",
     "output_type": "stream",
     "text": [
      "constructor ko bulaya <__main__.HouseDesign object at 0x000002555BA128A0>\n",
      "h2=> <__main__.HouseDesign object at 0x000002555BA128A0>\n"
     ]
    }
   ],
   "source": [
    "h2 = HouseDesign()\n",
    "print(\"h2=>\",h2)"
   ]
  },
  {
   "cell_type": "code",
   "execution_count": 129,
   "id": "7b25252e-bd52-4fe6-8d8e-8a7823ea6672",
   "metadata": {},
   "outputs": [],
   "source": [
    "class HouseDesign:\n",
    "    def __init__(self,x,y):\n",
    "        self.color=x\n",
    "        self.room=y     # object.variable\n",
    "        print(\"Constructor ko bulaya=>\",self.color, self.room)\n",
    "        "
   ]
  },
  {
   "cell_type": "code",
   "execution_count": 131,
   "id": "87068b2e-575c-4ef4-a541-b9008c758b6d",
   "metadata": {},
   "outputs": [
    {
     "name": "stdout",
     "output_type": "stream",
     "text": [
      "Constructor ko bulaya=> yellow 5\n"
     ]
    }
   ],
   "source": [
    "h1=HouseDesign(\"yellow\",5)"
   ]
  },
  {
   "cell_type": "code",
   "execution_count": 133,
   "id": "d2bf6ff8-6851-4665-8bcc-14a805e35714",
   "metadata": {},
   "outputs": [
    {
     "name": "stdout",
     "output_type": "stream",
     "text": [
      "Constructor ko bulaya=> green 4\n"
     ]
    }
   ],
   "source": [
    "h2=HouseDesign(\"green\",4)"
   ]
  },
  {
   "cell_type": "code",
   "execution_count": 155,
   "id": "307c598e-0b7f-490d-8135-c467fd9f37ab",
   "metadata": {},
   "outputs": [],
   "source": [
    "class HouseDesign:\n",
    "    def __init__(self,x,y):\n",
    "        self.color=x\n",
    "        self.room=y     # object.variable\n",
    "    def info(self):\n",
    "        print(f\"House has color {self.color} and room is {self.room}\")\n",
    "        "
   ]
  },
  {
   "cell_type": "code",
   "execution_count": 157,
   "id": "f39320d2-150b-4576-8e4b-e94f95ba8f74",
   "metadata": {},
   "outputs": [
    {
     "name": "stdout",
     "output_type": "stream",
     "text": [
      "House has color yello and room is 5\n"
     ]
    }
   ],
   "source": [
    "h1=HouseDesign(\"yello\",5)\n",
    "h1.info()"
   ]
  },
  {
   "cell_type": "code",
   "execution_count": 159,
   "id": "4718f66a-fa67-4f45-be7f-80574eac2fbc",
   "metadata": {},
   "outputs": [
    {
     "name": "stdout",
     "output_type": "stream",
     "text": [
      "House has color green and room is 5\n"
     ]
    }
   ],
   "source": [
    "h2=HouseDesign(\"green\",5)\n",
    "h2.info()"
   ]
  },
  {
   "cell_type": "code",
   "execution_count": 161,
   "id": "8a14d0a6-3934-497a-8503-57ba3672e4f7",
   "metadata": {},
   "outputs": [],
   "source": [
    "# inharitance\n",
    "# type of inheritance\n",
    "# class variable or insentence variable main kya fark hota hai"
   ]
  },
  {
   "cell_type": "code",
   "execution_count": null,
   "id": "de5d859c-e477-4626-9ef1-892d0947ed55",
   "metadata": {},
   "outputs": [],
   "source": []
  }
 ],
 "metadata": {
  "kernelspec": {
   "display_name": "Python [conda env:base] *",
   "language": "python",
   "name": "conda-base-py"
  },
  "language_info": {
   "codemirror_mode": {
    "name": "ipython",
    "version": 3
   },
   "file_extension": ".py",
   "mimetype": "text/x-python",
   "name": "python",
   "nbconvert_exporter": "python",
   "pygments_lexer": "ipython3",
   "version": "3.12.7"
  }
 },
 "nbformat": 4,
 "nbformat_minor": 5
}

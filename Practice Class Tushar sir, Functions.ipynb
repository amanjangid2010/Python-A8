{
 "cells": [
  {
   "cell_type": "code",
   "execution_count": 2,
   "id": "71864432-93ac-4f67-b4e9-15a81de75ac1",
   "metadata": {},
   "outputs": [
    {
     "data": {
      "text/plain": [
       "[1, 2, 3, 4, 5, 6, 7, 8, 9]"
      ]
     },
     "execution_count": 2,
     "metadata": {},
     "output_type": "execute_result"
    }
   ],
   "source": [
    "# dictionary\n",
    "[i for i in range(1,10)]"
   ]
  },
  {
   "cell_type": "code",
   "execution_count": 4,
   "id": "d847aa41-0ff5-4599-baa2-4bbd155d174b",
   "metadata": {},
   "outputs": [
    {
     "data": {
      "text/plain": [
       "{1, 2, 3, 4, 5, 6, 7, 8, 9}"
      ]
     },
     "execution_count": 4,
     "metadata": {},
     "output_type": "execute_result"
    }
   ],
   "source": [
    "{ i for i in range(1,10)}"
   ]
  },
  {
   "cell_type": "code",
   "execution_count": 71,
   "id": "62530175-5db5-49d4-be5a-cb353baac695",
   "metadata": {},
   "outputs": [
    {
     "data": {
      "text/plain": [
       "{1: 1, 2: 1, 3: 1, 4: 1, 5: 1, 6: 1, 7: 1, 8: 1, 9: 1}"
      ]
     },
     "execution_count": 71,
     "metadata": {},
     "output_type": "execute_result"
    }
   ],
   "source": [
    "{i: 1 for i in range(1,10)}"
   ]
  },
  {
   "cell_type": "markdown",
   "id": "29d5b511-ee96-44b9-bb44-f84633c9c60c",
   "metadata": {},
   "source": [
    "# Functions"
   ]
  },
  {
   "cell_type": "code",
   "execution_count": 11,
   "id": "0cd41615-6764-40e4-b41d-c135210672f0",
   "metadata": {},
   "outputs": [],
   "source": [
    "# Block of Code => Code Reusable?\n",
    "# function"
   ]
  },
  {
   "cell_type": "code",
   "execution_count": 13,
   "id": "cca996b5-6b34-4631-b000-d2e4aea24695",
   "metadata": {},
   "outputs": [],
   "source": [
    "def func():\n",
    "    print(\"hey\")"
   ]
  },
  {
   "cell_type": "code",
   "execution_count": 15,
   "id": "db5e27ee-815b-4543-84e6-b23a9ffdee12",
   "metadata": {},
   "outputs": [
    {
     "name": "stdout",
     "output_type": "stream",
     "text": [
      "hey\n"
     ]
    }
   ],
   "source": [
    "func()"
   ]
  },
  {
   "cell_type": "code",
   "execution_count": 17,
   "id": "12461e0f-c092-4657-9b1c-1ec87dfd8cec",
   "metadata": {},
   "outputs": [],
   "source": [
    "def func():\n",
    "    y = 100 # locl variable isko function main he use kar skte hai or kahi use nhi kar skte\n",
    "    print(\"hey\",y) "
   ]
  },
  {
   "cell_type": "code",
   "execution_count": 23,
   "id": "3235eded-37f4-4c0a-8383-43ed4055a086",
   "metadata": {},
   "outputs": [
    {
     "name": "stdout",
     "output_type": "stream",
     "text": [
      "hey 100\n"
     ]
    },
    {
     "ename": "NameError",
     "evalue": "name 'y' is not defined",
     "output_type": "error",
     "traceback": [
      "\u001b[1;31m---------------------------------------------------------------------------\u001b[0m",
      "\u001b[1;31mNameError\u001b[0m                                 Traceback (most recent call last)",
      "Cell \u001b[1;32mIn[23], line 2\u001b[0m\n\u001b[0;32m      1\u001b[0m func()\n\u001b[1;32m----> 2\u001b[0m \u001b[38;5;28mprint\u001b[39m(y)\n",
      "\u001b[1;31mNameError\u001b[0m: name 'y' is not defined"
     ]
    }
   ],
   "source": [
    "func()\n",
    "print(y)"
   ]
  },
  {
   "cell_type": "code",
   "execution_count": 37,
   "id": "fbf575da-384a-41ef-b57e-538b5a21d388",
   "metadata": {},
   "outputs": [],
   "source": [
    "x = 10  # global variable isko bhar bhi  use kar skte hai or andar bhi \n",
    "def func():\n",
    "    y = 100\n",
    "    x =\"hhhh\"\n",
    "    print(\"hey\",y,x)"
   ]
  },
  {
   "cell_type": "code",
   "execution_count": 39,
   "id": "5770bf4f-a15c-4333-b4dd-c8b3f97fd6ba",
   "metadata": {},
   "outputs": [
    {
     "name": "stdout",
     "output_type": "stream",
     "text": [
      "hey 100 hhhh\n",
      "10\n"
     ]
    }
   ],
   "source": [
    "func()\n",
    "print(x)"
   ]
  },
  {
   "cell_type": "code",
   "execution_count": 45,
   "id": "d7bd7b7c-ea10-491b-b097-273669dfbe4f",
   "metadata": {},
   "outputs": [],
   "source": [
    "x = 10  \n",
    "def func():\n",
    "    global x # global main change karne ka kaam aata hai\n",
    "    y = 100\n",
    "    x =\"hhhh\"\n",
    "    print(\"hey\",y,x)"
   ]
  },
  {
   "cell_type": "code",
   "execution_count": 47,
   "id": "441ddeda-c9ce-42c9-85a2-25ee79354e03",
   "metadata": {},
   "outputs": [
    {
     "name": "stdout",
     "output_type": "stream",
     "text": [
      "hey 100 hhhh\n",
      "hhhh\n"
     ]
    }
   ],
   "source": [
    "func()\n",
    "print(x)"
   ]
  },
  {
   "cell_type": "code",
   "execution_count": 63,
   "id": "7fdc7a45-3dec-41c0-a328-ff62b5943c64",
   "metadata": {},
   "outputs": [],
   "source": [
    "def greeting(user):  # parameter\n",
    "    user =\"ujjwal\"\n",
    "    print(\"hello welcome user\",user)"
   ]
  },
  {
   "cell_type": "code",
   "execution_count": 65,
   "id": "5b516ee8-0e0a-49e5-998f-c6c9e6a324f7",
   "metadata": {},
   "outputs": [
    {
     "name": "stdout",
     "output_type": "stream",
     "text": [
      "hello welcome user ujjwal\n",
      "hello welcome user ujjwal\n"
     ]
    }
   ],
   "source": [
    "greeting(\"aman\")\n",
    "greeting(\"naina\")"
   ]
  },
  {
   "cell_type": "code",
   "execution_count": 67,
   "id": "b20c1ce5-9cc8-4d50-9378-78cd1479411d",
   "metadata": {},
   "outputs": [
    {
     "name": "stdout",
     "output_type": "stream",
     "text": [
      "hello welcome user ujjwal\n",
      "Name => tushar\n"
     ]
    }
   ],
   "source": [
    "name=\"tushar\"\n",
    "greeting(name)\n",
    "print(\"Name =>\", name)"
   ]
  },
  {
   "cell_type": "code",
   "execution_count": 73,
   "id": "e44a0647-e2ee-4ffd-809e-8f215011e103",
   "metadata": {},
   "outputs": [
    {
     "name": "stdout",
     "output_type": "stream",
     "text": [
      "hello welcome user ujjwal\n",
      "user tushar\n"
     ]
    }
   ],
   "source": [
    "user = \"tushar\"\n",
    "greeting(user)\n",
    "print(\"user\",user)"
   ]
  },
  {
   "cell_type": "code",
   "execution_count": 75,
   "id": "070db8fc-8449-4c8a-904d-dddaadbac4f3",
   "metadata": {},
   "outputs": [],
   "source": [
    "#pyhotn main ager memory address badalta hai for variable immutable\n",
    "#python main agar memory address change nhi hota hai mutable\n",
    "# integer, string, booline, tuple  ye saare immutable data type hote hao\n",
    "#list dicionay set ye mutuable data type hote hai"
   ]
  },
  {
   "cell_type": "code",
   "execution_count": 85,
   "id": "7bcbc1f2-3be6-4bbe-bc4f-98e50996b442",
   "metadata": {},
   "outputs": [],
   "source": [
    "def greeting(x):\n",
    "    print(\"hello welcome user:\",x)\n",
    "    x.append(30)\n",
    "    print(\"new user:\",x)"
   ]
  },
  {
   "cell_type": "code",
   "execution_count": 87,
   "id": "b54c8574-7b0a-41bf-b9b9-6e5093213868",
   "metadata": {},
   "outputs": [
    {
     "name": "stdout",
     "output_type": "stream",
     "text": [
      "hello welcome user: [10, 20]\n",
      "new user: [10, 20, 30]\n",
      "[10, 20, 30]\n"
     ]
    }
   ],
   "source": [
    "mylist=[10,20]\n",
    "greeting(mylist)\n",
    "print(mylist)"
   ]
  },
  {
   "cell_type": "code",
   "execution_count": 89,
   "id": "86b3676f-6ca3-41f7-b389-3391210563cf",
   "metadata": {},
   "outputs": [],
   "source": [
    "def greeting(x):\n",
    "    print(\"hello welcome user:\",x,id(x))\n",
    "    x = 20\n",
    "    print(\"new user:\", x, id(x))"
   ]
  },
  {
   "cell_type": "code",
   "execution_count": 91,
   "id": "5d8eabbc-124d-4f2a-a305-f1dd87a7b062",
   "metadata": {},
   "outputs": [
    {
     "name": "stdout",
     "output_type": "stream",
     "text": [
      "outer => 10 140727593675480\n",
      "hello welcome user: 10 140727593675480\n",
      "new user: 20 140727593675800\n",
      "after function Outer =>  10 140727593675480\n"
     ]
    }
   ],
   "source": [
    "x = 10\n",
    "print(\"outer =>\", x, id(x))\n",
    "greeting(x)\n",
    "print(\"after function Outer => \",x,id(x))"
   ]
  },
  {
   "cell_type": "markdown",
   "id": "991bc785-8543-4867-9582-a2508c0da36b",
   "metadata": {},
   "source": [
    "# Type of argumenent paasing in functions"
   ]
  },
  {
   "cell_type": "code",
   "execution_count": 94,
   "id": "c1f7693b-80e0-4fc8-9bd1-b0c506531d78",
   "metadata": {},
   "outputs": [],
   "source": [
    "def func(x,y,z):\n",
    "    print(f\"x=>{x}, y=> {y} z=> {z}\")"
   ]
  },
  {
   "cell_type": "code",
   "execution_count": 104,
   "id": "bb747bd4-2a77-4eb1-9b00-ea935e490262",
   "metadata": {},
   "outputs": [
    {
     "name": "stdout",
     "output_type": "stream",
     "text": [
      "x=>10, y=> 20 z=> 30\n",
      "x=>30, y=> 20 z=> 10\n",
      "x=>10, y=> 20 z=> 30\n"
     ]
    }
   ],
   "source": [
    "func(10,20,30) # Reqiured Argumenent\n",
    "func(30,20,10) # Position Argumenet\n",
    "func(x=10,y=20,z=30) # Keyword argument"
   ]
  },
  {
   "cell_type": "code",
   "execution_count": 106,
   "id": "6730bc2a-5170-49c9-a756-5c23929309a9",
   "metadata": {},
   "outputs": [
    {
     "name": "stdout",
     "output_type": "stream",
     "text": [
      "x=>30, y=> 20 z=> 10\n"
     ]
    }
   ],
   "source": [
    "def func(x,y,z):\n",
    "    print(f\"x=>{x}, y=> {y} z=> {z}\")\n",
    "\n",
    "func(30,y=20,z=10) "
   ]
  },
  {
   "cell_type": "code",
   "execution_count": 110,
   "id": "12abf191-0afb-47b5-8397-b34a50e61aa0",
   "metadata": {},
   "outputs": [
    {
     "name": "stdout",
     "output_type": "stream",
     "text": [
      "x=>10, y=> 20 z=> 40\n"
     ]
    }
   ],
   "source": [
    "def func(x,y,z=40):\n",
    "    print(f\"x=>{x}, y=> {y} z=> {z}\")\n",
    "\n",
    "func(10,20)"
   ]
  },
  {
   "cell_type": "code",
   "execution_count": null,
   "id": "dadfefa6-b868-44b8-97bf-7d87a3719329",
   "metadata": {},
   "outputs": [],
   "source": []
  }
 ],
 "metadata": {
  "kernelspec": {
   "display_name": "Python [conda env:base] *",
   "language": "python",
   "name": "conda-base-py"
  },
  "language_info": {
   "codemirror_mode": {
    "name": "ipython",
    "version": 3
   },
   "file_extension": ".py",
   "mimetype": "text/x-python",
   "name": "python",
   "nbconvert_exporter": "python",
   "pygments_lexer": "ipython3",
   "version": "3.12.7"
  }
 },
 "nbformat": 4,
 "nbformat_minor": 5
}

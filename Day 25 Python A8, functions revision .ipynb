{
 "cells": [
  {
   "cell_type": "code",
   "execution_count": 2,
   "id": "92b07f03-31b1-4c97-bb79-c35a10feedbe",
   "metadata": {},
   "outputs": [],
   "source": [
    "# fuction\n",
    "# block of code / set of statement\n",
    "# we write a logic once => again and again\n",
    "# code reuse"
   ]
  },
  {
   "cell_type": "code",
   "execution_count": 4,
   "id": "a6ed5a94-455d-4028-8342-d71933e3c9cf",
   "metadata": {},
   "outputs": [],
   "source": [
    "def func():\n",
    "    print(\"hey\")\n",
    "    print(\"good eveneing\")   "
   ]
  },
  {
   "cell_type": "code",
   "execution_count": 6,
   "id": "9a1e3d7b-3d5e-4f62-ac16-442f3f28396b",
   "metadata": {},
   "outputs": [
    {
     "name": "stdout",
     "output_type": "stream",
     "text": [
      "hey\n",
      "good eveneing\n"
     ]
    }
   ],
   "source": [
    "func()"
   ]
  },
  {
   "cell_type": "code",
   "execution_count": 8,
   "id": "ac2b19b9-3d41-4248-bbee-4f7625b49547",
   "metadata": {},
   "outputs": [
    {
     "name": "stdout",
     "output_type": "stream",
     "text": [
      "hey\n",
      "good eveneing\n"
     ]
    }
   ],
   "source": [
    "func()"
   ]
  },
  {
   "cell_type": "code",
   "execution_count": 10,
   "id": "8b1a2798-f592-4c4e-9e81-b074a966a91f",
   "metadata": {},
   "outputs": [],
   "source": [
    "def add():\n",
    "    a=10\n",
    "    b=20\n",
    "    print(\"total\",a+b)"
   ]
  },
  {
   "cell_type": "code",
   "execution_count": 12,
   "id": "c32a5287-0d86-45b6-8e7a-774a553729a4",
   "metadata": {},
   "outputs": [
    {
     "name": "stdout",
     "output_type": "stream",
     "text": [
      "total 30\n"
     ]
    }
   ],
   "source": [
    "add()"
   ]
  },
  {
   "cell_type": "code",
   "execution_count": 14,
   "id": "1f9e9e91-5503-4d52-9add-8ac8eecd9108",
   "metadata": {},
   "outputs": [],
   "source": [
    "def add():\n",
    "    a=int(input(\"value of a:\"))\n",
    "    b=20\n",
    "    print(\"total\",a+b)"
   ]
  },
  {
   "cell_type": "code",
   "execution_count": 16,
   "id": "1c2dc410-c348-4bd8-8993-7af947b8b4e9",
   "metadata": {},
   "outputs": [
    {
     "name": "stdin",
     "output_type": "stream",
     "text": [
      "value of a: 10\n"
     ]
    },
    {
     "name": "stdout",
     "output_type": "stream",
     "text": [
      "total 30\n"
     ]
    }
   ],
   "source": [
    "add()"
   ]
  },
  {
   "cell_type": "code",
   "execution_count": 18,
   "id": "99c89ddf-4b51-4aa0-ac58-730856712d4e",
   "metadata": {},
   "outputs": [
    {
     "name": "stdin",
     "output_type": "stream",
     "text": [
      "value of a: 55\n"
     ]
    },
    {
     "name": "stdout",
     "output_type": "stream",
     "text": [
      "total 75\n"
     ]
    }
   ],
   "source": [
    "add()"
   ]
  },
  {
   "cell_type": "code",
   "execution_count": 20,
   "id": "e983c4b1-1f40-4267-af3d-c7d021838be9",
   "metadata": {},
   "outputs": [],
   "source": [
    "def add(a,b):  # parameter => input is from the program\n",
    "    print(\"total\",a+b)"
   ]
  },
  {
   "cell_type": "code",
   "execution_count": 24,
   "id": "c67f0118-cd8a-4301-8808-59fb49fcfda9",
   "metadata": {},
   "outputs": [
    {
     "name": "stdout",
     "output_type": "stream",
     "text": [
      "total 30\n"
     ]
    }
   ],
   "source": [
    "add(10,20) # function call => argument"
   ]
  },
  {
   "cell_type": "code",
   "execution_count": 26,
   "id": "b3560a01-b5fd-436d-9240-62debada2270",
   "metadata": {},
   "outputs": [
    {
     "name": "stdout",
     "output_type": "stream",
     "text": [
      "total 50\n"
     ]
    }
   ],
   "source": [
    "add(30,20)"
   ]
  },
  {
   "cell_type": "code",
   "execution_count": 28,
   "id": "2c87b99a-413f-4c39-8f53-cffe6eecc458",
   "metadata": {},
   "outputs": [],
   "source": [
    "def add(a,b):\n",
    "    print(\"A\",a, \"B:\",b)"
   ]
  },
  {
   "cell_type": "code",
   "execution_count": 32,
   "id": "1faecfb0-02a3-439a-bd20-e5787f30efc2",
   "metadata": {},
   "outputs": [
    {
     "name": "stdout",
     "output_type": "stream",
     "text": [
      "A 10 B: 20\n"
     ]
    }
   ],
   "source": [
    "add(10,20) # type of argument passing"
   ]
  },
  {
   "cell_type": "code",
   "execution_count": 36,
   "id": "a945afc7-bf66-4a32-96b3-e44cec85acaf",
   "metadata": {},
   "outputs": [
    {
     "ename": "TypeError",
     "evalue": "add() missing 2 required positional arguments: 'a' and 'b'",
     "output_type": "error",
     "traceback": [
      "\u001b[1;31m---------------------------------------------------------------------------\u001b[0m",
      "\u001b[1;31mTypeError\u001b[0m                                 Traceback (most recent call last)",
      "Cell \u001b[1;32mIn[36], line 1\u001b[0m\n\u001b[1;32m----> 1\u001b[0m add()\n",
      "\u001b[1;31mTypeError\u001b[0m: add() missing 2 required positional arguments: 'a' and 'b'"
     ]
    }
   ],
   "source": [
    "add() # jintne permetr utne argument hona jaruri hai"
   ]
  },
  {
   "cell_type": "code",
   "execution_count": 38,
   "id": "d27aa6ea-f721-4a9b-bd4c-5626ad0a5d69",
   "metadata": {},
   "outputs": [],
   "source": [
    "def add(a,b):\n",
    "    print(\"A:\",a, \"B:\",b)"
   ]
  },
  {
   "cell_type": "code",
   "execution_count": 42,
   "id": "84503d8d-a997-42f5-bdc6-f3929317e198",
   "metadata": {},
   "outputs": [
    {
     "name": "stdout",
     "output_type": "stream",
     "text": [
      "A: 10 B: 20\n"
     ]
    }
   ],
   "source": [
    "add(b=20,a=10) # keyword argument"
   ]
  },
  {
   "cell_type": "code",
   "execution_count": 44,
   "id": "5c45e78e-8b64-4b77-b24b-2368f7df76cd",
   "metadata": {},
   "outputs": [],
   "source": [
    "def add(a,b=0):     # default argument => at the end\n",
    "    print(\"A:\",a, \"B:\",b)\n",
    "\n"
   ]
  },
  {
   "cell_type": "code",
   "execution_count": 48,
   "id": "553e995e-fe4a-4623-a208-f524aba3fa7a",
   "metadata": {},
   "outputs": [
    {
     "name": "stdout",
     "output_type": "stream",
     "text": [
      "A: 10 B: 90\n"
     ]
    }
   ],
   "source": [
    "add(10,90) # default ko change kar skte hai"
   ]
  },
  {
   "cell_type": "code",
   "execution_count": 50,
   "id": "bca8ca11-1108-4fe6-95ce-4d51537295be",
   "metadata": {},
   "outputs": [],
   "source": [
    "# keyword variable ( **kwargs) and *args"
   ]
  },
  {
   "cell_type": "code",
   "execution_count": 58,
   "id": "099dcd6a-0ea4-4db3-a0ae-126110bf40f9",
   "metadata": {},
   "outputs": [],
   "source": [
    "\n",
    "def add(*abc):\n",
    "    print(abc)"
   ]
  },
  {
   "cell_type": "code",
   "execution_count": 60,
   "id": "1bb2426e-eabd-46d6-a5fb-d4751f399b56",
   "metadata": {},
   "outputs": [
    {
     "name": "stdout",
     "output_type": "stream",
     "text": [
      "()\n",
      "(10, 20, 30)\n"
     ]
    }
   ],
   "source": [
    "add()\n",
    "add(10,20,30)"
   ]
  },
  {
   "cell_type": "code",
   "execution_count": 62,
   "id": "2a67b851-2364-43cd-a25d-3b73a6216fb7",
   "metadata": {},
   "outputs": [],
   "source": [
    "# keyword variable length argument\n",
    "def add(**abc):\n",
    "    print(abc)"
   ]
  },
  {
   "cell_type": "code",
   "execution_count": 66,
   "id": "b20fabc7-c15b-420f-bd97-684bcf3896aa",
   "metadata": {},
   "outputs": [
    {
     "name": "stdout",
     "output_type": "stream",
     "text": [
      "{}\n",
      "{'age': 10}\n",
      "{'salary': 1000}\n"
     ]
    }
   ],
   "source": [
    "add()\n",
    "add(age=10)\n",
    "add(salary=1000)"
   ]
  },
  {
   "cell_type": "code",
   "execution_count": 68,
   "id": "a87b9dd7-08f7-4ef7-a9b6-3fd3e63833bb",
   "metadata": {},
   "outputs": [
    {
     "name": "stdout",
     "output_type": "stream",
     "text": [
      "* \n",
      "* * \n",
      "* * * \n",
      "* * * * \n"
     ]
    }
   ],
   "source": [
    "num = 4\n",
    "for i in range(1,num+1):\n",
    "    for j in range(1,i+1):\n",
    "        print(\"*\",end=\" \")\n",
    "    print()"
   ]
  },
  {
   "cell_type": "code",
   "execution_count": 74,
   "id": "acd929fb-435a-4fae-9ddb-0433d19bc53b",
   "metadata": {},
   "outputs": [],
   "source": [
    "def printPattern(num):\n",
    "    for i in range(1,num+1):\n",
    "        for j in range(1,i+1):\n",
    "            print(\"*\",end=\" \")\n",
    "        print()"
   ]
  },
  {
   "cell_type": "code",
   "execution_count": 78,
   "id": "38dbfe48-4195-48ae-b1cc-e301b6adeae5",
   "metadata": {},
   "outputs": [
    {
     "name": "stdout",
     "output_type": "stream",
     "text": [
      "* \n",
      "* * \n",
      "* * * \n",
      "* * * * \n",
      "* * * * * \n",
      "* * * * * * \n",
      "* * * * * * * \n",
      "* * * * * * * * \n",
      "* * * * * * * * * \n",
      "* * * * * * * * * * \n"
     ]
    }
   ],
   "source": [
    "printPattern(10)"
   ]
  },
  {
   "cell_type": "code",
   "execution_count": 80,
   "id": "86ab6f76-b0b2-4759-b12b-787252a869fd",
   "metadata": {},
   "outputs": [],
   "source": [
    "def addNo(a,b):\n",
    "    print(a+b)"
   ]
  },
  {
   "cell_type": "code",
   "execution_count": 88,
   "id": "30cc95f1-f84d-4a8a-bf12-97091f65ba77",
   "metadata": {},
   "outputs": [
    {
     "name": "stdout",
     "output_type": "stream",
     "text": [
      "25\n",
      "total value None\n"
     ]
    }
   ],
   "source": [
    "print(\"total value\",addNo(10,15))"
   ]
  },
  {
   "cell_type": "code",
   "execution_count": 90,
   "id": "a665fe8a-c829-4362-afb2-b941bd30f06a",
   "metadata": {},
   "outputs": [],
   "source": [
    "def addNo(a,b):\n",
    "    c=a+b\n",
    "    return c"
   ]
  },
  {
   "cell_type": "code",
   "execution_count": 92,
   "id": "b65a355b-c022-49f2-b89c-4b3fdab58421",
   "metadata": {},
   "outputs": [
    {
     "data": {
      "text/plain": [
       "30"
      ]
     },
     "execution_count": 92,
     "metadata": {},
     "output_type": "execute_result"
    }
   ],
   "source": [
    "addNo(10,20)"
   ]
  },
  {
   "cell_type": "code",
   "execution_count": 94,
   "id": "2350421d-9c1e-424f-93d5-8b653f868fd9",
   "metadata": {},
   "outputs": [
    {
     "name": "stdout",
     "output_type": "stream",
     "text": [
      "total value 30\n"
     ]
    }
   ],
   "source": [
    "tushar=addNo(10,20)\n",
    "print(\"total value\", tushar)"
   ]
  },
  {
   "cell_type": "code",
   "execution_count": 96,
   "id": "bbfa6044-e49d-4b20-b9b1-d07ea26fa950",
   "metadata": {},
   "outputs": [],
   "source": [
    "# lambda => code readable baanane ke liye\n",
    "# lambda fucntion => kisi dushre fuction main ( high order function)\n",
    "#\n",
    "# def funct(parament):\n",
    "# return\n",
    "\n",
    "# lambda  parameter , par2 :  expression (expression return hota hai)"
   ]
  },
  {
   "cell_type": "code",
   "execution_count": 98,
   "id": "0ec1e36e-5129-4c5b-91b3-1bca9e6f6890",
   "metadata": {},
   "outputs": [],
   "source": [
    "def func(x):\n",
    "    return x+15"
   ]
  },
  {
   "cell_type": "code",
   "execution_count": 100,
   "id": "6bc75bf5-dd5a-4618-a9d5-7400d3876d96",
   "metadata": {},
   "outputs": [
    {
     "data": {
      "text/plain": [
       "95"
      ]
     },
     "execution_count": 100,
     "metadata": {},
     "output_type": "execute_result"
    }
   ],
   "source": [
    "func(80)"
   ]
  },
  {
   "cell_type": "code",
   "execution_count": 102,
   "id": "7bfbaf5c-662a-4885-a8aa-9e5fcd19c8f2",
   "metadata": {},
   "outputs": [
    {
     "data": {
      "text/plain": [
       "<function __main__.<lambda>(x)>"
      ]
     },
     "execution_count": 102,
     "metadata": {},
     "output_type": "execute_result"
    }
   ],
   "source": [
    "lambda x : x+15"
   ]
  },
  {
   "cell_type": "code",
   "execution_count": 106,
   "id": "edac336b-1de4-4849-9f83-2aa337b261dd",
   "metadata": {},
   "outputs": [
    {
     "data": {
      "text/plain": [
       "95"
      ]
     },
     "execution_count": 106,
     "metadata": {},
     "output_type": "execute_result"
    }
   ],
   "source": [
    "a=lambda x : x+15\n",
    "a(80)"
   ]
  },
  {
   "cell_type": "code",
   "execution_count": 108,
   "id": "adcf3623-c53b-4cb7-87cc-9e1a97424c17",
   "metadata": {},
   "outputs": [
    {
     "data": {
      "text/plain": [
       "95"
      ]
     },
     "execution_count": 108,
     "metadata": {},
     "output_type": "execute_result"
    }
   ],
   "source": [
    "(lambda x : x+15)(80)"
   ]
  },
  {
   "cell_type": "code",
   "execution_count": 110,
   "id": "68cd33c8-2df6-467d-bf0f-8ab70e59be07",
   "metadata": {},
   "outputs": [],
   "source": [
    "def func(x):\n",
    "    return x.split()"
   ]
  },
  {
   "cell_type": "code",
   "execution_count": 112,
   "id": "4f7a481a-b51f-476e-94ca-d652d3f2a955",
   "metadata": {},
   "outputs": [
    {
     "data": {
      "text/plain": [
       "['hey', 'hello']"
      ]
     },
     "execution_count": 112,
     "metadata": {},
     "output_type": "execute_result"
    }
   ],
   "source": [
    "func(\"hey hello\")"
   ]
  },
  {
   "cell_type": "code",
   "execution_count": 114,
   "id": "d32817c5-555e-4bab-b3f7-7a2a9d2f71c0",
   "metadata": {},
   "outputs": [
    {
     "data": {
      "text/plain": [
       "['hey', 'hello']"
      ]
     },
     "execution_count": 114,
     "metadata": {},
     "output_type": "execute_result"
    }
   ],
   "source": [
    "out = lambda x: x.split()\n",
    "out(\"hey hello\")"
   ]
  },
  {
   "cell_type": "code",
   "execution_count": null,
   "id": "d549cd6e-5fe0-4710-b214-e720b0107e7a",
   "metadata": {},
   "outputs": [],
   "source": []
  },
  {
   "cell_type": "code",
   "execution_count": 127,
   "id": "901dd35b-204a-4c3c-bb2a-a04715eedff5",
   "metadata": {},
   "outputs": [
    {
     "data": {
      "text/plain": [
       "20"
      ]
     },
     "execution_count": 127,
     "metadata": {},
     "output_type": "execute_result"
    }
   ],
   "source": [
    "dis = {1:lambda x: x+10}\n",
    "dis[1](10)"
   ]
  },
  {
   "cell_type": "code",
   "execution_count": 131,
   "id": "65648da4-7d3e-4edb-ae7f-1ab7a6972afb",
   "metadata": {},
   "outputs": [
    {
     "data": {
      "text/plain": [
       "['hey', 'hello']"
      ]
     },
     "execution_count": 131,
     "metadata": {},
     "output_type": "execute_result"
    }
   ],
   "source": [
    "dis = {1:lambda x : x.split()}\n",
    "dis[1](\"hey hello\")"
   ]
  },
  {
   "cell_type": "code",
   "execution_count": 133,
   "id": "7084b3ae-7609-40b1-b500-48e8f3d135d1",
   "metadata": {},
   "outputs": [
    {
     "data": {
      "text/plain": [
       "['tushar', 'goyal']"
      ]
     },
     "execution_count": 133,
     "metadata": {},
     "output_type": "execute_result"
    }
   ],
   "source": [
    "mydis={\"name\":lambda x: x.split()}\n",
    "mydis[\"name\"](\"tushar goyal\")"
   ]
  },
  {
   "cell_type": "code",
   "execution_count": 135,
   "id": "3f8e5020-231d-40d5-bd9b-d8de9f6d83fa",
   "metadata": {},
   "outputs": [],
   "source": [
    "# genrator and decoratoar"
   ]
  },
  {
   "cell_type": "code",
   "execution_count": null,
   "id": "e2de90d9-e58a-4bc8-ba1c-f1ba9e4a22ec",
   "metadata": {},
   "outputs": [],
   "source": []
  }
 ],
 "metadata": {
  "kernelspec": {
   "display_name": "Python [conda env:base] *",
   "language": "python",
   "name": "conda-base-py"
  },
  "language_info": {
   "codemirror_mode": {
    "name": "ipython",
    "version": 3
   },
   "file_extension": ".py",
   "mimetype": "text/x-python",
   "name": "python",
   "nbconvert_exporter": "python",
   "pygments_lexer": "ipython3",
   "version": "3.12.7"
  }
 },
 "nbformat": 4,
 "nbformat_minor": 5
}

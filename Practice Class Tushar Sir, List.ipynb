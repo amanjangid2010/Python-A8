{
 "cells": [
  {
   "cell_type": "code",
   "execution_count": 23,
   "id": "f39e7ded-ef52-438e-8858-98f899337296",
   "metadata": {},
   "outputs": [
    {
     "name": "stdout",
     "output_type": "stream",
     "text": [
      "1 2 3 4 \n",
      "  1 2 3 \n",
      "    1 2 \n",
      "      1 \n"
     ]
    }
   ],
   "source": [
    "for i in range(1,5):\n",
    "    x = 1\n",
    "    for j in range(1,i):\n",
    "        print(\" \",end=\" \")\n",
    "\n",
    "    for k in range(i,5):\n",
    "        print(x,end=\" \")\n",
    "        x+=1\n",
    "    print(\"\")"
   ]
  },
  {
   "cell_type": "code",
   "execution_count": 187,
   "id": "d25dd4ce-e7cf-4051-9ba9-2a4d76053d94",
   "metadata": {},
   "outputs": [
    {
     "name": "stdout",
     "output_type": "stream",
     "text": [
      "4 3 2 1 \n",
      "  3 2 1 \n",
      "    2 1 \n",
      "      1 \n"
     ]
    }
   ],
   "source": [
    "for i in range(4,0,-1):\n",
    "    for j in range(i,4):\n",
    "        print(\" \",end=\" \")\n",
    "    for k in range(i,0,-1):\n",
    "        print(k,end=\" \")\n",
    "    print(\"\")"
   ]
  },
  {
   "cell_type": "code",
   "execution_count": 121,
   "id": "da55beb6-41a3-4275-bc00-876a882452f2",
   "metadata": {},
   "outputs": [
    {
     "name": "stdout",
     "output_type": "stream",
     "text": [
      "A B C D E \n",
      "  A B C D \n",
      "    A B C \n",
      "      A B \n"
     ]
    }
   ],
   "source": [
    "for i in range(1,5):\n",
    "    x = 65\n",
    "    for j in range(1,i):\n",
    "        print(\"-\",end=\" \")\n",
    "    for k in range(i,6):\n",
    "        print(chr(x),end=\" \")\n",
    "        x+=1\n",
    "    print()"
   ]
  },
  {
   "cell_type": "code",
   "execution_count": 219,
   "id": "f879d1c2-61c2-4557-a7cc-1002be73e08d",
   "metadata": {},
   "outputs": [
    {
     "name": "stdout",
     "output_type": "stream",
     "text": [
      "7 6 5 4 \n",
      "   3   \n",
      "      \n",
      "     \n"
     ]
    }
   ],
   "source": [
    "num =7\n",
    "for i in range(1,5):\n",
    "    for j in range(1,i):\n",
    "        print(\" \",end=\"\")\n",
    "    for k in range(1,6-i):\n",
    "        if(i==1 or k==4 or i==k):\n",
    "            print(num,end=\" \")\n",
    "            num-=1\n",
    "        else:\n",
    "            print(\" \",end=\" \")\n",
    "    print(\"\")"
   ]
  },
  {
   "cell_type": "code",
   "execution_count": 223,
   "id": "1465d46a-b215-4af3-b19d-d1dff1b4d000",
   "metadata": {},
   "outputs": [
    {
     "name": "stdout",
     "output_type": "stream",
     "text": [
      "1 2 3 4 \n",
      "5   6 \n",
      "7 8 \n",
      "9 \n"
     ]
    }
   ],
   "source": [
    "num = 1\n",
    "for i in range(1,5):\n",
    "    for j in range(1,6-i):\n",
    "        if(i==1 or j==1 or i+j==5):\n",
    "            print(num,end=\" \")\n",
    "            num+=1\n",
    "        else:\n",
    "            print(\" \",end=\" \")\n",
    "    print()"
   ]
  },
  {
   "cell_type": "code",
   "execution_count": 229,
   "id": "0d001a92-ebb3-4ed1-a93e-20ec941ae2ba",
   "metadata": {},
   "outputs": [
    {
     "name": "stdout",
     "output_type": "stream",
     "text": [
      "1 \n",
      "1 0 \n",
      "1 0 1 \n",
      "1 0 1 0 \n",
      "1 0 1 0 1 \n"
     ]
    }
   ],
   "source": [
    "for i in range(1,6):\n",
    "    for j in range(1,i+1):\n",
    "        if(j%2==1):\n",
    "            print(\"1\",end=\" \")\n",
    "        else:\n",
    "            print(\"0\",end=\" \")\n",
    "    print()"
   ]
  },
  {
   "cell_type": "code",
   "execution_count": 263,
   "id": "f81532dd-94ab-43f4-bf75-23e7e3c55824",
   "metadata": {},
   "outputs": [
    {
     "name": "stdout",
     "output_type": "stream",
     "text": [
      "   * \n",
      "  * * \n",
      " * * * \n",
      "* * * * \n"
     ]
    }
   ],
   "source": [
    "for i in range(1,5):\n",
    "    for j in range(i,4):\n",
    "        print(\" \",end=\"\")\n",
    "    for k in range(1,i+1):\n",
    "        print(\"*\",end=\" \")\n",
    "    print()"
   ]
  },
  {
   "cell_type": "code",
   "execution_count": 261,
   "id": "e4be8239-7750-49ed-ba0a-b349c27cc6a3",
   "metadata": {},
   "outputs": [
    {
     "name": "stdout",
     "output_type": "stream",
     "text": [
      "* * * * * \n",
      " * * * * \n",
      "  * * * \n",
      "   * * \n",
      "    * \n"
     ]
    }
   ],
   "source": [
    "for i in range(1,6):\n",
    "    for j in range(1,i):\n",
    "        print(\" \",end=\"\")\n",
    "\n",
    "    for k in range(i,6):\n",
    "        print(\"*\",end=\" \")\n",
    "    print()"
   ]
  },
  {
   "cell_type": "code",
   "execution_count": 277,
   "id": "60193ac1-fe98-4fc9-9ca2-82e959c81166",
   "metadata": {},
   "outputs": [
    {
     "name": "stdout",
     "output_type": "stream",
     "text": [
      "    1 \n",
      "   1 2 \n",
      "  1 2 3 \n",
      " 1 2 3 4 \n",
      "1 2 3 4 5 \n"
     ]
    }
   ],
   "source": [
    "for i in range(1,6):\n",
    "    for j in range(i,5):\n",
    "        print(\" \",end=\"\")\n",
    "    for k in range(1,i+1):\n",
    "        print(k,end=\" \")\n",
    "    print()"
   ]
  },
  {
   "cell_type": "code",
   "execution_count": 283,
   "id": "0b0ebf01-bd70-433d-89bd-a4c6525c42dc",
   "metadata": {},
   "outputs": [],
   "source": [
    "# Functional approach"
   ]
  },
  {
   "cell_type": "code",
   "execution_count": 281,
   "id": "17a09ab4-1e43-41b9-aedd-9440dfc588ed",
   "metadata": {},
   "outputs": [
    {
     "name": "stdout",
     "output_type": "stream",
     "text": [
      "**** \n",
      " *** \n",
      "  ** \n",
      "   * \n",
      "     \n"
     ]
    }
   ],
   "source": [
    "for i in range(1,6):\n",
    "    for j in range(1,i):\n",
    "        print(\" \",end=\"\")\n",
    "    print(\"*\" * (5-i),end=\" \")\n",
    "    print()"
   ]
  },
  {
   "cell_type": "code",
   "execution_count": 285,
   "id": "46c18bf0-4fd8-463f-aa60-95ee2940c7a9",
   "metadata": {},
   "outputs": [],
   "source": [
    "# List\n",
    "# collction of element\n",
    "# mutuable ( Change kar skate hai) = memory address change nhi hota"
   ]
  },
  {
   "cell_type": "code",
   "execution_count": 289,
   "id": "329f7624-417b-4c28-b2ed-3157d0aa520f",
   "metadata": {},
   "outputs": [
    {
     "name": "stdout",
     "output_type": "stream",
     "text": [
      "10\n"
     ]
    }
   ],
   "source": [
    "mylist=[10,20,630]\n",
    "print(mylist[0])"
   ]
  },
  {
   "cell_type": "code",
   "execution_count": 297,
   "id": "585f0556-9d3f-46b5-951d-7cff5b8878e4",
   "metadata": {},
   "outputs": [
    {
     "name": "stdout",
     "output_type": "stream",
     "text": [
      "['yash', 100, 20, 630, 'hey', 900]\n"
     ]
    }
   ],
   "source": [
    "mylist=[10,20,630,\"hey\"]\n",
    "mylist[0]=100 # update the value\n",
    "mylist.append(900) # last main insert kare ga\n",
    "mylist.insert(0,\"yash\") # no use\n",
    "print(mylist)"
   ]
  },
  {
   "cell_type": "code",
   "execution_count": 301,
   "id": "b9b7e6d0-e46d-4dbf-b555-98ef4621be1d",
   "metadata": {},
   "outputs": [
    {
     "name": "stdout",
     "output_type": "stream",
     "text": [
      "[10, 20, 630]\n"
     ]
    }
   ],
   "source": [
    "mylist=[10,20,630,\"hey\"]\n",
    "x = mylist.pop() # last element ko delete karta hai\n",
    "# value ko return bhi karta hai\n",
    "print(mylist)"
   ]
  },
  {
   "cell_type": "code",
   "execution_count": 303,
   "id": "7e4d9064-e1de-4167-8b82-484b1e2ed617",
   "metadata": {},
   "outputs": [
    {
     "name": "stdout",
     "output_type": "stream",
     "text": [
      "hey\n"
     ]
    }
   ],
   "source": [
    "print(x)"
   ]
  },
  {
   "cell_type": "code",
   "execution_count": 307,
   "id": "cbb2a043-0193-4394-9cc3-83f6b372fd6d",
   "metadata": {},
   "outputs": [
    {
     "name": "stdout",
     "output_type": "stream",
     "text": [
      "[10, 630, 'hey']\n"
     ]
    }
   ],
   "source": [
    "mylist=[10,20,630,\"hey\"]\n",
    "mylist.remove(20) # value ko return nhi karta hai\n",
    "print(mylist)"
   ]
  },
  {
   "cell_type": "code",
   "execution_count": 309,
   "id": "de3e93e9-856a-4840-8111-49e41f31a136",
   "metadata": {},
   "outputs": [
    {
     "data": {
      "text/plain": [
       "<function list.extend(iterable, /)>"
      ]
     },
     "execution_count": 309,
     "metadata": {},
     "output_type": "execute_result"
    }
   ],
   "source": [
    "mylist=[10,20,630,\"hey\"]\n",
    "mylist.extend# iterable => ase koi bhi data jise par for loop chal skte hai\n",
    "             # iter name ka function hai jiko bhi iterable bolte hai"
   ]
  },
  {
   "cell_type": "code",
   "execution_count": 313,
   "id": "7af61122-1001-4b29-95e8-d4e256bee12c",
   "metadata": {},
   "outputs": [
    {
     "name": "stdout",
     "output_type": "stream",
     "text": [
      "[10, 20, 630, 'hey', 10, 20, 30, 'i', 's', 'h', 'a']\n"
     ]
    }
   ],
   "source": [
    "mylist=[10,20,630,\"hey\"]\n",
    "mylist.extend([10,20,30])\n",
    "mylist.extend(\"isha\") # multiple kar kar ke add honege\n",
    "print(mylist)"
   ]
  },
  {
   "cell_type": "code",
   "execution_count": 319,
   "id": "4fe96ff0-b138-48d4-a725-62d2d5d0da03",
   "metadata": {},
   "outputs": [
    {
     "name": "stdout",
     "output_type": "stream",
     "text": [
      "0 20\n",
      "1 30\n",
      "2 40\n",
      "3 50\n"
     ]
    }
   ],
   "source": [
    "mylist=[20,30,40,50]\n",
    "for i in range(0,len(mylist)):\n",
    "    print(i,mylist[i])"
   ]
  },
  {
   "cell_type": "code",
   "execution_count": 331,
   "id": "a55bbdc7-757f-459b-92b6-97406486daf6",
   "metadata": {},
   "outputs": [
    {
     "name": "stdout",
     "output_type": "stream",
     "text": [
      "41\n",
      "23\n"
     ]
    }
   ],
   "source": [
    "mylist=[20,30,40,50,41,23]\n",
    "for i in range(0,len(mylist)):\n",
    "    if(mylist[i]%2!=0):\n",
    "        print(mylist[i])"
   ]
  },
  {
   "cell_type": "code",
   "execution_count": 359,
   "id": "63669533-238c-4ad8-ad2d-5c7cb3131177",
   "metadata": {},
   "outputs": [
    {
     "name": "stdout",
     "output_type": "stream",
     "text": [
      "False\n",
      "True\n",
      "True\n",
      "True\n",
      "True\n",
      "True\n",
      "20\n"
     ]
    }
   ],
   "source": [
    "mylist=[20,30,40,50,41,23]\n",
    "max1=mylist[0]\n",
    "for i in range(0,len(mylist)):\n",
    "    print(mylist[i]>max1)\n",
    "    mylist[i] = max1\n",
    "print(max1)"
   ]
  },
  {
   "cell_type": "code",
   "execution_count": 367,
   "id": "cee27ab6-ac8e-4b3f-a0f9-5ea86ee7d3fb",
   "metadata": {},
   "outputs": [
    {
     "name": "stdout",
     "output_type": "stream",
     "text": [
      "20\n",
      "nested 20 30\n",
      "nested 20 40\n",
      "nested 20 50\n",
      "nested 20 41\n",
      "nested 20 23\n",
      "30\n",
      "nested 30 40\n",
      "nested 30 50\n",
      "nested 30 41\n",
      "nested 30 23\n",
      "40\n",
      "nested 40 50\n",
      "nested 40 41\n",
      "nested 40 23\n",
      "50\n",
      "nested 50 41\n",
      "nested 50 23\n",
      "41\n",
      "nested 41 23\n",
      "23\n"
     ]
    }
   ],
   "source": [
    "mylist=[20,30,40,50,41,23]\n",
    "for i in range(0,len(mylist)):\n",
    "    print(mylist[i])\n",
    "    for j in range(i+1,len(mylist)):\n",
    "        print(\"nested\",mylist[i], mylist[j])"
   ]
  },
  {
   "cell_type": "code",
   "execution_count": 369,
   "id": "72966168-15fd-4b3d-a042-bec2309815ca",
   "metadata": {},
   "outputs": [
    {
     "name": "stdout",
     "output_type": "stream",
     "text": [
      "88\n"
     ]
    }
   ],
   "source": [
    "maxi = 0\n",
    "mylist=[10,88,20,30]\n",
    "\n",
    "for i in range(0,len(mylist)):\n",
    "    if(mylist[i]>maxi):\n",
    "        maxi=mylist[i]\n",
    "print(maxi)"
   ]
  },
  {
   "cell_type": "code",
   "execution_count": 395,
   "id": "f1563ab6-a846-4d71-89b6-9b8650b22fc0",
   "metadata": {},
   "outputs": [
    {
     "name": "stdout",
     "output_type": "stream",
     "text": [
      "30 50\n"
     ]
    }
   ],
   "source": [
    "mylist=[20,30,40,50,41,23]\n",
    "target = 80\n",
    "total = 0\n",
    "for i in range(0,len(mylist)):\n",
    "    for j in range(i+1,len(mylist)):\n",
    "        if(mylist[i]+mylist[j]==target):\n",
    "            print(mylist[i], mylist[j])"
   ]
  },
  {
   "cell_type": "code",
   "execution_count": null,
   "id": "af3b60a6-267e-4e51-9afe-ed696a110a14",
   "metadata": {},
   "outputs": [],
   "source": []
  }
 ],
 "metadata": {
  "kernelspec": {
   "display_name": "Python [conda env:base] *",
   "language": "python",
   "name": "conda-base-py"
  },
  "language_info": {
   "codemirror_mode": {
    "name": "ipython",
    "version": 3
   },
   "file_extension": ".py",
   "mimetype": "text/x-python",
   "name": "python",
   "nbconvert_exporter": "python",
   "pygments_lexer": "ipython3",
   "version": "3.12.7"
  }
 },
 "nbformat": 4,
 "nbformat_minor": 5
}

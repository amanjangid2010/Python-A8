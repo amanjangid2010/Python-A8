{
 "cells": [
  {
   "cell_type": "code",
   "execution_count": 2,
   "id": "a8d2fee7-429f-47d6-a8ed-526205415dae",
   "metadata": {},
   "outputs": [],
   "source": [
    "# dictionary?\n",
    "# key and value\n",
    "# key: unique, value\n",
    "# mutuable"
   ]
  },
  {
   "cell_type": "code",
   "execution_count": 6,
   "id": "dc6c505d-7905-4dc0-ba93-89349142809a",
   "metadata": {},
   "outputs": [
    {
     "data": {
      "text/plain": [
       "{'userid': 19, 'name': 'aman'}"
      ]
     },
     "execution_count": 6,
     "metadata": {},
     "output_type": "execute_result"
    }
   ],
   "source": [
    "mydic= {\"userid\":10, \"name\":\"aman\"}\n",
    "mydic[\"userid\"]=19\n",
    "mydic"
   ]
  },
  {
   "cell_type": "code",
   "execution_count": 8,
   "id": "c83bfeb3-ea3d-4ff3-8cf9-a386b2800a34",
   "metadata": {},
   "outputs": [
    {
     "name": "stdout",
     "output_type": "stream",
     "text": [
      "{'userid': 10, 'name': 'aman', 'salary': 999}\n"
     ]
    }
   ],
   "source": [
    "mydic= {\"userid\":10, \"name\":\"aman\"}\n",
    "mydic[\"salary\"]=999\n",
    "print(mydic)"
   ]
  },
  {
   "cell_type": "code",
   "execution_count": 10,
   "id": "57a92b54-9148-4b4d-a6c6-fd56bec78b8d",
   "metadata": {},
   "outputs": [
    {
     "name": "stdout",
     "output_type": "stream",
     "text": [
      "{'userid': 200, 'name': 'aman', 'salary': 999, 8888: 'isha'}\n"
     ]
    }
   ],
   "source": [
    "mydic= {\"userid\":10, \"name\":\"aman\",\"salary\":999}\n",
    "mydic.update({\"userid\":200, 8888:\"isha\"})\n",
    "print(mydic)"
   ]
  },
  {
   "cell_type": "code",
   "execution_count": 12,
   "id": "71b8466f-434f-4744-8b26-76435c67cd14",
   "metadata": {},
   "outputs": [
    {
     "data": {
      "text/plain": [
       "dict_keys(['userid', 'name', 'salary'])"
      ]
     },
     "execution_count": 12,
     "metadata": {},
     "output_type": "execute_result"
    }
   ],
   "source": [
    "mydic= {\"userid\":10, \"name\":\"aman\",\"salary\":999}\n",
    "mydic.keys()"
   ]
  },
  {
   "cell_type": "code",
   "execution_count": 14,
   "id": "08940ee9-28bd-4c57-96e9-50a8e8fb4667",
   "metadata": {},
   "outputs": [
    {
     "data": {
      "text/plain": [
       "dict_values([10, 'aman', 999])"
      ]
     },
     "execution_count": 14,
     "metadata": {},
     "output_type": "execute_result"
    }
   ],
   "source": [
    "mydic= {\"userid\":10, \"name\":\"aman\",\"salary\":999}\n",
    "mydic.values()"
   ]
  },
  {
   "cell_type": "code",
   "execution_count": 16,
   "id": "9023b11e-0609-41c6-8caa-30829c651ef9",
   "metadata": {},
   "outputs": [
    {
     "data": {
      "text/plain": [
       "dict_items([('userid', 10), ('name', 'aman'), ('salary', 999)])"
      ]
     },
     "execution_count": 16,
     "metadata": {},
     "output_type": "execute_result"
    }
   ],
   "source": [
    "mydic= {\"userid\":10, \"name\":\"aman\",\"salary\":999}\n",
    "mydic.items() # items method list of tuple value return karta hai"
   ]
  },
  {
   "cell_type": "code",
   "execution_count": 18,
   "id": "53014f83-9039-4a09-a645-9b6441954136",
   "metadata": {},
   "outputs": [],
   "source": [
    "# {1:1, 2:1, 3:1.........100:1}"
   ]
  },
  {
   "cell_type": "code",
   "execution_count": 28,
   "id": "5a42c0bd-acd5-49c0-88b6-a36f415e7444",
   "metadata": {},
   "outputs": [
    {
     "name": "stdout",
     "output_type": "stream",
     "text": [
      "{1: 1, 2: 1, 3: 1, 4: 1, 5: 1, 6: 1, 7: 1, 8: 1, 9: 1, 10: 1, 11: 1, 12: 1, 13: 1, 14: 1, 15: 1, 16: 1, 17: 1, 18: 1, 19: 1, 20: 1, 21: 1, 22: 1, 23: 1, 24: 1, 25: 1, 26: 1, 27: 1, 28: 1, 29: 1, 30: 1, 31: 1, 32: 1, 33: 1, 34: 1, 35: 1, 36: 1, 37: 1, 38: 1, 39: 1, 40: 1, 41: 1, 42: 1, 43: 1, 44: 1, 45: 1, 46: 1, 47: 1, 48: 1, 49: 1, 50: 1}\n"
     ]
    }
   ],
   "source": [
    "mydic = {}\n",
    "for i in range(1,51):\n",
    "    mydic[i]=1\n",
    "\n",
    "print(mydic)"
   ]
  },
  {
   "cell_type": "code",
   "execution_count": 32,
   "id": "9683e40a-d3f9-4e89-af33-e798b0f1232d",
   "metadata": {},
   "outputs": [
    {
     "name": "stdout",
     "output_type": "stream",
     "text": [
      "{3: 100, 1: 1, 2: 1, 4: 1}\n"
     ]
    }
   ],
   "source": [
    "mydic = {3:100}\n",
    "for i in range(1,5):\n",
    "    if i not in mydic:\n",
    "        mydic[i]=1\n",
    "\n",
    "print(mydic)"
   ]
  },
  {
   "cell_type": "code",
   "execution_count": 36,
   "id": "7e58627a-d1fa-4baf-814c-c5993cb523e8",
   "metadata": {},
   "outputs": [
    {
     "name": "stdout",
     "output_type": "stream",
     "text": [
      "{'salary': 105}\n"
     ]
    }
   ],
   "source": [
    "mydic = {\"salary\":100}\n",
    "mydic[\"salary\"] = mydic[\"salary\"]+5\n",
    "print(mydic)"
   ]
  },
  {
   "cell_type": "code",
   "execution_count": 42,
   "id": "2b35bbfd-ccb0-4bb5-b198-37734ea2afb0",
   "metadata": {},
   "outputs": [
    {
     "name": "stdout",
     "output_type": "stream",
     "text": [
      "{'count': 9}\n"
     ]
    }
   ],
   "source": [
    "mydic = {\"count\":0}\n",
    "for i in range(1,10):\n",
    "    mydic[\"count\"]=mydic[\"count\"]+1\n",
    "print(mydic)"
   ]
  },
  {
   "cell_type": "code",
   "execution_count": 44,
   "id": "6c7918bd-41d8-420b-9645-7328debc8c51",
   "metadata": {},
   "outputs": [],
   "source": [
    "s = \"tushar\"\n",
    "#{\"t\":1,\"u\":1...\"r\":1}"
   ]
  },
  {
   "cell_type": "code",
   "execution_count": 52,
   "id": "96eb05f7-6a07-45aa-b795-de60b2149a56",
   "metadata": {},
   "outputs": [
    {
     "name": "stdout",
     "output_type": "stream",
     "text": [
      "{'t': 1, 'u': 1, 's': 1, 'h': 1, 'a': 1, 'r': 1}\n"
     ]
    }
   ],
   "source": [
    "\n",
    "mydic={}\n",
    "for i in \"tushar\":\n",
    "    mydic[i]=1\n",
    "\n",
    "print(mydic)"
   ]
  },
  {
   "cell_type": "code",
   "execution_count": 54,
   "id": "8c41f825-88cd-4a23-a89b-e6d45c391800",
   "metadata": {},
   "outputs": [
    {
     "name": "stdout",
     "output_type": "stream",
     "text": [
      "{'t': 1, 'u': 1, 's': 1, 'h': 1, 'a': 1, 'r': 1}\n"
     ]
    }
   ],
   "source": [
    "a = \"tushar\"\n",
    "mydic={}\n",
    "for i in s:\n",
    "    mydic[i]=1\n",
    "\n",
    "print(mydic)"
   ]
  },
  {
   "cell_type": "code",
   "execution_count": 60,
   "id": "b7900a44-9660-4d8e-b253-ab6910be5d44",
   "metadata": {},
   "outputs": [
    {
     "name": "stdout",
     "output_type": "stream",
     "text": [
      "{'h': 6, 't': 1, 'u': 1, 's': 1, 'a': 1, 'r': 1}\n"
     ]
    }
   ],
   "source": [
    "s = \"tushar\"\n",
    "mydic={\"h\":5}\n",
    "for i in range(0, len(s)):\n",
    "    if(s[i] not in mydic):\n",
    "        mydic[s[i]]=1\n",
    "\n",
    "    else:\n",
    "        mydic[s[i]]=mydic[s[i]]+1\n",
    "print(mydic)"
   ]
  },
  {
   "cell_type": "code",
   "execution_count": 80,
   "id": "acf2bca6-185d-4787-92c1-02a11db1a522",
   "metadata": {},
   "outputs": [
    {
     "name": "stdout",
     "output_type": "stream",
     "text": [
      "{'h': 6, 't': 1, 'u': 1, 's': 1, 'a': 1, 'r': 1}\n"
     ]
    }
   ],
   "source": [
    "s = \"tushar\"\n",
    "mydic={\"h\":5}\n",
    "for i in s:\n",
    "    if (i not in mydic):\n",
    "        mydic[i]=1\n",
    "\n",
    "    else:\n",
    "        mydic[i]=mydic[i]+1\n",
    "print(mydic)"
   ]
  },
  {
   "cell_type": "code",
   "execution_count": 82,
   "id": "1a067e5d-56cf-4613-b04c-6c7920fb0d67",
   "metadata": {},
   "outputs": [
    {
     "data": {
      "text/plain": [
       "'hey hello tushar hey'"
      ]
     },
     "execution_count": 82,
     "metadata": {},
     "output_type": "execute_result"
    }
   ],
   "source": [
    "\"hey hello tushar hey\""
   ]
  },
  {
   "cell_type": "code",
   "execution_count": 98,
   "id": "72197e2d-f9b0-46fc-98aa-d13a0a2cc72b",
   "metadata": {},
   "outputs": [
    {
     "name": "stdout",
     "output_type": "stream",
     "text": [
      "{'hey': 2, 'hello': 1, 'tushar': 1}\n"
     ]
    }
   ],
   "source": [
    "s=\"hey hello tushar hey\"\n",
    "mydis={}\n",
    "\n",
    "for word in s.split(\" \"):\n",
    "    if word not in mydis:\n",
    "        mydis[word]=1\n",
    "    else:\n",
    "        mydis[word]=mydis[word]+1\n",
    "print(mydis)"
   ]
  },
  {
   "cell_type": "code",
   "execution_count": 102,
   "id": "ad280e68-e6eb-476c-bb80-32de20d26a36",
   "metadata": {},
   "outputs": [
    {
     "name": "stdout",
     "output_type": "stream",
     "text": [
      "hey 2\n",
      "hello 1\n",
      "tushar 1\n"
     ]
    }
   ],
   "source": [
    "mydic = {'hey': 2, 'hello': 1, 'tushar': 1}\n",
    "for i in mydic:\n",
    "    print(i, mydic[i])"
   ]
  },
  {
   "cell_type": "code",
   "execution_count": 104,
   "id": "a6bec5cb-6114-4cce-8567-f07ed8ebd7f9",
   "metadata": {},
   "outputs": [
    {
     "name": "stdout",
     "output_type": "stream",
     "text": [
      "hey 2\n",
      "hello 1\n",
      "tushar 1\n"
     ]
    }
   ],
   "source": [
    "mydic = {'hey': 2, 'hello': 1, 'tushar': 1}\n",
    "for i in mydic.keys():\n",
    "    print(i, mydic[i])"
   ]
  },
  {
   "cell_type": "code",
   "execution_count": 110,
   "id": "7a216cc9-2130-4907-9018-977745bb7e97",
   "metadata": {},
   "outputs": [
    {
     "name": "stdout",
     "output_type": "stream",
     "text": [
      "2\n",
      "1\n",
      "1\n"
     ]
    }
   ],
   "source": [
    "mydic = {'hey': 2, 'hello': 1, 'tushar': 1}\n",
    "for i in mydic.values():\n",
    "    print(i)"
   ]
  },
  {
   "cell_type": "code",
   "execution_count": 122,
   "id": "5779fd28-2039-4ba0-8c28-d2fc06f8d5ee",
   "metadata": {},
   "outputs": [
    {
     "name": "stdout",
     "output_type": "stream",
     "text": [
      "('hey', 2) <class 'tuple'> 2\n",
      "('hello', 1) <class 'tuple'> 1\n",
      "('tushar', 10) <class 'tuple'> 10\n"
     ]
    }
   ],
   "source": [
    "mydic = {'hey': 2, 'hello': 1, 'tushar': 10}\n",
    "for i in mydic.items():\n",
    "    print(i, type(i), i[1])"
   ]
  },
  {
   "cell_type": "code",
   "execution_count": 124,
   "id": "964b8918-4061-44f4-afc3-9751a90da41b",
   "metadata": {},
   "outputs": [],
   "source": [
    "# ek list hai \n",
    "#mylist= [10,20,30,10,10,20]\n",
    "#kitne time aaya "
   ]
  },
  {
   "cell_type": "code",
   "execution_count": 150,
   "id": "adb270db-55d0-417f-8b60-9683ae320ec8",
   "metadata": {},
   "outputs": [
    {
     "name": "stdout",
     "output_type": "stream",
     "text": [
      "{10: 3, 20: 2, 30: 1}\n"
     ]
    }
   ],
   "source": [
    "mylist = [10,20,30,10,10,20]\n",
    "dic={}\n",
    "for i in mylist:\n",
    "    if i not in dic:\n",
    "        dic[i]=1\n",
    "    else:\n",
    "        dic[i]+=1\n",
    "print(dic)"
   ]
  },
  {
   "cell_type": "code",
   "execution_count": 132,
   "id": "dcd86d26-955d-4cd6-af06-e72450cb5b93",
   "metadata": {},
   "outputs": [
    {
     "name": "stdout",
     "output_type": "stream",
     "text": [
      "{'h': 6, 't': 1, 'u': 1, 's': 1, 'a': 1, 'r': 1}\n"
     ]
    }
   ],
   "source": [
    "s = \"tushar\"\n",
    "mydic={\"h\":5}\n",
    "for i in range(0, len(s)):\n",
    "    if(s[i] not in mydic):\n",
    "        mydic[s[i]]=1\n",
    "\n",
    "    else:\n",
    "        mydic[s[i]]=mydic[s[i]]+1\n",
    "print(mydic)"
   ]
  },
  {
   "cell_type": "code",
   "execution_count": 142,
   "id": "76e60dd0-9cd8-4845-bde0-54910c7e5d2b",
   "metadata": {},
   "outputs": [],
   "source": [
    "# set \n",
    "# {}\n",
    "# Unique values is store\n",
    "# set contain only immutable element\n",
    "# set khud mutable hota hai\n",
    "# no index position\n",
    "# koi do set hai pura deta ko combined karna hai unique value rhkhin hai to set use karte hai"
   ]
  },
  {
   "cell_type": "code",
   "execution_count": 152,
   "id": "f736f30b-e3d3-414f-8799-28154727ed24",
   "metadata": {},
   "outputs": [
    {
     "name": "stdout",
     "output_type": "stream",
     "text": [
      "{3, 5, 42, 78, 20, 58, 'hey'}\n"
     ]
    }
   ],
   "source": [
    "myset = {1,2,3,42,2,2,2}\n",
    "myset.add(\"hey\")\n",
    "myset.remove(2) # remove error deta hai agar element nhi hai to\n",
    "myset.discard(1) # ye error nhi deta ager element nhi ho to bhi\n",
    "myset.pop # ye koi bhi random data ko delete kar dega\n",
    "myset.update([20,5,78,58]) # update => iterable\n",
    "print(myset)"
   ]
  },
  {
   "cell_type": "code",
   "execution_count": 154,
   "id": "97f57809-969e-4bc8-b3fd-3e59e45ec075",
   "metadata": {},
   "outputs": [
    {
     "data": {
      "text/plain": [
       "{10, 20, 30, 40, 50}"
      ]
     },
     "execution_count": 154,
     "metadata": {},
     "output_type": "execute_result"
    }
   ],
   "source": [
    "myset={10,20,30}\n",
    "myset2={30,40,50}\n",
    "myset.union(myset2)"
   ]
  },
  {
   "cell_type": "code",
   "execution_count": 156,
   "id": "5aa53906-ed65-4be4-9a88-a557b3bc632c",
   "metadata": {},
   "outputs": [
    {
     "data": {
      "text/plain": [
       "{30}"
      ]
     },
     "execution_count": 156,
     "metadata": {},
     "output_type": "execute_result"
    }
   ],
   "source": [
    "myset.intersection(myset2)"
   ]
  },
  {
   "cell_type": "code",
   "execution_count": 160,
   "id": "bb76ef81-ab97-42b3-9081-fe12fea7442d",
   "metadata": {},
   "outputs": [],
   "source": [
    "# myset. difference\n",
    "# intersection\n",
    "# intersection.update\n",
    "# issubset\n",
    "# symmetric_difference"
   ]
  },
  {
   "cell_type": "code",
   "execution_count": 162,
   "id": "06a68f57-8e92-4a43-8542-8e05e1ae8c8a",
   "metadata": {},
   "outputs": [],
   "source": [
    "# list compriacison\n",
    "# dicionary \n",
    "# set compriaciosn"
   ]
  },
  {
   "cell_type": "code",
   "execution_count": null,
   "id": "45f88547-2a9e-43de-a71c-065206fd4c19",
   "metadata": {},
   "outputs": [],
   "source": []
  }
 ],
 "metadata": {
  "kernelspec": {
   "display_name": "Python [conda env:base] *",
   "language": "python",
   "name": "conda-base-py"
  },
  "language_info": {
   "codemirror_mode": {
    "name": "ipython",
    "version": 3
   },
   "file_extension": ".py",
   "mimetype": "text/x-python",
   "name": "python",
   "nbconvert_exporter": "python",
   "pygments_lexer": "ipython3",
   "version": "3.12.7"
  }
 },
 "nbformat": 4,
 "nbformat_minor": 5
}

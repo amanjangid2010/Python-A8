{
 "cells": [
  {
   "cell_type": "code",
   "execution_count": 2,
   "id": "07a9d57b-204c-44ce-9378-469cd34c20a4",
   "metadata": {},
   "outputs": [],
   "source": [
    "# dictionayt\n",
    "# list\n",
    "# set\n"
   ]
  },
  {
   "cell_type": "code",
   "execution_count": 4,
   "id": "3ef6b3c6-a65f-4c24-bfa3-fe47de28aa02",
   "metadata": {},
   "outputs": [
    {
     "name": "stdout",
     "output_type": "stream",
     "text": [
      "10\n",
      "20\n"
     ]
    }
   ],
   "source": [
    "myvalue={10:\"tushar\", 20:\"aman\"}\n",
    "\n",
    "for i in myvalue:\n",
    "    print(i)"
   ]
  },
  {
   "cell_type": "code",
   "execution_count": 14,
   "id": "0ee7937b-4e5f-4f0c-a6a0-e0d2a9ce65ac",
   "metadata": {},
   "outputs": [
    {
     "data": {
      "text/plain": [
       "dict_keys([10, 20])"
      ]
     },
     "execution_count": 14,
     "metadata": {},
     "output_type": "execute_result"
    }
   ],
   "source": [
    "myvalue.keys()"
   ]
  },
  {
   "cell_type": "code",
   "execution_count": 12,
   "id": "783d122f-063b-48eb-9163-366389148a5a",
   "metadata": {},
   "outputs": [
    {
     "name": "stdout",
     "output_type": "stream",
     "text": [
      "10\n",
      "20\n"
     ]
    }
   ],
   "source": [
    "for i in myvalue.keys():\n",
    "    print(i)"
   ]
  },
  {
   "cell_type": "code",
   "execution_count": 16,
   "id": "df090bb8-add6-43d9-82aa-ba2972c1999a",
   "metadata": {},
   "outputs": [
    {
     "name": "stdout",
     "output_type": "stream",
     "text": [
      "tushar\n",
      "aman\n"
     ]
    }
   ],
   "source": [
    "for i in myvalue.values():\n",
    "    print(i)"
   ]
  },
  {
   "cell_type": "code",
   "execution_count": 18,
   "id": "e5c02ac3-15d6-42eb-a433-6825de8c7050",
   "metadata": {},
   "outputs": [
    {
     "data": {
      "text/plain": [
       "dict_items([(10, 'tushar'), (20, 'aman')])"
      ]
     },
     "execution_count": 18,
     "metadata": {},
     "output_type": "execute_result"
    }
   ],
   "source": [
    "myvalue.items()"
   ]
  },
  {
   "cell_type": "code",
   "execution_count": 20,
   "id": "cc62cec7-db41-463c-89ca-3743d183616d",
   "metadata": {},
   "outputs": [
    {
     "name": "stdout",
     "output_type": "stream",
     "text": [
      "40\n",
      "10\n",
      "20\n",
      "a\n",
      "30\n"
     ]
    }
   ],
   "source": [
    "for x in {10,20,30,\"a\",40}:\n",
    "    print(x)"
   ]
  },
  {
   "cell_type": "code",
   "execution_count": 22,
   "id": "38304a5f-dc65-413a-ae37-7e248c61f414",
   "metadata": {},
   "outputs": [],
   "source": [
    "# max , min, second max, 2 value=> target"
   ]
  },
  {
   "cell_type": "code",
   "execution_count": 24,
   "id": "a2c69e03-8eb7-4283-b34e-08d8178bf2b2",
   "metadata": {},
   "outputs": [],
   "source": [
    "# valid paranthesis"
   ]
  },
  {
   "cell_type": "code",
   "execution_count": 26,
   "id": "d9477c62-5310-477f-a3a7-0a7012bf57f5",
   "metadata": {},
   "outputs": [
    {
     "name": "stdout",
     "output_type": "stream",
     "text": [
      "(\n",
      ")\n"
     ]
    }
   ],
   "source": [
    "data=\"()\"\n",
    "for char in data:\n",
    "    print(char)"
   ]
  },
  {
   "cell_type": "code",
   "execution_count": 28,
   "id": "534a3e4d-ab61-4dcb-b69b-d1fc40d748c6",
   "metadata": {},
   "outputs": [
    {
     "name": "stdout",
     "output_type": "stream",
     "text": [
      "(\n"
     ]
    }
   ],
   "source": [
    "data=\"()\"\n",
    "for char in data:\n",
    "    if char==\"(\":\n",
    "        print(char)"
   ]
  },
  {
   "cell_type": "code",
   "execution_count": 30,
   "id": "125656e5-bada-4611-b97d-a99c28483bfd",
   "metadata": {},
   "outputs": [
    {
     "name": "stdout",
     "output_type": "stream",
     "text": [
      "['(']\n"
     ]
    }
   ],
   "source": [
    "data=\"()\"\n",
    "mylist=[]\n",
    "for char in data:\n",
    "    if char==\"(\":\n",
    "        mylist.append(char)\n",
    "print(mylist)"
   ]
  },
  {
   "cell_type": "code",
   "execution_count": 38,
   "id": "8dfbf4a2-73f1-44e0-b9c8-c14f79f166f5",
   "metadata": {},
   "outputs": [
    {
     "name": "stdout",
     "output_type": "stream",
     "text": [
      "['{', '(']\n"
     ]
    }
   ],
   "source": [
    "data=\"{()}\"\n",
    "mylist=[]\n",
    "for char in data:\n",
    "    if char==\"(\" or char==\"{\":\n",
    "        mylist.append(char)\n",
    "print(mylist)"
   ]
  },
  {
   "cell_type": "code",
   "execution_count": 52,
   "id": "30e4ea48-ecb9-43a1-924f-5c804ed10149",
   "metadata": {},
   "outputs": [
    {
     "name": "stdout",
     "output_type": "stream",
     "text": [
      "invalid string\n",
      "['(']\n"
     ]
    }
   ],
   "source": [
    "data=\"(}\"\n",
    "mylist=[]\n",
    "for char in data:\n",
    "    if char==\"(\" or char==\"{\":\n",
    "        mylist.append(char)\n",
    "    else:\n",
    "        if char==\")\" and \"(\"==mylist[-1]:\n",
    "            print(\"Valid string\")\n",
    "\n",
    "        elif char==\"}\" and \"{\"==mylist[-1]:\n",
    "            print(\"valid String\")\n",
    "        else:\n",
    "            print(\"invalid string\")\n",
    "\n",
    "print(mylist)"
   ]
  },
  {
   "cell_type": "code",
   "execution_count": 58,
   "id": "493d7509-8a08-4bd7-9f27-562a7fc8f26c",
   "metadata": {},
   "outputs": [
    {
     "name": "stdout",
     "output_type": "stream",
     "text": [
      "Valid string\n",
      "valid String\n",
      "[]\n"
     ]
    }
   ],
   "source": [
    "data=\"{()}\"\n",
    "mylist=[]\n",
    "for char in data:\n",
    "    if char==\"(\" or char==\"{\":\n",
    "        mylist.append(char)\n",
    "    else:\n",
    "        if char==\")\" and \"(\"==mylist.pop():\n",
    "            print(\"Valid string\")\n",
    "\n",
    "        elif char==\"}\" and \"{\"==mylist.pop():\n",
    "            print(\"valid String\")\n",
    "        else:\n",
    "            print(\"invalid string\")\n",
    "\n",
    "print(mylist)"
   ]
  },
  {
   "cell_type": "code",
   "execution_count": 62,
   "id": "326cf939-ff51-426f-b011-8122dd207e3b",
   "metadata": {},
   "outputs": [
    {
     "name": "stdout",
     "output_type": "stream",
     "text": [
      "Valid string\n"
     ]
    }
   ],
   "source": [
    "data=\"{()}\"\n",
    "mylist=[]\n",
    "x=False\n",
    "for char in data:\n",
    "    if char==\"(\" or char==\"{\":\n",
    "        mylist.append(char)\n",
    "    else:\n",
    "        if char==\")\" and \"(\"==mylist.pop():\n",
    "            x=True\n",
    "\n",
    "        elif char==\"}\" and \"{\"==mylist.pop():\n",
    "            x=True\n",
    "        else:\n",
    "            x=False\n",
    "\n",
    "if(x==True):\n",
    "    print(\"Valid string\")\n",
    "else:\n",
    "    print(\"Invalid string\")"
   ]
  },
  {
   "cell_type": "code",
   "execution_count": 74,
   "id": "48ddd4ec-888f-432f-a2c2-2c8e0f66f609",
   "metadata": {},
   "outputs": [
    {
     "name": "stdout",
     "output_type": "stream",
     "text": [
      "Invalid string\n"
     ]
    }
   ],
   "source": [
    "data=\"}\"\n",
    "mylist=[]\n",
    "x=False\n",
    "for char in data:\n",
    "    if char==\"(\" or char==\"{\":\n",
    "        mylist.append(char)\n",
    "        \n",
    "    elif(len(mylist)>0):\n",
    "        if char==\")\" and \"(\"==mylist.pop():\n",
    "            x=True\n",
    "\n",
    "        elif char==\"}\" and \"{\"==mylist.pop():\n",
    "            x=True\n",
    "        else:\n",
    "            x=False\n",
    "\n",
    "if(x==True):\n",
    "    print(\"Valid string\")\n",
    "else:\n",
    "    print(\"Invalid string\")"
   ]
  },
  {
   "cell_type": "code",
   "execution_count": 76,
   "id": "999ab658-e08b-4b63-bf30-4ed95fffa843",
   "metadata": {},
   "outputs": [],
   "source": [
    "# pascal triangle"
   ]
  },
  {
   "cell_type": "code",
   "execution_count": 90,
   "id": "9a0c7edb-5ffc-472c-be9e-5d875a4cb42c",
   "metadata": {},
   "outputs": [
    {
     "name": "stdout",
     "output_type": "stream",
     "text": [
      "    * \n",
      "   * * \n",
      "  * * * \n",
      " * * * * \n",
      "* * * * * \n"
     ]
    }
   ],
   "source": [
    "for i in range(1,6):\n",
    "    for j in range(i,5):\n",
    "        print(\"\",end=\" \")\n",
    "    for k in range(1,i+1):\n",
    "        print(\"*\",end=\" \")\n",
    "    print()"
   ]
  },
  {
   "cell_type": "code",
   "execution_count": 118,
   "id": "744bf007-084c-4d80-ba99-548e85b6eed2",
   "metadata": {},
   "outputs": [
    {
     "name": "stdout",
     "output_type": "stream",
     "text": [
      "    1 \n",
      "   1 1 \n",
      "  1 * 1 \n",
      " 1 * * 1 \n",
      "1 * * * 1 \n"
     ]
    }
   ],
   "source": [
    "for i in range(1,6):\n",
    "    for j in range(i,5):\n",
    "        print(\"\",end=\" \")\n",
    "    for k in range(1,i+1):\n",
    "        if(k==1 or k==i):\n",
    "            print(\"1\",end=\" \")\n",
    "        else:\n",
    "            print(\"*\",end=\" \")\n",
    "    print()"
   ]
  },
  {
   "cell_type": "code",
   "execution_count": 124,
   "id": "b90f4702-3e32-43f5-ad61-aaada786986a",
   "metadata": {},
   "outputs": [
    {
     "name": "stdout",
     "output_type": "stream",
     "text": [
      "    [1]\n",
      "\n",
      "   [1, 1]\n",
      "\n",
      "  [1, '*', 1]\n",
      "\n",
      " [1, '*', '*', 1]\n",
      "\n",
      "[1, '*', '*', '*', 1]\n",
      "\n"
     ]
    }
   ],
   "source": [
    "for i in range(1,6):\n",
    "    temp=[]\n",
    "    for j in range(i,5):\n",
    "        print(\"\",end=\" \")\n",
    "    for k in range(1,i+1):\n",
    "        if(k==1 or k==i):\n",
    "            temp.append(1)\n",
    "        else:\n",
    "            temp.append(\"*\")\n",
    "    print(temp)\n",
    "    print()\n",
    "    "
   ]
  },
  {
   "cell_type": "code",
   "execution_count": 128,
   "id": "8d8455e3-2e99-4609-a857-d58f1493b182",
   "metadata": {},
   "outputs": [
    {
     "name": "stdout",
     "output_type": "stream",
     "text": [
      "    [1]\n",
      "\n",
      "   [1, 1]\n",
      "\n",
      "  [1, '*', 1]\n",
      "\n",
      " [1, '*', '*', 1]\n",
      "\n",
      "[1, '*', '*', '*', 1]\n",
      "\n",
      "[[1], [1, 1], [1, '*', 1], [1, '*', '*', 1], [1, '*', '*', '*', 1]]\n"
     ]
    }
   ],
   "source": [
    "mylist=[]\n",
    "for i in range(1,6):\n",
    "    temp=[]\n",
    "    for j in range(i,5):\n",
    "        print(\"\",end=\" \")\n",
    "    for k in range(1,i+1):\n",
    "        if(k==1 or k==i):\n",
    "            temp.append(1)\n",
    "        else:\n",
    "            temp.append(\"*\")\n",
    "    print(temp)\n",
    "    mylist.append(temp)\n",
    "    print()\n",
    "print(mylist)"
   ]
  },
  {
   "cell_type": "code",
   "execution_count": 134,
   "id": "22610fea-38e8-436a-94c3-aec23a10e5aa",
   "metadata": {},
   "outputs": [
    {
     "name": "stdout",
     "output_type": "stream",
     "text": [
      "    [1]\n",
      "\n",
      "   [1, 1]\n",
      "\n",
      "  [1, 2, 1]\n",
      "\n",
      " [1, 3, 3, 1]\n",
      "\n",
      "[1, 4, 6, 4, 1]\n",
      "\n",
      "[[1], [1, 1], [1, 2, 1], [1, 3, 3, 1], [1, 4, 6, 4, 1]]\n"
     ]
    }
   ],
   "source": [
    "mylist=[]\n",
    "for i in range(0,5):\n",
    "    temp=[]\n",
    "    for j in range(i,4):\n",
    "        print(\"\",end=\" \")\n",
    "    for k in range(0,i+1):\n",
    "        if(k==0 or k==i):\n",
    "            temp.append(1)\n",
    "        else:\n",
    "            val=mylist[i-1][k] + mylist[i-1][k-1]\n",
    "            temp.append(val)\n",
    "    print(temp)\n",
    "    mylist.append(temp)\n",
    "    print()\n",
    "print(mylist)"
   ]
  },
  {
   "cell_type": "code",
   "execution_count": null,
   "id": "66c704bf-7a64-46f2-82d1-5ccc812b27be",
   "metadata": {},
   "outputs": [],
   "source": [
    "# number to roman leetcode\n",
    "# integer to roman"
   ]
  }
 ],
 "metadata": {
  "kernelspec": {
   "display_name": "Python [conda env:base] *",
   "language": "python",
   "name": "conda-base-py"
  },
  "language_info": {
   "codemirror_mode": {
    "name": "ipython",
    "version": 3
   },
   "file_extension": ".py",
   "mimetype": "text/x-python",
   "name": "python",
   "nbconvert_exporter": "python",
   "pygments_lexer": "ipython3",
   "version": "3.12.7"
  }
 },
 "nbformat": 4,
 "nbformat_minor": 5
}

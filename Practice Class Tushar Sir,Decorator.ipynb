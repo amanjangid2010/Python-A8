{
 "cells": [
  {
   "cell_type": "markdown",
   "id": "079e3167-c1f5-4b8c-a1b0-616ba79943f3",
   "metadata": {},
   "source": [
    "# Decorator"
   ]
  },
  {
   "cell_type": "code",
   "execution_count": 4,
   "id": "a6d43f08-cf97-4ca5-9e29-8a6ac4bbd165",
   "metadata": {},
   "outputs": [],
   "source": [
    "# Design pattern => function working ko change without any changes in the exact code"
   ]
  },
  {
   "cell_type": "code",
   "execution_count": 22,
   "id": "f718e80e-a326-46af-8b04-625d8460ca3c",
   "metadata": {},
   "outputs": [],
   "source": [
    "class ABC:\n",
    "    def info(self):\n",
    "        print(\"This is info function\")"
   ]
  },
  {
   "cell_type": "code",
   "execution_count": 24,
   "id": "7ec8150e-6e90-4ed9-84bd-f092968f6a98",
   "metadata": {},
   "outputs": [
    {
     "name": "stdout",
     "output_type": "stream",
     "text": [
      "This is info function\n"
     ]
    }
   ],
   "source": [
    "a1 = ABC()\n",
    "a1.info()"
   ]
  },
  {
   "cell_type": "code",
   "execution_count": 26,
   "id": "b93f4606-43c3-402b-a9f1-c24e7f57f017",
   "metadata": {},
   "outputs": [],
   "source": [
    "class ABC:\n",
    "\n",
    "    @property\n",
    "    def info(self):\n",
    "        print(\"This is info function\")"
   ]
  },
  {
   "cell_type": "code",
   "execution_count": 30,
   "id": "3cec2939-795a-4859-b971-15abdffb0752",
   "metadata": {},
   "outputs": [
    {
     "name": "stdout",
     "output_type": "stream",
     "text": [
      "This is info function\n"
     ]
    }
   ],
   "source": [
    "a1=ABC()\n",
    "a1.info"
   ]
  },
  {
   "cell_type": "code",
   "execution_count": 54,
   "id": "15bb535a-5135-461d-8f2c-3f72151c0930",
   "metadata": {},
   "outputs": [],
   "source": [
    "class ABC:\n",
    "    company = \"regex\"\n",
    "    @property\n",
    "    def info(self):\n",
    "        print(\"This is info function\")\n",
    "\n",
    "    @staticmethod\n",
    "    def adding(x,y): # agr kese bhi function ke starting main self de diya instance method\n",
    "        print(x+y, ABC.company)     # instance method wo aap ke instance variable ko access kar skte hai"
   ]
  },
  {
   "cell_type": "code",
   "execution_count": 56,
   "id": "bfd04c87-8bcb-447d-a72d-475527b0fefc",
   "metadata": {},
   "outputs": [
    {
     "name": "stdout",
     "output_type": "stream",
     "text": [
      "This is info function\n"
     ]
    }
   ],
   "source": [
    "a1=ABC()\n",
    "a1.info"
   ]
  },
  {
   "cell_type": "code",
   "execution_count": 58,
   "id": "0bccd10a-ce3c-40f9-88a2-c53f0743145a",
   "metadata": {},
   "outputs": [
    {
     "name": "stdout",
     "output_type": "stream",
     "text": [
      "30 regex\n"
     ]
    }
   ],
   "source": [
    "a1.adding(10,20) # static method"
   ]
  },
  {
   "cell_type": "code",
   "execution_count": 60,
   "id": "15d7e3d6-4709-4eb1-abb8-0753201ca5df",
   "metadata": {},
   "outputs": [],
   "source": [
    "# class method\n",
    "# static method\n",
    "# instance method"
   ]
  },
  {
   "cell_type": "markdown",
   "id": "e04b7193-12eb-4473-84f6-9c2cc4d888b5",
   "metadata": {},
   "source": [
    "# decorato"
   ]
  },
  {
   "cell_type": "code",
   "execution_count": 68,
   "id": "4f391eaa-11fb-4c73-8d18-8f6226ded902",
   "metadata": {},
   "outputs": [
    {
     "name": "stdout",
     "output_type": "stream",
     "text": [
      "f value => abc\n"
     ]
    }
   ],
   "source": [
    "def outer_func():\n",
    "    def inner_func():\n",
    "        print(\"this is inner functions\")\n",
    "    return \"abc\"\n",
    "\n",
    "f=outer_func()\n",
    "print(\"f value =>\",f)"
   ]
  },
  {
   "cell_type": "code",
   "execution_count": 74,
   "id": "a9ddd28b-8f48-464f-8175-65946b22cdc3",
   "metadata": {},
   "outputs": [
    {
     "name": "stdout",
     "output_type": "stream",
     "text": [
      "f value => <function outer_func.<locals>.inner_func at 0x00000271D63F3600>\n",
      "this is inner functions\n"
     ]
    }
   ],
   "source": [
    "def outer_func():\n",
    "    def inner_func():\n",
    "        print(\"this is inner functions\")\n",
    "    return inner_func\n",
    "\n",
    "f=outer_func()\n",
    "print(\"f value =>\",f)\n",
    "f()"
   ]
  },
  {
   "cell_type": "code",
   "execution_count": 80,
   "id": "b9ad0676-13b5-4b06-b6f4-00dfe5453f16",
   "metadata": {},
   "outputs": [
    {
     "name": "stdout",
     "output_type": "stream",
     "text": [
      "f value => <function outer_func.<locals>.inner_func at 0x00000271D3D39C60>\n",
      "this is inner functions 1000\n"
     ]
    }
   ],
   "source": [
    "# Closure => are fhichar jha inner function se outer function ke variable access kar skte hai\n",
    "#\n",
    "def outer_func(x):\n",
    "    def inner_func():\n",
    "        print(\"this is inner functions\",x)\n",
    "    return inner_func\n",
    "\n",
    "f=outer_func(1000)\n",
    "print(\"f value =>\",f)\n",
    "f()\n",
    "\n"
   ]
  },
  {
   "cell_type": "code",
   "execution_count": 84,
   "id": "d17e30f3-8383-453f-8d6a-c19051bb745f",
   "metadata": {},
   "outputs": [
    {
     "name": "stdout",
     "output_type": "stream",
     "text": [
      "f value => <function outer_func.<locals>.inner_func at 0x00000271D638B1A0>\n",
      "this is inner functions <function test at 0x00000271D63F31A0>\n"
     ]
    }
   ],
   "source": [
    "def outer_func(x):\n",
    "    def inner_func():\n",
    "        print(\"this is inner functions\",x)\n",
    "    return inner_func\n",
    "\n",
    "def test():\n",
    "    print(\"this is test function\")\n",
    "\n",
    "f=outer_func(test)\n",
    "print(\"f value =>\",f)\n",
    "f()\n"
   ]
  },
  {
   "cell_type": "code",
   "execution_count": 90,
   "id": "28fc14bb-5d4f-4210-9085-7fff718a3c99",
   "metadata": {},
   "outputs": [
    {
     "name": "stdout",
     "output_type": "stream",
     "text": [
      "f value => <function outer_func.<locals>.inner_func at 0x00000271D63F3380>\n"
     ]
    },
    {
     "data": {
      "text/plain": [
       "'THIS IS TEST FUNCTION'"
      ]
     },
     "execution_count": 90,
     "metadata": {},
     "output_type": "execute_result"
    }
   ],
   "source": [
    "def outer_func(x):\n",
    "    def inner_func():\n",
    "        return x().upper()\n",
    "    return inner_func\n",
    "\n",
    "def test():\n",
    "    return (\"this is test function\")\n",
    "\n",
    "f=outer_func(test)\n",
    "print(\"f value =>\",f)\n",
    "f()"
   ]
  },
  {
   "cell_type": "code",
   "execution_count": 3,
   "id": "8e273313-5e52-4b7c-8ed2-ee1577771a2b",
   "metadata": {},
   "outputs": [
    {
     "name": "stdout",
     "output_type": "stream",
     "text": [
      "f value => <function outer_func.<locals>.inner_func at 0x00000180CB5B8860>\n"
     ]
    },
    {
     "data": {
      "text/plain": [
       "'THIS IS TEST FUNCTION'"
      ]
     },
     "execution_count": 3,
     "metadata": {},
     "output_type": "execute_result"
    }
   ],
   "source": [
    "def outer_func(x):\n",
    "    def inner_func():\n",
    "        s=x()  # x=> calling test function and return the string\n",
    "        return s.upper()  # s.upper make it to upper case and return it to f keyword\n",
    "    return inner_func\n",
    "\n",
    "def test():\n",
    "    return (\"this is test function\")\n",
    "\n",
    "f=outer_func(test)\n",
    "print(\"f value =>\",f)\n",
    "f()"
   ]
  },
  {
   "cell_type": "code",
   "execution_count": 9,
   "id": "d696cd8d-997d-45b5-b971-e1267862c228",
   "metadata": {},
   "outputs": [
    {
     "data": {
      "text/plain": [
       "'THIS IS TEST FUNCTION'"
      ]
     },
     "execution_count": 9,
     "metadata": {},
     "output_type": "execute_result"
    }
   ],
   "source": [
    "def outer_func(x):\n",
    "    def inner_func():\n",
    "        s=x() \n",
    "        return s.upper() \n",
    "        \n",
    "    return inner_func\n",
    "\n",
    "def test():\n",
    "    return (\"this is test function\")\n",
    "\n",
    "test=outer_func(test)\n",
    "test()\n",
    "#f=outer_func(test)\n",
    "#print(\"f value =>\",f)\n",
    "#f()"
   ]
  },
  {
   "cell_type": "code",
   "execution_count": 11,
   "id": "8e006e0b-714c-413c-9877-ff3c4d5b258a",
   "metadata": {},
   "outputs": [
    {
     "data": {
      "text/plain": [
       "'THIS IS TEST FUNCTION'"
      ]
     },
     "execution_count": 11,
     "metadata": {},
     "output_type": "execute_result"
    }
   ],
   "source": [
    "def outer_func(x):\n",
    "    def inner_func():\n",
    "        s=x() \n",
    "        return s.upper() \n",
    "        \n",
    "    return inner_func\n",
    "@outer_func\n",
    "def test():\n",
    "    return (\"this is test function\")\n",
    "\n",
    "test()"
   ]
  },
  {
   "cell_type": "code",
   "execution_count": null,
   "id": "6459327e-c25e-469d-bbf7-12192d02590f",
   "metadata": {},
   "outputs": [],
   "source": []
  }
 ],
 "metadata": {
  "kernelspec": {
   "display_name": "Python [conda env:base] *",
   "language": "python",
   "name": "conda-base-py"
  },
  "language_info": {
   "codemirror_mode": {
    "name": "ipython",
    "version": 3
   },
   "file_extension": ".py",
   "mimetype": "text/x-python",
   "name": "python",
   "nbconvert_exporter": "python",
   "pygments_lexer": "ipython3",
   "version": "3.12.7"
  }
 },
 "nbformat": 4,
 "nbformat_minor": 5
}

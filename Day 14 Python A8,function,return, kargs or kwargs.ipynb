{
 "cells": [
  {
   "cell_type": "code",
   "execution_count": 2,
   "id": "947aa6bc-a081-4428-96df-f6d269ec46ce",
   "metadata": {},
   "outputs": [],
   "source": [
    "def employee(id,name,email):\n",
    "    print(f\"Id:{id} name:{name} email:{email}\")"
   ]
  },
  {
   "cell_type": "code",
   "execution_count": 4,
   "id": "a8633e26-249e-42c3-8299-363f45f86f08",
   "metadata": {},
   "outputs": [
    {
     "name": "stdout",
     "output_type": "stream",
     "text": [
      "Id:10 name:tushar email:tushar@gmail.com\n"
     ]
    }
   ],
   "source": [
    "employee(10,\"tushar\",\"tushar@gmail.com\")"
   ]
  },
  {
   "cell_type": "code",
   "execution_count": 6,
   "id": "ebabaffb-6e78-48d3-9ddd-ffe21dc346ab",
   "metadata": {},
   "outputs": [],
   "source": [
    "# variable length argument\n"
   ]
  },
  {
   "cell_type": "code",
   "execution_count": 14,
   "id": "a4ca4a6a-df31-45a8-a001-d15c730663cd",
   "metadata": {},
   "outputs": [
    {
     "name": "stdout",
     "output_type": "stream",
     "text": [
      "() <class 'tuple'>\n",
      "(10, 20) <class 'tuple'>\n",
      "(10, 20, 'tushar', 'amanjangid2010@gmail.com') <class 'tuple'>\n"
     ]
    }
   ],
   "source": [
    "# variable length argument\n",
    "def employee(*var):  # *args # asper the user input\n",
    "    print(var, type(var))\n",
    "\n",
    "employee()\n",
    "employee(10,20)\n",
    "employee(10,20,\"tushar\",\"amanjangid2010@gmail.com\")"
   ]
  },
  {
   "cell_type": "code",
   "execution_count": 24,
   "id": "4ec0ab03-d934-4d1c-af1a-82559bd8b961",
   "metadata": {},
   "outputs": [
    {
     "name": "stdout",
     "output_type": "stream",
     "text": [
      "{} <class 'dict'>\n",
      "{'ids': 10, 'salary': 20} <class 'dict'>\n",
      "{'ids': 10, 'salary': 20, 'name': 'tushar', 'email': 'amanjangid2010@gmail.com'} <class 'dict'>\n"
     ]
    }
   ],
   "source": [
    "# keyword variable length argument **kwargs\n",
    "def employee(**var):\n",
    "    print(var, type(var))\n",
    "\n",
    "employee()\n",
    "employee(ids=10, salary=20)\n",
    "employee(ids=10,salary=20,name=\"tushar\",email=\"amanjangid2010@gmail.com\")"
   ]
  },
  {
   "cell_type": "code",
   "execution_count": 26,
   "id": "686b2a30-fdf5-4f6f-9d9e-d407d2e8685f",
   "metadata": {},
   "outputs": [],
   "source": [
    "# return keyword in function\n"
   ]
  },
  {
   "cell_type": "code",
   "execution_count": 54,
   "id": "f0c0568c-00ea-412d-be3b-3628563ffc28",
   "metadata": {},
   "outputs": [],
   "source": [
    "def birthday(amount):\n",
    "    print(\"amount is:\",amount)"
   ]
  },
  {
   "cell_type": "code",
   "execution_count": 56,
   "id": "507f8e73-57ad-401a-afa7-c01809fb5922",
   "metadata": {},
   "outputs": [
    {
     "name": "stdout",
     "output_type": "stream",
     "text": [
      "amount is: 100\n"
     ]
    }
   ],
   "source": [
    "birthday(100)"
   ]
  },
  {
   "cell_type": "code",
   "execution_count": 52,
   "id": "e8a04595-ac67-477f-b85b-cb5da9095dfe",
   "metadata": {},
   "outputs": [],
   "source": [
    "# print statment chalate hai tab kuch bhi nhi milta None miltah hai"
   ]
  },
  {
   "cell_type": "code",
   "execution_count": 58,
   "id": "b3c15120-3549-422b-9b11-cbb8425ec5cd",
   "metadata": {},
   "outputs": [
    {
     "name": "stdout",
     "output_type": "stream",
     "text": [
      "amount is: 100\n",
      "None\n"
     ]
    }
   ],
   "source": [
    "print(birthday(100))"
   ]
  },
  {
   "cell_type": "code",
   "execution_count": 62,
   "id": "2747de50-f863-4d61-8c3d-32d12cf25fab",
   "metadata": {},
   "outputs": [
    {
     "name": "stdout",
     "output_type": "stream",
     "text": [
      "amount is: 100\n",
      "None\n"
     ]
    }
   ],
   "source": [
    "out=birthday(100)\n",
    "print(out)"
   ]
  },
  {
   "cell_type": "code",
   "execution_count": 72,
   "id": "3d157381-fe8f-4860-8aa1-a6dc41c92679",
   "metadata": {},
   "outputs": [],
   "source": [
    "def investment(amount):\n",
    "    print(amount*10)"
   ]
  },
  {
   "cell_type": "code",
   "execution_count": 78,
   "id": "18605f46-9f91-4458-ab83-bec49d8f60f5",
   "metadata": {},
   "outputs": [
    {
     "name": "stdout",
     "output_type": "stream",
     "text": [
      "10000\n",
      "None\n"
     ]
    }
   ],
   "source": [
    "account=investment(1000)\n",
    "print(account)"
   ]
  },
  {
   "cell_type": "code",
   "execution_count": 80,
   "id": "714a876f-3807-4e65-b82e-05e1ab41e933",
   "metadata": {},
   "outputs": [],
   "source": [
    "def investment(amount):\n",
    "    print(amount*10)\n",
    "    return 50"
   ]
  },
  {
   "cell_type": "code",
   "execution_count": 88,
   "id": "8633d202-c712-45e2-a580-68e8762202a3",
   "metadata": {},
   "outputs": [
    {
     "name": "stdout",
     "output_type": "stream",
     "text": [
      "10000\n",
      "account: 50\n"
     ]
    }
   ],
   "source": [
    "account=investment(1000)\n",
    "print(\"account:\",account)"
   ]
  },
  {
   "cell_type": "code",
   "execution_count": 90,
   "id": "ad7644b8-4976-4bf4-be70-a702dcd7dbf3",
   "metadata": {},
   "outputs": [],
   "source": [
    "def investment(amount):\n",
    "    return amount*10"
   ]
  },
  {
   "cell_type": "code",
   "execution_count": 96,
   "id": "2a81035b-8435-422f-b3a5-933be9e01d1e",
   "metadata": {},
   "outputs": [
    {
     "name": "stdout",
     "output_type": "stream",
     "text": [
      "account: 40\n"
     ]
    }
   ],
   "source": [
    "account=investment(4)\n",
    "print(\"account:\",account)"
   ]
  },
  {
   "cell_type": "code",
   "execution_count": 98,
   "id": "f9cca99e-c52c-495d-ae54-85576a051c7b",
   "metadata": {},
   "outputs": [],
   "source": [
    "# return jab bhi aap ne likh diya to kuch fark nhi padt\n",
    "# return aap ko function se bhar liya ta hai"
   ]
  },
  {
   "cell_type": "code",
   "execution_count": 100,
   "id": "56de32a8-d3cb-44b5-9ba8-44a36ce15bd3",
   "metadata": {},
   "outputs": [],
   "source": [
    "def investment(amount):\n",
    "    return amount*10\n",
    "    print(\"dfjhd\")"
   ]
  },
  {
   "cell_type": "code",
   "execution_count": 102,
   "id": "053cb997-ba28-4f9c-9be0-358fa2f5f473",
   "metadata": {},
   "outputs": [
    {
     "name": "stdout",
     "output_type": "stream",
     "text": [
      "account: 40\n"
     ]
    }
   ],
   "source": [
    "account=investment(4)\n",
    "print(\"account:\",account)"
   ]
  },
  {
   "cell_type": "code",
   "execution_count": 106,
   "id": "e9285371-a374-4d8b-9662-21548ab9315f",
   "metadata": {},
   "outputs": [
    {
     "name": "stdout",
     "output_type": "stream",
     "text": [
      "True\n"
     ]
    }
   ],
   "source": [
    "x= 20\n",
    "if(x%2==0):\n",
    "    print(True)\n",
    "else:\n",
    "    print(False)"
   ]
  },
  {
   "cell_type": "code",
   "execution_count": 114,
   "id": "34978d01-ca58-492e-9390-f74f1f8f2dab",
   "metadata": {},
   "outputs": [],
   "source": [
    "def func():\n",
    "    x= 20\n",
    "    if(x%2==0):\n",
    "        print(True)\n",
    "    else:\n",
    "        print(False)"
   ]
  },
  {
   "cell_type": "code",
   "execution_count": 118,
   "id": "718e6a42-8ab4-4384-ab43-b51555961127",
   "metadata": {},
   "outputs": [
    {
     "name": "stdout",
     "output_type": "stream",
     "text": [
      "True\n"
     ]
    }
   ],
   "source": [
    "func()"
   ]
  },
  {
   "cell_type": "code",
   "execution_count": 120,
   "id": "f184bd29-c2a0-44ae-af2b-eac808de0430",
   "metadata": {},
   "outputs": [],
   "source": [
    "def func(x):\n",
    "    if(x%2==0):\n",
    "        print(True)\n",
    "    else:\n",
    "        print(False)"
   ]
  },
  {
   "cell_type": "code",
   "execution_count": 126,
   "id": "0ef19718-f183-425c-b691-9796afa5a54e",
   "metadata": {},
   "outputs": [
    {
     "name": "stdout",
     "output_type": "stream",
     "text": [
      "False\n"
     ]
    }
   ],
   "source": [
    "func(21)"
   ]
  },
  {
   "cell_type": "code",
   "execution_count": 130,
   "id": "e2d2c9ae-21f9-4893-a810-07bfdcd58323",
   "metadata": {},
   "outputs": [],
   "source": [
    "def func(x):\n",
    "    if(x%2==0):\n",
    "        return(True)\n",
    "    else:\n",
    "        return(False)"
   ]
  },
  {
   "cell_type": "code",
   "execution_count": 136,
   "id": "d5f62d41-419b-4bcf-b7f0-327ba57e5bb0",
   "metadata": {},
   "outputs": [
    {
     "name": "stdout",
     "output_type": "stream",
     "text": [
      "Output True\n"
     ]
    }
   ],
   "source": [
    "output=func(20)\n",
    "print(\"Output\", output)"
   ]
  },
  {
   "cell_type": "code",
   "execution_count": 138,
   "id": "767c3437-27c5-42da-b6b9-21fa434ac8d4",
   "metadata": {},
   "outputs": [],
   "source": [
    "# ek funct avrage marks k name se jiske andar 5 subject k marks milenge\n",
    "# hume un marks ka avarge chaeck karna hai print karna hai avarge ki value"
   ]
  },
  {
   "cell_type": "code",
   "execution_count": 144,
   "id": "f1250d50-deea-43e1-8fca-3e8fcb01e1a9",
   "metadata": {},
   "outputs": [
    {
     "name": "stdout",
     "output_type": "stream",
     "text": [
      "total=> 69.0\n"
     ]
    }
   ],
   "source": [
    "total = 0\n",
    "marks=[77,88,40,90,50]\n",
    "for i in range(0,len(marks)):\n",
    "    total=marks[i]+total\n",
    "    avg=total/len(marks)\n",
    "print(\"total=>\",avg)"
   ]
  },
  {
   "cell_type": "code",
   "execution_count": 150,
   "id": "dcb6c827-82cd-4698-ab80-976e23835759",
   "metadata": {},
   "outputs": [],
   "source": [
    "def avg_marks(a,b,c,d,e):\n",
    "    return(a+b+c+d+e/5)"
   ]
  },
  {
   "cell_type": "code",
   "execution_count": 154,
   "id": "75667200-cdd3-4c4e-b458-5f144f66f1e4",
   "metadata": {},
   "outputs": [
    {
     "name": "stdout",
     "output_type": "stream",
     "text": [
      "Output: 278.0\n"
     ]
    }
   ],
   "source": [
    "out=avg_marks(50,60,70,80,90)\n",
    "print(\"Output:\",out)"
   ]
  },
  {
   "cell_type": "code",
   "execution_count": 156,
   "id": "edac3e19-4cdf-4968-9c02-d49a7dcf4c53",
   "metadata": {},
   "outputs": [],
   "source": [
    "def avg_marks(a,b,c,d,e):\n",
    "    return(a+b+c+d+e/5)"
   ]
  },
  {
   "cell_type": "code",
   "execution_count": 160,
   "id": "606f4ff5-0de8-4120-9d97-450d794c01d2",
   "metadata": {},
   "outputs": [
    {
     "name": "stdout",
     "output_type": "stream",
     "text": [
      "Output: 278.0\n",
      "He is a passed candidate with avg 278.0\n"
     ]
    }
   ],
   "source": [
    "out=avg_marks(50,60,70,80,90)\n",
    "print(\"Output:\",out)\n",
    "\n",
    "if(out>300):\n",
    "    print(\"He is topper with\",out)\n",
    "else:\n",
    "    print(\"He is a passed candidate with avg\", out)"
   ]
  },
  {
   "cell_type": "code",
   "execution_count": 162,
   "id": "4c070c60-a9c8-44eb-b502-5c866b958dcf",
   "metadata": {},
   "outputs": [],
   "source": [
    "#about wthar a strin palandrom or not"
   ]
  },
  {
   "cell_type": "code",
   "execution_count": 180,
   "id": "b2d4d902-acb8-4251-a714-23e45d4163eb",
   "metadata": {},
   "outputs": [
    {
     "name": "stdout",
     "output_type": "stream",
     "text": [
      "palindrome\n"
     ]
    }
   ],
   "source": [
    "data = \"saras\"\n",
    "index = 0\n",
    "a = 0\n",
    "last = len(data)-1\n",
    "while(index < last):\n",
    "    if(data[index]!=data[last]):\n",
    "        a =z+1\n",
    "        break\n",
    "    index=index+1\n",
    "    last-=1\n",
    "if(z==1):\n",
    "    print(\"not palindrome\")\n",
    "else:\n",
    "    print(\"palindrome\")"
   ]
  },
  {
   "cell_type": "code",
   "execution_count": 192,
   "id": "51615a75-61d5-471c-9f91-21245ae7a2af",
   "metadata": {},
   "outputs": [],
   "source": [
    "def func(data):\n",
    "    data\n",
    "    index = 0\n",
    "    a = 0\n",
    "    last = len(data)-1\n",
    "    while(index < last):\n",
    "        if(data[index]!=data[last]):\n",
    "            a =z+1\n",
    "            break\n",
    "        index=index+1\n",
    "        last-=1\n",
    "    if(z==1):\n",
    "        print(\"not palindrome\")\n",
    "    else:\n",
    "        print(\"palindrome\")"
   ]
  },
  {
   "cell_type": "code",
   "execution_count": 196,
   "id": "7165890a-4bcb-42de-ab63-43b658a65442",
   "metadata": {},
   "outputs": [
    {
     "name": "stdout",
     "output_type": "stream",
     "text": [
      "palindrome\n"
     ]
    }
   ],
   "source": [
    "func(\"aman\")"
   ]
  },
  {
   "cell_type": "code",
   "execution_count": 202,
   "id": "617b3d12-123c-4521-9b2a-649d2ac3e6ed",
   "metadata": {},
   "outputs": [
    {
     "name": "stdout",
     "output_type": "stream",
     "text": [
      "* \n",
      "* * \n",
      "* * * \n",
      "* * * * \n",
      "* * * * * \n",
      "* * * * \n",
      "* * * \n",
      "* * \n",
      "* \n"
     ]
    }
   ],
   "source": [
    "for i in range(1,6):\n",
    "    for j in range(1,i+1):\n",
    "        print(\"*\",end=\" \")\n",
    "    print()\n",
    "for i in range(1,5):\n",
    "    for j in range(i,5):\n",
    "        print(\"*\",end=\" \")\n",
    "    print()"
   ]
  },
  {
   "cell_type": "code",
   "execution_count": 218,
   "id": "9b0c34c7-20a2-43ec-8540-565152888e94",
   "metadata": {},
   "outputs": [
    {
     "name": "stdin",
     "output_type": "stream",
     "text": [
      "enter any number 6\n",
      "enter any number 6\n"
     ]
    },
    {
     "name": "stdout",
     "output_type": "stream",
     "text": [
      "* \n",
      "* * \n",
      "* * * \n",
      "* * * * \n",
      "* * * * * \n",
      "* * * * \n",
      "* * * \n",
      "* * \n",
      "* \n",
      "\n"
     ]
    }
   ],
   "source": [
    "num = int(input(\"enter any number\"))\n",
    "num2 = int(input(\"enter any number\"))\n",
    "for i in range(1,num):\n",
    "    for j in range(1,i+1):\n",
    "        print(\"*\",end=\" \")\n",
    "    print()\n",
    "for i in range(1,num2):\n",
    "    for j in range(i,5):\n",
    "        print(\"*\",end=\" \")\n",
    "    print()"
   ]
  },
  {
   "cell_type": "code",
   "execution_count": 250,
   "id": "66877cc5-56a0-49e8-b288-89316b36c9fe",
   "metadata": {},
   "outputs": [],
   "source": [
    "def hello(num,num2):\n",
    "    \n",
    "    for i in range(1,num):\n",
    "        for j in range(1,i+1):\n",
    "            print(\"*\",end=\" \")\n",
    "        print()\n",
    "    for i in range(1,num2):\n",
    "        for j in range(i,5):\n",
    "            print(\"*\",end=\" \")\n",
    "        print()"
   ]
  },
  {
   "cell_type": "code",
   "execution_count": 252,
   "id": "12a5bca6-7171-434a-ad74-0f04e843bd97",
   "metadata": {},
   "outputs": [
    {
     "name": "stdout",
     "output_type": "stream",
     "text": [
      "* \n",
      "* * \n",
      "* * * \n",
      "* * * * \n",
      "* * * * * \n",
      "* * * * * * \n",
      "* * * * \n",
      "* * * \n",
      "* * \n",
      "* \n",
      "\n",
      "\n"
     ]
    }
   ],
   "source": [
    "hello(7,7)"
   ]
  },
  {
   "cell_type": "code",
   "execution_count": 258,
   "id": "a6c1df53-d2ea-457b-a407-bf14bf8f78c9",
   "metadata": {},
   "outputs": [],
   "source": [
    "def hello(num):\n",
    "    \n",
    "    for i in range(1,num+1):\n",
    "        for j in range(1,i+1):\n",
    "            print(\"*\",end=\" \")\n",
    "        print()\n",
    "    for i in range(1,num):\n",
    "        for j in range(i,num):\n",
    "            print(\"*\",end=\" \")\n",
    "        print()"
   ]
  },
  {
   "cell_type": "code",
   "execution_count": 260,
   "id": "b3c9747a-c668-40cf-844d-3aa032a35ddc",
   "metadata": {},
   "outputs": [
    {
     "name": "stdout",
     "output_type": "stream",
     "text": [
      "* \n",
      "* * \n",
      "* * * \n",
      "* * * * \n",
      "* * * * * \n",
      "* * * * * * \n",
      "* * * * * \n",
      "* * * * \n",
      "* * * \n",
      "* * \n",
      "* \n"
     ]
    }
   ],
   "source": [
    "hello(6)"
   ]
  },
  {
   "cell_type": "code",
   "execution_count": 266,
   "id": "4f3ab906-0f89-48ec-b7fe-91546726e273",
   "metadata": {},
   "outputs": [
    {
     "data": {
      "text/plain": [
       "<function __main__.func()>"
      ]
     },
     "execution_count": 266,
     "metadata": {},
     "output_type": "execute_result"
    }
   ],
   "source": [
    "def func():\n",
    "    print(\"hey\")\n",
    "\n",
    "func # memmory addresh"
   ]
  },
  {
   "cell_type": "code",
   "execution_count": 276,
   "id": "4480d505-17a3-4732-9807-f2c51e794b81",
   "metadata": {},
   "outputs": [
    {
     "name": "stdout",
     "output_type": "stream",
     "text": [
      "<function func at 0x0000021D8D0277E0>\n",
      "x: <function func at 0x0000021D8D0277E0>\n"
     ]
    }
   ],
   "source": [
    "# First class functions\n",
    "def func():\n",
    "    print(\"hey\")\n",
    "\n",
    "print(func)\n",
    "x=func\n",
    "print(\"x:\",x)"
   ]
  },
  {
   "cell_type": "code",
   "execution_count": 278,
   "id": "9039c838-13c7-4f82-89f2-582ea778e14c",
   "metadata": {},
   "outputs": [
    {
     "name": "stdout",
     "output_type": "stream",
     "text": [
      "hey\n"
     ]
    }
   ],
   "source": [
    "x()"
   ]
  },
  {
   "cell_type": "code",
   "execution_count": 280,
   "id": "2b55c918-aae9-4e7e-b6ea-b03637a87e35",
   "metadata": {},
   "outputs": [
    {
     "name": "stdout",
     "output_type": "stream",
     "text": [
      "hey\n"
     ]
    }
   ],
   "source": [
    "func()"
   ]
  },
  {
   "cell_type": "code",
   "execution_count": 282,
   "id": "916ef8c5-7ee8-43d7-a870-aa402c22581e",
   "metadata": {},
   "outputs": [],
   "source": [
    "# First class function vs High order function\n",
    "# intrview Topic\n",
    "# Valid anagram\n",
    "# two sum two\n"
   ]
  },
  {
   "cell_type": "code",
   "execution_count": null,
   "id": "980efe33-4c55-4556-b8a2-02486c3c5b51",
   "metadata": {},
   "outputs": [],
   "source": []
  }
 ],
 "metadata": {
  "kernelspec": {
   "display_name": "Python [conda env:base] *",
   "language": "python",
   "name": "conda-base-py"
  },
  "language_info": {
   "codemirror_mode": {
    "name": "ipython",
    "version": 3
   },
   "file_extension": ".py",
   "mimetype": "text/x-python",
   "name": "python",
   "nbconvert_exporter": "python",
   "pygments_lexer": "ipython3",
   "version": "3.12.7"
  }
 },
 "nbformat": 4,
 "nbformat_minor": 5
}

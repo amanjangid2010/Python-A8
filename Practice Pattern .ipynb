{
 "cells": [
  {
   "cell_type": "code",
   "execution_count": 4,
   "id": "fd36871b-5a76-448e-8408-1e9fd124431e",
   "metadata": {},
   "outputs": [
    {
     "name": "stdout",
     "output_type": "stream",
     "text": [
      "i=0, j=0\n",
      "i=0, j=1\n",
      "i=0, j=2\n",
      "i=1, j=0\n",
      "i=1, j=1\n",
      "i=1, j=2\n",
      "i=2, j=0\n",
      "i=2, j=1\n",
      "i=2, j=2\n",
      "i=3, j=0\n",
      "i=3, j=1\n",
      "i=3, j=2\n"
     ]
    }
   ],
   "source": [
    "for i in range(4):\n",
    "    for j in range(3):\n",
    "        print(f\"i={i}, j={j}\")"
   ]
  },
  {
   "cell_type": "code",
   "execution_count": 6,
   "id": "472c6564-1a25-4863-8c48-8e9880e20925",
   "metadata": {},
   "outputs": [],
   "source": [
    "# Nested loop\n",
    "\n",
    "# Parent Loop (3) ----> (0,1,2)\n",
    "# Child Loop (2) ---> (0,1)\n",
    "\n",
    "# step -1 i = 0 ,j = 0\n",
    "# step -2 i = 0 ,j = 1\n",
    "\n",
    "# step -3 i = 1 ,j = 0\n",
    "# step -4 i = 1 ,j = 1\n",
    "\n",
    "# step -5 i = 2 ,j = 0\n",
    "# step -6 i = 2 ,j = 1\n"
   ]
  },
  {
   "cell_type": "code",
   "execution_count": 10,
   "id": "e7bc2372-fc1d-4d30-a6a2-2e90ac94a727",
   "metadata": {},
   "outputs": [],
   "source": [
    "#i = 4 , j = 3\n",
    "\n",
    "#i = (0,1,2,3)\n",
    "#j = (0,1,2)\n",
    "\n",
    "#i ---> 0 ---> j = 0,1,2\n",
    "#i ---> 1 ---> j = 0,1,2\n"
   ]
  },
  {
   "cell_type": "code",
   "execution_count": 16,
   "id": "2aaa421e-746e-4b91-b0ce-a7f5612edb19",
   "metadata": {},
   "outputs": [
    {
     "name": "stdin",
     "output_type": "stream",
     "text": [
      "Enter number: 4\n"
     ]
    },
    {
     "name": "stdout",
     "output_type": "stream",
     "text": [
      "*\n",
      "**\n",
      "***\n",
      "****\n"
     ]
    }
   ],
   "source": [
    "n = int(input(\"Enter number:\"))\n",
    "for i in range(1,n+1):\n",
    "    print(\"*\" * i)"
   ]
  },
  {
   "cell_type": "code",
   "execution_count": 18,
   "id": "8d067469-fe73-49f5-94d3-9a50eabfe540",
   "metadata": {},
   "outputs": [],
   "source": [
    "# step -1 for i in range(1,4):print(i)\n",
    "# 1*\"*\", 2*\"*\", 3*\"*\", 4*\"*\", 5*\"*\""
   ]
  },
  {
   "cell_type": "code",
   "execution_count": 22,
   "id": "45543e0e-75d3-4d61-827c-42bfbf6c5bd5",
   "metadata": {},
   "outputs": [
    {
     "name": "stdout",
     "output_type": "stream",
     "text": [
      "-\n",
      "--\n",
      "---\n",
      "----\n"
     ]
    }
   ],
   "source": [
    "for i in range(1,5):\n",
    "    print(i*\"-\")"
   ]
  },
  {
   "cell_type": "code",
   "execution_count": 24,
   "id": "ff900fa5-434e-4523-b356-fdb3625a971e",
   "metadata": {},
   "outputs": [
    {
     "name": "stdout",
     "output_type": "stream",
     "text": [
      "-----\n",
      "----\n",
      "---\n",
      "--\n",
      "-\n",
      "\n",
      "-\n",
      "--\n",
      "---\n",
      "----\n",
      "-----\n"
     ]
    }
   ],
   "source": [
    "for i in range(5,0,-1):\n",
    "    print(i*\"-\")\n",
    "for i in range(0,6):\n",
    "    print(i*\"-\")"
   ]
  },
  {
   "cell_type": "code",
   "execution_count": 26,
   "id": "1c649675-669b-44f0-bb78-a01dab4a9fbb",
   "metadata": {},
   "outputs": [
    {
     "name": "stdout",
     "output_type": "stream",
     "text": [
      "-- -\n"
     ]
    }
   ],
   "source": [
    "print(2*('-')+' '+'-')"
   ]
  },
  {
   "cell_type": "code",
   "execution_count": 28,
   "id": "508160ba-a446-40cc-accd-5b65b990dbe6",
   "metadata": {},
   "outputs": [
    {
     "name": "stdout",
     "output_type": "stream",
     "text": [
      "-----\n",
      "-- -\n",
      "---\n",
      "--\n",
      "-\n"
     ]
    }
   ],
   "source": [
    "for i in range(5,0,-1):\n",
    "    if (i==4):\n",
    "        print(2*('-')+' '+'-')\n",
    "    else:\n",
    "        print(i*'-')"
   ]
  },
  {
   "cell_type": "code",
   "execution_count": 30,
   "id": "6714ffa7-0a77-4839-a183-522de0a8a68f",
   "metadata": {},
   "outputs": [
    {
     "name": "stdout",
     "output_type": "stream",
     "text": [
      "-----\n",
      "-- -\n",
      "-\n",
      "--\n",
      "-\n"
     ]
    }
   ],
   "source": [
    "for i in range(5,0,-1):\n",
    "    if (i==4):\n",
    "        print(2*('-')+' '+'-')\n",
    "\n",
    "    elif(i==3):\n",
    "        print(1*('-'))\n",
    "    else:\n",
    "        print(i*'-')"
   ]
  },
  {
   "cell_type": "code",
   "execution_count": 36,
   "id": "24b2cb97-a223-4c0f-91fd-ffc2dafcec8e",
   "metadata": {},
   "outputs": [
    {
     "name": "stdout",
     "output_type": "stream",
     "text": [
      "*\n",
      "**\n",
      "* *\n",
      "*  *\n",
      "*   *\n",
      "******\n"
     ]
    }
   ],
   "source": [
    "for i in range(1,7):\n",
    "    if(i==3):\n",
    "        print(\"*\"+\" \"+\"*\")\n",
    "    elif(i==4):\n",
    "        print(\"*\"+2*\" \"+\"*\")\n",
    "    elif(i==5):\n",
    "        print(\"*\"+3*\" \"+\"*\")\n",
    "    else:\n",
    "        print(i*(\"*\"))"
   ]
  },
  {
   "cell_type": "code",
   "execution_count": 38,
   "id": "ec1b1da8-5bd2-4287-9a33-b1723e9402a2",
   "metadata": {},
   "outputs": [
    {
     "name": "stdout",
     "output_type": "stream",
     "text": [
      "*\n",
      "**\n",
      "* *\n",
      "*  *\n",
      "*****\n"
     ]
    }
   ],
   "source": [
    "n = 5\n",
    "for i in range(1,n+1):\n",
    "    if i == 1 or i == n:\n",
    "        print(\"*\" * i)\n",
    "    else:\n",
    "        print(\"*\" + \" \" * (i-2) + \"*\")"
   ]
  },
  {
   "cell_type": "code",
   "execution_count": 125,
   "id": "acfd5f74-9f39-48ed-b5e3-6efabbb7ad2f",
   "metadata": {},
   "outputs": [
    {
     "name": "stdout",
     "output_type": "stream",
     "text": [
      "* \n",
      "* * \n",
      "*   * \n",
      "*     * \n",
      "* * * * * \n"
     ]
    }
   ],
   "source": [
    "for i in range(1,6):\n",
    "    for j in range(1,i+1):\n",
    "        if(i == 5 or i == j or j == 1):\n",
    "            print(\"*\",end=\" \")\n",
    "        else:\n",
    "            print(\" \",end=\" \")\n",
    "    print()"
   ]
  },
  {
   "cell_type": "code",
   "execution_count": 155,
   "id": "4a0843fb-f804-438a-840c-05c3072ecad8",
   "metadata": {},
   "outputs": [
    {
     "name": "stdout",
     "output_type": "stream",
     "text": [
      "         * \n",
      "       * * * \n",
      "     * * * * * \n",
      "   * * * * * * * \n",
      " * * * * * * * * * \n"
     ]
    }
   ],
   "source": [
    "for i in range(1,10,2):\n",
    "    for j in range(i,10):\n",
    "        print(\"\",end=\" \")\n",
    "    for k in range(1,i+1):\n",
    "        print(\"*\",end=\" \")\n",
    "    print()"
   ]
  },
  {
   "cell_type": "code",
   "execution_count": null,
   "id": "0aa36dec-ba65-48e4-b5f2-10ca2032d5c2",
   "metadata": {},
   "outputs": [],
   "source": []
  }
 ],
 "metadata": {
  "kernelspec": {
   "display_name": "Python [conda env:base] *",
   "language": "python",
   "name": "conda-base-py"
  },
  "language_info": {
   "codemirror_mode": {
    "name": "ipython",
    "version": 3
   },
   "file_extension": ".py",
   "mimetype": "text/x-python",
   "name": "python",
   "nbconvert_exporter": "python",
   "pygments_lexer": "ipython3",
   "version": "3.12.7"
  }
 },
 "nbformat": 4,
 "nbformat_minor": 5
}

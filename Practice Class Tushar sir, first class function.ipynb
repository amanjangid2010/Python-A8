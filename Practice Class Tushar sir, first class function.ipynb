{
 "cells": [
  {
   "cell_type": "code",
   "execution_count": 2,
   "id": "c946a3f5-3fd7-4a4b-9cfa-119b6e19e732",
   "metadata": {},
   "outputs": [],
   "source": [
    "# Local and global\n",
    "# Variable length and keyword variable"
   ]
  },
  {
   "cell_type": "markdown",
   "id": "b38d7c5b-01d8-40fb-973a-4124683a6dcf",
   "metadata": {},
   "source": [
    "# Variable length arugument"
   ]
  },
  {
   "cell_type": "code",
   "execution_count": 4,
   "id": "ced4025e-ea53-40bd-8841-95f1683cc997",
   "metadata": {},
   "outputs": [],
   "source": [
    "def func(*x):\n",
    "    print(\"x=>\",x)"
   ]
  },
  {
   "cell_type": "code",
   "execution_count": 11,
   "id": "3ac1e221-a95d-4991-9016-f2fc2f064f3c",
   "metadata": {},
   "outputs": [
    {
     "name": "stdout",
     "output_type": "stream",
     "text": [
      "x=> (10, 20)\n",
      "x=> ()\n",
      "x=> (10, 20, 4, 5, 6)\n"
     ]
    }
   ],
   "source": [
    "func (10,20)\n",
    "func()\n",
    "func(10,20,4,5,6) # tuple formate main value aati hai"
   ]
  },
  {
   "cell_type": "markdown",
   "id": "611ef7e9-b6c9-4f39-9fbc-8e0972d9205d",
   "metadata": {},
   "source": [
    "# Key word length argument"
   ]
  },
  {
   "cell_type": "code",
   "execution_count": 21,
   "id": "dd14fab6-cca8-4af7-a22e-42dbbaa3f2a4",
   "metadata": {},
   "outputs": [],
   "source": [
    "def func(**x): # kwargs\n",
    "    print(\"x=>\",x)"
   ]
  },
  {
   "cell_type": "code",
   "execution_count": 23,
   "id": "7eb72782-5eba-420f-80f9-c250e3665581",
   "metadata": {},
   "outputs": [
    {
     "name": "stdout",
     "output_type": "stream",
     "text": [
      "x=> {'age': 10, 'salary': 2000}\n",
      "x=> {}\n",
      "x=> {'salary': 2000, 'age': 10, 'name': 'abc'}\n"
     ]
    }
   ],
   "source": [
    "func(age=10,salary=2000)\n",
    "func()\n",
    "func(salary=2000,age=10,name=\"abc\") # dictionary format main aaye ga"
   ]
  },
  {
   "cell_type": "markdown",
   "id": "f58f767e-570e-4c57-b28d-54a899377a60",
   "metadata": {},
   "source": [
    "# Return Key Word"
   ]
  },
  {
   "cell_type": "code",
   "execution_count": 27,
   "id": "0f0145b7-1fc0-47d4-9814-267516ae6fee",
   "metadata": {},
   "outputs": [],
   "source": [
    "def func(x):\n",
    "    print(\"x=>\",x+10)"
   ]
  },
  {
   "cell_type": "code",
   "execution_count": 33,
   "id": "3dea0a76-47db-48be-a870-fb971ce99a14",
   "metadata": {},
   "outputs": [
    {
     "name": "stdout",
     "output_type": "stream",
     "text": [
      "x=> 29\n",
      "out=> None\n"
     ]
    }
   ],
   "source": [
    "out=func(19)\n",
    "print(\"out=>\",out)"
   ]
  },
  {
   "cell_type": "code",
   "execution_count": 35,
   "id": "6552405f-59d7-48e3-bb21-5b285eefe497",
   "metadata": {},
   "outputs": [
    {
     "name": "stdout",
     "output_type": "stream",
     "text": [
      "paise inside => 1100\n",
      "Output=> None\n"
     ]
    }
   ],
   "source": [
    "def shadi(lifafa):\n",
    "    print(\"paise inside =>\", lifafa+100)\n",
    "\n",
    "output=shadi(1000)\n",
    "print(\"Output=>\",output)"
   ]
  },
  {
   "cell_type": "code",
   "execution_count": 37,
   "id": "ade09279-33b0-4258-bcd6-5bc0df82b2e3",
   "metadata": {},
   "outputs": [],
   "source": [
    "def adding_value(x,y):\n",
    "    print(\"value are\",x,y)\n",
    "    c=x+y\n",
    "    print(\"c\",c)\n"
   ]
  },
  {
   "cell_type": "code",
   "execution_count": 39,
   "id": "865a0f56-26a0-44f8-8c73-c81e361364e6",
   "metadata": {},
   "outputs": [
    {
     "name": "stdout",
     "output_type": "stream",
     "text": [
      "value are 15 25\n",
      "c 40\n",
      "None\n"
     ]
    }
   ],
   "source": [
    "out=adding_value(15,25)\n",
    "print(out)"
   ]
  },
  {
   "cell_type": "code",
   "execution_count": 41,
   "id": "8d68287d-48a2-4612-a52b-9aeb80c4cc24",
   "metadata": {},
   "outputs": [],
   "source": [
    "def adding_value(x,y):\n",
    "    print(\"value are\",x,y)\n",
    "    c=x+y\n",
    "    return c"
   ]
  },
  {
   "cell_type": "code",
   "execution_count": 43,
   "id": "5ece4fb9-ce6f-4a5d-b32d-cfc37885fd07",
   "metadata": {},
   "outputs": [
    {
     "name": "stdout",
     "output_type": "stream",
     "text": [
      "value are 15 25\n",
      "40\n"
     ]
    }
   ],
   "source": [
    "out=adding_value(15,25)\n",
    "print(out)"
   ]
  },
  {
   "cell_type": "markdown",
   "id": "11eaff9c-fdf5-4623-8e97-8619a216cf82",
   "metadata": {},
   "source": [
    "# First Class Functions"
   ]
  },
  {
   "cell_type": "code",
   "execution_count": 47,
   "id": "a7ad2a67-f895-4df2-bfec-82d86c85c596",
   "metadata": {},
   "outputs": [],
   "source": [
    "# design pattern => multiple different way use\n",
    "# variable => \n",
    "# function as a argument\n",
    "# function if a function is return\n",
    "# function in data structure"
   ]
  },
  {
   "cell_type": "code",
   "execution_count": 51,
   "id": "20124921-62c0-4edb-8cb4-d4421cd36be9",
   "metadata": {},
   "outputs": [
    {
     "name": "stdout",
     "output_type": "stream",
     "text": [
      "hello\n",
      "x=-> None\n"
     ]
    }
   ],
   "source": [
    "def func():\n",
    "    print(\"hello\")\n",
    "\n",
    "x=func()\n",
    "print(\"x=->\",x)"
   ]
  },
  {
   "cell_type": "code",
   "execution_count": 55,
   "id": "2a569377-9593-41f3-9367-0bf00e2f7baf",
   "metadata": {},
   "outputs": [
    {
     "name": "stdout",
     "output_type": "stream",
     "text": [
      "x=-> <function func at 0x00000178F9459A80> <function func at 0x00000178F9459A80>\n"
     ]
    }
   ],
   "source": [
    "def func():\n",
    "    print(\"hello\")\n",
    "\n",
    "x=func # function ka memory address milega\n",
    "print(\"x=->\",x,func)"
   ]
  },
  {
   "cell_type": "code",
   "execution_count": 57,
   "id": "af9efe4b-3a92-42a1-b76f-009eb6dd0ed8",
   "metadata": {},
   "outputs": [
    {
     "name": "stdout",
     "output_type": "stream",
     "text": [
      "hello\n",
      "hello\n"
     ]
    }
   ],
   "source": [
    "x()\n",
    "func()"
   ]
  },
  {
   "cell_type": "code",
   "execution_count": 65,
   "id": "723edaed-d78c-40bb-bc7d-ce30553daabd",
   "metadata": {},
   "outputs": [
    {
     "name": "stdout",
     "output_type": "stream",
     "text": [
      "30\n",
      "None\n"
     ]
    }
   ],
   "source": [
    "def add_two(x,y):\n",
    "    print(x+y)\n",
    "\n",
    "def three_number(a,b):\n",
    "    print(\"a=>\",a, \"b=>\",b)\n",
    "\n",
    "out=add_two(10,20)\n",
    "print(out)"
   ]
  },
  {
   "cell_type": "code",
   "execution_count": 79,
   "id": "f9a84932-3793-4d56-938e-f968eadb59a9",
   "metadata": {},
   "outputs": [
    {
     "name": "stdout",
     "output_type": "stream",
     "text": [
      "5\n",
      "a=> 10 b=> None\n"
     ]
    }
   ],
   "source": [
    "def add_two(x,y):\n",
    "    print(x+y)\n",
    "\n",
    "def three_number(a,b):\n",
    "    print(\"a=>\",a,\"b=>\",b)\n",
    "\n",
    "three_number(10, add_two(2,3))"
   ]
  },
  {
   "cell_type": "code",
   "execution_count": 77,
   "id": "638ba9e1-f710-4440-96ba-9826e20d9bc2",
   "metadata": {},
   "outputs": [
    {
     "name": "stdout",
     "output_type": "stream",
     "text": [
      "a=> 10 b=> 5\n"
     ]
    }
   ],
   "source": [
    "def add_two(x,y):\n",
    "    return (x+y)\n",
    "\n",
    "def three_number(a,b):\n",
    "    print(\"a=>\",a,\"b=>\",b)\n",
    "\n",
    "three_number(10, add_two(2,3))"
   ]
  },
  {
   "cell_type": "code",
   "execution_count": 83,
   "id": "5007a97b-5513-4d75-8507-ab8289500c2b",
   "metadata": {},
   "outputs": [
    {
     "name": "stdout",
     "output_type": "stream",
     "text": [
      "a=> 10 b=> <function add_two at 0x00000178FBB2B7E0>\n"
     ]
    }
   ],
   "source": [
    "def add_two(x,y):\n",
    "    return (x+y)\n",
    "\n",
    "def three_number(a,b):\n",
    "    print(\"a=>\",a,\"b=>\",b)\n",
    "\n",
    "three_number(10, add_two)"
   ]
  },
  {
   "cell_type": "code",
   "execution_count": 85,
   "id": "94809085-0692-403b-bf0e-77bf9ec5c2b0",
   "metadata": {},
   "outputs": [
    {
     "name": "stdout",
     "output_type": "stream",
     "text": [
      "a=> 10 b=> <function add_two at 0x00000178F9459940> 5\n"
     ]
    }
   ],
   "source": [
    "def add_two(x,y):\n",
    "    return (x+y)\n",
    "\n",
    "def three_number(a,b):\n",
    "    print(\"a=>\",a,\"b=>\",b, b(2,3))\n",
    "\n",
    "three_number(10, add_two)"
   ]
  },
  {
   "cell_type": "code",
   "execution_count": 91,
   "id": "f4238761-89c2-45c9-949b-9e7c87c746bd",
   "metadata": {},
   "outputs": [
    {
     "name": "stdout",
     "output_type": "stream",
     "text": [
      "a=> 15\n"
     ]
    }
   ],
   "source": [
    "# saar high order function first-class function hote hai\n",
    "# saar first-class function high order function nhi hote\n",
    "def add_two(x,y):\n",
    "    return (x+y)\n",
    "\n",
    "def three_number(a,b):\n",
    "    print(\"a=>\",a+ b(2,3))\n",
    "\n",
    "three_number(10, add_two)"
   ]
  },
  {
   "cell_type": "code",
   "execution_count": null,
   "id": "dfbb3adb-2612-47ae-86b9-00bca71b5c3e",
   "metadata": {},
   "outputs": [],
   "source": []
  }
 ],
 "metadata": {
  "kernelspec": {
   "display_name": "Python [conda env:base] *",
   "language": "python",
   "name": "conda-base-py"
  },
  "language_info": {
   "codemirror_mode": {
    "name": "ipython",
    "version": 3
   },
   "file_extension": ".py",
   "mimetype": "text/x-python",
   "name": "python",
   "nbconvert_exporter": "python",
   "pygments_lexer": "ipython3",
   "version": "3.12.7"
  }
 },
 "nbformat": 4,
 "nbformat_minor": 5
}

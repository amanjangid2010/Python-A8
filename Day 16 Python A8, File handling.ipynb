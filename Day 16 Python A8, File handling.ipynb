{
 "cells": [
  {
   "cell_type": "code",
   "execution_count": 2,
   "id": "9310809c-4d1f-47b2-a831-8137cf61fad1",
   "metadata": {},
   "outputs": [
    {
     "data": {
      "text/plain": [
       "[False, False, True, False, False, False]"
      ]
     },
     "execution_count": 2,
     "metadata": {},
     "output_type": "execute_result"
    }
   ],
   "source": [
    "# lambda functions\n",
    "# filter => True? => extract\n",
    "# redusc item tool\n",
    "\n",
    "list(map(lambda x: x==10, [20,12,10,4,5,7]))"
   ]
  },
  {
   "cell_type": "code",
   "execution_count": 6,
   "id": "108a8ab9-6bd9-4d28-a8b1-9da0c1131e0c",
   "metadata": {},
   "outputs": [
    {
     "data": {
      "text/plain": [
       "[10]"
      ]
     },
     "execution_count": 6,
     "metadata": {},
     "output_type": "execute_result"
    }
   ],
   "source": [
    "list(filter(lambda x: x==10, [20,12,10,4,5,7]))"
   ]
  },
  {
   "cell_type": "code",
   "execution_count": 8,
   "id": "93fc8a81-796d-4390-b991-0111cf965380",
   "metadata": {},
   "outputs": [],
   "source": [
    "# file handling and exception handling"
   ]
  },
  {
   "cell_type": "code",
   "execution_count": 10,
   "id": "58bc2a51-99ed-48fe-82e5-66f6f677f50c",
   "metadata": {},
   "outputs": [
    {
     "name": "stdout",
     "output_type": "stream",
     "text": [
      "hey\n"
     ]
    }
   ],
   "source": [
    "# mechanism => kese bhi file main read kar skte hai write kar skte hai\n",
    "# fil / read yh write\n",
    "print(\"hey\")"
   ]
  },
  {
   "cell_type": "code",
   "execution_count": 12,
   "id": "402f2ae5-f802-4938-9dd2-85ff6b766eff",
   "metadata": {},
   "outputs": [],
   "source": [
    "# data files => file handling / data ko parmantlin storn kar skte hai file main"
   ]
  },
  {
   "cell_type": "code",
   "execution_count": 14,
   "id": "46389aaf-86b4-485f-b75f-3b76cbe12783",
   "metadata": {},
   "outputs": [],
   "source": [
    "# open\n",
    "# read/write \n",
    "# close the file\n",
    "# open (\"file\", <acces mode>) => acces mode main bata te hai ki file ke saath kya karne hai\n",
    "# read, write, read-write, read-write with overwrite, append"
   ]
  },
  {
   "cell_type": "code",
   "execution_count": 22,
   "id": "bdfd7829-2be2-4092-a541-d072149cf106",
   "metadata": {},
   "outputs": [
    {
     "data": {
      "text/plain": [
       "<_io.TextIOWrapper name='regex1.txt' mode='r' encoding='cp1252'>"
      ]
     },
     "execution_count": 22,
     "metadata": {},
     "output_type": "execute_result"
    }
   ],
   "source": [
    "open(\"regex1.txt\",\"r\") # r => r ka matlab read hota hai"
   ]
  },
  {
   "cell_type": "code",
   "execution_count": 28,
   "id": "bb7efef2-bec9-48b9-8a3a-ce177a9b18ad",
   "metadata": {},
   "outputs": [
    {
     "name": "stdout",
     "output_type": "stream",
     "text": [
      "hey hello\n"
     ]
    }
   ],
   "source": [
    "f=open(\"regex1.txt\",\"r\")\n",
    "print(f.read())\n",
    "f.close()"
   ]
  },
  {
   "cell_type": "code",
   "execution_count": 36,
   "id": "f160866e-f152-4f57-875a-9c43631f2749",
   "metadata": {},
   "outputs": [
    {
     "name": "stdout",
     "output_type": "stream",
     "text": [
      "hey hello\n"
     ]
    }
   ],
   "source": [
    "f=open(\"regex1.txt\",\"r\")\n",
    "x=(f.read())\n",
    "f.close()\n",
    "\n",
    "print(x)  # read use kar rhe hai to write nhi kar skte hai"
   ]
  },
  {
   "cell_type": "code",
   "execution_count": 40,
   "id": "ae1154d8-a855-4747-b834-777e089754ae",
   "metadata": {},
   "outputs": [
    {
     "ename": "UnsupportedOperation",
     "evalue": "not writable",
     "output_type": "error",
     "traceback": [
      "\u001b[1;31m---------------------------------------------------------------------------\u001b[0m",
      "\u001b[1;31mUnsupportedOperation\u001b[0m                      Traceback (most recent call last)",
      "Cell \u001b[1;32mIn[40], line 3\u001b[0m\n\u001b[0;32m      1\u001b[0m f\u001b[38;5;241m=\u001b[39m\u001b[38;5;28mopen\u001b[39m(\u001b[38;5;124m\"\u001b[39m\u001b[38;5;124mregex1.txt\u001b[39m\u001b[38;5;124m\"\u001b[39m,\u001b[38;5;124m\"\u001b[39m\u001b[38;5;124mr\u001b[39m\u001b[38;5;124m\"\u001b[39m)\n\u001b[0;32m      2\u001b[0m x\u001b[38;5;241m=\u001b[39m(f\u001b[38;5;241m.\u001b[39mread())\n\u001b[1;32m----> 3\u001b[0m f\u001b[38;5;241m.\u001b[39mwrite(\u001b[38;5;124m\"\u001b[39m\u001b[38;5;124maman\u001b[39m\u001b[38;5;124m\"\u001b[39m)\n\u001b[0;32m      4\u001b[0m f\u001b[38;5;241m.\u001b[39mclose()\n\u001b[0;32m      6\u001b[0m \u001b[38;5;28mprint\u001b[39m(x)\n",
      "\u001b[1;31mUnsupportedOperation\u001b[0m: not writable"
     ]
    }
   ],
   "source": [
    "f=open(\"regex1.txt\",\"r\")\n",
    "x=(f.read())\n",
    "f.write(\"aman\")\n",
    "f.close()\n",
    "\n",
    "print(x)"
   ]
  },
  {
   "cell_type": "code",
   "execution_count": 50,
   "id": "e2299c25-ecf0-4d06-a4f5-f44e14914da7",
   "metadata": {},
   "outputs": [],
   "source": [
    "f=open(\"regex1.txt\", \"w\") # w => file main write karne k liy write mode main open karna hoga\n",
    "f.write(\"aman\")          # wirte wapes kuch nhi deta wo file main he change kare ga\n",
    "f.close()                # wirte ko variable main daal kr chalange to wo none dikhye ga\n"
   ]
  },
  {
   "cell_type": "code",
   "execution_count": 56,
   "id": "f7aff0d6-98d6-4f05-bc06-cbc7872319b2",
   "metadata": {},
   "outputs": [
    {
     "name": "stdout",
     "output_type": "stream",
     "text": [
      "regex softwarejaipurjaipur\n"
     ]
    }
   ],
   "source": [
    "f=open(\"regex1.txt\",\"r+\")\n",
    "out=f.read()\n",
    "f.write(\"jaipur\")\n",
    "f.close()\n",
    "\n",
    "print(out)"
   ]
  },
  {
   "cell_type": "code",
   "execution_count": 58,
   "id": "81dedb2f-aff1-457b-8958-d0cb303e7d87",
   "metadata": {},
   "outputs": [
    {
     "name": "stdout",
     "output_type": "stream",
     "text": [
      "softwarejaipurjaipurjaipur\n"
     ]
    }
   ],
   "source": [
    "f=open(\"regex1.txt\",\"r+\") # r+ => read and write kar skte hai\n",
    "f.write(\"jaipur\")\n",
    "out=f.read()\n",
    "\n",
    "f.close()\n",
    "\n",
    "print(out)"
   ]
  },
  {
   "cell_type": "code",
   "execution_count": 62,
   "id": "cf36a741-1370-4937-87b1-b993e8df51d1",
   "metadata": {},
   "outputs": [
    {
     "name": "stdout",
     "output_type": "stream",
     "text": [
      "\n"
     ]
    }
   ],
   "source": [
    "f=open(\"regex1.txt\", \"w+\") # w+ => read and write kro ge to content humesha hat jaye ga\n",
    "out=f.read()              # w => w+ mode main main humesha data hut jaye ga\n",
    "f.close()\n",
    "\n",
    "print(out)"
   ]
  },
  {
   "cell_type": "code",
   "execution_count": 64,
   "id": "8622dda5-28db-4911-a000-c955a0a97d4c",
   "metadata": {},
   "outputs": [
    {
     "name": "stdout",
     "output_type": "stream",
     "text": [
      "\n"
     ]
    }
   ],
   "source": [
    "f=open(\"regex1.txt\",\"w+\")\n",
    "f.write(\"hey\")\n",
    "out=f.read()\n",
    "\n",
    "f.close()\n",
    "\n",
    "print(out)"
   ]
  },
  {
   "cell_type": "code",
   "execution_count": 68,
   "id": "4aca6fa1-70d8-403a-b6f4-19a5a74d1dd3",
   "metadata": {},
   "outputs": [
    {
     "name": "stdout",
     "output_type": "stream",
     "text": [
      "1st position: 0\n",
      "\n"
     ]
    }
   ],
   "source": [
    "f=open(\"regex1.txt\",\"w+\")\n",
    "print(\"1st position:\", f.tell()) # f.tell => carouser ki potion nikalne ke liye tell name ka\n",
    "f.write(\"hey\")                   # function use karte hai\n",
    "out=f.read()\n",
    "\n",
    "f.close()\n",
    "\n",
    "print(out)"
   ]
  },
  {
   "cell_type": "code",
   "execution_count": 72,
   "id": "0bfc9647-57ac-4b34-bc19-803d6afdc976",
   "metadata": {},
   "outputs": [
    {
     "name": "stdout",
     "output_type": "stream",
     "text": [
      "1st position: 0\n",
      "2nd position: 3\n",
      "3rd position: 3\n",
      "\n"
     ]
    }
   ],
   "source": [
    "f=open(\"regex1.txt\",\"w+\")\n",
    "print(\"1st position:\", f.tell())\n",
    "f.write(\"hey\")\n",
    "print(\"2nd position:\",f.tell())\n",
    "out=f.read()\n",
    "print(\"3rd position:\",f.tell())\n",
    "\n",
    "f.close()\n",
    "\n",
    "print(out)"
   ]
  },
  {
   "cell_type": "code",
   "execution_count": 78,
   "id": "faca17d7-789d-4ee9-b4f4-3cf84a77d307",
   "metadata": {},
   "outputs": [
    {
     "name": "stdout",
     "output_type": "stream",
     "text": [
      "1st position: 0\n",
      "2nd position: 16\n",
      "\n"
     ]
    }
   ],
   "source": [
    "f=open(\"regex1.txt\",\"w+\")\n",
    "out=f.read()\n",
    "print(\"1st position:\",f.tell())\n",
    "\n",
    "f.write(\"rajasthan jaipur\")\n",
    "print(\"2nd position:\",f.tell())\n",
    "\n",
    "f.close()\n",
    "\n",
    "print(out)"
   ]
  },
  {
   "cell_type": "code",
   "execution_count": 80,
   "id": "8025223d-3072-4733-85c2-e1b6b4878755",
   "metadata": {},
   "outputs": [
    {
     "name": "stdout",
     "output_type": "stream",
     "text": [
      "1st position: 0\n",
      "2nd position: 16\n",
      "3rd position: 10\n",
      "\n"
     ]
    }
   ],
   "source": [
    "f=open(\"regex1.txt\",\"w+\")\n",
    "out=f.read()\n",
    "print(\"1st position:\",f.tell())\n",
    "\n",
    "f.write(\"rajasthan jaipur\")\n",
    "print(\"2nd position:\",f.tell())\n",
    "\n",
    "f.seek(10)                 # f.seek(position number) => cursere ki position ko change kart hau\n",
    "print(\"3rd position:\",f.tell())\n",
    "\n",
    "f.close()\n",
    "\n",
    "print(out)"
   ]
  },
  {
   "cell_type": "code",
   "execution_count": 84,
   "id": "930db302-2218-4a37-ba58-f511f88a35f1",
   "metadata": {},
   "outputs": [
    {
     "name": "stdout",
     "output_type": "stream",
     "text": [
      "1st position: 0\n",
      "2nd position: 16\n",
      "3rd position: 2\n",
      "4th position red=> 16\n",
      "jasthan jaipur\n"
     ]
    }
   ],
   "source": [
    "f=open(\"regex1.txt\",\"w+\")\n",
    "out=f.read()\n",
    "print(\"1st position:\",f.tell())\n",
    "\n",
    "f.write(\"rajasthan jaipur\")\n",
    "print(\"2nd position:\",f.tell())\n",
    "\n",
    "f.seek(2)                 # f.seek(position number) => cursere ki position ko change kart hau\n",
    "print(\"3rd position:\",f.tell())\n",
    "\n",
    "out=f.read()\n",
    "print(\"4th position red=>\",f.tell())\n",
    "\n",
    "f.close()\n",
    "\n",
    "print(out)"
   ]
  },
  {
   "cell_type": "code",
   "execution_count": 88,
   "id": "6f20d900-bd65-45a1-aa07-7360288e14a1",
   "metadata": {},
   "outputs": [],
   "source": [
    "f=open(\"regex1.txt\",\"a\") # a => append yaani ki sabe last main\n",
    "f.write(\"##\")            # append main write kar skte hai read nhi kar sktea\n",
    "                        \n",
    "f.close()"
   ]
  },
  {
   "cell_type": "code",
   "execution_count": 90,
   "id": "1cebf27b-4290-42e4-92f5-e4ca49178142",
   "metadata": {},
   "outputs": [],
   "source": [
    "f=open(\"regex1.txt\",\"a+\") # a+ => read write karne ke liye a+\n",
    "f.write(\"##\")\n",
    "f.close()"
   ]
  },
  {
   "cell_type": "code",
   "execution_count": 92,
   "id": "3147ca5f-c27f-4c08-a81e-df2c5051bd9f",
   "metadata": {},
   "outputs": [
    {
     "data": {
      "text/plain": [
       "<function TextIOWrapper.close()>"
      ]
     },
     "execution_count": 92,
     "metadata": {},
     "output_type": "execute_result"
    }
   ],
   "source": [
    "f=open(\"regex.txt\", \"a\")\n",
    "f.write(\"##\")\n",
    "f.close"
   ]
  },
  {
   "cell_type": "code",
   "execution_count": 96,
   "id": "1ba26a8c-4e29-4b1f-8590-98476cc544d8",
   "metadata": {},
   "outputs": [],
   "source": [
    "# new style open file \n",
    "with open(\"regex.txt\", \"a\") as f:\n",
    "    f.write(\"##\")"
   ]
  },
  {
   "cell_type": "code",
   "execution_count": 112,
   "id": "b1b5cf64-f394-486f-a457-1c21217c62b3",
   "metadata": {},
   "outputs": [
    {
     "name": "stdout",
     "output_type": "stream",
     "text": [
      "naina\n",
      "raj\n",
      "isha\n"
     ]
    }
   ],
   "source": [
    "with open(\"regex1.txt\", \"r\") as f:\n",
    "    print(f.read())"
   ]
  },
  {
   "cell_type": "code",
   "execution_count": 116,
   "id": "7d41cd91-ecc2-48e4-b1a5-8e38d474a6f5",
   "metadata": {},
   "outputs": [
    {
     "name": "stdout",
     "output_type": "stream",
     "text": [
      "naina\n",
      "\n",
      "raj\n",
      "\n"
     ]
    }
   ],
   "source": [
    "with open(\"regex1.txt\", \"r\") as f:\n",
    "    print(f.readline()) # step by step chalana hoga\n",
    "    print(f.readline())"
   ]
  },
  {
   "cell_type": "code",
   "execution_count": 120,
   "id": "18b33992-6f72-4bb3-9ca1-2266d202d3bc",
   "metadata": {},
   "outputs": [
    {
     "name": "stdout",
     "output_type": "stream",
     "text": [
      "naina\n",
      "\n",
      "raj\n",
      "\n",
      "isha\n"
     ]
    }
   ],
   "source": [
    "with open(\"regex1.txt\", \"r\") as f:\n",
    "    for line in f:\n",
    "        print(line)"
   ]
  },
  {
   "cell_type": "code",
   "execution_count": 124,
   "id": "248fc229-48c6-496b-b70f-5a739ec2b19e",
   "metadata": {},
   "outputs": [
    {
     "name": "stdout",
     "output_type": "stream",
     "text": [
      "['naina\\n', 'raj\\n', 'isha']\n"
     ]
    }
   ],
   "source": [
    "with open(\"regex1.txt\", \"r\") as f:\n",
    "    print(f.readlines())  # list main aaye ga data "
   ]
  },
  {
   "cell_type": "code",
   "execution_count": 128,
   "id": "0880bc2e-547c-45e0-aadc-f47f2cdbeec3",
   "metadata": {},
   "outputs": [
    {
     "name": "stdout",
     "output_type": "stream",
     "text": [
      "naina\n",
      "\n",
      "raj\n",
      "\n",
      "isha\n"
     ]
    }
   ],
   "source": [
    "with open(\"regex1.txt\", \"r\") as f:\n",
    "        for line in f.readlines():\n",
    "            print(line)"
   ]
  },
  {
   "cell_type": "code",
   "execution_count": 132,
   "id": "6dc6f625-4178-437d-9907-48dfbd705e7b",
   "metadata": {},
   "outputs": [
    {
     "data": {
      "text/plain": [
       "'hey'"
      ]
     },
     "execution_count": 132,
     "metadata": {},
     "output_type": "execute_result"
    }
   ],
   "source": [
    "\"hey     \".strip() # faltu ke data hata dega"
   ]
  },
  {
   "cell_type": "code",
   "execution_count": 136,
   "id": "1e69ef69-be75-4249-bab4-8b3a11b997a2",
   "metadata": {},
   "outputs": [
    {
     "name": "stdout",
     "output_type": "stream",
     "text": [
      "naina\n",
      "raj\n",
      "isha\n"
     ]
    }
   ],
   "source": [
    "with open(\"regex1.txt\", \"r\") as f:\n",
    "        for line in f.readlines():\n",
    "            print(line.strip()) # strip => faltu ka data hata skte"
   ]
  },
  {
   "cell_type": "code",
   "execution_count": 138,
   "id": "a59061a3-ac79-4078-ad7f-9d0325ea7047",
   "metadata": {},
   "outputs": [
    {
     "data": {
      "text/plain": [
       "'masimasi'"
      ]
     },
     "execution_count": 138,
     "metadata": {},
     "output_type": "execute_result"
    }
   ],
   "source": [
    "\"masimasi\"\n",
    "# string symmetric hai yaa nhi \n",
    "# string       half"
   ]
  },
  {
   "cell_type": "code",
   "execution_count": 184,
   "id": "d65f7eaf-4fe6-40c4-8738-ccb8d38e5c9a",
   "metadata": {},
   "outputs": [
    {
     "name": "stdout",
     "output_type": "stream",
     "text": [
      "['m', 'a', 's', 'i', 'm', 'a', 's', 'i']\n",
      "symetric\n"
     ]
    }
   ],
   "source": [
    "mylist = list(\"masimasi\")\n",
    "print(mylist)\n",
    "\n",
    "half = int(len(mylist)/2)\n",
    "\n",
    "for i in range(half):\n",
    "    if mylist[i] != mylist[half+i]:\n",
    "        print(\"not symetric\")\n",
    "        break\n",
    "\n",
    "print(\"symetric\")"
   ]
  },
  {
   "cell_type": "code",
   "execution_count": null,
   "id": "b529cb61-fb97-4d9c-bc32-af2a60bd9cd6",
   "metadata": {},
   "outputs": [],
   "source": [
    "# hacker rank # as dowlepar login karna hai "
   ]
  }
 ],
 "metadata": {
  "kernelspec": {
   "display_name": "Python [conda env:base] *",
   "language": "python",
   "name": "conda-base-py"
  },
  "language_info": {
   "codemirror_mode": {
    "name": "ipython",
    "version": 3
   },
   "file_extension": ".py",
   "mimetype": "text/x-python",
   "name": "python",
   "nbconvert_exporter": "python",
   "pygments_lexer": "ipython3",
   "version": "3.12.7"
  }
 },
 "nbformat": 4,
 "nbformat_minor": 5
}

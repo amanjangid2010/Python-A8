{
 "cells": [
  {
   "cell_type": "code",
   "execution_count": 4,
   "id": "dbe77379-b097-4cf8-9c5e-612d2f9f9ceb",
   "metadata": {},
   "outputs": [
    {
     "name": "stdout",
     "output_type": "stream",
     "text": [
      "10\n",
      "20\n",
      "30\n"
     ]
    }
   ],
   "source": [
    "# list \n",
    "# mutuable\n",
    "# index postition\n",
    "\n",
    "mylist=[10,20,30]\n",
    "for i in mylist:\n",
    "    print(i)"
   ]
  },
  {
   "cell_type": "code",
   "execution_count": 6,
   "id": "f727a1f9-9747-42f9-b513-c4fc9c6a156e",
   "metadata": {},
   "outputs": [
    {
     "name": "stdout",
     "output_type": "stream",
     "text": [
      "0 10\n",
      "1 20\n",
      "2 30\n"
     ]
    }
   ],
   "source": [
    "for i in range(0,len(mylist)):\n",
    "    print(i,mylist[i])"
   ]
  },
  {
   "cell_type": "code",
   "execution_count": 12,
   "id": "95d7a966-cf22-4015-84a5-ac48467eeda2",
   "metadata": {},
   "outputs": [
    {
     "name": "stdout",
     "output_type": "stream",
     "text": [
      "88\n"
     ]
    }
   ],
   "source": [
    "maxi = 0\n",
    "mylist=[10,88,20,30]\n",
    "\n",
    "for i in range(0,len(mylist)):\n",
    "    if(mylist[i]>maxi):\n",
    "        maxi=mylist[i]\n",
    "print(maxi)"
   ]
  },
  {
   "cell_type": "code",
   "execution_count": 24,
   "id": "df192307-6b5f-4d67-82ca-1a9390bbdcb7",
   "metadata": {},
   "outputs": [
    {
     "name": "stdout",
     "output_type": "stream",
     "text": [
      "second 0 Max: 10\n",
      "second 10 Max: 20\n",
      "second 20 Max: 30\n",
      "second 30 Max: 88\n",
      "88\n"
     ]
    }
   ],
   "source": [
    "maxi = 0\n",
    "smaxi = 0\n",
    "mylist=[10,20,30,88]\n",
    "\n",
    "for i in range(0,len(mylist)):\n",
    "    if(mylist[i]>maxi):\n",
    "        smaxi=maxi\n",
    "        maxi=mylist[i]\n",
    "        print(\"second\",smaxi, \"Max:\",maxi)\n",
    "print(maxi)"
   ]
  },
  {
   "cell_type": "code",
   "execution_count": 34,
   "id": "84d08101-7366-476d-be47-3cb03d85dbf3",
   "metadata": {},
   "outputs": [
    {
     "name": "stdout",
     "output_type": "stream",
     "text": [
      "88 30\n"
     ]
    }
   ],
   "source": [
    "maxi = 0\n",
    "smaxi = 0\n",
    "mylist=[10,20,88,30]\n",
    "\n",
    "for i in range(0,len(mylist)):\n",
    "    if(mylist[i]>maxi):\n",
    "        smaxi=maxi\n",
    "        maxi=mylist[i]\n",
    "        \n",
    "    elif(mylist[i]>smaxi):\n",
    "        smaxi=mylist[i]\n",
    "        \n",
    "print(maxi, smaxi)"
   ]
  },
  {
   "cell_type": "code",
   "execution_count": 40,
   "id": "47b8488a-1be3-409c-93c7-f2ee7c5e8778",
   "metadata": {},
   "outputs": [
    {
     "name": "stdout",
     "output_type": "stream",
     "text": [
      "10\n",
      "10 10\n",
      "10 20\n",
      "10 30\n",
      "10 40\n",
      "10 10\n",
      "20\n",
      "20 10\n",
      "20 20\n",
      "20 30\n",
      "20 40\n",
      "20 10\n",
      "30\n",
      "30 10\n",
      "30 20\n",
      "30 30\n",
      "30 40\n",
      "30 10\n",
      "40\n",
      "40 10\n",
      "40 20\n",
      "40 30\n",
      "40 40\n",
      "40 10\n",
      "10\n",
      "10 10\n",
      "10 20\n",
      "10 30\n",
      "10 40\n",
      "10 10\n"
     ]
    }
   ],
   "source": [
    "data = [10,20,30,40,10]\n",
    "\n",
    "for i in range(0,len(data)):\n",
    "    print(data[i])\n",
    "\n",
    "    for j in range(0,len(data)):\n",
    "        print(data[i], data[j])\n",
    "    "
   ]
  },
  {
   "cell_type": "code",
   "execution_count": 50,
   "id": "946b2df5-ce15-4fb3-9273-6f829222452a",
   "metadata": {},
   "outputs": [
    {
     "name": "stdout",
     "output_type": "stream",
     "text": [
      "10\n",
      "10 20\n",
      "10 30\n",
      "10 40\n",
      "10 10\n",
      "20\n",
      "20 30\n",
      "20 40\n",
      "20 10\n",
      "30\n",
      "30 40\n",
      "30 10\n",
      "40\n",
      "40 10\n",
      "10\n"
     ]
    }
   ],
   "source": [
    "data = [10,20,30,40,10]\n",
    "\n",
    "for i in range(0,len(data)):\n",
    "    print(data[i])\n",
    "\n",
    "    for j in range(i+1,len(data)):\n",
    "        print(data[i], data[j])"
   ]
  },
  {
   "cell_type": "code",
   "execution_count": 68,
   "id": "7050acf1-51e4-4875-9852-15c9d2772eec",
   "metadata": {},
   "outputs": [
    {
     "name": "stdout",
     "output_type": "stream",
     "text": [
      "Duplicate element 10\n"
     ]
    }
   ],
   "source": [
    "data = [10,20,30,40,10]\n",
    "\n",
    "for i in range(0,len(data)):\n",
    "    \n",
    "\n",
    "    for j in range(i+1,len(data)):\n",
    "        if(data[i]==data[j]):\n",
    "            print(\"Duplicate element\",data[i])"
   ]
  },
  {
   "cell_type": "code",
   "execution_count": 80,
   "id": "a0e0d928-eee2-49d0-b65f-3ca495202844",
   "metadata": {},
   "outputs": [
    {
     "name": "stdout",
     "output_type": "stream",
     "text": [
      "50\n"
     ]
    }
   ],
   "source": [
    "mylist = [10,20,30,40,10]\n",
    "total = 0\n",
    "target = 60\n",
    "\n",
    "for i in range(0,len(mylist)):\n",
    "\n",
    "    for j in range(i+1,len(data)):\n",
    "        total = mylist[i] + mylist[j]\n",
    "print(total)"
   ]
  },
  {
   "cell_type": "code",
   "execution_count": 82,
   "id": "d09bb450-3abc-4c94-816c-ce24762031e5",
   "metadata": {},
   "outputs": [
    {
     "name": "stdout",
     "output_type": "stream",
     "text": [
      "combination 20 40\n"
     ]
    }
   ],
   "source": [
    "data = [10, 20, 30, 40, 10]\n",
    "target = 60\n",
    "\n",
    "for i in range(0,len(data)):\n",
    "\n",
    "    for j in range(i + 1, len(data)):\n",
    "        if data[i] + data[j] == target:\n",
    "            print(\"combination\", data[i], data[j])"
   ]
  },
  {
   "cell_type": "code",
   "execution_count": null,
   "id": "09b8d254-d50d-4ab0-a515-f40fe411de0b",
   "metadata": {},
   "outputs": [],
   "source": []
  },
  {
   "cell_type": "code",
   "execution_count": 84,
   "id": "aab8e8bf-3027-4719-aea7-05732f750336",
   "metadata": {},
   "outputs": [],
   "source": [
    "# tuple\n",
    "# datatype, collect\n",
    "# immutable\n",
    "# index, position"
   ]
  },
  {
   "cell_type": "code",
   "execution_count": 86,
   "id": "b88a8232-78d3-4c9c-baba-2e6edbeba66d",
   "metadata": {},
   "outputs": [
    {
     "name": "stdout",
     "output_type": "stream",
     "text": [
      "<class 'tuple'>\n"
     ]
    }
   ],
   "source": [
    "x = 10,201,2,3\n",
    "print(type(x))"
   ]
  },
  {
   "cell_type": "code",
   "execution_count": 90,
   "id": "169a74b7-3523-4dd9-939e-d345ce431f28",
   "metadata": {},
   "outputs": [
    {
     "name": "stdout",
     "output_type": "stream",
     "text": [
      "<class 'tuple'>\n"
     ]
    }
   ],
   "source": [
    "x = (10,201,2,3)\n",
    "print(type(x))"
   ]
  },
  {
   "cell_type": "code",
   "execution_count": 96,
   "id": "9b74c634-c423-49bc-a21e-cb49b866eb00",
   "metadata": {},
   "outputs": [
    {
     "data": {
      "text/plain": [
       "10"
      ]
     },
     "execution_count": 96,
     "metadata": {},
     "output_type": "execute_result"
    }
   ],
   "source": [
    "mytuple = (10,20,\"hey\")\n",
    "mytuple[0]"
   ]
  },
  {
   "cell_type": "code",
   "execution_count": 98,
   "id": "05fad964-389c-4864-83e0-1e397c4aa5ef",
   "metadata": {},
   "outputs": [
    {
     "ename": "TypeError",
     "evalue": "'tuple' object does not support item assignment",
     "output_type": "error",
     "traceback": [
      "\u001b[1;31m---------------------------------------------------------------------------\u001b[0m",
      "\u001b[1;31mTypeError\u001b[0m                                 Traceback (most recent call last)",
      "Cell \u001b[1;32mIn[98], line 2\u001b[0m\n\u001b[0;32m      1\u001b[0m mytuple \u001b[38;5;241m=\u001b[39m (\u001b[38;5;241m10\u001b[39m,\u001b[38;5;241m20\u001b[39m,\u001b[38;5;124m\"\u001b[39m\u001b[38;5;124mhey\u001b[39m\u001b[38;5;124m\"\u001b[39m)\n\u001b[1;32m----> 2\u001b[0m mytuple[\u001b[38;5;241m0\u001b[39m] \u001b[38;5;241m=\u001b[39m \u001b[38;5;241m121212\u001b[39m\n",
      "\u001b[1;31mTypeError\u001b[0m: 'tuple' object does not support item assignment"
     ]
    }
   ],
   "source": [
    "mytuple = (10,20,\"hey\")\n",
    "mytuple[0] = 121212 # tuple main update nhi kar skte\n",
    "# count, index do he function aate hai"
   ]
  },
  {
   "cell_type": "code",
   "execution_count": 102,
   "id": "d15db287-122a-4300-a5d3-35228f7863ac",
   "metadata": {},
   "outputs": [],
   "source": [
    "# Dictionary (data type)\n",
    "#key and value pair\n",
    "# key=> unique \n",
    "# value => unique or duplicate\n",
    "#{key: value}\n",
    "#{89651:[\"name\",+95623] }\n",
    "# dictionay index pr kaam nhi karti hai key par he kaam karti hair"
   ]
  },
  {
   "cell_type": "code",
   "execution_count": 106,
   "id": "962aee50-621f-4093-ba59-33717ec6f2ce",
   "metadata": {},
   "outputs": [],
   "source": [
    "aadhar={101:\"aman\", 102:\"tushar\", 103:\"tushar\"}\n"
   ]
  },
  {
   "cell_type": "code",
   "execution_count": 110,
   "id": "68685619-c01d-49b8-b47a-ce55c19234a9",
   "metadata": {},
   "outputs": [
    {
     "data": {
      "text/plain": [
       "{101: 'aman', 102: 'tushar', 103: 'tushar'}"
      ]
     },
     "execution_count": 110,
     "metadata": {},
     "output_type": "execute_result"
    }
   ],
   "source": [
    "aadhar"
   ]
  },
  {
   "cell_type": "code",
   "execution_count": 114,
   "id": "563c3fb7-2cc8-42c5-b980-7b3965af3f11",
   "metadata": {},
   "outputs": [
    {
     "data": {
      "text/plain": [
       "'aman'"
      ]
     },
     "execution_count": 114,
     "metadata": {},
     "output_type": "execute_result"
    }
   ],
   "source": [
    "aadhar[101]"
   ]
  },
  {
   "cell_type": "code",
   "execution_count": 118,
   "id": "ce029148-4258-469d-8175-932e565b8bcc",
   "metadata": {},
   "outputs": [
    {
     "data": {
      "text/plain": [
       "{101: 'aman', 102: 'tushar', 103: 'yash'}"
      ]
     },
     "execution_count": 118,
     "metadata": {},
     "output_type": "execute_result"
    }
   ],
   "source": [
    "aadhar={101:\"aman\", 102:\"tushar\", 103:\"tushar\"}\n",
    "aadhar[103]=\"yash\" # update\n",
    "\n",
    "aadhar"
   ]
  },
  {
   "cell_type": "code",
   "execution_count": 124,
   "id": "f3a15cf6-f099-4bb9-aa37-60aead1cfa90",
   "metadata": {},
   "outputs": [
    {
     "data": {
      "text/plain": [
       "{101: 'aman', 102: 'tushar', 103: 'yash', 1100: 'shyam'}"
      ]
     },
     "execution_count": 124,
     "metadata": {},
     "output_type": "execute_result"
    }
   ],
   "source": [
    "aadhar={101:\"aman\", 102:\"tushar\", 103:\"tushar\"}\n",
    "aadhar[103]=\"yash\"   # update\n",
    "aadhar[1100]=\"shyam\" # insert\n",
    "\n",
    "aadhar"
   ]
  },
  {
   "cell_type": "code",
   "execution_count": 130,
   "id": "06c1a32e-97ef-4135-85e5-70d3cfd615f2",
   "metadata": {},
   "outputs": [
    {
     "name": "stdout",
     "output_type": "stream",
     "text": [
      "{1: 10, 2: 85, 3: 31}\n"
     ]
    }
   ],
   "source": [
    "marks = {1:10, 2:85, 3:31}\n",
    "marks[3]+5 # 31+5\n",
    "print(marks)"
   ]
  },
  {
   "cell_type": "code",
   "execution_count": 136,
   "id": "b0efb9b2-1ebc-4e34-92e4-cbf8870ce268",
   "metadata": {},
   "outputs": [
    {
     "name": "stdout",
     "output_type": "stream",
     "text": [
      "{1: 10, 2: 85, 3: 36}\n"
     ]
    }
   ],
   "source": [
    "marks = {1:10, 2:85, 3:31}\n",
    "marks[3]=marks[3]+5 # marks[3] +=5\n",
    "print(marks)"
   ]
  },
  {
   "cell_type": "code",
   "execution_count": 156,
   "id": "dd13c554-b87b-41c1-ada9-c413b3aaf32e",
   "metadata": {},
   "outputs": [
    {
     "name": "stdout",
     "output_type": "stream",
     "text": [
      "{100: 45}\n"
     ]
    }
   ],
   "source": [
    "mycount={100:0}\n",
    "\n",
    "for i in range(1,10):\n",
    "    mycount[100]+=i\n",
    "print(mycount)"
   ]
  },
  {
   "cell_type": "code",
   "execution_count": 170,
   "id": "c3151bee-33cd-4618-8c16-617a4346b5d9",
   "metadata": {},
   "outputs": [
    {
     "name": "stdout",
     "output_type": "stream",
     "text": [
      "{100: 43}\n"
     ]
    }
   ],
   "source": [
    "mycount={100:0}\n",
    "count = 0  \n",
    "for i in range(56, 99):\n",
    "    count+=1 \n",
    "\n",
    "mycount[100] = count \n",
    "print(mycount)"
   ]
  },
  {
   "cell_type": "code",
   "execution_count": 193,
   "id": "b09cc104-08a0-46ec-9436-d7bdb02e61a6",
   "metadata": {},
   "outputs": [
    {
     "name": "stdout",
     "output_type": "stream",
     "text": [
      "{'total': 9}\n"
     ]
    }
   ],
   "source": [
    "mychar = {\"total\":0}\n",
    "data=\"rhytm bde\"\n",
    "\n",
    "for i in range(0,len(data)):\n",
    "    #print(i)\n",
    "    mychar[\"total\"]=mychar[\"total\"]+1\n",
    "print(mychar)"
   ]
  },
  {
   "cell_type": "code",
   "execution_count": null,
   "id": "0ae1816d-eac7-4f7d-88ee-739e91696cb8",
   "metadata": {},
   "outputs": [],
   "source": [
    "# list comprehension\n",
    "# zip vs enumerate function"
   ]
  }
 ],
 "metadata": {
  "kernelspec": {
   "display_name": "Python [conda env:base] *",
   "language": "python",
   "name": "conda-base-py"
  },
  "language_info": {
   "codemirror_mode": {
    "name": "ipython",
    "version": 3
   },
   "file_extension": ".py",
   "mimetype": "text/x-python",
   "name": "python",
   "nbconvert_exporter": "python",
   "pygments_lexer": "ipython3",
   "version": "3.12.7"
  }
 },
 "nbformat": 4,
 "nbformat_minor": 5
}

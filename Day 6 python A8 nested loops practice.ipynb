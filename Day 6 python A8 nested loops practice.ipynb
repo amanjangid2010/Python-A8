{
 "cells": [
  {
   "cell_type": "code",
   "execution_count": 8,
   "id": "98ccc4a4-3653-4b7a-8a6b-92c8113622b8",
   "metadata": {},
   "outputs": [
    {
     "name": "stdout",
     "output_type": "stream",
     "text": [
      "person 1\n",
      "good mornig 1\n",
      "good mornig 2\n",
      "good mornig 3\n",
      "good mornig 4\n"
     ]
    }
   ],
   "source": [
    "for i in range(1,5):\n",
    "    print(\"person\",i)\n",
    "    for j in range(1,5):\n",
    "        print(\"good mornig\",j)\n",
    "    break"
   ]
  },
  {
   "cell_type": "code",
   "execution_count": 10,
   "id": "e22bcd85-fea9-4c41-bd02-87841cdfe6da",
   "metadata": {},
   "outputs": [
    {
     "name": "stdout",
     "output_type": "stream",
     "text": [
      "person 1\n",
      "good mornig 1\n",
      "good mornig 2\n",
      "good mornig 3\n",
      "good mornig 4\n",
      "person 2\n",
      "good mornig 1\n",
      "good mornig 2\n",
      "good mornig 3\n",
      "good mornig 4\n",
      "person 3\n",
      "good mornig 1\n",
      "good mornig 2\n",
      "good mornig 3\n",
      "good mornig 4\n",
      "person 4\n",
      "good mornig 1\n",
      "good mornig 2\n",
      "good mornig 3\n",
      "good mornig 4\n"
     ]
    }
   ],
   "source": [
    "for i in range(1,5):\n",
    "    print(\"person\",i)\n",
    "    for j in range(1,5):\n",
    "        print(\"good mornig\",j)"
   ]
  },
  {
   "cell_type": "code",
   "execution_count": 14,
   "id": "af6d6e73-eb03-4d82-838e-3f3702bc1ad6",
   "metadata": {},
   "outputs": [
    {
     "name": "stdout",
     "output_type": "stream",
     "text": [
      "person 1\n",
      "good mornig 5\n",
      "good mornig 4\n",
      "good mornig 3\n",
      "good mornig 2\n",
      "person 2\n",
      "good mornig 5\n",
      "good mornig 4\n",
      "good mornig 3\n",
      "good mornig 2\n",
      "person 3\n",
      "good mornig 5\n",
      "good mornig 4\n",
      "good mornig 3\n",
      "good mornig 2\n",
      "person 4\n",
      "good mornig 5\n",
      "good mornig 4\n",
      "good mornig 3\n",
      "good mornig 2\n"
     ]
    }
   ],
   "source": [
    "for i in range(1,5):\n",
    "    print(\"person\",i)\n",
    "    for j in range(5,1,-1):\n",
    "        print(\"good mornig\",j)"
   ]
  },
  {
   "cell_type": "code",
   "execution_count": 18,
   "id": "1e28b4c8-6ad5-4852-8175-dbb55b510418",
   "metadata": {},
   "outputs": [
    {
     "name": "stdout",
     "output_type": "stream",
     "text": [
      "person 5\n",
      "good mornig 1\n",
      "good mornig 2\n",
      "good mornig 3\n",
      "good mornig 4\n",
      "person 4\n",
      "good mornig 1\n",
      "good mornig 2\n",
      "good mornig 3\n",
      "good mornig 4\n",
      "person 3\n",
      "good mornig 1\n",
      "good mornig 2\n",
      "good mornig 3\n",
      "good mornig 4\n",
      "person 2\n",
      "good mornig 1\n",
      "good mornig 2\n",
      "good mornig 3\n",
      "good mornig 4\n"
     ]
    }
   ],
   "source": [
    "for i in range(5,1,-1):\n",
    "    print(\"person\",i)\n",
    "    for j in range(1,5):\n",
    "        print(\"good mornig\",j)"
   ]
  },
  {
   "cell_type": "code",
   "execution_count": 24,
   "id": "c7498690-342a-4e28-9255-a08e774f19a2",
   "metadata": {},
   "outputs": [
    {
     "name": "stdout",
     "output_type": "stream",
     "text": [
      "person 1\n",
      "good mornig 1\n",
      "person 2\n",
      "good mornig 1\n",
      "good mornig 2\n",
      "person 3\n",
      "good mornig 1\n",
      "good mornig 2\n",
      "good mornig 3\n",
      "person 4\n",
      "good mornig 1\n",
      "good mornig 2\n",
      "good mornig 3\n",
      "good mornig 4\n"
     ]
    }
   ],
   "source": [
    "for i in range(1,5):\n",
    "    print(\"person\", i)\n",
    "    for j in range(1,i+1):\n",
    "        print(\"good mornig\", j)"
   ]
  },
  {
   "cell_type": "code",
   "execution_count": 48,
   "id": "e09f53a2-fb72-4407-815d-cc141c1e5670",
   "metadata": {},
   "outputs": [
    {
     "name": "stdout",
     "output_type": "stream",
     "text": [
      "person 5\n",
      "good mornig 6\n",
      "person 4\n",
      "good mornig 6\n",
      "good mornig 5\n",
      "person 3\n",
      "good mornig 6\n",
      "good mornig 5\n",
      "good mornig 4\n",
      "person 2\n",
      "good mornig 6\n",
      "good mornig 5\n",
      "good mornig 4\n",
      "good mornig 3\n"
     ]
    }
   ],
   "source": [
    "for i in range(5,1,-1):\n",
    "    print(\"person\",i)\n",
    "    for j in range(6,i,-1):\n",
    "        print(\"good mornig\",j)"
   ]
  },
  {
   "cell_type": "code",
   "execution_count": 52,
   "id": "aaaa8e9d-54da-464d-9453-f066f2b76fa1",
   "metadata": {},
   "outputs": [
    {
     "name": "stdout",
     "output_type": "stream",
     "text": [
      "person 5\n",
      "good mornig 5\n",
      "person 4\n",
      "good mornig 4\n",
      "good mornig 5\n",
      "person 3\n",
      "good mornig 3\n",
      "good mornig 4\n",
      "good mornig 5\n",
      "person 2\n",
      "good mornig 2\n",
      "good mornig 3\n",
      "good mornig 4\n",
      "good mornig 5\n"
     ]
    }
   ],
   "source": [
    "for i in range(5,1,-1):\n",
    "    print(\"person\",i)\n",
    "    for j in range(i,6):\n",
    "        print(\"good mornig\",j)"
   ]
  },
  {
   "cell_type": "code",
   "execution_count": 54,
   "id": "4714512d-8324-4006-a374-c97689be986a",
   "metadata": {},
   "outputs": [],
   "source": [
    "# n = 2"
   ]
  },
  {
   "cell_type": "code",
   "execution_count": 80,
   "id": "ff7dc4f1-9171-482d-8a34-2f1763b64812",
   "metadata": {},
   "outputs": [
    {
     "name": "stdout",
     "output_type": "stream",
     "text": [
      "\n",
      "2 4 6 8 10 12 14 16 18 20 \n",
      "3 6 9 12 15 18 21 24 27 30 \n",
      "4 8 12 16 20 24 28 32 36 40 \n",
      "5 10 15 20 25 30 35 40 45 50 \n",
      "6 12 18 24 30 36 42 48 54 60 "
     ]
    }
   ],
   "source": [
    "for i in range(2,7):\n",
    "    print(\"\")\n",
    "    for j in range(1,11):\n",
    "        print(i*j,end=\" \")"
   ]
  },
  {
   "cell_type": "code",
   "execution_count": 82,
   "id": "7f53d8f0-cbd7-4c2d-9cd7-5b0698dfbca7",
   "metadata": {},
   "outputs": [],
   "source": [
    "# 2 to 6\n",
    "# even number => table of even number"
   ]
  },
  {
   "cell_type": "code",
   "execution_count": 102,
   "id": "0bae6b55-f00a-451c-b8fa-46b9ed13e1a9",
   "metadata": {},
   "outputs": [
    {
     "name": "stdout",
     "output_type": "stream",
     "text": [
      " \n",
      "2 4 6 8 10 12 14 16 18 20  \n",
      "4 8 12 16 20 24 28 32 36 40  \n",
      "6 12 18 24 30 36 42 48 54 60 "
     ]
    }
   ],
   "source": [
    "for i in range(2,7):\n",
    "    if(i%2==0):\n",
    "        print(\" \")\n",
    "        for j in range(1,11):\n",
    "            print(i*j,end=\" \")"
   ]
  },
  {
   "cell_type": "code",
   "execution_count": 112,
   "id": "e1a43adb-0d15-4313-871d-5629a4e48a1a",
   "metadata": {},
   "outputs": [
    {
     "name": "stdin",
     "output_type": "stream",
     "text": [
      "enter any number 7\n"
     ]
    },
    {
     "name": "stdout",
     "output_type": "stream",
     "text": [
      "prime number\n"
     ]
    }
   ],
   "source": [
    "num = int(input(\"enter any number\"))\n",
    "\n",
    "for i in range(2,num):\n",
    "    if(num%i==0):\n",
    "        print(\"not a prime number\")\n",
    "        break\n",
    "else:\n",
    "    print(\"prime number\")"
   ]
  },
  {
   "cell_type": "code",
   "execution_count": 116,
   "id": "9064990f-291c-47b6-90e9-9779734a1f89",
   "metadata": {},
   "outputs": [
    {
     "name": "stdout",
     "output_type": "stream",
     "text": [
      "Prime number\n"
     ]
    }
   ],
   "source": [
    "n = 13\n",
    "cond=0\n",
    "for i in range(2,n):\n",
    "    if(n%i==0):\n",
    "        cond= 1\n",
    "        break\n",
    "\n",
    "if(cond==0):\n",
    "    print(\"Prime number\")\n",
    "else:\n",
    "    print(\"not prime\")"
   ]
  },
  {
   "cell_type": "code",
   "execution_count": 122,
   "id": "4ab70de5-8011-4af9-b62a-eebfeb0547e5",
   "metadata": {},
   "outputs": [
    {
     "name": "stdout",
     "output_type": "stream",
     "text": [
      "Prime number 2\n",
      "Prime number 3\n",
      "not prime 4\n",
      "Prime number 5\n",
      "not prime 6\n",
      "Prime number 7\n",
      "not prime 8\n",
      "not prime 9\n",
      "not prime 10\n",
      "Prime number 11\n"
     ]
    }
   ],
   "source": [
    "for n in range(2,12):\n",
    "    cond=0\n",
    "    for i in range(2,n):\n",
    "        if(n%i==0):\n",
    "            cond= 1\n",
    "            break\n",
    "    \n",
    "    if(cond==0):\n",
    "        print(\"Prime number\",n)\n",
    "    else:\n",
    "        print(\"not prime\",n)"
   ]
  },
  {
   "cell_type": "code",
   "execution_count": 7,
   "id": "b18ea126-7206-4cb7-92d6-25590dba4daf",
   "metadata": {},
   "outputs": [
    {
     "name": "stdout",
     "output_type": "stream",
     "text": [
      "armstrong number\n"
     ]
    }
   ],
   "source": [
    "num = 153\n",
    "x= num\n",
    "total = 0\n",
    "while(num>0):\n",
    "    rem = num%10\n",
    "    num = num//10\n",
    "    total = total+rem**3\n",
    "if(x==total):\n",
    "    print(\"armstrong number\")\n",
    "else:\n",
    "    print(\"not Armstrong\")"
   ]
  },
  {
   "cell_type": "code",
   "execution_count": 16,
   "id": "b8b3d12a-d20e-4df0-b106-2acab2f4f3fb",
   "metadata": {},
   "outputs": [
    {
     "name": "stdout",
     "output_type": "stream",
     "text": [
      "not Armstrong 140\n",
      "not Armstrong 141\n",
      "not Armstrong 142\n",
      "not Armstrong 143\n",
      "not Armstrong 144\n",
      "not Armstrong 145\n",
      "not Armstrong 146\n",
      "not Armstrong 147\n",
      "not Armstrong 148\n",
      "not Armstrong 149\n",
      "not Armstrong 150\n",
      "not Armstrong 151\n",
      "not Armstrong 152\n",
      "armstrong number 153\n",
      "not Armstrong 154\n",
      "not Armstrong 155\n",
      "not Armstrong 156\n",
      "not Armstrong 157\n",
      "not Armstrong 158\n",
      "not Armstrong 159\n"
     ]
    }
   ],
   "source": [
    "for num in range(140,160):\n",
    "        x= num\n",
    "        total = 0\n",
    "        while(num>0):\n",
    "            rem = num%10\n",
    "            num = num//10\n",
    "            total = total+rem**3\n",
    "        if(x==total):\n",
    "            print(\"armstrong number\",x)\n",
    "        else:\n",
    "            print(\"not Armstrong\",x)"
   ]
  },
  {
   "cell_type": "code",
   "execution_count": 18,
   "id": "6d8623af-89ba-4ad0-883a-d7ed4ff1dcba",
   "metadata": {},
   "outputs": [
    {
     "name": "stdout",
     "output_type": "stream",
     "text": [
      "* * * * \n",
      "* * * * \n",
      "* * * * \n",
      "* * * * \n"
     ]
    }
   ],
   "source": [
    "for i in range(1,5):\n",
    "    for j in range(1,5):\n",
    "        print(\"*\",end=\" \")\n",
    "    print()\n",
    "    "
   ]
  }
 ],
 "metadata": {
  "kernelspec": {
   "display_name": "Python [conda env:base] *",
   "language": "python",
   "name": "conda-base-py"
  },
  "language_info": {
   "codemirror_mode": {
    "name": "ipython",
    "version": 3
   },
   "file_extension": ".py",
   "mimetype": "text/x-python",
   "name": "python",
   "nbconvert_exporter": "python",
   "pygments_lexer": "ipython3",
   "version": "3.12.7"
  }
 },
 "nbformat": 4,
 "nbformat_minor": 5
}

{
 "cells": [
  {
   "cell_type": "markdown",
   "id": "85c2303a-7b40-4077-9c03-09f6c9385e7e",
   "metadata": {},
   "source": [
    "# Inheritance"
   ]
  },
  {
   "cell_type": "code",
   "execution_count": 4,
   "id": "8c4564fc-1ab7-4336-92dc-e512e055cba4",
   "metadata": {},
   "outputs": [],
   "source": [
    "# code reusae, code, => dushri class"
   ]
  },
  {
   "cell_type": "code",
   "execution_count": 6,
   "id": "fad00cd7-f8e0-4821-ba7c-54a4e4242126",
   "metadata": {},
   "outputs": [],
   "source": [
    "class A:\n",
    "    def info(self):\n",
    "        print(\"this is a class functions\")"
   ]
  },
  {
   "cell_type": "code",
   "execution_count": 8,
   "id": "81975d4e-7366-4b0d-85e2-47eb79ad1695",
   "metadata": {},
   "outputs": [],
   "source": [
    "class B:\n",
    "    def details(self):\n",
    "        print(\"this is a details functions\")"
   ]
  },
  {
   "cell_type": "code",
   "execution_count": 10,
   "id": "55079832-8b15-4832-9f33-49cb017080a0",
   "metadata": {},
   "outputs": [
    {
     "ename": "AttributeError",
     "evalue": "'B' object has no attribute 'info'",
     "output_type": "error",
     "traceback": [
      "\u001b[1;31m---------------------------------------------------------------------------\u001b[0m",
      "\u001b[1;31mAttributeError\u001b[0m                            Traceback (most recent call last)",
      "Cell \u001b[1;32mIn[10], line 2\u001b[0m\n\u001b[0;32m      1\u001b[0m b1\u001b[38;5;241m=\u001b[39mB()\n\u001b[1;32m----> 2\u001b[0m b1\u001b[38;5;241m.\u001b[39minfo()\n",
      "\u001b[1;31mAttributeError\u001b[0m: 'B' object has no attribute 'info'"
     ]
    }
   ],
   "source": [
    "b1=B()\n",
    "b1.info()"
   ]
  },
  {
   "cell_type": "code",
   "execution_count": 12,
   "id": "7dbb243b-5339-4e5e-a10d-0f7221b8129f",
   "metadata": {},
   "outputs": [],
   "source": [
    "class A:\n",
    "    def info(self):\n",
    "        print(\"this is a class functions\")\n",
    "\n",
    "class B(A):\n",
    "    def details(self):\n",
    "        print(\"this is a details functions\")"
   ]
  },
  {
   "cell_type": "code",
   "execution_count": 14,
   "id": "5255873a-e061-4fab-8e9a-1118f10a320f",
   "metadata": {},
   "outputs": [
    {
     "name": "stdout",
     "output_type": "stream",
     "text": [
      "this is a class functions\n"
     ]
    }
   ],
   "source": [
    "b1=B()\n",
    "b1.info()"
   ]
  },
  {
   "cell_type": "code",
   "execution_count": 16,
   "id": "51656b20-9089-467a-b62c-6dfd320b6f2b",
   "metadata": {},
   "outputs": [
    {
     "name": "stdout",
     "output_type": "stream",
     "text": [
      "this is a details functions isha\n"
     ]
    }
   ],
   "source": [
    "class A:\n",
    "    name=\"isha\"\n",
    "    def info(self):\n",
    "        print(\"this is a class funtions\",A.name)\n",
    "\n",
    "class B(A):\n",
    "    def details(self):\n",
    "        print(\"this is a details functions\",A.name)\n",
    "\n",
    "b1=B()\n",
    "b1.details()"
   ]
  },
  {
   "cell_type": "code",
   "execution_count": 18,
   "id": "b811e84e-5e3c-4cb2-9a0f-dfea44185fa4",
   "metadata": {},
   "outputs": [],
   "source": [
    "class AdmissionForm:\n",
    "    def __init__(self, name, age, email):\n",
    "        self.name=name\n",
    "        self.age=age\n",
    "        self.email=email"
   ]
  },
  {
   "cell_type": "code",
   "execution_count": 20,
   "id": "da8b5907-7346-4bcc-8ba8-b22374e3d87b",
   "metadata": {},
   "outputs": [],
   "source": [
    "class Student:\n",
    "    def __init__(self, name, age, email, phno):\n",
    "        self.name=name\n",
    "        self.age=age\n",
    "        self.email=email\n",
    "        self.phno=phno"
   ]
  },
  {
   "cell_type": "code",
   "execution_count": 24,
   "id": "3cdf683f-bfc7-4e8f-b480-103a93a55473",
   "metadata": {},
   "outputs": [
    {
     "data": {
      "text/plain": [
       "'naina'"
      ]
     },
     "execution_count": 24,
     "metadata": {},
     "output_type": "execute_result"
    }
   ],
   "source": [
    "s1=Student(\"naina\",29,\"naina@gmail.com\",855)\n",
    "s1.name"
   ]
  },
  {
   "cell_type": "code",
   "execution_count": 60,
   "id": "e3b42526-9a34-4a46-8cf7-b9853e58be68",
   "metadata": {},
   "outputs": [],
   "source": [
    "class AdmissionForm:\n",
    "    collage=\"regex\"\n",
    "    def __init__(self, name, age, email):\n",
    "        self.name=name\n",
    "        self.age=age\n",
    "        self.email=email"
   ]
  },
  {
   "cell_type": "code",
   "execution_count": 62,
   "id": "93a9db39-4378-42cb-b7bb-0cd8aa1c9833",
   "metadata": {},
   "outputs": [],
   "source": [
    "class Student(AdmissionForm):\n",
    "    def __init__(self, name,age,email,phno):\n",
    "        super().__init__(name,age,email)\n",
    "        self.phon=phno"
   ]
  },
  {
   "cell_type": "code",
   "execution_count": 66,
   "id": "1642a373-01a7-40d2-b787-a3d8a96a501e",
   "metadata": {},
   "outputs": [
    {
     "data": {
      "text/plain": [
       "'regex'"
      ]
     },
     "execution_count": 66,
     "metadata": {},
     "output_type": "execute_result"
    }
   ],
   "source": [
    "s1=Student(\"naina\",29,\"naina@gmail.com\",8559)\n",
    "s1.collage"
   ]
  },
  {
   "cell_type": "code",
   "execution_count": 68,
   "id": "8eaa6239-9b92-4db2-b345-76e4602f843f",
   "metadata": {},
   "outputs": [],
   "source": [
    "# inheritence\n",
    "# multiple, multi-level\n",
    "# hierichal inheritence"
   ]
  },
  {
   "cell_type": "markdown",
   "id": "bd39a05a-1a82-45b6-bf13-c83a91e7dbd9",
   "metadata": {},
   "source": [
    "# Polymorphism"
   ]
  },
  {
   "cell_type": "code",
   "execution_count": 71,
   "id": "05406617-e962-4c24-b798-2d0dfa563d8f",
   "metadata": {},
   "outputs": [],
   "source": [
    "# multiple forms\n",
    "# object, method, operator"
   ]
  },
  {
   "cell_type": "code",
   "execution_count": 73,
   "id": "4a40af8a-2f18-48c0-8635-d2b8b4f1d3dc",
   "metadata": {},
   "outputs": [],
   "source": [
    "class Parent:\n",
    "    def info(self):\n",
    "        print(\"this is parent class functions\")\n",
    "        "
   ]
  },
  {
   "cell_type": "code",
   "execution_count": 75,
   "id": "bc611436-9630-4452-a283-766e0e41bf02",
   "metadata": {},
   "outputs": [],
   "source": [
    "class Child(Parent):\n",
    "    def details(self):\n",
    "        print(\"this is child class functions\")"
   ]
  },
  {
   "cell_type": "code",
   "execution_count": 77,
   "id": "553e7828-7e43-4292-8f50-81629bf9bf89",
   "metadata": {},
   "outputs": [
    {
     "name": "stdout",
     "output_type": "stream",
     "text": [
      "this is child class functions\n"
     ]
    }
   ],
   "source": [
    "c1=Child()\n",
    "c1.details()"
   ]
  },
  {
   "cell_type": "code",
   "execution_count": 79,
   "id": "6d2bdd6e-a896-4dfb-8924-2439d6e37abc",
   "metadata": {},
   "outputs": [],
   "source": [
    "# polymorphism ke multiple tarike hai \n",
    "# 1. overloading => info(x), info(x,y) function alag alga tarike se kaam kare ga\n",
    "# pyhon main overloading method support nhi karta\n",
    "# overloading nhi hai per hum usko achive kar skta hai\n",
    "# polymorphism ko achieve karna \n",
    "# 2. overwriting => parent class child class dono main function same hota hai\n",
    "# per working alg alg hota hai\n",
    "#same parameter hai , inplemesecn ka name alag hai\n",
    "\n",
    "# python overloading support kyo nhi karti hai pdhan hai"
   ]
  },
  {
   "cell_type": "markdown",
   "id": "59ecaaac-633b-4a02-bea0-204bff80de0a",
   "metadata": {},
   "source": [
    "# Operator Overload"
   ]
  },
  {
   "cell_type": "code",
   "execution_count": 99,
   "id": "5679b93d-4d3a-40ba-985c-ce664fbae824",
   "metadata": {},
   "outputs": [],
   "source": [
    "class user:\n",
    "    def __init__(self, num):\n",
    "        self.num=num\n",
    "\n",
    "    def __add__(self,x):\n",
    "        return \"abc\""
   ]
  },
  {
   "cell_type": "code",
   "execution_count": 103,
   "id": "e3fe1f79-d46b-49cb-9d4a-4f026315503b",
   "metadata": {},
   "outputs": [
    {
     "data": {
      "text/plain": [
       "'abc'"
      ]
     },
     "execution_count": 103,
     "metadata": {},
     "output_type": "execute_result"
    }
   ],
   "source": [
    "u1=user(10)\n",
    "u2=user(15)\n",
    "\n",
    "u1+u2\n"
   ]
  },
  {
   "cell_type": "code",
   "execution_count": 105,
   "id": "31cbbbd5-8da8-49c9-9b04-6670fec56d32",
   "metadata": {},
   "outputs": [],
   "source": [
    "# + 1+2 => __add__ (dunder function) __ add __ isko dunder function bolte hai\n",
    "# u1+u2 => u1.__add__(u2)\n",
    "#Operator Overloading => can achieve polymorphism by this method\n"
   ]
  },
  {
   "cell_type": "code",
   "execution_count": null,
   "id": "063b2963-7caf-4be7-a6bf-ee170ec6b5bc",
   "metadata": {},
   "outputs": [],
   "source": []
  }
 ],
 "metadata": {
  "kernelspec": {
   "display_name": "Python [conda env:base] *",
   "language": "python",
   "name": "conda-base-py"
  },
  "language_info": {
   "codemirror_mode": {
    "name": "ipython",
    "version": 3
   },
   "file_extension": ".py",
   "mimetype": "text/x-python",
   "name": "python",
   "nbconvert_exporter": "python",
   "pygments_lexer": "ipython3",
   "version": "3.12.7"
  }
 },
 "nbformat": 4,
 "nbformat_minor": 5
}

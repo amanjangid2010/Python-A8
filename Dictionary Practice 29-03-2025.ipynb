{
 "cells": [
  {
   "cell_type": "code",
   "execution_count": 4,
   "id": "0a467ac3-c0c6-4d87-bed9-f2ac4a903b3b",
   "metadata": {},
   "outputs": [],
   "source": [
    "# List comprehension\n",
    "# List comprehensions in Python provide a concise way to create lists.\n",
    "# They are more readable and efficient than traditional for loops.\n",
    "# syntax:\n",
    "# [ expression for item in iterable if condition]"
   ]
  },
  {
   "cell_type": "code",
   "execution_count": 6,
   "id": "101d7692-cd0b-49cf-a94a-795ba9ffcd62",
   "metadata": {},
   "outputs": [],
   "source": [
    "# 1. Create a List of Squares"
   ]
  },
  {
   "cell_type": "code",
   "execution_count": 8,
   "id": "353d2bdb-5e29-4b2a-86b4-f92c0fbbece8",
   "metadata": {},
   "outputs": [
    {
     "ename": "SyntaxError",
     "evalue": "invalid syntax. Perhaps you forgot a comma? (2546905386.py, line 1)",
     "output_type": "error",
     "traceback": [
      "\u001b[1;36m  Cell \u001b[1;32mIn[8], line 1\u001b[1;36m\u001b[0m\n\u001b[1;33m    squares = [x**2 for x range(1,6)]\u001b[0m\n\u001b[1;37m                        ^\u001b[0m\n\u001b[1;31mSyntaxError\u001b[0m\u001b[1;31m:\u001b[0m invalid syntax. Perhaps you forgot a comma?\n"
     ]
    }
   ],
   "source": [
    "squares = [x**2 for x range(1,6)]\n",
    "print(squares)"
   ]
  },
  {
   "cell_type": "code",
   "execution_count": 12,
   "id": "8c9d0bc5-dacb-49b7-946a-5f1807b0bf3a",
   "metadata": {},
   "outputs": [],
   "source": [
    "# 3. Convert Strings to Uppercase"
   ]
  },
  {
   "cell_type": "code",
   "execution_count": 14,
   "id": "209c045a-0898-40e2-b432-f9c3786e4099",
   "metadata": {},
   "outputs": [
    {
     "name": "stdout",
     "output_type": "stream",
     "text": [
      "['SAM', 'ROHIT', 'ANKIT']\n"
     ]
    }
   ],
   "source": [
    "names = [\"sam\" , \"rohit\", \"ankit\"]\n",
    "upper_names = [name.upper() for name in names]\n",
    "print(upper_names)"
   ]
  },
  {
   "cell_type": "code",
   "execution_count": 16,
   "id": "3cb785e8-0479-49d4-a6ea-2123cc8aa45e",
   "metadata": {},
   "outputs": [],
   "source": [
    "# 4. Flatten a Nested List"
   ]
  },
  {
   "cell_type": "code",
   "execution_count": 20,
   "id": "4dc72517-0305-42e8-b518-d2afc1c7e85f",
   "metadata": {},
   "outputs": [
    {
     "name": "stdout",
     "output_type": "stream",
     "text": [
      "[1, 2, 3, 4, 5, 6]\n"
     ]
    }
   ],
   "source": [
    "matrix = [[1,2],[3,4],[5,6]]\n",
    "flattened = [num for sublist in matrix for num in sublist]\n",
    "print(flattened)"
   ]
  },
  {
   "cell_type": "code",
   "execution_count": 22,
   "id": "9196e901-2456-4b8d-9542-30f4808e31bf",
   "metadata": {},
   "outputs": [],
   "source": [
    "# Dictionary Comprehension\n",
    "# Dictionary Compreshensions in python offer a concise way to create\n",
    "# dictionary form "
   ]
  },
  {
   "cell_type": "markdown",
   "id": "c3b9bef9-45ac-47ee-ae8b-bef97e139b11",
   "metadata": {},
   "source": []
  },
  {
   "cell_type": "code",
   "execution_count": 25,
   "id": "ecdabe2a-2a88-4ed6-9ee6-178b873b8f32",
   "metadata": {},
   "outputs": [],
   "source": [
    "# 1 . Create a Dictionary of Squares"
   ]
  },
  {
   "cell_type": "code",
   "execution_count": 27,
   "id": "d3f62536-041d-4559-b52f-0aef447f769c",
   "metadata": {},
   "outputs": [
    {
     "name": "stdout",
     "output_type": "stream",
     "text": [
      "{1: 1, 2: 4, 3: 9, 4: 16, 5: 25, 6: 36, 7: 49}\n"
     ]
    }
   ],
   "source": [
    "squares_dict = {x: x**2 for x in range(1,8)}\n",
    "print(squares_dict)"
   ]
  },
  {
   "cell_type": "code",
   "execution_count": 29,
   "id": "ff4555b3-fa93-493f-b0ab-845201b1f606",
   "metadata": {},
   "outputs": [],
   "source": [
    "# 2. Filter Even Numbers"
   ]
  },
  {
   "cell_type": "code",
   "execution_count": 31,
   "id": "0fbf5a0b-a2a1-47fc-872f-795dac0da39b",
   "metadata": {},
   "outputs": [
    {
     "name": "stdout",
     "output_type": "stream",
     "text": [
      "{0: 0, 2: 4, 4: 16, 6: 36, 8: 64}\n"
     ]
    }
   ],
   "source": [
    "evens_dict = {x: x**2 for x in range(10) if x % 2 == 0}\n",
    "print(evens_dict)"
   ]
  },
  {
   "cell_type": "code",
   "execution_count": 33,
   "id": "91d1d01f-7ab5-4600-8a48-34638309f39d",
   "metadata": {},
   "outputs": [],
   "source": [
    "# 3. Reverse a Dictionary"
   ]
  },
  {
   "cell_type": "code",
   "execution_count": 39,
   "id": "5e2bab39-4085-4826-b023-ccb214a82877",
   "metadata": {},
   "outputs": [
    {
     "name": "stdout",
     "output_type": "stream",
     "text": [
      "{1: 'a', 2: 'b', 3: 'c'}\n"
     ]
    }
   ],
   "source": [
    "original = {\"a\":1, \"b\":2, \"c\":3}\n",
    "reversed_dict = {v: k for k, v in original.items()}\n",
    "print(reversed_dict)"
   ]
  },
  {
   "cell_type": "code",
   "execution_count": 41,
   "id": "0fde49e3-9cd0-42f4-a3a2-b05fe5fb1fc5",
   "metadata": {},
   "outputs": [],
   "source": [
    "# 4 Convert List to Dictionary with Lengths"
   ]
  },
  {
   "cell_type": "code",
   "execution_count": 43,
   "id": "970995e2-c769-46af-b29b-9cfd07de3449",
   "metadata": {},
   "outputs": [
    {
     "name": "stdout",
     "output_type": "stream",
     "text": [
      "{'apple': 5, 'banana': 6, 'cherry': 6}\n"
     ]
    }
   ],
   "source": [
    "words = [\"apple\", \"banana\", \"cherry\"]\n",
    "length_dict = {word: len(word) for word in words}\n",
    "print(length_dict)"
   ]
  },
  {
   "cell_type": "code",
   "execution_count": 47,
   "id": "2b41e48e-b6be-4d8d-8187-c363041bec28",
   "metadata": {},
   "outputs": [],
   "source": [
    "# Set Compereison"
   ]
  },
  {
   "cell_type": "code",
   "execution_count": 49,
   "id": "5906d4ab-aa64-403c-a5a3-8c3f1ed728c4",
   "metadata": {},
   "outputs": [],
   "source": [
    "# 1: Creating a Set of Squares"
   ]
  },
  {
   "cell_type": "code",
   "execution_count": 53,
   "id": "1d1e97da-342e-4b89-a285-e50ddcccb25e",
   "metadata": {},
   "outputs": [
    {
     "name": "stdout",
     "output_type": "stream",
     "text": [
      "{1, 4, 9, 16, 25}\n"
     ]
    }
   ],
   "source": [
    "squares = { x **2 for x in range(1,6)}\n",
    "print(squares)"
   ]
  },
  {
   "cell_type": "code",
   "execution_count": 55,
   "id": "6648fcdc-d8f1-47f7-acbc-6ff0f50b36c2",
   "metadata": {},
   "outputs": [],
   "source": [
    "# 2: Filltering Even Numbers"
   ]
  },
  {
   "cell_type": "code",
   "execution_count": 59,
   "id": "2c490f54-67fe-4d9d-b38f-7326cc448143",
   "metadata": {},
   "outputs": [
    {
     "name": "stdout",
     "output_type": "stream",
     "text": [
      "{0, 2, 4, 6, 8}\n"
     ]
    }
   ],
   "source": [
    "evens = { x for x in range(10) if x % 2 == 0}\n",
    "print(evens)"
   ]
  },
  {
   "cell_type": "code",
   "execution_count": 61,
   "id": "c1263b87-de0b-4df4-a612-3285d975bf07",
   "metadata": {},
   "outputs": [],
   "source": [
    "# 3: Extracting Unique Vowels from a String"
   ]
  },
  {
   "cell_type": "code",
   "execution_count": 65,
   "id": "6bc9136b-2428-4ff8-ac8d-f5ab6576ce41",
   "metadata": {},
   "outputs": [
    {
     "name": "stdout",
     "output_type": "stream",
     "text": [
      "{'e', 'o'}\n"
     ]
    }
   ],
   "source": [
    "sentence = \"hello world\"\n",
    "vowels = { char for char in sentence if char in \"aeiou\"}\n",
    "print(vowels)"
   ]
  },
  {
   "cell_type": "code",
   "execution_count": null,
   "id": "0c0e4317-b7e6-4a8e-93e6-2957399c2319",
   "metadata": {},
   "outputs": [],
   "source": []
  }
 ],
 "metadata": {
  "kernelspec": {
   "display_name": "Python [conda env:base] *",
   "language": "python",
   "name": "conda-base-py"
  },
  "language_info": {
   "codemirror_mode": {
    "name": "ipython",
    "version": 3
   },
   "file_extension": ".py",
   "mimetype": "text/x-python",
   "name": "python",
   "nbconvert_exporter": "python",
   "pygments_lexer": "ipython3",
   "version": "3.12.7"
  }
 },
 "nbformat": 4,
 "nbformat_minor": 5
}

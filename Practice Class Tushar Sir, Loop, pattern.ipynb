{
 "cells": [
  {
   "cell_type": "code",
   "execution_count": 2,
   "id": "8786e8eb-3413-4e14-ba6b-e920966ee112",
   "metadata": {},
   "outputs": [],
   "source": [
    "# Python Revision"
   ]
  },
  {
   "cell_type": "code",
   "execution_count": 4,
   "id": "a0cbc3ae-98b5-40ca-b555-d21c993446fe",
   "metadata": {},
   "outputs": [],
   "source": [
    "# For Loop\n",
    "# While Loop"
   ]
  },
  {
   "cell_type": "code",
   "execution_count": 6,
   "id": "fb34ba5e-405a-41b0-901a-daace28da52d",
   "metadata": {},
   "outputs": [
    {
     "name": "stdout",
     "output_type": "stream",
     "text": [
      "1\n",
      "2\n",
      "3\n",
      "4\n"
     ]
    }
   ],
   "source": [
    "for i in range(1,5):\n",
    "    print(i)"
   ]
  },
  {
   "cell_type": "code",
   "execution_count": 10,
   "id": "d4c3d208-46c1-4160-b03a-c9d6189d11c9",
   "metadata": {},
   "outputs": [
    {
     "name": "stdout",
     "output_type": "stream",
     "text": [
      "1 2\n",
      "2 3\n",
      "1 4\n"
     ]
    }
   ],
   "source": [
    "num = 5\n",
    "for i in range(2,5):\n",
    "    print(num%i,i)"
   ]
  },
  {
   "cell_type": "code",
   "execution_count": 16,
   "id": "d0d7746e-6428-41f1-b9a6-ce98c3cc9155",
   "metadata": {},
   "outputs": [
    {
     "name": "stdout",
     "output_type": "stream",
     "text": [
      "2\n",
      "4\n"
     ]
    }
   ],
   "source": [
    "num = 8\n",
    "for i in range(2,num):\n",
    "    if(num%i==0):\n",
    "        print(i)"
   ]
  },
  {
   "cell_type": "code",
   "execution_count": 18,
   "id": "3e9fbea4-96ef-415b-a79d-8d81156756cb",
   "metadata": {},
   "outputs": [],
   "source": [
    "# Nasted Loop"
   ]
  },
  {
   "cell_type": "code",
   "execution_count": 20,
   "id": "3bf0c7a9-617b-4365-a9a6-c0c2341295f1",
   "metadata": {},
   "outputs": [
    {
     "name": "stdout",
     "output_type": "stream",
     "text": [
      "abc\n",
      "1 1\n",
      "1 2\n",
      "abc\n",
      "2 1\n",
      "2 2\n",
      "abc\n",
      "3 1\n",
      "3 2\n",
      "abc\n",
      "4 1\n",
      "4 2\n"
     ]
    }
   ],
   "source": [
    "num = 8\n",
    "for i in range(1,5):\n",
    "    print(\"abc\")\n",
    "    for j in range(1,3):\n",
    "        print(i, j)"
   ]
  },
  {
   "cell_type": "code",
   "execution_count": 26,
   "id": "e55312c2-774e-446f-b3aa-a20bf09f2922",
   "metadata": {},
   "outputs": [
    {
     "name": "stdout",
     "output_type": "stream",
     "text": [
      "abc\n",
      "1 1\n",
      "1 2\n",
      "1 3\n",
      "1 4\n",
      "1 5\n",
      "1 6\n",
      "1 7\n",
      "1 8\n",
      "1 9\n",
      "1 10\n",
      "abc\n",
      "2 2\n",
      "2 4\n",
      "2 6\n",
      "2 8\n",
      "2 10\n",
      "2 12\n",
      "2 14\n",
      "2 16\n",
      "2 18\n",
      "2 20\n"
     ]
    }
   ],
   "source": [
    "num = 8\n",
    "for i in range(1,3):\n",
    "    print(\"abc\")\n",
    "    for j in range(1,11):\n",
    "        print(i,i*j)"
   ]
  },
  {
   "cell_type": "code",
   "execution_count": 28,
   "id": "2ac691cb-8efb-4110-ba7f-4dc57750117d",
   "metadata": {},
   "outputs": [
    {
     "name": "stdout",
     "output_type": "stream",
     "text": [
      "1 1 10\n",
      "1 2 10\n",
      "2 1 10\n",
      "2 2 10\n"
     ]
    }
   ],
   "source": [
    "num = 8\n",
    "for i in range(1,3):\n",
    "    x = 10\n",
    "    for j in range(1,3):\n",
    "        print(i,j,x)"
   ]
  },
  {
   "cell_type": "code",
   "execution_count": 30,
   "id": "4d013c9f-1062-40ec-ac71-3ae9364e9a2f",
   "metadata": {},
   "outputs": [
    {
     "name": "stdout",
     "output_type": "stream",
     "text": [
      "1 2 10\n",
      "1 3 11\n",
      "2 2 10\n",
      "2 3 11\n"
     ]
    }
   ],
   "source": [
    "num = 8\n",
    "for i in range(1,3):\n",
    "    x = 10\n",
    "    for j in range(2,4):\n",
    "        print(i,j, x)\n",
    "        x+=1"
   ]
  },
  {
   "cell_type": "code",
   "execution_count": 32,
   "id": "9388f0a9-9958-41ee-8f11-fceb2471c350",
   "metadata": {},
   "outputs": [
    {
     "name": "stdout",
     "output_type": "stream",
     "text": [
      "1 2 10\n",
      "1 3 11\n",
      "2 2 12\n",
      "2 3 13\n"
     ]
    }
   ],
   "source": [
    "num = 8\n",
    "x = 10\n",
    "\n",
    "for i in range(1,3):\n",
    "    for j in range(2,4):\n",
    "        print(i,j, x)\n",
    "        x+=1"
   ]
  },
  {
   "cell_type": "code",
   "execution_count": 36,
   "id": "20bd9e5a-1566-4ca6-b01c-dfcb7312c4dc",
   "metadata": {},
   "outputs": [
    {
     "name": "stdout",
     "output_type": "stream",
     "text": [
      "* * * * \n",
      "* * * * \n",
      "* * * * \n",
      "* * * * \n"
     ]
    }
   ],
   "source": [
    "for i in range(1,5):\n",
    "    for j in range(1,5):\n",
    "        print(\"*\",end=\" \")\n",
    "    print()"
   ]
  },
  {
   "cell_type": "code",
   "execution_count": 42,
   "id": "c6a88bbc-d92e-45e6-8c53-ef3b47c70124",
   "metadata": {},
   "outputs": [
    {
     "name": "stdout",
     "output_type": "stream",
     "text": [
      "* * * * * \n",
      "* * * * * \n",
      "* * * * * \n",
      "* * * * * \n",
      "* * * * * \n"
     ]
    }
   ],
   "source": [
    "num = 5\n",
    "for i in range(1,num+1):\n",
    "\n",
    "    for j in range(1,num+1):\n",
    "        print(\"*\",end=\" \")\n",
    "    print(\"\")"
   ]
  },
  {
   "cell_type": "code",
   "execution_count": 46,
   "id": "3a5df4b5-3762-4736-b5ca-4a0dca37ee5d",
   "metadata": {},
   "outputs": [
    {
     "name": "stdout",
     "output_type": "stream",
     "text": [
      "1 2 3 4 \n",
      "1 2 3 4 \n",
      "1 2 3 4 \n"
     ]
    }
   ],
   "source": [
    "for i in range(1,4):\n",
    "    for j in range(1,5):\n",
    "        print(j,end=\" \")\n",
    "    print()"
   ]
  },
  {
   "cell_type": "code",
   "execution_count": 62,
   "id": "ea2bc1c4-fe54-42cd-8d37-0e73691f17af",
   "metadata": {},
   "outputs": [
    {
     "name": "stdout",
     "output_type": "stream",
     "text": [
      "4 3 2 1 \n",
      "4 3 2 1 \n",
      "4 3 2 1 \n",
      "4 3 2 1 \n"
     ]
    }
   ],
   "source": [
    "\n",
    "for i in range(1,5):\n",
    "    x = 4\n",
    "    for j in range(1,5):\n",
    "        print(x,end=\" \")\n",
    "        x-=1\n",
    "    print()"
   ]
  },
  {
   "cell_type": "code",
   "execution_count": 64,
   "id": "be07ebaf-1844-4ed6-bf51-895b825cc3b3",
   "metadata": {},
   "outputs": [
    {
     "name": "stdout",
     "output_type": "stream",
     "text": [
      "* \n",
      "* * \n",
      "* * * \n",
      "* * * * \n"
     ]
    }
   ],
   "source": [
    "for i in range(1,5):\n",
    "    for j in range(1,i+1):\n",
    "        print(\"*\",end=\" \")\n",
    "    print(\"\")"
   ]
  },
  {
   "cell_type": "code",
   "execution_count": 74,
   "id": "798a863a-f23d-4180-a9d8-d5630f07ee96",
   "metadata": {},
   "outputs": [
    {
     "name": "stdout",
     "output_type": "stream",
     "text": [
      "* \n",
      "* * \n",
      "* * * \n",
      "* * * * \n"
     ]
    }
   ],
   "source": [
    "num = 4\n",
    "for i in range(num,0,-1):\n",
    "    for j in range(num,i-1,-1):\n",
    "        print(\"*\",end=\" \")\n",
    "\n",
    "    print(\"\")"
   ]
  },
  {
   "cell_type": "code",
   "execution_count": 76,
   "id": "08a2d490-7b44-433c-9845-d9887722831d",
   "metadata": {},
   "outputs": [
    {
     "name": "stdout",
     "output_type": "stream",
     "text": [
      "* * * * \n",
      "* * * \n",
      "* * \n",
      "* \n"
     ]
    }
   ],
   "source": [
    "for i in range(1,5):\n",
    "    for j in range(i,5):\n",
    "        print(\"*\",end=\" \")\n",
    "    print()"
   ]
  },
  {
   "cell_type": "code",
   "execution_count": 78,
   "id": "469d5e91-9fa0-422c-9ffe-0d2448eeee2c",
   "metadata": {},
   "outputs": [
    {
     "name": "stdout",
     "output_type": "stream",
     "text": [
      "1 \n",
      "1 2 \n",
      "1 2 3 \n"
     ]
    }
   ],
   "source": [
    "for i in range(1,4):\n",
    "    for j in range(1,i+1):\n",
    "        print(j,end=\" \")\n",
    "    print()"
   ]
  },
  {
   "cell_type": "code",
   "execution_count": 84,
   "id": "fbe3d144-611c-4269-8b68-597ffcbbb643",
   "metadata": {},
   "outputs": [
    {
     "name": "stdout",
     "output_type": "stream",
     "text": [
      "4 \n",
      "4 3 \n",
      "4 3 2 \n"
     ]
    }
   ],
   "source": [
    "for i in range(1,4):\n",
    "    x = 4\n",
    "    for j in range(1,i+1):\n",
    "        print(x,end=\" \")\n",
    "        x-=1\n",
    "    print(\"\")"
   ]
  },
  {
   "cell_type": "code",
   "execution_count": 88,
   "id": "a4f7f84d-5ee4-4b77-975a-057255eb7095",
   "metadata": {},
   "outputs": [
    {
     "name": "stdout",
     "output_type": "stream",
     "text": [
      "1 \n",
      "2 3 \n",
      "4 5 6 \n"
     ]
    }
   ],
   "source": [
    "x = 1\n",
    "for i in range(1,4):\n",
    "    for j in range(1,i+1):\n",
    "        print(x,end=\" \")\n",
    "        x+=1\n",
    "    print(\"\")"
   ]
  },
  {
   "cell_type": "code",
   "execution_count": 90,
   "id": "a840a2ae-965e-4b55-8df2-4d2d21cf4d4e",
   "metadata": {},
   "outputs": [
    {
     "name": "stdout",
     "output_type": "stream",
     "text": [
      "6 \n",
      "5 4 \n",
      "3 2 1 \n"
     ]
    }
   ],
   "source": [
    "x = 6\n",
    "for i in range(1,4):\n",
    "    for j in range(1,i+1):\n",
    "        print(x,end=\" \")\n",
    "        x-=1\n",
    "    print(\"\")"
   ]
  },
  {
   "cell_type": "code",
   "execution_count": 92,
   "id": "e6d05008-f737-458b-9c43-f6b271c8bd15",
   "metadata": {},
   "outputs": [
    {
     "name": "stdout",
     "output_type": "stream",
     "text": [
      "A \n",
      "A B \n",
      "A B C \n"
     ]
    }
   ],
   "source": [
    "for i in range(1,4):\n",
    "    x = 65\n",
    "    for j in range(1,i+1):\n",
    "        print(chr(x),end=\" \")\n",
    "        x+=1\n",
    "    print(\"\")"
   ]
  },
  {
   "cell_type": "code",
   "execution_count": 94,
   "id": "802ce3cc-ff51-4163-916a-93b0efd0dcc4",
   "metadata": {},
   "outputs": [
    {
     "name": "stdout",
     "output_type": "stream",
     "text": [
      "A \n",
      "B C \n",
      "D E F \n"
     ]
    }
   ],
   "source": [
    "x = 65\n",
    "for i in range(1,4):\n",
    "    for j in range(1,i+1):\n",
    "        print(chr(x),end=\" \")\n",
    "        x+=1\n",
    "    print(\"\")"
   ]
  },
  {
   "cell_type": "code",
   "execution_count": 104,
   "id": "77da8948-13a9-4bda-84d2-abaeb7e4613c",
   "metadata": {},
   "outputs": [
    {
     "name": "stdout",
     "output_type": "stream",
     "text": [
      "- - - * \n",
      "- - * * \n",
      "- * * * \n",
      "* * * * \n"
     ]
    }
   ],
   "source": [
    "for i in range(1,5):\n",
    "    for j in range(i,4):\n",
    "        print(\"-\",end=\" \")\n",
    "\n",
    "    for k in range(1,i+1):\n",
    "        print(\"*\",end=\" \")\n",
    "    print(\"\")"
   ]
  },
  {
   "cell_type": "code",
   "execution_count": 108,
   "id": "19827c92-bd8a-42a5-89b1-1c173e3d444e",
   "metadata": {},
   "outputs": [
    {
     "name": "stdout",
     "output_type": "stream",
     "text": [
      "* * * * * \n",
      "- * * * * \n",
      "- - * * * \n",
      "- - - * * \n",
      "- - - - * \n"
     ]
    }
   ],
   "source": [
    "for i in range(1,6):\n",
    "    for j in range(1,i):\n",
    "        print(\"-\",end=\" \")\n",
    "\n",
    "    for k in range(i,6):\n",
    "        print(\"*\",end=\" \")\n",
    "    print(\"\")"
   ]
  },
  {
   "cell_type": "code",
   "execution_count": 118,
   "id": "7cdd078c-7bb5-42aa-9416-0346521ce910",
   "metadata": {},
   "outputs": [
    {
     "name": "stdout",
     "output_type": "stream",
     "text": [
      "* * * * * \n",
      "- *     * \n",
      "- - *   * \n",
      "- - - * * \n",
      "- - - - * \n"
     ]
    }
   ],
   "source": [
    "for i in range(1,6):\n",
    "    for j in range(1,i):\n",
    "        print(\"-\",end=\" \")\n",
    "\n",
    "    for k in range(i,6):\n",
    "        if(i==1 or i==k or k==5):\n",
    "            print(\"*\",end=\" \")\n",
    "        else:\n",
    "            print(\" \", end=\" \")\n",
    "        \n",
    "    print(\"\")"
   ]
  },
  {
   "cell_type": "code",
   "execution_count": 128,
   "id": "3302e333-bc86-4095-8023-33da4c20c6b9",
   "metadata": {},
   "outputs": [
    {
     "name": "stdout",
     "output_type": "stream",
     "text": [
      "  *       \n",
      "-   *     \n",
      "- -   *   \n",
      "- - -   * \n",
      "- - - -   \n"
     ]
    }
   ],
   "source": [
    "for i in range(1,6):\n",
    "    for j in range(1,i):\n",
    "        print(\"-\",end=\" \")\n",
    "\n",
    "    for k in range(6,i,-1):\n",
    "        if(i==6 or k==5 or i==k):\n",
    "            print(\"*\",end=\" \")\n",
    "        else:\n",
    "            print(\" \",end=\" \")\n",
    "    print(\"\")"
   ]
  },
  {
   "cell_type": "code",
   "execution_count": null,
   "id": "796f1742-e522-4d1f-8ce6-800aa320506f",
   "metadata": {},
   "outputs": [],
   "source": []
  }
 ],
 "metadata": {
  "kernelspec": {
   "display_name": "Python [conda env:base] *",
   "language": "python",
   "name": "conda-base-py"
  },
  "language_info": {
   "codemirror_mode": {
    "name": "ipython",
    "version": 3
   },
   "file_extension": ".py",
   "mimetype": "text/x-python",
   "name": "python",
   "nbconvert_exporter": "python",
   "pygments_lexer": "ipython3",
   "version": "3.12.7"
  }
 },
 "nbformat": 4,
 "nbformat_minor": 5
}

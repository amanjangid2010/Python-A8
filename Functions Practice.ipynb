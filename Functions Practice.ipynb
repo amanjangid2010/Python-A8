{
 "cells": [
  {
   "cell_type": "code",
   "execution_count": 2,
   "id": "3eac3f33-93a1-42b6-ba74-39ed3c9b5416",
   "metadata": {},
   "outputs": [],
   "source": [
    "# Functions ---> reusable block code --- > specific condition create.\n",
    "\n",
    "# (1) Pre-defined function\n",
    "# sum(), min(), max(), input(), count()....\n",
    "\n",
    "# (2) Manually Created function\n",
    "\n",
    "# (1). def\n",
    "# (2) Name of function\n",
    "# (3) Logics for creating function\n",
    "# (4) Call the function"
   ]
  },
  {
   "cell_type": "code",
   "execution_count": 4,
   "id": "10580f47-72e9-4d80-be44-157938a3adea",
   "metadata": {},
   "outputs": [],
   "source": [
    "# Q.1 Write a function who add 2 numbers ?"
   ]
  },
  {
   "cell_type": "code",
   "execution_count": 6,
   "id": "0382e3fc-9911-4f11-998a-91fe8e6b43db",
   "metadata": {},
   "outputs": [
    {
     "name": "stdout",
     "output_type": "stream",
     "text": [
      "Add =  9\n"
     ]
    }
   ],
   "source": [
    "def my_add():\n",
    "    a = 4\n",
    "    b = 5\n",
    "    c = a+b\n",
    "    print(\"Add = \", c)\n",
    "my_add()"
   ]
  },
  {
   "cell_type": "code",
   "execution_count": 8,
   "id": "9ba4a013-772a-46b4-bb81-7ae2e038a910",
   "metadata": {},
   "outputs": [],
   "source": [
    "# Parameters And Arguments\n",
    "# Parameters ---> function create, values pass\n",
    "# Arguments ---> function call, values pass"
   ]
  },
  {
   "cell_type": "code",
   "execution_count": 10,
   "id": "3941f06a-d6e0-4f15-93f8-820b452017c1",
   "metadata": {},
   "outputs": [
    {
     "name": "stdout",
     "output_type": "stream",
     "text": [
      "Add = 5\n"
     ]
    }
   ],
   "source": [
    "def my_add(a,b):\n",
    "    c = a+b\n",
    "    print(\"Add =\",c)\n",
    "my_add(2,3)"
   ]
  },
  {
   "cell_type": "code",
   "execution_count": 16,
   "id": "3e2cb420-b581-4fbb-bda8-222bcddb9058",
   "metadata": {},
   "outputs": [
    {
     "name": "stdout",
     "output_type": "stream",
     "text": [
      "odd\n"
     ]
    }
   ],
   "source": [
    "def oddeve(a):\n",
    "    if(a%2==0):\n",
    "        print(\"Even\")\n",
    "    else:\n",
    "        print(\"odd\")\n",
    "oddeve(5)"
   ]
  },
  {
   "cell_type": "code",
   "execution_count": 18,
   "id": "ef1ab110-1e0c-4aa1-a22f-67463cea2928",
   "metadata": {},
   "outputs": [],
   "source": [
    "# Lambda function ---->  Anomous function --->\n",
    "# Lambda variable : Condition"
   ]
  },
  {
   "cell_type": "code",
   "execution_count": 20,
   "id": "2657e3c8-5484-424d-b6eb-3b2ab318382f",
   "metadata": {},
   "outputs": [
    {
     "name": "stdout",
     "output_type": "stream",
     "text": [
      "Total value =  7\n"
     ]
    }
   ],
   "source": [
    "x = lambda a: a + 5\n",
    "print(\"Total value = \", x(2))\n",
    "\n",
    "# Ex.2\n",
    "# x = lambda a,b:a*b\n",
    "# print(\"Total product is=\", x(3,4))\n",
    "\n",
    "# Ex.3\n",
    "# x = lambda a,b,c : a+b-c\n",
    "# print(\"Total=\", x(4,5,6))\n"
   ]
  },
  {
   "cell_type": "code",
   "execution_count": 22,
   "id": "eae913b7-5fd6-4a81-bedb-063c421381b1",
   "metadata": {},
   "outputs": [],
   "source": [
    "# Filer function ---> container --->  sub-container filter."
   ]
  },
  {
   "cell_type": "code",
   "execution_count": 24,
   "id": "dfa75a80-3662-4070-aefb-999dad2de173",
   "metadata": {},
   "outputs": [
    {
     "name": "stdout",
     "output_type": "stream",
     "text": [
      "[5, 12, 17, 18]\n"
     ]
    }
   ],
   "source": [
    "ages = [5,12,17,18,34,67,50]\n",
    "def myFunc(x):\n",
    "    if(x<=18):\n",
    "        return True\n",
    "    else:\n",
    "        return False\n",
    "kid = list(filter(myFunc, ages))\n",
    "print(kid)"
   ]
  },
  {
   "cell_type": "code",
   "execution_count": 26,
   "id": "17587659-8e14-42b1-a875-bb8c1b1ba770",
   "metadata": {},
   "outputs": [],
   "source": [
    "# map() ---> Condition ---> apply overall data"
   ]
  },
  {
   "cell_type": "code",
   "execution_count": 28,
   "id": "e22b8cb5-a5c5-4252-b7a1-18a7b7482364",
   "metadata": {},
   "outputs": [
    {
     "name": "stdout",
     "output_type": "stream",
     "text": [
      "['3', '56', '90']\n",
      "[3, 56, 90]\n"
     ]
    }
   ],
   "source": [
    "a = [\"3\", \"56\", \"90\"]\n",
    "print(a)\n",
    "b = list(map(int, a))\n",
    "print(b)\n"
   ]
  },
  {
   "cell_type": "code",
   "execution_count": 32,
   "id": "4ece8917-4685-4236-9d90-c0c8557b960b",
   "metadata": {},
   "outputs": [],
   "source": [
    "a = [1,2,3,4]"
   ]
  },
  {
   "cell_type": "code",
   "execution_count": 34,
   "id": "1227f185-907e-4b49-b6eb-31e028b6f603",
   "metadata": {},
   "outputs": [
    {
     "name": "stdout",
     "output_type": "stream",
     "text": [
      "odd\n",
      "even\n",
      "odd\n",
      "even\n"
     ]
    },
    {
     "data": {
      "text/plain": [
       "[]"
      ]
     },
     "execution_count": 34,
     "metadata": {},
     "output_type": "execute_result"
    }
   ],
   "source": [
    "def oddeve(x):\n",
    "    if x%2==0:\n",
    "        print(\"even\")\n",
    "    else:\n",
    "        print(\"odd\")\n",
    "c = list(filter(oddeve ,a))\n",
    "c"
   ]
  },
  {
   "cell_type": "code",
   "execution_count": 40,
   "id": "09d36323-efbf-4b64-a2a9-da9c40221d65",
   "metadata": {},
   "outputs": [
    {
     "data": {
      "text/plain": [
       "[1, 4, 9, 16]"
      ]
     },
     "execution_count": 40,
     "metadata": {},
     "output_type": "execute_result"
    }
   ],
   "source": [
    "a = [1,2,3,4]\n",
    "\n",
    "def squ(x):\n",
    "    return x**2\n",
    "\n",
    "c = list(map(squ,a))\n",
    "c"
   ]
  },
  {
   "cell_type": "code",
   "execution_count": 42,
   "id": "bf1c694e-0eba-454d-a8e9-d0754525ae61",
   "metadata": {},
   "outputs": [],
   "source": [
    "#Function Keywords"
   ]
  },
  {
   "cell_type": "code",
   "execution_count": 48,
   "id": "492420a8-6824-4ce6-9405-fa334169a99b",
   "metadata": {},
   "outputs": [],
   "source": [
    "# 1. Required Arguments\n",
    "# 2. Default Arguments\n",
    "# 3. Keyword Arguments\n",
    "# 4. Variable- Length Arguments # *args keyword\n",
    "# 5  Variable - Length Arguments # **kwargs ketword"
   ]
  },
  {
   "cell_type": "code",
   "execution_count": null,
   "id": "0f32609c-7807-4f5a-8bf3-ed1423d60de9",
   "metadata": {},
   "outputs": [],
   "source": []
  }
 ],
 "metadata": {
  "kernelspec": {
   "display_name": "Python [conda env:base] *",
   "language": "python",
   "name": "conda-base-py"
  },
  "language_info": {
   "codemirror_mode": {
    "name": "ipython",
    "version": 3
   },
   "file_extension": ".py",
   "mimetype": "text/x-python",
   "name": "python",
   "nbconvert_exporter": "python",
   "pygments_lexer": "ipython3",
   "version": "3.12.7"
  }
 },
 "nbformat": 4,
 "nbformat_minor": 5
}

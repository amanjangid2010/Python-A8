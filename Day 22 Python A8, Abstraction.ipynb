{
 "cells": [
  {
   "cell_type": "code",
   "execution_count": 2,
   "id": "a8163e39-834b-4724-9ba4-73334ac51ad3",
   "metadata": {},
   "outputs": [],
   "source": [
    "#_\n",
    "#__ Privet"
   ]
  },
  {
   "cell_type": "code",
   "execution_count": 4,
   "id": "4920c7c9-26ae-4761-8c9a-579dc9db8a2e",
   "metadata": {},
   "outputs": [],
   "source": [
    "# Abstraction\n",
    "# to hide unwanted details"
   ]
  },
  {
   "cell_type": "code",
   "execution_count": 6,
   "id": "2bffa101-595e-4d9a-9324-fae2d221229d",
   "metadata": {},
   "outputs": [],
   "source": [
    "class Animal:\n",
    "    def legs(self):\n",
    "        print(\"Evey animal has 4 legs\")"
   ]
  },
  {
   "cell_type": "code",
   "execution_count": 8,
   "id": "1cba20d9-2b30-4a9b-a89a-f75c9e7ed978",
   "metadata": {},
   "outputs": [
    {
     "name": "stdout",
     "output_type": "stream",
     "text": [
      "Evey animal has 4 legs\n"
     ]
    }
   ],
   "source": [
    "a1 = Animal()\n",
    "a1.legs()"
   ]
  },
  {
   "cell_type": "code",
   "execution_count": 14,
   "id": "ae240b71-f5b4-4db3-b8cf-2d44297c7fc4",
   "metadata": {},
   "outputs": [],
   "source": [
    "class Animal:\n",
    "    def legs(self):\n",
    "        print(\"Evey animal has 4 legs\")\n",
    "\n",
    "class Spider(Animal):\n",
    "    def legs(self):\n",
    "        print(\"Spidr has 8 legs\")\n",
    "        \n",
    "    def work(self):\n",
    "        print(\"spider created it's own web\")\n",
    "        "
   ]
  },
  {
   "cell_type": "code",
   "execution_count": 16,
   "id": "7bb9e375-5494-4d1c-a0b2-40d82e26af16",
   "metadata": {},
   "outputs": [
    {
     "name": "stdout",
     "output_type": "stream",
     "text": [
      "Spidr has 8 legs\n"
     ]
    }
   ],
   "source": [
    "s1=Spider()\n",
    "s1.legs()"
   ]
  },
  {
   "cell_type": "code",
   "execution_count": 22,
   "id": "5e51a6b8-8d39-4e8e-ad40-0a3fb1968c3f",
   "metadata": {},
   "outputs": [],
   "source": [
    "class Animal:\n",
    "    def legs(self):\n",
    "        pass\n",
    "\n",
    "class Spider(Animal):\n",
    "    def legs(self):\n",
    "        print(\"Spidr has 8 legs\")\n",
    "        \n",
    "    def work(self):\n",
    "        print(\"spider created it's own web\")\n",
    "        "
   ]
  },
  {
   "cell_type": "code",
   "execution_count": 24,
   "id": "0c00ca09-53b7-4399-b3dd-2e3973582e2a",
   "metadata": {},
   "outputs": [
    {
     "name": "stdout",
     "output_type": "stream",
     "text": [
      "Spidr has 8 legs\n"
     ]
    }
   ],
   "source": [
    "s1=Spider()\n",
    "s1.legs()"
   ]
  },
  {
   "cell_type": "code",
   "execution_count": 30,
   "id": "7a29724e-ee5f-4d57-8df7-61b38d590e18",
   "metadata": {},
   "outputs": [],
   "source": [
    "from abc import ABC,abstractmethod   # abstract base class\n",
    "# every abstract class has abstract method\n",
    "# abstract method => implementation hum provide nhi kata\n",
    "# abstract method will be implemented into child class and it's compulsory\n",
    "\n",
    "\n",
    "class Animal(ABC):\n",
    "    @abstractmethod\n",
    "    def legs(self):\n",
    "        pass\n",
    "\n",
    "class Spider(Animal):\n",
    "    def legs(self):\n",
    "        print(\"spider class has 8 legs\")\n",
    "        \n",
    "    def work(self):\n",
    "        print(\"spider created it's own web\")"
   ]
  },
  {
   "cell_type": "code",
   "execution_count": 32,
   "id": "300226bb-92dc-41a0-8d81-62bc8dbd1b9d",
   "metadata": {},
   "outputs": [
    {
     "name": "stdout",
     "output_type": "stream",
     "text": [
      "spider class has 8 legs\n"
     ]
    }
   ],
   "source": [
    "s1=Spider()\n",
    "s1.legs()"
   ]
  },
  {
   "cell_type": "code",
   "execution_count": 34,
   "id": "ad81edcf-2e33-4a93-9241-8ed02c27c774",
   "metadata": {},
   "outputs": [
    {
     "ename": "TypeError",
     "evalue": "Can't instantiate abstract class Animal without an implementation for abstract method 'legs'",
     "output_type": "error",
     "traceback": [
      "\u001b[1;31m---------------------------------------------------------------------------\u001b[0m",
      "\u001b[1;31mTypeError\u001b[0m                                 Traceback (most recent call last)",
      "Cell \u001b[1;32mIn[34], line 1\u001b[0m\n\u001b[1;32m----> 1\u001b[0m a1\u001b[38;5;241m=\u001b[39mAnimal()\n\u001b[0;32m      2\u001b[0m a1\u001b[38;5;241m.\u001b[39mlegs\n",
      "\u001b[1;31mTypeError\u001b[0m: Can't instantiate abstract class Animal without an implementation for abstract method 'legs'"
     ]
    }
   ],
   "source": [
    "a1=Animal()\n",
    "a1.legs\n",
    "# agr humne kese class abstract class banya hai to usko access nhi kar skte hai\n",
    "# blue print use hoti hai child class ke liy"
   ]
  },
  {
   "cell_type": "code",
   "execution_count": 42,
   "id": "9ed70279-1677-4f7d-8fd8-5140129709f4",
   "metadata": {},
   "outputs": [],
   "source": [
    "from abc import ABC,abstractmethod\n",
    "'''\n",
    "if you want to achieve abstraction make sure you have abstract method\n",
    "to have  abstract method create it inside => abstract class\n",
    "to have abstract class you should inherit ABC (abstract bas class)\n",
    "\n",
    "* abstract class can't be instantiated (object nhi bana skte sirf use kr skte hai\n",
    " inside the child class)\n",
    " * abstract class works as blue for all child classes\n",
    " * abstract method ko implement krna hai child class \n",
    " (nhi kia child class mai => Error dega\n",
    " in case implement/override => no error)\n",
    "\n",
    "\n",
    "'''\n",
    "\n",
    "class Animal(ABC):\n",
    "    @abstractmethod\n",
    "    def legs(self):\n",
    "        pass\n",
    "\n",
    "    def breathe(self):\n",
    "        print(\"Animal do breathe\")\n",
    "\n",
    "class Spider(Animal):\n",
    "    def legs(self):\n",
    "        print(\"spider class has 8 legs\")\n",
    "        \n",
    "    def work(self):\n",
    "        print(\"spider created it's own web\")"
   ]
  },
  {
   "cell_type": "code",
   "execution_count": 40,
   "id": "fd9006f8-1a97-4c6d-8e08-e77318f100fd",
   "metadata": {},
   "outputs": [
    {
     "name": "stdout",
     "output_type": "stream",
     "text": [
      "Animal do breathe\n"
     ]
    }
   ],
   "source": [
    "s1 = Spider()\n",
    "s1.breathe()"
   ]
  },
  {
   "cell_type": "code",
   "execution_count": 44,
   "id": "234d31eb-8ebb-4517-9fbf-c1b4a2fbe996",
   "metadata": {},
   "outputs": [],
   "source": [
    "# age koi class abserct class hai ek abserct method hona he chaiye"
   ]
  },
  {
   "cell_type": "code",
   "execution_count": 50,
   "id": "f1271d88-3af3-41b3-8b97-dbd2dc613159",
   "metadata": {},
   "outputs": [],
   "source": [
    "class Bank:\n",
    "    def __init__(self,amount):\n",
    "        self.amount=amount\n",
    "\n",
    "    def depositmoney(self,x):\n",
    "        self.x=self.amount+x\n",
    "        "
   ]
  },
  {
   "cell_type": "code",
   "execution_count": 54,
   "id": "115af3bf-00ad-41ea-b472-92fe0feda1d4",
   "metadata": {},
   "outputs": [
    {
     "ename": "NameError",
     "evalue": "name 'depositmoney' is not defined",
     "output_type": "error",
     "traceback": [
      "\u001b[1;31m---------------------------------------------------------------------------\u001b[0m",
      "\u001b[1;31mNameError\u001b[0m                                 Traceback (most recent call last)",
      "Cell \u001b[1;32mIn[54], line 1\u001b[0m\n\u001b[1;32m----> 1\u001b[0m a1 \u001b[38;5;241m=\u001b[39m depositmoney()\n\u001b[0;32m      2\u001b[0m a1\u001b[38;5;241m.\u001b[39mdepositmoney\n",
      "\u001b[1;31mNameError\u001b[0m: name 'depositmoney' is not defined"
     ]
    }
   ],
   "source": [
    "a1 = depositmoney()\n",
    "a1.depositmoney"
   ]
  },
  {
   "cell_type": "code",
   "execution_count": 118,
   "id": "6fcd844e-2df3-47e7-959e-f4017b0ffa09",
   "metadata": {},
   "outputs": [],
   "source": [
    "class BankAccount:\n",
    "    def __init__(self, accountNo, amount):\n",
    "        self.accountNo=accountNo\n",
    "        self.amount=amount\n",
    "\n",
    "    def deposit(self, deposit_amount):\n",
    "        if deposit_amount>0:\n",
    "            self.amount+=deposit_amount\n",
    "            return f\"Amount {deposit_amount} deposited in you account {self.accountNo}\"\n",
    "        else:\n",
    "            return \"Amount value is in negative\"\n",
    "\n",
    "    def check_amount(self):\n",
    "        return \"Your account balance is {self.amount}\""
   ]
  },
  {
   "cell_type": "code",
   "execution_count": 124,
   "id": "8556d0fe-4b64-4815-b3c6-58ba1cc6a318",
   "metadata": {},
   "outputs": [
    {
     "name": "stdout",
     "output_type": "stream",
     "text": [
      "Amount 500 deposited in you account 101203\n",
      "Your account balance is {self.amount}\n"
     ]
    }
   ],
   "source": [
    "b1 = BankAccount(101203,5000)\n",
    "print(b1.deposit(500))\n",
    "print(b1.check_amount())\n"
   ]
  },
  {
   "cell_type": "code",
   "execution_count": null,
   "id": "d506c225-ae02-423c-a095-655ba470fa3e",
   "metadata": {},
   "outputs": [],
   "source": []
  }
 ],
 "metadata": {
  "kernelspec": {
   "display_name": "Python [conda env:base] *",
   "language": "python",
   "name": "conda-base-py"
  },
  "language_info": {
   "codemirror_mode": {
    "name": "ipython",
    "version": 3
   },
   "file_extension": ".py",
   "mimetype": "text/x-python",
   "name": "python",
   "nbconvert_exporter": "python",
   "pygments_lexer": "ipython3",
   "version": "3.12.7"
  }
 },
 "nbformat": 4,
 "nbformat_minor": 5
}

{
 "cells": [
  {
   "cell_type": "code",
   "execution_count": 2,
   "id": "905dff5e-2b7e-4cca-9bdc-77282d382555",
   "metadata": {},
   "outputs": [],
   "source": [
    "# Question 1: Find the Second Largest Element in a list"
   ]
  },
  {
   "cell_type": "code",
   "execution_count": 8,
   "id": "d3fe3a1b-5ecd-4f04-9e80-f17611091607",
   "metadata": {},
   "outputs": [
    {
     "name": "stdout",
     "output_type": "stream",
     "text": [
      "[99, 4, 10, 45, 20]\n",
      "[99, 45, 20, 10, 4]\n",
      "Second Max Eelement = 45\n"
     ]
    }
   ],
   "source": [
    "arr = [10,20,4,45,99,99]\n",
    "\n",
    "# Remove duplicates and sort in descending order\n",
    "\n",
    "unique_arr = list(set(arr))\n",
    "print(unique_arr)\n",
    "unique_arr.sort(reverse=True)\n",
    "print(unique_arr)\n",
    "\n",
    "print(\"Second Max Eelement =\", unique_arr[1])"
   ]
  },
  {
   "cell_type": "code",
   "execution_count": 10,
   "id": "b1f56251-8818-4b26-bd61-fce28bb3a50a",
   "metadata": {},
   "outputs": [],
   "source": [
    "# Question 2: Check if a List Palindrome"
   ]
  },
  {
   "cell_type": "code",
   "execution_count": 20,
   "id": "97e1cc85-6110-4fb0-a258-6db6d193d173",
   "metadata": {},
   "outputs": [
    {
     "name": "stdout",
     "output_type": "stream",
     "text": [
      "List is Palindrome...\n"
     ]
    }
   ],
   "source": [
    "arr = [1,2,3,2,1]\n",
    "\n",
    "# Check if List is equal to its reverse\n",
    "\n",
    "#is_palindrome = arr == arr[::-1]\n",
    "\n",
    "#print(is_palindrome)  # Outupt: True\n",
    "\n",
    "if(arr==arr[::-1]):\n",
    "    print(\"List is Palindrome...\")\n",
    "\n",
    "else:\n",
    "    print(\"Not Palindrome...\")"
   ]
  },
  {
   "cell_type": "code",
   "execution_count": 22,
   "id": "0210c339-598c-41c3-b8be-cac20753ed69",
   "metadata": {},
   "outputs": [],
   "source": [
    "# Question 3: Find All Duplicate Elements in a List"
   ]
  },
  {
   "cell_type": "code",
   "execution_count": 24,
   "id": "b6fc3030-5c5e-4004-ac8a-13808389ebec",
   "metadata": {},
   "outputs": [
    {
     "name": "stdout",
     "output_type": "stream",
     "text": [
      "{1: 2, 2: 2, 3: 1, 4: 1, 5: 1, 6: 1, 7: 2}\n",
      "[1, 2, 7]\n"
     ]
    }
   ],
   "source": [
    "arr = [1,2,3,2,4,5,1,6,7,7]\n",
    "duplicates = []\n",
    "\n",
    "# Store count of each element in dictionary\n",
    "count_dict= {}\n",
    "\n",
    "for num in arr:\n",
    "    count_dict[num] = count_dict.get(num,0)+1\n",
    "print(count_dict)\n",
    "\n",
    "# Find elements that appear more than once\n",
    "duplicates = [key for key, value in count_dict.items() if value > 1]\n",
    "\n",
    "print(duplicates) # Output : [1,2,7]"
   ]
  },
  {
   "cell_type": "code",
   "execution_count": 26,
   "id": "dd8b2ae5-da43-44a9-a9b2-5d09a67d8df9",
   "metadata": {},
   "outputs": [],
   "source": [
    "# Question 4: Rotate List by K Positions"
   ]
  },
  {
   "cell_type": "code",
   "execution_count": 28,
   "id": "7fb2626f-c891-4c7c-8c2b-8660c7e3470d",
   "metadata": {},
   "outputs": [
    {
     "name": "stdout",
     "output_type": "stream",
     "text": [
      "[4, 5, 1, 2, 3]\n"
     ]
    }
   ],
   "source": [
    "arr = [1,2,3,4,5]\n",
    "k = 2\n",
    "\n",
    "# Rotate the list using slicing\n",
    "rotated_arr = arr[-k:] + arr[:-k]\n",
    "\n",
    "print(rotated_arr) # Output: [4,5,1,2,3]"
   ]
  },
  {
   "cell_type": "code",
   "execution_count": 30,
   "id": "9327cc72-71ed-4897-8704-ff6b9f8749ce",
   "metadata": {},
   "outputs": [],
   "source": [
    "# Question 5: Find the Intersection of Two Lists"
   ]
  },
  {
   "cell_type": "code",
   "execution_count": 38,
   "id": "05bfbf8f-f56e-454e-aa22-fd8c9c2e8c34",
   "metadata": {},
   "outputs": [
    {
     "name": "stdout",
     "output_type": "stream",
     "text": [
      "[9, 26, 11, 28]\n"
     ]
    }
   ],
   "source": [
    "list1 = [4, 9, 1, 17, 11, 26, 28, 54, 69]\n",
    "list2 = [9, 9, 74, 21, 45, 11, 63, 28, 26]\n",
    "\n",
    "common = list(set(list1) & set(list2))\n",
    "print(common)\n"
   ]
  },
  {
   "cell_type": "code",
   "execution_count": 40,
   "id": "c1c816bd-6441-4372-a4f0-7b772bdfa394",
   "metadata": {},
   "outputs": [
    {
     "name": "stdout",
     "output_type": "stream",
     "text": [
      "Common Elements are:  [2, 3]\n"
     ]
    }
   ],
   "source": [
    "a = [1,2,3,4]\n",
    "b = [2,3,5,6]\n",
    "c = set(a)\n",
    "d = set(b)\n",
    "e = c.intersection(d)\n",
    "print(\"Common Elements are: \", list(e))"
   ]
  },
  {
   "cell_type": "code",
   "execution_count": 42,
   "id": "27226e1e-8608-4dfa-b887-87db6d6f1d08",
   "metadata": {},
   "outputs": [],
   "source": [
    "# Question 6: Find the Maximum Element In a List"
   ]
  },
  {
   "cell_type": "code",
   "execution_count": 46,
   "id": "2c97d08a-4da0-456e-a35b-9e1b5a23eb5a",
   "metadata": {},
   "outputs": [
    {
     "name": "stdout",
     "output_type": "stream",
     "text": [
      "Maximum element: 8\n"
     ]
    }
   ],
   "source": [
    "arr = [3,1,8,2,5,7]\n",
    "max_value = arr[0] # Assume first element is max\n",
    "\n",
    "for num in arr:\n",
    "    if num > max_value:\n",
    "        max_value = num # Update max if a Larger value is found\n",
    "\n",
    "print(\"Maximum element:\", max_value)"
   ]
  },
  {
   "cell_type": "code",
   "execution_count": null,
   "id": "41b48609-ad6f-4096-9973-476d3de2c967",
   "metadata": {},
   "outputs": [],
   "source": []
  },
  {
   "cell_type": "markdown",
   "id": "d740eaef-91d0-41cf-9ee6-e7ee40c3d3f2",
   "metadata": {},
   "source": [
    "##### a = [1,2,3,4,5]\n",
    "a = []\n",
    "size = int(input(\"enter size:\"))\n",
    "for i in range(size):\n",
    "    val = int(input(\"Enter element: \"))\n",
    "    a.append(val)\n",
    "print(a)\n",
    "sum = 0\n",
    "for i in range(len(a)):\n",
    "    sum = sum +a[i]\n",
    "print(\"Total Sum = \" , sum)"
   ]
  },
  {
   "cell_type": "code",
   "execution_count": 62,
   "id": "f79f2b2c-e63e-47bd-8b2b-a96bd1ee29f9",
   "metadata": {},
   "outputs": [
    {
     "name": "stdin",
     "output_type": "stream",
     "text": [
      "enter size: 5\n",
      "enter element: 1\n",
      "enter element: 2\n",
      "enter element: 34\n",
      "enter element: 5\n",
      "enter element: 5\n"
     ]
    },
    {
     "name": "stdout",
     "output_type": "stream",
     "text": [
      "[1, 2, 34, 5, 5]\n",
      "Toral sum =  47\n"
     ]
    }
   ],
   "source": [
    "# a = [1,2,3,4,5]\n",
    "a= []\n",
    "size = int(input(\"enter size:\"))\n",
    "for i in range(size):\n",
    "    val = int(input(\"enter element:\"))\n",
    "    a.append(val)\n",
    "\n",
    "print(a)\n",
    "sum = 0\n",
    "for i in range(len(a)):\n",
    "    sum = sum + a[i]\n",
    "print(\"Toral sum = \", sum)"
   ]
  },
  {
   "cell_type": "code",
   "execution_count": null,
   "id": "dc8ea65d-fdb7-4c96-a4b6-8c6fd6713973",
   "metadata": {},
   "outputs": [],
   "source": []
  }
 ],
 "metadata": {
  "kernelspec": {
   "display_name": "Python [conda env:base] *",
   "language": "python",
   "name": "conda-base-py"
  },
  "language_info": {
   "codemirror_mode": {
    "name": "ipython",
    "version": 3
   },
   "file_extension": ".py",
   "mimetype": "text/x-python",
   "name": "python",
   "nbconvert_exporter": "python",
   "pygments_lexer": "ipython3",
   "version": "3.12.7"
  }
 },
 "nbformat": 4,
 "nbformat_minor": 5
}

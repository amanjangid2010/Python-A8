{
 "cells": [
  {
   "cell_type": "code",
   "execution_count": 2,
   "id": "401b90bf-a73c-4994-bff0-86b18d219e05",
   "metadata": {},
   "outputs": [],
   "source": [
    "def func(x):\n",
    "    print(x)\n",
    "    "
   ]
  },
  {
   "cell_type": "code",
   "execution_count": 4,
   "id": "99c3dc22-a930-4454-8165-31b42e461576",
   "metadata": {},
   "outputs": [
    {
     "name": "stdout",
     "output_type": "stream",
     "text": [
      "10\n"
     ]
    }
   ],
   "source": [
    "func(10)"
   ]
  },
  {
   "cell_type": "code",
   "execution_count": 6,
   "id": "66bc360c-6efc-41b5-9471-777017e5d377",
   "metadata": {},
   "outputs": [
    {
     "name": "stdout",
     "output_type": "stream",
     "text": [
      "<function func at 0x0000022A7638C5E0> <function func at 0x0000022A7638C5E0>\n"
     ]
    }
   ],
   "source": [
    "x=func\n",
    "print(func,x)"
   ]
  },
  {
   "cell_type": "code",
   "execution_count": 8,
   "id": "088f457c-79ef-428c-a26d-e3225d81ca80",
   "metadata": {},
   "outputs": [
    {
     "name": "stdout",
     "output_type": "stream",
     "text": [
      "10\n"
     ]
    }
   ],
   "source": [
    "x(10)"
   ]
  },
  {
   "cell_type": "code",
   "execution_count": 10,
   "id": "39336058-c6d7-4c24-afa7-52f433fd45d8",
   "metadata": {},
   "outputs": [
    {
     "name": "stdout",
     "output_type": "stream",
     "text": [
      "10\n"
     ]
    }
   ],
   "source": [
    "func(10)"
   ]
  },
  {
   "cell_type": "code",
   "execution_count": 12,
   "id": "bf71d6ec-7c61-4fdb-96a0-7468c2a37cf3",
   "metadata": {},
   "outputs": [],
   "source": [
    "# how to pass another function as a argument to another functions"
   ]
  },
  {
   "cell_type": "code",
   "execution_count": 14,
   "id": "d11dbf09-5a59-4006-ab80-e8b86b89be0b",
   "metadata": {},
   "outputs": [
    {
     "name": "stdout",
     "output_type": "stream",
     "text": [
      "70\n"
     ]
    }
   ],
   "source": [
    "def addNo(num):\n",
    "    print(num+50)\n",
    "addNo(20)"
   ]
  },
  {
   "cell_type": "code",
   "execution_count": 16,
   "id": "37812a71-ef7e-40cb-938e-f3aad0110ba1",
   "metadata": {},
   "outputs": [
    {
     "name": "stdout",
     "output_type": "stream",
     "text": [
      "70\n",
      "None\n"
     ]
    }
   ],
   "source": [
    "print( addNo(20))"
   ]
  },
  {
   "cell_type": "code",
   "execution_count": 18,
   "id": "123edc90-20d8-4253-827b-51af780c6b3b",
   "metadata": {},
   "outputs": [
    {
     "name": "stdout",
     "output_type": "stream",
     "text": [
      "X& Y 10 20\n"
     ]
    }
   ],
   "source": [
    "def addNo(num):\n",
    "    print(num+50)\n",
    "\n",
    "def graceNumber(x,y):\n",
    "    print(\"X& Y\",x,y)\n",
    "\n",
    "graceNumber(10,20)\n"
   ]
  },
  {
   "cell_type": "code",
   "execution_count": 20,
   "id": "786da0a0-5931-4c64-b014-f11e48999d1f",
   "metadata": {},
   "outputs": [
    {
     "name": "stdout",
     "output_type": "stream",
     "text": [
      "65\n",
      "X& Y 10 None\n"
     ]
    }
   ],
   "source": [
    "def addNo(num):\n",
    "    print(num+50)\n",
    "\n",
    "def graceNumber(x,y):\n",
    "    print(\"X& Y\",x,y)\n",
    "\n",
    "graceNumber(10,addNo(15))"
   ]
  },
  {
   "cell_type": "code",
   "execution_count": 24,
   "id": "788375fe-55b2-4a86-90f5-303e267c0f4b",
   "metadata": {},
   "outputs": [
    {
     "name": "stdout",
     "output_type": "stream",
     "text": [
      "X & Y 10 <function addNo at 0x0000022A74D09BC0>\n"
     ]
    }
   ],
   "source": [
    "def addNo(num):\n",
    "    print(num+50)\n",
    "\n",
    "def graceNumber(x,y):\n",
    "    print(\"X & Y\",x,y)\n",
    "\n",
    "graceNumber(10,addNo)"
   ]
  },
  {
   "cell_type": "code",
   "execution_count": 26,
   "id": "468b0bcd-3042-4747-a2a5-65ace48c3f3c",
   "metadata": {},
   "outputs": [
    {
     "name": "stdout",
     "output_type": "stream",
     "text": [
      "X & Y 10 65\n"
     ]
    }
   ],
   "source": [
    "def addNo(num):\n",
    "    return num+50\n",
    "\n",
    "def graceNumber(x,y):\n",
    "    print(\"X & Y\",x,y(15))\n",
    "\n",
    "graceNumber(10,addNo)"
   ]
  },
  {
   "cell_type": "code",
   "execution_count": 30,
   "id": "7215935c-c55c-4d7d-9962-dd926f43abca",
   "metadata": {},
   "outputs": [
    {
     "name": "stdout",
     "output_type": "stream",
     "text": [
      "X & Y 75\n"
     ]
    }
   ],
   "source": [
    "def addNo(num):\n",
    "    return num+50\n",
    "\n",
    "def graceNumber(x,y):\n",
    "    print(\"X & Y\",x+y(15))\n",
    "\n",
    "graceNumber(10,addNo)"
   ]
  },
  {
   "cell_type": "code",
   "execution_count": 34,
   "id": "ab3e2bb7-6559-4c65-a543-08c8da4b4f08",
   "metadata": {},
   "outputs": [],
   "source": [
    "# saare high order are first classs function"
   ]
  },
  {
   "cell_type": "code",
   "execution_count": 36,
   "id": "42e4a865-0b94-46f5-b147-721c1238f145",
   "metadata": {},
   "outputs": [],
   "source": [
    "# Lambda functions\n",
    "# single line yh one line function\n",
    "# code simple banana\n",
    "# annymous function => Lambda function dono same hote hai"
   ]
  },
  {
   "cell_type": "code",
   "execution_count": 38,
   "id": "1453758f-79c4-483c-8dab-b343d9c7cd54",
   "metadata": {},
   "outputs": [],
   "source": [
    "def func(num):\n",
    "    return num+5"
   ]
  },
  {
   "cell_type": "code",
   "execution_count": 40,
   "id": "9acc9bde-2152-4bd9-9a88-2f5c092f80da",
   "metadata": {},
   "outputs": [
    {
     "data": {
      "text/plain": [
       "15"
      ]
     },
     "execution_count": 40,
     "metadata": {},
     "output_type": "execute_result"
    }
   ],
   "source": [
    "func(10)"
   ]
  },
  {
   "cell_type": "code",
   "execution_count": 42,
   "id": "4060a7f6-a945-4246-90c5-3294c0ccbf71",
   "metadata": {},
   "outputs": [],
   "source": [
    "# lambda parameter , par2 : expression\n"
   ]
  },
  {
   "cell_type": "code",
   "execution_count": 44,
   "id": "77f99ace-6d2a-4af1-9a46-a3ebc216d73e",
   "metadata": {},
   "outputs": [
    {
     "data": {
      "text/plain": [
       "<function __main__.<lambda>(num)>"
      ]
     },
     "execution_count": 44,
     "metadata": {},
     "output_type": "execute_result"
    }
   ],
   "source": [
    "lambda num : num+5"
   ]
  },
  {
   "cell_type": "code",
   "execution_count": 46,
   "id": "411c106c-78c3-41b3-8407-5d87d67583b8",
   "metadata": {},
   "outputs": [
    {
     "data": {
      "text/plain": [
       "15"
      ]
     },
     "execution_count": 46,
     "metadata": {},
     "output_type": "execute_result"
    }
   ],
   "source": [
    "x = lambda num: num+5\n",
    "x(10)"
   ]
  },
  {
   "cell_type": "code",
   "execution_count": 48,
   "id": "08ab6b18-aa92-4d19-aea0-74c60fe5f5fb",
   "metadata": {},
   "outputs": [],
   "source": [
    "# dusere function ke saath use karte hai high oredre ke saath use kar skte hai"
   ]
  },
  {
   "cell_type": "code",
   "execution_count": 50,
   "id": "4a9855a3-eeb8-44ef-a124-123299ddb58e",
   "metadata": {},
   "outputs": [],
   "source": [
    "# func(func) => high oredr funchion\n",
    "# map , filter , reduce"
   ]
  },
  {
   "cell_type": "code",
   "execution_count": 52,
   "id": "ec4f709a-52c8-47a3-adc0-c103d466e93e",
   "metadata": {},
   "outputs": [
    {
     "data": {
      "text/plain": [
       "15"
      ]
     },
     "execution_count": 52,
     "metadata": {},
     "output_type": "execute_result"
    }
   ],
   "source": [
    "def addNo(num):\n",
    "    return num+5\n",
    "\n",
    "addNo(10)"
   ]
  },
  {
   "cell_type": "code",
   "execution_count": 54,
   "id": "5e33de21-58fa-4f21-8f7d-5bfe7eaf88a3",
   "metadata": {},
   "outputs": [
    {
     "data": {
      "text/plain": [
       "15"
      ]
     },
     "execution_count": 54,
     "metadata": {},
     "output_type": "execute_result"
    }
   ],
   "source": [
    "mylist=[10,20,30]\n",
    "out=map(addNo,mylist)\n",
    "next(out)"
   ]
  },
  {
   "cell_type": "code",
   "execution_count": 56,
   "id": "d85bb6a9-c78c-4bb7-bcea-a70796fcabf0",
   "metadata": {},
   "outputs": [
    {
     "data": {
      "text/plain": [
       "25"
      ]
     },
     "execution_count": 56,
     "metadata": {},
     "output_type": "execute_result"
    }
   ],
   "source": [
    "next(out)"
   ]
  },
  {
   "cell_type": "code",
   "execution_count": 58,
   "id": "eb3af02e-59bf-43a5-8cdc-2f8303578ead",
   "metadata": {},
   "outputs": [
    {
     "data": {
      "text/plain": [
       "15"
      ]
     },
     "execution_count": 58,
     "metadata": {},
     "output_type": "execute_result"
    }
   ],
   "source": [
    "mylist=[10,20,30]\n",
    "out=map(lambda num: num+5,mylist)\n",
    "next(out)"
   ]
  },
  {
   "cell_type": "code",
   "execution_count": 60,
   "id": "653005be-2154-4b3e-9f4a-b2ea7993e8e4",
   "metadata": {},
   "outputs": [],
   "source": [
    "mylist=[10]\n",
    "#dir"
   ]
  },
  {
   "cell_type": "code",
   "execution_count": 62,
   "id": "d238f1bd-210d-4cd3-9d3e-916650d5328e",
   "metadata": {},
   "outputs": [],
   "source": [
    "# jis data type __iter__ \n",
    "#jum hum for loop chalta hai next function bar bar chalta jata hai\n",
    "# for loop extucut next function \n"
   ]
  },
  {
   "cell_type": "code",
   "execution_count": 68,
   "id": "c20ca4f7-4130-4719-b47e-7773ec74fa18",
   "metadata": {},
   "outputs": [
    {
     "data": {
      "text/plain": [
       "[True, True, False, True]"
      ]
     },
     "execution_count": 68,
     "metadata": {},
     "output_type": "execute_result"
    }
   ],
   "source": [
    "mylist=[10,20,25,30]\n",
    "list(map(lambda num: num%2==0,mylist))\n"
   ]
  },
  {
   "cell_type": "code",
   "execution_count": 70,
   "id": "eb9fc944-47a2-48b2-b664-c9df5514a5b1",
   "metadata": {},
   "outputs": [
    {
     "data": {
      "text/plain": [
       "[10, 20, 30]"
      ]
     },
     "execution_count": 70,
     "metadata": {},
     "output_type": "execute_result"
    }
   ],
   "source": [
    "mylist=[10,20,25,30]\n",
    "list(filter(lambda num: num%2==0,mylist))"
   ]
  },
  {
   "cell_type": "code",
   "execution_count": null,
   "id": "896efb71-0627-45db-95b4-cbd33f468a0a",
   "metadata": {},
   "outputs": [],
   "source": []
  }
 ],
 "metadata": {
  "kernelspec": {
   "display_name": "Python [conda env:base] *",
   "language": "python",
   "name": "conda-base-py"
  },
  "language_info": {
   "codemirror_mode": {
    "name": "ipython",
    "version": 3
   },
   "file_extension": ".py",
   "mimetype": "text/x-python",
   "name": "python",
   "nbconvert_exporter": "python",
   "pygments_lexer": "ipython3",
   "version": "3.12.7"
  }
 },
 "nbformat": 4,
 "nbformat_minor": 5
}

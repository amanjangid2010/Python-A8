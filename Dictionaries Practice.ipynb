{
 "cells": [
  {
   "cell_type": "code",
   "execution_count": 4,
   "id": "3d08f3b8-fdfd-47c0-96cf-0ddcae56a16f",
   "metadata": {},
   "outputs": [],
   "source": [
    "# Dictionary"
   ]
  },
  {
   "cell_type": "code",
   "execution_count": 9,
   "id": "88dc622e-5554-4f26-9f08-ff01c730b8dd",
   "metadata": {},
   "outputs": [],
   "source": [
    "# 1. Question: Remove Keys with Specific Values\n",
    "# Problem Statement:\n",
    "# Given a dictionary, remove all key-value pairs where the value is below a given threshod."
   ]
  },
  {
   "cell_type": "code",
   "execution_count": 11,
   "id": "bd087beb-a4e2-45c0-8fc1-bab306fedd79",
   "metadata": {},
   "outputs": [
    {
     "name": "stdout",
     "output_type": "stream",
     "text": [
      "{'Alice': 85, 'Charlie': 90}\n"
     ]
    }
   ],
   "source": [
    "def remove_low_values(data, threshold):\n",
    "    return {key: value for key, value in data.items() if value >= threshold}\n",
    "\n",
    "# Test the function\n",
    "data = {\"Alice\": 85, \"Bob\": 40, \"Charlie\": 90, \"Devid\": 30}\n",
    "threshold = 50\n",
    "print(remove_low_values(data, threshold))"
   ]
  },
  {
   "cell_type": "code",
   "execution_count": 13,
   "id": "04b97994-ba40-4a5e-aca0-93c643ed3870",
   "metadata": {},
   "outputs": [],
   "source": [
    "# Question : Find Common Keys in Two Dictionaries\n",
    "# Problem Statement:\n",
    "# Given two dictionaries, return a lsit of keys that exist in both.\n"
   ]
  },
  {
   "cell_type": "code",
   "execution_count": 17,
   "id": "1923786b-4643-45f8-aa91-71d33c7f51e4",
   "metadata": {},
   "outputs": [
    {
     "name": "stdout",
     "output_type": "stream",
     "text": [
      "['c', 'b']\n"
     ]
    }
   ],
   "source": [
    "def common_keys(dict1, dict2):\n",
    "    return list(set(dict1.keys()) & set(dict2.keys()))\n",
    "\n",
    "# Test the function\n",
    "dict1 = {\"a\":1, \"b\":2, \"c\":3}\n",
    "dict2 = {\"b\":4, \"c\":5, \"d\":6}\n",
    "print(common_keys(dict1, dict2))"
   ]
  },
  {
   "cell_type": "code",
   "execution_count": 19,
   "id": "c915ac38-1b96-4712-b7a2-4eb5b285ffc1",
   "metadata": {},
   "outputs": [],
   "source": [
    "# Question : Find the key with the Maxium value\n",
    "# Problem Statement:\n",
    "# Given a dictionary of sales data, find the salesperson with the highest sales."
   ]
  },
  {
   "cell_type": "code",
   "execution_count": 21,
   "id": "f0cf65e6-de17-426a-bfed-07232355dbe8",
   "metadata": {},
   "outputs": [
    {
     "name": "stdout",
     "output_type": "stream",
     "text": [
      "Alice\n"
     ]
    }
   ],
   "source": [
    "def max_sales(sales):\n",
    "    return max(sales, key=sales.get)\n",
    "\n",
    "# Test the function\n",
    "sales = {\"John\": 5000, \"Alice\": 7000, \"Bob\": 6500}\n",
    "print(max_sales(sales))"
   ]
  },
  {
   "cell_type": "code",
   "execution_count": 29,
   "id": "f54a47ad-6153-46e9-9535-43cb25296627",
   "metadata": {},
   "outputs": [
    {
     "name": "stdout",
     "output_type": "stream",
     "text": [
      "Sales: [5000, 7000, 6500]\n",
      "7000\n"
     ]
    },
    {
     "data": {
      "text/plain": [
       "'Alice'"
      ]
     },
     "execution_count": 29,
     "metadata": {},
     "output_type": "execute_result"
    }
   ],
   "source": [
    "sales = {\"John\": 5000, \"Alice\": 7000, \"Bob\": 6500}\n",
    "b = sales.values()\n",
    "b = list(b)\n",
    "print(\"Sales:\",b)\n",
    "c = sales.keys()\n",
    "c = list(c)\n",
    "max_price = max(b)\n",
    "print(max_price)\n",
    "index = b.index(max_price)\n",
    "index\n",
    "c[index]"
   ]
  },
  {
   "cell_type": "code",
   "execution_count": null,
   "id": "4abcf5fc-69ae-489d-bd93-249fb788341c",
   "metadata": {},
   "outputs": [],
   "source": []
  }
 ],
 "metadata": {
  "kernelspec": {
   "display_name": "Python [conda env:base] *",
   "language": "python",
   "name": "conda-base-py"
  },
  "language_info": {
   "codemirror_mode": {
    "name": "ipython",
    "version": 3
   },
   "file_extension": ".py",
   "mimetype": "text/x-python",
   "name": "python",
   "nbconvert_exporter": "python",
   "pygments_lexer": "ipython3",
   "version": "3.12.7"
  }
 },
 "nbformat": 4,
 "nbformat_minor": 5
}

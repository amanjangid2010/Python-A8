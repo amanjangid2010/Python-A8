{
 "cells": [
  {
   "cell_type": "markdown",
   "id": "f5dc1797-9fae-4f9e-a2f9-c35dbadebfdb",
   "metadata": {},
   "source": [
    "# Encapsulation"
   ]
  },
  {
   "cell_type": "raw",
   "id": "77524977-273b-4d6b-b4d3-5668de903ae6",
   "metadata": {},
   "source": [
    "# variable, method => binding\n",
    "# class\n",
    "# to define the accessibility\n",
    "# access modifier => public, private, protected, default\n",
    "# public to all same python main bhi access ho skta or kese file main rhak hai to wha bhi use ho\n",
    "skta hai\n",
    "# private => class main he use kar skte hai\n",
    "# protected => inherited class he use kar skte hai\n",
    "# default => (Package protected) folder hai iska mtlab\n",
    "# python main public , private , protected kuch bhi nhi hota"
   ]
  },
  {
   "cell_type": "code",
   "execution_count": 14,
   "id": "92da67be-c4f7-4ecb-b49a-93680d542fe0",
   "metadata": {},
   "outputs": [],
   "source": [
    "class ABC:\n",
    "    x = 10"
   ]
  },
  {
   "cell_type": "code",
   "execution_count": 16,
   "id": "90f2875e-d14c-457b-9c07-e5142e8d8cbe",
   "metadata": {},
   "outputs": [
    {
     "name": "stdout",
     "output_type": "stream",
     "text": [
      "10\n"
     ]
    }
   ],
   "source": [
    "class regex1:\n",
    "    print(ABC.x)"
   ]
  },
  {
   "cell_type": "code",
   "execution_count": 18,
   "id": "ad1b667a-1f89-449f-97f3-8ece36edd3a3",
   "metadata": {},
   "outputs": [],
   "source": [
    "# protected => _a = 10\n",
    "class ABC:\n",
    "    _x = 10"
   ]
  },
  {
   "cell_type": "code",
   "execution_count": 20,
   "id": "ebf6b9d7-6215-4e5d-b180-de1bc4d59b2e",
   "metadata": {},
   "outputs": [
    {
     "name": "stdout",
     "output_type": "stream",
     "text": [
      "10\n"
     ]
    }
   ],
   "source": [
    "class regex1:\n",
    "    print(ABC._x)"
   ]
  },
  {
   "cell_type": "code",
   "execution_count": 24,
   "id": "417a7a60-26a2-4b84-a8e8-e798b6b84979",
   "metadata": {},
   "outputs": [],
   "source": [
    "# private => __a\n",
    "class ABC:\n",
    "    _x=10\n",
    "    __salary=900 # __var=> _class__variable"
   ]
  },
  {
   "cell_type": "code",
   "execution_count": 28,
   "id": "67ea9631-8357-4c06-afec-ac0218237ae0",
   "metadata": {},
   "outputs": [
    {
     "data": {
      "text/plain": [
       "900"
      ]
     },
     "execution_count": 28,
     "metadata": {},
     "output_type": "execute_result"
    }
   ],
   "source": [
    "a1=ABC()\n",
    "a1._ABC__salary"
   ]
  },
  {
   "cell_type": "markdown",
   "id": "ce632956-32f3-4d09-a535-d957fa28ea91",
   "metadata": {},
   "source": [
    "# Abstract Class"
   ]
  },
  {
   "cell_type": "code",
   "execution_count": 45,
   "id": "0d7328df-eedc-4012-93d4-dcb1f5db9480",
   "metadata": {},
   "outputs": [],
   "source": [
    "# abstract => hiding the unwanted details ( unwanted details ko hide karna)"
   ]
  },
  {
   "cell_type": "code",
   "execution_count": 81,
   "id": "2b1decad-6759-45c6-b8cd-edc8fee101c1",
   "metadata": {},
   "outputs": [],
   "source": [
    "# abstract class => dusri class ke liy as blueprint kaam karta hai\n",
    "# abstract method = > \n",
    "class Company:\n",
    "    name=\"regex software\"\n",
    "    def salary(self):\n",
    "        pass         # keyword hai jo syntax ko pura karta hai"
   ]
  },
  {
   "cell_type": "code",
   "execution_count": 83,
   "id": "90120c4b-521e-4be9-94a2-caf07bd4fa00",
   "metadata": {},
   "outputs": [],
   "source": [
    "class Employee(Company):\n",
    "    def info(self):\n",
    "        print(\"Employee name is aman\")\n",
    "    def salary(self):\n",
    "        print(\"salary is 20000\")"
   ]
  },
  {
   "cell_type": "code",
   "execution_count": 85,
   "id": "5a9ddcdf-2127-4797-8e95-b7980951e096",
   "metadata": {},
   "outputs": [
    {
     "name": "stdout",
     "output_type": "stream",
     "text": [
      "salary is 20000\n"
     ]
    }
   ],
   "source": [
    "e1=Employee()\n",
    "e1.salary()"
   ]
  },
  {
   "cell_type": "code",
   "execution_count": 89,
   "id": "e75a6661-6800-423d-b33a-5d527ccb50ce",
   "metadata": {},
   "outputs": [],
   "source": [
    "from abc import ABC, abstractmethod\n",
    "\n",
    "# ABC => ABSTRACT BASE CLASS\n",
    "class Company(ABC):\n",
    "    name=\"regex software\"\n",
    "\n",
    "    @abstractmethod\n",
    "    def salary(self):\n",
    "        pass"
   ]
  },
  {
   "cell_type": "code",
   "execution_count": 91,
   "id": "aed13905-14f7-4a19-98fe-dcc00ea21a67",
   "metadata": {},
   "outputs": [],
   "source": [
    "class Employee(Company):\n",
    "    def info(self):\n",
    "        print(\"Employee name is aman\")\n",
    "    def salary(self):\n",
    "        print(\"Salary for employee is 20000\")"
   ]
  },
  {
   "cell_type": "code",
   "execution_count": 99,
   "id": "22e96268-75e3-4961-bf9f-5bd5f106ad37",
   "metadata": {},
   "outputs": [
    {
     "name": "stdout",
     "output_type": "stream",
     "text": [
      "Salary for employee is 20000\n"
     ]
    }
   ],
   "source": [
    "e1=Employee()\n",
    "e1.name\n",
    "e1.salary()"
   ]
  },
  {
   "cell_type": "code",
   "execution_count": null,
   "id": "ab3973a1-1022-4551-ba9a-901c7eb26a1c",
   "metadata": {},
   "outputs": [],
   "source": []
  }
 ],
 "metadata": {
  "kernelspec": {
   "display_name": "Python [conda env:base] *",
   "language": "python",
   "name": "conda-base-py"
  },
  "language_info": {
   "codemirror_mode": {
    "name": "ipython",
    "version": 3
   },
   "file_extension": ".py",
   "mimetype": "text/x-python",
   "name": "python",
   "nbconvert_exporter": "python",
   "pygments_lexer": "ipython3",
   "version": "3.12.7"
  }
 },
 "nbformat": 4,
 "nbformat_minor": 5
}

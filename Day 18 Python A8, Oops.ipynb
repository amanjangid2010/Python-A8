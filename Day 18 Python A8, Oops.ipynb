{
 "cells": [
  {
   "cell_type": "code",
   "execution_count": 4,
   "id": "ab268331-5fac-43c7-8098-277539406806",
   "metadata": {},
   "outputs": [],
   "source": [
    "# oops => object-oriented programming system\n",
    "# object => real time entity => (entity)=> craracterstic & behaviour\n",
    "# oops ek consectp hai\n",
    "# what is papert"
   ]
  },
  {
   "cell_type": "code",
   "execution_count": 6,
   "id": "c93ae39f-82eb-4fdf-8059-64b594dfe534",
   "metadata": {},
   "outputs": [],
   "source": [
    "class HouseBlueprint:\n",
    "    owner=\"tushar\"     # class variable\n",
    "    location=\"Jaipur\""
   ]
  },
  {
   "cell_type": "code",
   "execution_count": 10,
   "id": "52e2eba6-14e0-4674-859d-be432d0ce979",
   "metadata": {},
   "outputs": [
    {
     "data": {
      "text/plain": [
       "<__main__.HouseBlueprint at 0x2ccf56eb6b0>"
      ]
     },
     "execution_count": 10,
     "metadata": {},
     "output_type": "execute_result"
    }
   ],
   "source": [
    "HouseBlueprint() # class ko call kar rhae hai ye templet hai"
   ]
  },
  {
   "cell_type": "code",
   "execution_count": 18,
   "id": "0eb8e7fc-0bbf-478e-a78b-a1e6301193b7",
   "metadata": {},
   "outputs": [
    {
     "name": "stdout",
     "output_type": "stream",
     "text": [
      "Jaipur\n"
     ]
    }
   ],
   "source": [
    "# object = class()\n",
    "house1=HouseBlueprint()\n",
    "print(house1.location)   #object. variable"
   ]
  },
  {
   "cell_type": "code",
   "execution_count": 20,
   "id": "20ebe205-3f05-4ade-a311-6e83cfd354b6",
   "metadata": {},
   "outputs": [
    {
     "name": "stdout",
     "output_type": "stream",
     "text": [
      "Jaipur\n"
     ]
    }
   ],
   "source": [
    "house2=HouseBlueprint()\n",
    "print(house2.location)"
   ]
  },
  {
   "cell_type": "code",
   "execution_count": 22,
   "id": "f1c09701-7a6a-47fa-9fda-332f9778f6a0",
   "metadata": {},
   "outputs": [],
   "source": [
    "# variable banaye class variable \n",
    "# object se bhi acces kar skte hai bina object k bhi acces kar skte hai"
   ]
  },
  {
   "cell_type": "code",
   "execution_count": 24,
   "id": "165af9c4-26c8-474a-bb7d-30c939e56a58",
   "metadata": {},
   "outputs": [
    {
     "name": "stdout",
     "output_type": "stream",
     "text": [
      "Jaipur\n"
     ]
    }
   ],
   "source": [
    "print(HouseBlueprint.location)"
   ]
  },
  {
   "cell_type": "code",
   "execution_count": 26,
   "id": "8c3d8603-3c0d-4351-a3cb-cb902718cbae",
   "metadata": {},
   "outputs": [],
   "source": [
    "class HouseBlueprint:\n",
    "    owner=\"tushar\"\n",
    "    location=\"Jaipur\""
   ]
  },
  {
   "cell_type": "code",
   "execution_count": 34,
   "id": "f6e88dbc-8cd5-4e4f-acbf-bdf745d0e859",
   "metadata": {},
   "outputs": [
    {
     "name": "stdout",
     "output_type": "stream",
     "text": [
      "kidnep se pehlw: tushar\n",
      "kidnep ke baad: harsh\n"
     ]
    }
   ],
   "source": [
    "house1 = HouseBlueprint()\n",
    "print(\"kidnep se pehlw:\",house1.owner)\n",
    "house1.owner=\"harsh\"                   # changing object data\n",
    "print(\"kidnep ke baad:\",house1.owner)"
   ]
  },
  {
   "cell_type": "code",
   "execution_count": 36,
   "id": "d875a31a-537c-4c73-bd4a-91e5bd7c6748",
   "metadata": {},
   "outputs": [
    {
     "name": "stdout",
     "output_type": "stream",
     "text": [
      "tushar\n"
     ]
    }
   ],
   "source": [
    "house2 = HouseBlueprint()\n",
    "print(house2.owner)"
   ]
  },
  {
   "cell_type": "code",
   "execution_count": 38,
   "id": "abd94ba5-cfb0-4737-9d98-8cb3d164d81c",
   "metadata": {},
   "outputs": [],
   "source": [
    "class HouseBlueprint:\n",
    "    color=\"white\"\n",
    "\n",
    "    def info(self):\n",
    "        print(\"My house color is:\",self.color)"
   ]
  },
  {
   "cell_type": "code",
   "execution_count": 40,
   "id": "79d4e13f-a2ec-4d96-b371-28b8f3d1de98",
   "metadata": {},
   "outputs": [
    {
     "name": "stdout",
     "output_type": "stream",
     "text": [
      "My house color is: white\n"
     ]
    }
   ],
   "source": [
    "h1=HouseBlueprint()\n",
    "h1.info()"
   ]
  },
  {
   "cell_type": "code",
   "execution_count": 42,
   "id": "31f37399-0297-4c75-8f3b-d7eb7c843459",
   "metadata": {},
   "outputs": [
    {
     "name": "stdout",
     "output_type": "stream",
     "text": [
      "My house color is: light green\n"
     ]
    }
   ],
   "source": [
    "h1=HouseBlueprint()\n",
    "h1.color=\"light green\"\n",
    "h1.info()"
   ]
  },
  {
   "cell_type": "code",
   "execution_count": 44,
   "id": "a92f838e-ef65-43f7-a032-3d862cbe0b26",
   "metadata": {},
   "outputs": [],
   "source": [
    "# consecter = ek function he memmory addresh asin karna object k liy"
   ]
  },
  {
   "cell_type": "code",
   "execution_count": 46,
   "id": "5bdf2b70-ab83-44d3-b2eb-c0b30c77d16a",
   "metadata": {},
   "outputs": [],
   "source": [
    "# default constructor => jo hai wahi kaam karega defult\n",
    "class HouseBlueprint:\n",
    "    color=\"white\"\n",
    "    "
   ]
  },
  {
   "cell_type": "code",
   "execution_count": 74,
   "id": "9c7733e6-c306-46bc-9449-334f20475730",
   "metadata": {},
   "outputs": [],
   "source": [
    "# parameterised constructor => jo hamare hisab se kaam kare\n",
    "class HouseBlueprint:\n",
    "    def __init__(self):\n",
    "        print(\"Constructor\",self)"
   ]
  },
  {
   "cell_type": "code",
   "execution_count": 76,
   "id": "8d229f5c-d12a-42fc-9404-0b235949e950",
   "metadata": {},
   "outputs": [
    {
     "name": "stdout",
     "output_type": "stream",
     "text": [
      "Constructor <__main__.HouseBlueprint object at 0x000002CCEE7ACEF0>\n"
     ]
    },
    {
     "data": {
      "text/plain": [
       "<__main__.HouseBlueprint at 0x2ccee7acef0>"
      ]
     },
     "execution_count": 76,
     "metadata": {},
     "output_type": "execute_result"
    }
   ],
   "source": [
    "HouseBlueprint()"
   ]
  },
  {
   "cell_type": "code",
   "execution_count": 78,
   "id": "5bd079c4-fca6-4997-9573-85ec72a1073d",
   "metadata": {},
   "outputs": [
    {
     "name": "stdout",
     "output_type": "stream",
     "text": [
      "Constructor <__main__.HouseBlueprint object at 0x000002CCF69B14F0>\n",
      "<__main__.HouseBlueprint object at 0x000002CCF5771400>\n"
     ]
    }
   ],
   "source": [
    "hosue1=HouseBlueprint() # parameterised constructor\n",
    "print(house1)"
   ]
  },
  {
   "cell_type": "code",
   "execution_count": 80,
   "id": "b0944178-be94-46cb-9945-e5e9078270d6",
   "metadata": {},
   "outputs": [
    {
     "name": "stdout",
     "output_type": "stream",
     "text": [
      "Constructor <__main__.HouseBlueprint object at 0x000002CCF5753140>\n",
      "<__main__.HouseBlueprint object at 0x000002CCF5753140>\n"
     ]
    }
   ],
   "source": [
    "house2=HouseBlueprint()\n",
    "print(house2)"
   ]
  },
  {
   "cell_type": "code",
   "execution_count": 72,
   "id": "66f5a6c4-f2f1-4133-ab3c-bc4aeea14030",
   "metadata": {},
   "outputs": [],
   "source": [
    "# self => ek variable hai jo mere current object ke memory addresh ko save karta hai"
   ]
  },
  {
   "cell_type": "code",
   "execution_count": 84,
   "id": "7a5405c0-a409-4a22-a24c-25890d7c9574",
   "metadata": {},
   "outputs": [
    {
     "name": "stdout",
     "output_type": "stream",
     "text": [
      "Constructor\n",
      "<__main__.HouseBlueprint object at 0x000002CCF57711F0>\n"
     ]
    }
   ],
   "source": [
    "class HouseBlueprint:\n",
    "    def __init__(self):\n",
    "        print(\"Constructor\")\n",
    "\n",
    "# object\n",
    "h1=HouseBlueprint() # => jab aap class ke aap object chalte hai to calling by constructor\n",
    "print(h1)"
   ]
  },
  {
   "cell_type": "code",
   "execution_count": 88,
   "id": "b48306f4-75ec-4995-9ef5-34798c89cddc",
   "metadata": {},
   "outputs": [
    {
     "name": "stdout",
     "output_type": "stream",
     "text": [
      "Constructor=> yellow\n",
      "<__main__.HouseBlueprint object at 0x000002CCF5753FE0>\n"
     ]
    }
   ],
   "source": [
    "class HouseBlueprint:\n",
    "    def __init__(self,x):\n",
    "        print(\"Constructor=>\",x)\n",
    "\n",
    "# object\n",
    "h1=HouseBlueprint(\"yellow\")\n",
    "print(h1)"
   ]
  },
  {
   "cell_type": "code",
   "execution_count": 94,
   "id": "05e1d89a-a2cb-46c5-b00b-4e40a06bc295",
   "metadata": {},
   "outputs": [
    {
     "name": "stdout",
     "output_type": "stream",
     "text": [
      "Constructor=> yellow\n",
      "yellow\n"
     ]
    }
   ],
   "source": [
    "class HouseBlueprint:\n",
    "    def __init__(self,x):\n",
    "        self.color=x\n",
    "        print(\"Constructor=>\",x)\n",
    "\n",
    "# object\n",
    "h1=HouseBlueprint(\"yellow\")\n",
    "print(h1.color)"
   ]
  },
  {
   "cell_type": "code",
   "execution_count": 98,
   "id": "f12e526b-00f9-4356-8908-1af0b051645b",
   "metadata": {},
   "outputs": [
    {
     "name": "stdout",
     "output_type": "stream",
     "text": [
      "Constructor=> green\n",
      "yellow\n"
     ]
    }
   ],
   "source": [
    "h2=HouseBlueprint(\"green\")\n",
    "print(h1.color)"
   ]
  },
  {
   "cell_type": "code",
   "execution_count": 118,
   "id": "e39d2254-a795-4af9-bbf8-c059ddfb88be",
   "metadata": {},
   "outputs": [
    {
     "name": "stdin",
     "output_type": "stream",
     "text": [
      "enter id number:> 5454\n",
      "enter name:> aman\n",
      "enter mail:> aklmamal\n"
     ]
    }
   ],
   "source": [
    "class Company:\n",
    "    def __init__(self):\n",
    "        self.eid=int(input(\"enter id number:>\"))\n",
    "        self.name=input(\"enter name:>\")\n",
    "        self.mail=input(\"enter mail:>\")\n",
    "\n",
    "c1=Company()\n",
    "#print(c1.eid)\n",
    "#print(c1.name)\n",
    "#print(c1.mail)"
   ]
  },
  {
   "cell_type": "code",
   "execution_count": 120,
   "id": "814a4ff0-33d0-42af-aaeb-893457323c01",
   "metadata": {},
   "outputs": [],
   "source": [
    "# what is inheritance and types\n",
    "# what is maethaod oberloding and owerwriteng"
   ]
  },
  {
   "cell_type": "code",
   "execution_count": null,
   "id": "973a7664-3566-49e7-83e8-eb748f95093a",
   "metadata": {},
   "outputs": [],
   "source": []
  }
 ],
 "metadata": {
  "kernelspec": {
   "display_name": "Python [conda env:base] *",
   "language": "python",
   "name": "conda-base-py"
  },
  "language_info": {
   "codemirror_mode": {
    "name": "ipython",
    "version": 3
   },
   "file_extension": ".py",
   "mimetype": "text/x-python",
   "name": "python",
   "nbconvert_exporter": "python",
   "pygments_lexer": "ipython3",
   "version": "3.12.7"
  }
 },
 "nbformat": 4,
 "nbformat_minor": 5
}

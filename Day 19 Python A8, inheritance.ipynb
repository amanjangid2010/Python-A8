{
 "cells": [
  {
   "cell_type": "code",
   "execution_count": 2,
   "id": "abb5ac3d-21b3-4ceb-8a53-99ad19c39758",
   "metadata": {},
   "outputs": [],
   "source": [
    "class HouseBlue:\n",
    "    color=\"white\" # class variable"
   ]
  },
  {
   "cell_type": "code",
   "execution_count": 6,
   "id": "b37ea643-4190-42bf-9cd2-b6669c3cce75",
   "metadata": {},
   "outputs": [
    {
     "data": {
      "text/plain": [
       "'white'"
      ]
     },
     "execution_count": 6,
     "metadata": {},
     "output_type": "execute_result"
    }
   ],
   "source": [
    "h1=HouseBlue()\n",
    "h1.color"
   ]
  },
  {
   "cell_type": "code",
   "execution_count": 14,
   "id": "1b7842a9-40d4-42fd-ac91-8298751cbccf",
   "metadata": {},
   "outputs": [],
   "source": [
    "class HouseBlue:\n",
    "    # constructor => initialize memory address of an object\n",
    "    def __init__(self):\n",
    "        print(\"hey constructor\",self)\n",
    "        "
   ]
  },
  {
   "cell_type": "code",
   "execution_count": 16,
   "id": "730ca924-d8d1-49ae-b019-67c73ec4bb91",
   "metadata": {},
   "outputs": [
    {
     "name": "stdout",
     "output_type": "stream",
     "text": [
      "hey constructor <__main__.HouseBlue object at 0x0000022F0FABD340>\n"
     ]
    },
    {
     "data": {
      "text/plain": [
       "<__main__.HouseBlue at 0x22f0fabd340>"
      ]
     },
     "execution_count": 16,
     "metadata": {},
     "output_type": "execute_result"
    }
   ],
   "source": [
    "HouseBlue()"
   ]
  },
  {
   "cell_type": "code",
   "execution_count": 18,
   "id": "801ca30f-9603-4cd2-bd9e-021c3a0ac47b",
   "metadata": {},
   "outputs": [
    {
     "name": "stdout",
     "output_type": "stream",
     "text": [
      "hey constructor <__main__.HouseBlue object at 0x0000022F1053EE70>\n",
      "<__main__.HouseBlue object at 0x0000022F1053EE70>\n"
     ]
    }
   ],
   "source": [
    "h1=HouseBlue()\n",
    "print(h1)"
   ]
  },
  {
   "cell_type": "code",
   "execution_count": 28,
   "id": "64058311-64bd-4407-8d6a-9213ad645d5b",
   "metadata": {},
   "outputs": [],
   "source": [
    "class HouseBlue:\n",
    "    def __init__(self,x): # self = h1, x=> yellow\n",
    "        self.color=x"
   ]
  },
  {
   "cell_type": "code",
   "execution_count": 30,
   "id": "279306f7-b5a9-4325-b64a-c59e830594f5",
   "metadata": {},
   "outputs": [
    {
     "name": "stdout",
     "output_type": "stream",
     "text": [
      "yello\n"
     ]
    }
   ],
   "source": [
    "h1=HouseBlue(\"yello\")\n",
    "print(h1.color)"
   ]
  },
  {
   "cell_type": "code",
   "execution_count": 34,
   "id": "cd019cf3-df7f-4587-8a32-38f551d48cf0",
   "metadata": {},
   "outputs": [
    {
     "name": "stdout",
     "output_type": "stream",
     "text": [
      "green\n"
     ]
    }
   ],
   "source": [
    "h2=HouseBlue(\"green\")\n",
    "print(h2.color)"
   ]
  },
  {
   "cell_type": "code",
   "execution_count": 76,
   "id": "a1a67a45-5132-4675-9085-2e40d6697976",
   "metadata": {},
   "outputs": [],
   "source": [
    "class HouseBlue:\n",
    "    company=\"regex\"\n",
    "    def __init__(self,x,amount):  # instince variable \n",
    "        self.color=x\n",
    "        self.price=amount\n",
    "\n",
    "    def housePrice(self):\n",
    "        print(\"House price is:\",self.price*0.1,self.company)"
   ]
  },
  {
   "cell_type": "code",
   "execution_count": 78,
   "id": "131b1d6a-1e6b-47f8-9367-3aa2c151e63f",
   "metadata": {},
   "outputs": [
    {
     "name": "stdout",
     "output_type": "stream",
     "text": [
      "House price is: 50000.0 regex\n"
     ]
    }
   ],
   "source": [
    "h1=HouseBlue(\"yellow\",500000)\n",
    "h1.housePrice()"
   ]
  },
  {
   "cell_type": "code",
   "execution_count": 80,
   "id": "b3c0428e-9840-44d8-aa6b-e5d3e25b41b7",
   "metadata": {},
   "outputs": [
    {
     "name": "stdout",
     "output_type": "stream",
     "text": [
      "House price is: 80000.0 regex\n"
     ]
    }
   ],
   "source": [
    "h2=HouseBlue(\"green\",800000)\n",
    "h2.housePrice()"
   ]
  },
  {
   "cell_type": "code",
   "execution_count": 82,
   "id": "d29ee34f-bcbe-4a42-8467-b6ad29aac2ca",
   "metadata": {},
   "outputs": [],
   "source": [
    "# self key word ki truhu diffine karte hai\n",
    "# class variable \n",
    "# class variable before constructor \n",
    "#"
   ]
  },
  {
   "cell_type": "code",
   "execution_count": 96,
   "id": "cc381f8f-3887-4da0-ab6e-82eb398117c5",
   "metadata": {},
   "outputs": [],
   "source": [
    "class student:\n",
    "    count=0\n",
    "    def __init__(self):\n",
    "        self.count+=1  # increment\n",
    "        print(self.count)"
   ]
  },
  {
   "cell_type": "code",
   "execution_count": 98,
   "id": "09f6f3e7-0590-4c5e-8b43-9fa44f2f3ead",
   "metadata": {},
   "outputs": [
    {
     "name": "stdout",
     "output_type": "stream",
     "text": [
      "1\n"
     ]
    }
   ],
   "source": [
    "s1=student()"
   ]
  },
  {
   "cell_type": "code",
   "execution_count": 102,
   "id": "091d4831-5770-4eb7-acb3-3fd9c123ea45",
   "metadata": {},
   "outputs": [
    {
     "name": "stdout",
     "output_type": "stream",
     "text": [
      "1\n"
     ]
    }
   ],
   "source": [
    "s2=student()"
   ]
  },
  {
   "cell_type": "code",
   "execution_count": 104,
   "id": "8e0010b5-97d3-4528-b8ff-fdc36a97a862",
   "metadata": {},
   "outputs": [],
   "source": [
    "class student:\n",
    "    count=0    # class variable\n",
    "    def __init__(self):\n",
    "        student.count+=1  # increment\n",
    "        print(self.count)"
   ]
  },
  {
   "cell_type": "code",
   "execution_count": 106,
   "id": "a66b2f0f-9eb3-4847-9bbc-f017659f968f",
   "metadata": {},
   "outputs": [
    {
     "name": "stdout",
     "output_type": "stream",
     "text": [
      "1\n"
     ]
    }
   ],
   "source": [
    "s1=student()"
   ]
  },
  {
   "cell_type": "code",
   "execution_count": 108,
   "id": "9781951b-90ec-4537-9d8f-66de85bee79b",
   "metadata": {},
   "outputs": [
    {
     "name": "stdout",
     "output_type": "stream",
     "text": [
      "2\n"
     ]
    }
   ],
   "source": [
    "s2=student()"
   ]
  },
  {
   "cell_type": "code",
   "execution_count": 110,
   "id": "8be3644a-9acb-40fa-9c4d-199353082aec",
   "metadata": {},
   "outputs": [],
   "source": [
    "# inheritance => feature of oops\n",
    "# Where we acquire the property of class to another class\n",
    "# code reusability"
   ]
  },
  {
   "cell_type": "code",
   "execution_count": 120,
   "id": "9afb1c71-43b5-4ca5-b2a8-f27461d22fa7",
   "metadata": {},
   "outputs": [],
   "source": [
    "class studentFather:  # parent class / base class\n",
    "    bankaccount = 500"
   ]
  },
  {
   "cell_type": "code",
   "execution_count": 124,
   "id": "505a5c38-8e1a-4992-85f8-69dc734b8f42",
   "metadata": {},
   "outputs": [
    {
     "name": "stdout",
     "output_type": "stream",
     "text": [
      "500\n"
     ]
    }
   ],
   "source": [
    "class student(studentFather): # child class // derived class\n",
    "    fee =0\n",
    "\n",
    "s1=student()\n",
    "print(s1.bankaccount)"
   ]
  },
  {
   "cell_type": "code",
   "execution_count": 126,
   "id": "dea77213-2122-4785-a92c-3db0a5e1ba46",
   "metadata": {},
   "outputs": [],
   "source": [
    "class studentFather:  \n",
    "    bankaccount = 500"
   ]
  },
  {
   "cell_type": "code",
   "execution_count": 132,
   "id": "344dd0a5-83eb-4032-a056-531c888abb0a",
   "metadata": {},
   "outputs": [
    {
     "name": "stdout",
     "output_type": "stream",
     "text": [
      "500\n",
      "490\n"
     ]
    }
   ],
   "source": [
    "class student(studentFather):\n",
    "    fee =0\n",
    "\n",
    "s1=student()\n",
    "print(s1.bankaccount)\n",
    "s1.bankaccount-=10\n",
    "print(s1.bankaccount)"
   ]
  },
  {
   "cell_type": "code",
   "execution_count": 134,
   "id": "3e20b898-57ff-42ef-a566-59bf25d75da4",
   "metadata": {},
   "outputs": [],
   "source": [
    "# Zomoto\n",
    "# id, name, email\n",
    "\n",
    "# customer\n",
    "# id, name email"
   ]
  },
  {
   "cell_type": "code",
   "execution_count": 172,
   "id": "183500e7-31c0-4485-ba05-1f24226fd789",
   "metadata": {},
   "outputs": [],
   "source": [
    "class ZomatoDelivery:\n",
    "    def __init__(self,id,name,email):\n",
    "        self.id=id                      # self.id=> instance variable = id=>local variable\n",
    "        self.name=name\n",
    "        self.email=email\n",
    "\n",
    "    def info(self):\n",
    "        print(f\"Delivery partner is:{self.name} and id is:{self.id} and mail is:{self.email}\")"
   ]
  },
  {
   "cell_type": "code",
   "execution_count": 178,
   "id": "df8ee54f-307d-4344-85ba-0a224fd2f242",
   "metadata": {},
   "outputs": [
    {
     "name": "stdout",
     "output_type": "stream",
     "text": [
      "Delivery partner is:naina and id is:19 and mail is:naina@gmail.com\n"
     ]
    }
   ],
   "source": [
    "zd1=ZomatoDelivery(19,\"naina\",\"naina@gmail.com\")\n",
    "zd1.info()"
   ]
  },
  {
   "cell_type": "code",
   "execution_count": 180,
   "id": "7a682ff5-c3a5-4871-b98c-166e27a46873",
   "metadata": {},
   "outputs": [
    {
     "data": {
      "text/plain": [
       "'tushar'"
      ]
     },
     "execution_count": 180,
     "metadata": {},
     "output_type": "execute_result"
    }
   ],
   "source": [
    "class ZomatoCustomer(ZomatoDelivery):\n",
    "    def __init__(self,x,y,z):\n",
    "        super().__init__(x,y,z)  \n",
    "\n",
    "customer1=ZomatoCustomer(1909,\"tushar\",\"tushar@gmail.com\")\n",
    "customer1.name"
   ]
  },
  {
   "cell_type": "code",
   "execution_count": null,
   "id": "4bd3937c-7070-4315-acc0-484d81078d21",
   "metadata": {},
   "outputs": [],
   "source": []
  },
  {
   "cell_type": "code",
   "execution_count": null,
   "id": "f66ed68f-5ad2-452e-8108-e16d8da285b2",
   "metadata": {},
   "outputs": [],
   "source": [
    "# paremant class kese clas variable ko main childe class main kese use karunga\n",
    "# mumltiple vs multiple level inherentensh\n",
    "# kya python main consectot over load kiya ja skta hai"
   ]
  }
 ],
 "metadata": {
  "kernelspec": {
   "display_name": "Python [conda env:base] *",
   "language": "python",
   "name": "conda-base-py"
  },
  "language_info": {
   "codemirror_mode": {
    "name": "ipython",
    "version": 3
   },
   "file_extension": ".py",
   "mimetype": "text/x-python",
   "name": "python",
   "nbconvert_exporter": "python",
   "pygments_lexer": "ipython3",
   "version": "3.12.7"
  }
 },
 "nbformat": 4,
 "nbformat_minor": 5
}

{
 "cells": [
  {
   "cell_type": "code",
   "execution_count": 2,
   "id": "102988fb-fb60-49b2-a878-b6041c7a89af",
   "metadata": {},
   "outputs": [],
   "source": [
    "# exception handling\n",
    "# unwated condition / logic => incorrect\n",
    "# terminate, interrupt"
   ]
  },
  {
   "cell_type": "code",
   "execution_count": 10,
   "id": "986f9f95-05fe-492f-876e-f1653bb52947",
   "metadata": {},
   "outputs": [
    {
     "name": "stdout",
     "output_type": "stream",
     "text": [
      "hey\n"
     ]
    },
    {
     "ename": "NameError",
     "evalue": "name 'y' is not defined",
     "output_type": "error",
     "traceback": [
      "\u001b[1;31m---------------------------------------------------------------------------\u001b[0m",
      "\u001b[1;31mNameError\u001b[0m                                 Traceback (most recent call last)",
      "Cell \u001b[1;32mIn[10], line 3\u001b[0m\n\u001b[0;32m      1\u001b[0m \u001b[38;5;28mprint\u001b[39m(\u001b[38;5;124m\"\u001b[39m\u001b[38;5;124mhey\u001b[39m\u001b[38;5;124m\"\u001b[39m)\n\u001b[0;32m      2\u001b[0m x \u001b[38;5;241m=\u001b[39m \u001b[38;5;241m10\u001b[39m\n\u001b[1;32m----> 3\u001b[0m \u001b[38;5;28mprint\u001b[39m(y)\n",
      "\u001b[1;31mNameError\u001b[0m: name 'y' is not defined"
     ]
    }
   ],
   "source": [
    "print(\"hey\")\n",
    "x = 10\n",
    "print(y) # try block "
   ]
  },
  {
   "cell_type": "raw",
   "id": "4a5f4187-5d71-44f6-b7a3-1af2e3435952",
   "metadata": {},
   "source": []
  },
  {
   "cell_type": "code",
   "execution_count": 28,
   "id": "7fa64d55-9cbd-4c98-8a68-72c5d83e220a",
   "metadata": {},
   "outputs": [
    {
     "name": "stdout",
     "output_type": "stream",
     "text": [
      "hey\n",
      "Error will be handle\n"
     ]
    }
   ],
   "source": [
    "try:\n",
    "    print(\"hey\")\n",
    "    x = 10\n",
    "    print(y)\n",
    "except:\n",
    "    print(\"Error will be handle\")"
   ]
  },
  {
   "cell_type": "code",
   "execution_count": 30,
   "id": "487662bd-8867-42f1-8f1c-b07523f4e9d0",
   "metadata": {},
   "outputs": [
    {
     "ename": "IndexError",
     "evalue": "string index out of range",
     "output_type": "error",
     "traceback": [
      "\u001b[1;31m---------------------------------------------------------------------------\u001b[0m",
      "\u001b[1;31mIndexError\u001b[0m                                Traceback (most recent call last)",
      "Cell \u001b[1;32mIn[30], line 1\u001b[0m\n\u001b[1;32m----> 1\u001b[0m \u001b[38;5;124m\"\u001b[39m\u001b[38;5;124mhey\u001b[39m\u001b[38;5;124m\"\u001b[39m[\u001b[38;5;241m5\u001b[39m]\n",
      "\u001b[1;31mIndexError\u001b[0m: string index out of range"
     ]
    }
   ],
   "source": [
    "\"hey\"[5] # index error"
   ]
  },
  {
   "cell_type": "code",
   "execution_count": 32,
   "id": "5a9bbf13-8be5-48f4-a1e6-e3e1f5725c06",
   "metadata": {},
   "outputs": [
    {
     "ename": "ZeroDivisionError",
     "evalue": "division by zero",
     "output_type": "error",
     "traceback": [
      "\u001b[1;31m---------------------------------------------------------------------------\u001b[0m",
      "\u001b[1;31mZeroDivisionError\u001b[0m                         Traceback (most recent call last)",
      "Cell \u001b[1;32mIn[32], line 1\u001b[0m\n\u001b[1;32m----> 1\u001b[0m \u001b[38;5;241m10\u001b[39m\u001b[38;5;241m/\u001b[39m\u001b[38;5;241m0\u001b[39m\n",
      "\u001b[1;31mZeroDivisionError\u001b[0m: division by zero"
     ]
    }
   ],
   "source": [
    "10/0 # arthmatik error ya zero error"
   ]
  },
  {
   "cell_type": "code",
   "execution_count": 34,
   "id": "44dcae25-15d2-4160-9e60-7e0155c694a4",
   "metadata": {},
   "outputs": [
    {
     "ename": "TypeError",
     "evalue": "unsupported operand type(s) for +: 'int' and 'str'",
     "output_type": "error",
     "traceback": [
      "\u001b[1;31m---------------------------------------------------------------------------\u001b[0m",
      "\u001b[1;31mTypeError\u001b[0m                                 Traceback (most recent call last)",
      "Cell \u001b[1;32mIn[34], line 1\u001b[0m\n\u001b[1;32m----> 1\u001b[0m \u001b[38;5;241m10\u001b[39m\u001b[38;5;241m+\u001b[39m\u001b[38;5;124m\"\u001b[39m\u001b[38;5;124ma\u001b[39m\u001b[38;5;124m\"\u001b[39m\n",
      "\u001b[1;31mTypeError\u001b[0m: unsupported operand type(s) for +: 'int' and 'str'"
     ]
    }
   ],
   "source": [
    "10+\"a\" # type error"
   ]
  },
  {
   "cell_type": "code",
   "execution_count": 36,
   "id": "d5c57ca0-d1e1-4501-9307-30e0baa0d210",
   "metadata": {},
   "outputs": [
    {
     "name": "stdout",
     "output_type": "stream",
     "text": [
      "hey\n",
      "Error will be handle\n"
     ]
    }
   ],
   "source": [
    "try:\n",
    "    print(\"hey\")\n",
    "    x = 10\n",
    "    print(y)\n",
    "    print(\"$$$\")\n",
    "    \n",
    "except:\n",
    "    print(\"Error will be handle\")"
   ]
  },
  {
   "cell_type": "code",
   "execution_count": 48,
   "id": "ba74d1f0-a225-4e32-ac99-114098a086f3",
   "metadata": {},
   "outputs": [
    {
     "name": "stdout",
     "output_type": "stream",
     "text": [
      "hey\n",
      "Error will be handle\n"
     ]
    }
   ],
   "source": [
    "try:\n",
    "    print(\"hey\")\n",
    "    x = 10\n",
    "    print(y)\n",
    "    \n",
    "except NameError:\n",
    "    print(\"Error will be handle\")"
   ]
  },
  {
   "cell_type": "code",
   "execution_count": 52,
   "id": "c1f70b93-21af-4d58-b50f-58956e362f41",
   "metadata": {},
   "outputs": [
    {
     "name": "stdout",
     "output_type": "stream",
     "text": [
      "hey\n",
      "Zero division\n"
     ]
    }
   ],
   "source": [
    "try:\n",
    "    print(\"hey\")\n",
    "    x = 10\n",
    "    print(x/0)\n",
    "    \n",
    "except NameError:\n",
    "    print(\"Error will be handle\")\n",
    "\n",
    "except ZeroDivisionError:\n",
    "    print(\"Zero division\")"
   ]
  },
  {
   "cell_type": "code",
   "execution_count": 56,
   "id": "428546dd-948f-407c-a105-efbd96bbe262",
   "metadata": {},
   "outputs": [
    {
     "name": "stdout",
     "output_type": "stream",
     "text": [
      "hey\n",
      "Error will be handle\n"
     ]
    }
   ],
   "source": [
    "try:\n",
    "    print(\"hey\")\n",
    "    x = 10\n",
    "    print(uu)\n",
    "    print(\"$$\")\n",
    "    \n",
    "except NameError:\n",
    "    print(\"Error will be handle\")\n",
    "\n",
    "except ZeroDivisionError:\n",
    "    print(\"Zero division\")"
   ]
  },
  {
   "cell_type": "code",
   "execution_count": 62,
   "id": "cbea294b-433b-44ac-8174-2ae4998e7fdd",
   "metadata": {},
   "outputs": [
    {
     "name": "stdout",
     "output_type": "stream",
     "text": [
      "hey\n",
      "Error will be handle\n"
     ]
    }
   ],
   "source": [
    "try:\n",
    "    print(\"hey\")\n",
    "    x = 10\n",
    "    print(uu)\n",
    "    print(\"$$\")\n",
    "    \n",
    "except (NameError,ZeroDivisionError):\n",
    "    print(\"Error will be handle\")"
   ]
  },
  {
   "cell_type": "code",
   "execution_count": 68,
   "id": "574cb6a7-4c09-40a8-8a50-e28d818b1a15",
   "metadata": {},
   "outputs": [
    {
     "name": "stdout",
     "output_type": "stream",
     "text": [
      "hey\n",
      "Error will be handle:  name 'uu' is not defined\n"
     ]
    }
   ],
   "source": [
    "try:\n",
    "    print(\"hey\")\n",
    "    x = 10\n",
    "    print(uu)\n",
    "    print(\"$$\")\n",
    "    \n",
    "except (NameError,ZeroDivisionError) as x: # error ka name bhi print hoga\n",
    "    print(\"Error will be handle: \",x)"
   ]
  },
  {
   "cell_type": "code",
   "execution_count": 74,
   "id": "91f6b9ad-11ce-4559-8148-4c3c6b9fe294",
   "metadata": {},
   "outputs": [
    {
     "name": "stdout",
     "output_type": "stream",
     "text": [
      "hey\n",
      "Nasted try statement error handle\n",
      "$$\n"
     ]
    }
   ],
   "source": [
    "# nested try except\n",
    "try:\n",
    "    print(\"hey\")\n",
    "    try:\n",
    "        print(uu)\n",
    "    except:\n",
    "        print(\"Nasted try statement error handle\")\n",
    "    print(\"$$\")\n",
    "    \n",
    "except (NameError,ZeroDivisionError) as x:\n",
    "    print(\"Error will be handle: \",x)"
   ]
  },
  {
   "cell_type": "code",
   "execution_count": 80,
   "id": "aaafc3c2-c577-4bd1-9fb8-1c1634675a26",
   "metadata": {},
   "outputs": [
    {
     "name": "stdout",
     "output_type": "stream",
     "text": [
      "hey\n",
      "isha\n",
      "$$$\n",
      "this is else block\n"
     ]
    }
   ],
   "source": [
    "try:\n",
    "    print(\"hey\")\n",
    "    print(\"isha\")\n",
    "    print(\"$$$\")\n",
    "    \n",
    "except:\n",
    "    print(\"Error will be handle\") # if no error in try block else: block chlega\n",
    "else:  \n",
    "    print(\"this is else block\")   # try main error hai to else: block nhi chlega"
   ]
  },
  {
   "cell_type": "code",
   "execution_count": 84,
   "id": "fd0ac762-c6a1-43e0-9b39-0ce772aa748f",
   "metadata": {},
   "outputs": [
    {
     "name": "stdout",
     "output_type": "stream",
     "text": [
      "hey\n",
      "isha\n",
      "$$$\n",
      "this is finally block\n"
     ]
    }
   ],
   "source": [
    "try:\n",
    "    print(\"hey\")\n",
    "    print(\"isha\")\n",
    "    print(\"$$$\")\n",
    "    \n",
    "except:\n",
    "    print(\"Error will be handle\")\n",
    "finally:\n",
    "    print(\"this is finally block\")# try main error hai to bhi chlega or nhi hai to bhi chlega"
   ]
  },
  {
   "cell_type": "code",
   "execution_count": 86,
   "id": "fd496be7-f61f-4277-8b97-db0b05f47b0d",
   "metadata": {},
   "outputs": [],
   "source": [
    "# raise keyword => kese bhi error ko genret karte hai"
   ]
  },
  {
   "cell_type": "code",
   "execution_count": 90,
   "id": "025e63c7-6c14-45ac-abc2-7b3a675a15f8",
   "metadata": {},
   "outputs": [
    {
     "name": "stdin",
     "output_type": "stream",
     "text": [
      "ente age: 18\n"
     ]
    },
    {
     "name": "stdout",
     "output_type": "stream",
     "text": [
      "Age is > 18 and can vote\n"
     ]
    }
   ],
   "source": [
    "age = int(input(\"ente age:\"))\n",
    "try:\n",
    "    if(age<18):\n",
    "        raise ValueError\n",
    "    else:\n",
    "        print(\"Age is > 18 and can vote\")\n",
    "except ValueError:\n",
    "    print(\"Error for age less than 18\")"
   ]
  },
  {
   "cell_type": "code",
   "execution_count": 92,
   "id": "e2933957-74bc-462b-be0a-18d731e74f28",
   "metadata": {},
   "outputs": [],
   "source": [
    "# couman seperta value csv file\n",
    "# 10,aman,aman@gmail.com\n",
    "# 20,tushar,tushar@gmail.com"
   ]
  },
  {
   "cell_type": "code",
   "execution_count": 94,
   "id": "2ff80622-a692-406d-b1e2-e9a0a4d7d79a",
   "metadata": {},
   "outputs": [
    {
     "name": "stdout",
     "output_type": "stream",
     "text": [
      "10,aman,aman@gmail.com\n",
      "\n",
      "20,tushar,tushar@gmail.com\n"
     ]
    }
   ],
   "source": [
    "with open(\"regex1.txt\",\"r\") as f:\n",
    "    for line in f:\n",
    "        print(line)"
   ]
  },
  {
   "cell_type": "code",
   "execution_count": 96,
   "id": "f65ee44a-014e-4b23-b840-9d2e24d92c34",
   "metadata": {},
   "outputs": [
    {
     "data": {
      "text/plain": [
       "['10', 'aman', 'aman@gmail.com']"
      ]
     },
     "execution_count": 96,
     "metadata": {},
     "output_type": "execute_result"
    }
   ],
   "source": [
    "\"10,aman,aman@gmail.com\".split(\",\")"
   ]
  },
  {
   "cell_type": "code",
   "execution_count": 102,
   "id": "c979e3ab-7cec-484f-a296-5e3fadc8bfc7",
   "metadata": {},
   "outputs": [
    {
     "name": "stdout",
     "output_type": "stream",
     "text": [
      "['10', 'aman', 'aman@gmail.com\\n']\n",
      "['20', 'tushar', 'tushar@gmail.com']\n"
     ]
    }
   ],
   "source": [
    "with open(\"regex1.txt\",\"r\") as f:\n",
    "    for line in f:\n",
    "        print(line.split(\",\")) # split method jab hi lagte hai to data list main milega\n",
    "                                "
   ]
  },
  {
   "cell_type": "code",
   "execution_count": 104,
   "id": "9560101f-0259-47ff-953e-601f65203efd",
   "metadata": {},
   "outputs": [
    {
     "name": "stdout",
     "output_type": "stream",
     "text": [
      "['10', 'aman', 'aman@gmail.com\\n']\n",
      "['20', 'tushar', 'tushar@gmail.com']\n"
     ]
    }
   ],
   "source": [
    "with open(\"regex1.txt\",\"r\") as f:\n",
    "    for line in f:\n",
    "        print(line.split(\",\"))"
   ]
  },
  {
   "cell_type": "code",
   "execution_count": 108,
   "id": "3fd2c1b8-269c-4b6a-bae9-d6f67d6489e5",
   "metadata": {},
   "outputs": [
    {
     "data": {
      "text/plain": [
       "'20-tushar-tushar@gmail.com'"
      ]
     },
     "execution_count": 108,
     "metadata": {},
     "output_type": "execute_result"
    }
   ],
   "source": [
    "# lsit ki valu ko string main lena chte hai to \n",
    "# \"\".join() se hoga\n",
    "y = ['20', 'tushar', 'tushar@gmail.com']\n",
    "\"-\".join(y)"
   ]
  },
  {
   "cell_type": "code",
   "execution_count": 110,
   "id": "7d1018e4-78ed-4d9e-939b-dda9f5170f45",
   "metadata": {},
   "outputs": [
    {
     "name": "stdout",
     "output_type": "stream",
     "text": [
      "['10', 'aman', 'aman@gmail.com']\n",
      "['20', 'tushar', 'tushar@gmail.com']\n"
     ]
    }
   ],
   "source": [
    "with open(\"regex1.txt\",\"r\") as f:\n",
    "    for line in f:\n",
    "        print(line.strip().split(\",\"))"
   ]
  },
  {
   "cell_type": "code",
   "execution_count": 112,
   "id": "21b20e91-60e3-42f5-9d36-a4e6c8775ab1",
   "metadata": {},
   "outputs": [
    {
     "name": "stdout",
     "output_type": "stream",
     "text": [
      "10\n",
      "aman\n",
      "aman@gmail.com\n",
      "20\n",
      "tushar\n",
      "tushar@gmail.com\n"
     ]
    }
   ],
   "source": [
    "with open(\"regex1.txt\",\"r\") as f:\n",
    "    for line in f:\n",
    "        for word in line.strip().split(\",\"):\n",
    "            print(word)"
   ]
  },
  {
   "cell_type": "code",
   "execution_count": 118,
   "id": "1a3056fb-d005-4e68-a5c8-642a976e1701",
   "metadata": {},
   "outputs": [
    {
     "name": "stdout",
     "output_type": "stream",
     "text": [
      "Id is 10 Email is aman@gmail.com\n",
      "Id is 20 Email is tushar@gmail.com\n"
     ]
    }
   ],
   "source": [
    "# reading the csv file\n",
    "with open(\"regex1.txt\",\"r\") as f:\n",
    "    for line in f:\n",
    "        mylist=line.strip().split(\",\")\n",
    "        print(f\"Id is\", mylist[0], \"Email is\", mylist[2])\n",
    "        "
   ]
  },
  {
   "cell_type": "code",
   "execution_count": 120,
   "id": "b93fffff-a97b-456d-9f5f-04bc80e281bc",
   "metadata": {},
   "outputs": [
    {
     "name": "stdout",
     "output_type": "stream",
     "text": [
      "Id is 10 Email is aman@gmail.com\n",
      "Id is 20 Email is tushar@gmail.com\n"
     ]
    }
   ],
   "source": [
    "import csv\n",
    "with open(\"regex1.txt\",\"r\") as f:\n",
    "    f_csv = csv.reader(f)\n",
    "    for x in f_csv:\n",
    "        print(f\"Id is\", x[0], \"Email is\", x[2])"
   ]
  },
  {
   "cell_type": "code",
   "execution_count": 124,
   "id": "4e661b52-27d6-4aa2-ad90-ada2a9fcd07b",
   "metadata": {},
   "outputs": [],
   "source": [
    "# list, dicionay, string, set"
   ]
  },
  {
   "cell_type": "code",
   "execution_count": 126,
   "id": "81f6b012-397e-422a-90e5-a4b0247e84ef",
   "metadata": {},
   "outputs": [],
   "source": [
    "# string palindrome\n",
    "# string symmetric\n",
    "# string split & join\n",
    "# valid parntias\n",
    "# \n",
    "# list find the highest and second highest\n",
    "# 2 sum problems\n",
    "\n",
    "# interview => list vs list comphrehension"
   ]
  },
  {
   "cell_type": "code",
   "execution_count": null,
   "id": "90b388d1-e716-4905-bb79-a97f52e05cb3",
   "metadata": {},
   "outputs": [],
   "source": [
    "# classes and objecs\n",
    "# what are oops concepts\n",
    "# YouTube => Corey Schafer"
   ]
  }
 ],
 "metadata": {
  "kernelspec": {
   "display_name": "Python [conda env:base] *",
   "language": "python",
   "name": "conda-base-py"
  },
  "language_info": {
   "codemirror_mode": {
    "name": "ipython",
    "version": 3
   },
   "file_extension": ".py",
   "mimetype": "text/x-python",
   "name": "python",
   "nbconvert_exporter": "python",
   "pygments_lexer": "ipython3",
   "version": "3.12.7"
  }
 },
 "nbformat": 4,
 "nbformat_minor": 5
}

{
 "cells": [
  {
   "cell_type": "code",
   "execution_count": 2,
   "id": "97638a74-82b0-41ff-b831-45ed35672840",
   "metadata": {},
   "outputs": [],
   "source": [
    "# Question 1: Given a list numbers, remove all duplicate values and return the unique elements."
   ]
  },
  {
   "cell_type": "code",
   "execution_count": 4,
   "id": "c6470242-b33e-495d-a904-68ff56b407bb",
   "metadata": {},
   "outputs": [
    {
     "name": "stdout",
     "output_type": "stream",
     "text": [
      "[1, 2, 3, 4, 5, 6]\n"
     ]
    }
   ],
   "source": [
    "def remove_duplicates(lst):\n",
    "    return list(set(lst))\n",
    "\n",
    "numbers = [1,2,3,4,2,3,5,6,5]\n",
    "print(remove_duplicates(numbers))"
   ]
  },
  {
   "cell_type": "code",
   "execution_count": 6,
   "id": "07f8127a-bf9b-4b50-8cfe-22bcfa6f0ddc",
   "metadata": {},
   "outputs": [],
   "source": [
    "# Question 2 : Given two sets, find the common elements between them."
   ]
  },
  {
   "cell_type": "code",
   "execution_count": 10,
   "id": "bfef4b0a-86f6-4cd1-adc6-4b3334fdb627",
   "metadata": {},
   "outputs": [
    {
     "name": "stdout",
     "output_type": "stream",
     "text": [
      "{4, 5}\n"
     ]
    }
   ],
   "source": [
    "def common_elements(set1, set2):\n",
    "    return set1 & set2 # Or use set1.intersection(set2)\n",
    "\n",
    "set1 = {1,2,3,4,5}\n",
    "set2 = {4,5,6,7,8}\n",
    "print(common_elements(set1, set2))"
   ]
  },
  {
   "cell_type": "code",
   "execution_count": 12,
   "id": "ae767045-c863-4d1b-a330-433d88b65c48",
   "metadata": {},
   "outputs": [],
   "source": [
    "# Question 3: Given two sets, find elements that are unique to each set."
   ]
  },
  {
   "cell_type": "code",
   "execution_count": 14,
   "id": "db84863f-6270-467e-b773-ba3a7dc16078",
   "metadata": {},
   "outputs": [
    {
     "name": "stdout",
     "output_type": "stream",
     "text": [
      "{1, 2, 5, 6}\n"
     ]
    }
   ],
   "source": [
    "def unique_elements(set1, set2):\n",
    "    return set1 ^ set2 # or use set1.symmetric_difference(set2)\n",
    "\n",
    "set1 = {1,2,3,4}\n",
    "set2 = {3,4,5,6}\n",
    "print(unique_elements(set1,set2))"
   ]
  },
  {
   "cell_type": "code",
   "execution_count": 16,
   "id": "27fc4885-329d-4dbd-8240-77e54c14542c",
   "metadata": {},
   "outputs": [],
   "source": [
    "# Question 4: Given two sets, return elements that are only in the first set."
   ]
  },
  {
   "cell_type": "code",
   "execution_count": 18,
   "id": "82343062-d369-4564-9c5c-a87fb26b6a9f",
   "metadata": {},
   "outputs": [
    {
     "name": "stdout",
     "output_type": "stream",
     "text": [
      "{50, 10, 20}\n"
     ]
    }
   ],
   "source": [
    "def difference(set1, set2):\n",
    "    return set1 - set2 # or use set1.difference(set2)\n",
    "\n",
    "set1 = {10,20,30,40,50}\n",
    "set2 = {30,40,60,70}\n",
    "print(difference(set1, set2))\n"
   ]
  },
  {
   "cell_type": "code",
   "execution_count": 20,
   "id": "3f696348-548b-498c-b688-dcd169728153",
   "metadata": {},
   "outputs": [],
   "source": [
    "# Question 5 : Given two sets, check if the first set is subset of the second."
   ]
  },
  {
   "cell_type": "code",
   "execution_count": 22,
   "id": "98ee99b1-de09-4862-8d23-7f281b96947f",
   "metadata": {},
   "outputs": [
    {
     "name": "stdout",
     "output_type": "stream",
     "text": [
      "True\n"
     ]
    }
   ],
   "source": [
    "def is_subset(set1, set2):\n",
    "    return set1.issubset(set2)\n",
    "\n",
    "set1 = {1,2}\n",
    "set2 = {1,2,3,4,5}\n",
    "print(is_subset(set1,set2))"
   ]
  },
  {
   "cell_type": "code",
   "execution_count": 24,
   "id": "c23d67f2-21be-4a26-82a5-1ed07bff0cbd",
   "metadata": {},
   "outputs": [],
   "source": [
    "# Question 6 : Given multiple sets, return a single set that contains all unique elements."
   ]
  },
  {
   "cell_type": "code",
   "execution_count": 26,
   "id": "7707d901-5e29-48e3-9919-17bcdc640ad6",
   "metadata": {},
   "outputs": [
    {
     "name": "stdout",
     "output_type": "stream",
     "text": [
      "{1, 2, 3, 4, 5, 6, 7}\n"
     ]
    }
   ],
   "source": [
    "def union_of_sets(*sets):\n",
    "    return set().union(*sets)\n",
    "\n",
    "set1 = {1,2,3}\n",
    "set2 = {3,4,5}\n",
    "set3 = {5,6,7}\n",
    "print(union_of_sets(set1,set2,set3))"
   ]
  },
  {
   "cell_type": "code",
   "execution_count": 28,
   "id": "091dd6a7-9f13-4b87-8297-ef2c90b8807c",
   "metadata": {},
   "outputs": [],
   "source": [
    "# Question 7 : Remove an element from a set safely (without error if it doesn't exist)."
   ]
  },
  {
   "cell_type": "code",
   "execution_count": 34,
   "id": "2ca1bb4f-2453-416e-b55c-2c8927b00a01",
   "metadata": {},
   "outputs": [
    {
     "name": "stdout",
     "output_type": "stream",
     "text": [
      "{1, 2, 4}\n",
      "{1, 2, 4}\n"
     ]
    }
   ],
   "source": [
    "def remove_element(s, elem):\n",
    "    s.discard(elem) # Unlike remove(), discard() won't raise an error if elem is missing.\n",
    "    return s\n",
    "\n",
    "my_set = {1,2,3,4}\n",
    "print(remove_element(my_set, 3)) # {1,2,4}\n",
    "print(remove_element(my_set, 10)) # No error, returns {1,2,4}"
   ]
  },
  {
   "cell_type": "code",
   "execution_count": 36,
   "id": "f79cb0b5-fb31-4b58-8742-42ae68871dc2",
   "metadata": {},
   "outputs": [],
   "source": [
    "# Question 8 : Given a set of numbers, find the largest and smallest values."
   ]
  },
  {
   "cell_type": "code",
   "execution_count": 38,
   "id": "221c8930-4ae9-42b0-a6f9-ce5d684bed20",
   "metadata": {},
   "outputs": [
    {
     "name": "stdout",
     "output_type": "stream",
     "text": [
      "(2, 10)\n"
     ]
    }
   ],
   "source": [
    "def min_max(s):\n",
    "    return min(s), max(s)\n",
    "\n",
    "# Example usage\n",
    "numbers = {5,2,8,3,10}\n",
    "print(min_max(numbers))"
   ]
  },
  {
   "cell_type": "code",
   "execution_count": 40,
   "id": "5533d905-947a-4826-baa5-9407df440434",
   "metadata": {},
   "outputs": [],
   "source": [
    "# Question 9: Given a sentence, count the number of unique words (ignoring case)."
   ]
  },
  {
   "cell_type": "code",
   "execution_count": 42,
   "id": "4695cc68-26f2-4da6-8bf2-6da47393394e",
   "metadata": {},
   "outputs": [
    {
     "name": "stdout",
     "output_type": "stream",
     "text": [
      "7\n"
     ]
    }
   ],
   "source": [
    "def unique_word_count(sentence):\n",
    "    words = sentence.lower().split()\n",
    "    return len(set(words))\n",
    "\n",
    "sentence = \"Python is great and Python is easy to learn\"\n",
    "print(unique_word_count(sentence))"
   ]
  },
  {
   "cell_type": "code",
   "execution_count": 46,
   "id": "5000d27c-0899-47db-bfc9-9a15266f5be8",
   "metadata": {},
   "outputs": [
    {
     "data": {
      "text/plain": [
       "{'and', 'easy', 'great', 'is', 'learn', 'python', 'to'}"
      ]
     },
     "execution_count": 46,
     "metadata": {},
     "output_type": "execute_result"
    }
   ],
   "source": [
    "sentence = \"Python is great and Python is easy to learn\"\n",
    "words = sentence.lower().split()\n",
    "set(words)"
   ]
  },
  {
   "cell_type": "code",
   "execution_count": 44,
   "id": "7badeb4a-8186-4d25-a4f2-d53f33188f05",
   "metadata": {},
   "outputs": [],
   "source": [
    "# Question 10: Given a list of numbers, find the missing numbers in a range."
   ]
  },
  {
   "cell_type": "code",
   "execution_count": 48,
   "id": "528fec7a-08cf-4912-9369-8b06ebb0ecfe",
   "metadata": {},
   "outputs": [
    {
     "name": "stdout",
     "output_type": "stream",
     "text": [
      "{10, 3, 5, 7}\n"
     ]
    }
   ],
   "source": [
    "def missing_numbers(lst, start, end):\n",
    "    return set(range(start, end + 1)) - set(lst)\n",
    "\n",
    "numbers = [1,2,4,6,8,9]\n",
    "print(missing_numbers(numbers, 1,10))"
   ]
  },
  {
   "cell_type": "code",
   "execution_count": 50,
   "id": "93ea2585-4990-47d3-ae85-5a45a87bd2f3",
   "metadata": {},
   "outputs": [
    {
     "name": "stdout",
     "output_type": "stream",
     "text": [
      "{1, 2, 3, 4, 5, 6, 7, 8, 9, 10}\n",
      "{1, 2, 4, 6, 8, 9}\n",
      "{10, 3, 5, 7}\n",
      "{1, 2, 4, 6, 8, 9}\n"
     ]
    }
   ],
   "source": [
    "numbers = [1,2,4,6,8,9]\n",
    "p = set(range(1,11))\n",
    "print(p)\n",
    "q = set(numbers)\n",
    "print(q)\n",
    "print(p-q)\n",
    "print(p&q)\n"
   ]
  },
  {
   "cell_type": "code",
   "execution_count": null,
   "id": "7ce7584d-9fbe-4d8c-8f26-e9f014a30f36",
   "metadata": {},
   "outputs": [],
   "source": []
  }
 ],
 "metadata": {
  "kernelspec": {
   "display_name": "Python [conda env:base] *",
   "language": "python",
   "name": "conda-base-py"
  },
  "language_info": {
   "codemirror_mode": {
    "name": "ipython",
    "version": 3
   },
   "file_extension": ".py",
   "mimetype": "text/x-python",
   "name": "python",
   "nbconvert_exporter": "python",
   "pygments_lexer": "ipython3",
   "version": "3.12.7"
  }
 },
 "nbformat": 4,
 "nbformat_minor": 5
}

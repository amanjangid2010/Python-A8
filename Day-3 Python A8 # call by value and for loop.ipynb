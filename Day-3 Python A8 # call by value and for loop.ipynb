{
 "cells": [
  {
   "cell_type": "code",
   "execution_count": 2,
   "id": "b1debe65-75f7-4130-82f0-c9a9842aa654",
   "metadata": {},
   "outputs": [],
   "source": [
    "# call by value and call by reference"
   ]
  },
  {
   "cell_type": "code",
   "execution_count": 10,
   "id": "9a780777-f991-4142-88f4-ba2991add6cf",
   "metadata": {},
   "outputs": [
    {
     "name": "stdout",
     "output_type": "stream",
     "text": [
      "140733749209816\n"
     ]
    }
   ],
   "source": [
    "x= 10\n",
    "print(id(x))"
   ]
  },
  {
   "cell_type": "code",
   "execution_count": 14,
   "id": "7566d86c-0879-4ab6-96f2-61177c68e97c",
   "metadata": {},
   "outputs": [
    {
     "name": "stdout",
     "output_type": "stream",
     "text": [
      "140733749209816\n"
     ]
    }
   ],
   "source": [
    "a = x\n",
    "print(id(a))"
   ]
  },
  {
   "cell_type": "code",
   "execution_count": 16,
   "id": "646ae5de-1586-4a4f-b007-d700fa98d216",
   "metadata": {},
   "outputs": [
    {
     "name": "stdout",
     "output_type": "stream",
     "text": [
      "140733749210072 140733749210072\n"
     ]
    }
   ],
   "source": [
    "age = 18\n",
    "newage=age\n",
    "print(id(age),id(newage))"
   ]
  },
  {
   "cell_type": "code",
   "execution_count": 20,
   "id": "7e58ae8a-a7b2-4478-8166-352f4f88e8ab",
   "metadata": {},
   "outputs": [],
   "source": [
    "# mutable and immutable"
   ]
  },
  {
   "cell_type": "code",
   "execution_count": 22,
   "id": "d54e4ca6-1d72-4ae9-9da0-b27ef908b466",
   "metadata": {},
   "outputs": [],
   "source": [
    "# ager python main same memory address main koi change ho rha mutable\n",
    "# new memory address creat ho rha tha immutable "
   ]
  },
  {
   "cell_type": "code",
   "execution_count": 24,
   "id": "3737903c-9765-4192-934c-689dc18e7cec",
   "metadata": {},
   "outputs": [
    {
     "name": "stdout",
     "output_type": "stream",
     "text": [
      "140733749212376 140733749212376\n"
     ]
    }
   ],
   "source": [
    "x = 90\n",
    "a = x\n",
    "print(id(x),id(a))"
   ]
  },
  {
   "cell_type": "code",
   "execution_count": 26,
   "id": "50fdea9d-b635-4af9-a145-afbe6247d743",
   "metadata": {},
   "outputs": [
    {
     "name": "stdout",
     "output_type": "stream",
     "text": [
      "140733749212376 140733749212376\n",
      "after 140733749209880 140733749212376\n"
     ]
    }
   ],
   "source": [
    "x = 90\n",
    "a = x\n",
    "print(id(x),id(a))\n",
    "x = 12\n",
    "print(\"after\",id(x),id(a))"
   ]
  },
  {
   "cell_type": "code",
   "execution_count": 38,
   "id": "79444997-5de8-44e2-9d10-faf0f202f07a",
   "metadata": {},
   "outputs": [],
   "source": [
    "#immutable = float int, strig, tupple"
   ]
  },
  {
   "cell_type": "code",
   "execution_count": 40,
   "id": "b28d0d2c-e53d-4808-9de3-0f4747fb80fb",
   "metadata": {},
   "outputs": [],
   "source": [
    "#mutable = dectiony ,list set"
   ]
  },
  {
   "cell_type": "code",
   "execution_count": 46,
   "id": "64301891-5511-4f0f-bde1-34ef9e0a0280",
   "metadata": {},
   "outputs": [
    {
     "name": "stdout",
     "output_type": "stream",
     "text": [
      "140733749209816 140733749209816\n"
     ]
    }
   ],
   "source": [
    "x = 10\n",
    "a = 10\n",
    "# dono ka memory address same mily ga\n",
    "# 0 se 256 tak same memory address same rhy ga\n",
    "# 256 k baad memory address change ho jaye ga\n",
    "print(id(x),id(a))"
   ]
  },
  {
   "cell_type": "code",
   "execution_count": 50,
   "id": "325f9714-8dc8-44e9-8ff9-cd4150d45905",
   "metadata": {},
   "outputs": [],
   "source": [
    "# if - else statement\n",
    "# datatype\n",
    "# arithmetic, comparison, logical, assignment, membership"
   ]
  },
  {
   "cell_type": "code",
   "execution_count": 52,
   "id": "f93ec051-7c1c-4a18-8785-9f095d6cdefd",
   "metadata": {},
   "outputs": [],
   "source": [
    "# slicing and indexing"
   ]
  },
  {
   "cell_type": "code",
   "execution_count": 56,
   "id": "49562795-545f-4d61-80d7-f46e65609d41",
   "metadata": {},
   "outputs": [],
   "source": [
    "# for loop\n",
    "# loops=> repetitive task"
   ]
  },
  {
   "cell_type": "code",
   "execution_count": 60,
   "id": "f37e57c6-41e5-48e3-9e8d-147e30845de0",
   "metadata": {},
   "outputs": [],
   "source": [
    "# for(i=0,i<condition; i++) # c language main\n",
    "# range(0,5) = number lega or value generate kary ga"
   ]
  },
  {
   "cell_type": "code",
   "execution_count": 64,
   "id": "0fb3d1ac-d6e8-490f-a3a7-43d5e49332ca",
   "metadata": {},
   "outputs": [],
   "source": [
    "#for i in# opratir hai"
   ]
  },
  {
   "cell_type": "code",
   "execution_count": 68,
   "id": "427169c5-de33-4100-a5d5-4d68fe96fed2",
   "metadata": {},
   "outputs": [
    {
     "name": "stdout",
     "output_type": "stream",
     "text": [
      "hey\n",
      "hey\n",
      "hey\n",
      "hey\n",
      "hey\n"
     ]
    }
   ],
   "source": [
    "for i in range(0,5):\n",
    "    print(\"hey\")"
   ]
  },
  {
   "cell_type": "code",
   "execution_count": 72,
   "id": "05058d9d-3f92-4401-a66b-c33911655065",
   "metadata": {},
   "outputs": [
    {
     "name": "stdout",
     "output_type": "stream",
     "text": [
      "hey 0\n",
      "hey 1\n",
      "hey 2\n",
      "hey 3\n",
      "hey 4\n"
     ]
    }
   ],
   "source": [
    "for i in range(0,5):\n",
    "    print(\"hey\",i)"
   ]
  },
  {
   "cell_type": "code",
   "execution_count": 76,
   "id": "2de4a821-8021-43c7-b621-090dc1fa7862",
   "metadata": {},
   "outputs": [
    {
     "name": "stdout",
     "output_type": "stream",
     "text": [
      "hey 2\n",
      "hey 3\n",
      "hey 4\n"
     ]
    }
   ],
   "source": [
    "for i in range(2,5):\n",
    "    print(\"hey\",i)"
   ]
  },
  {
   "cell_type": "code",
   "execution_count": 80,
   "id": "5c17a8ec-efa4-4412-9149-67ade44ef9a5",
   "metadata": {},
   "outputs": [
    {
     "name": "stdout",
     "output_type": "stream",
     "text": [
      "hey 8\n",
      "hey 7\n",
      "hey 6\n",
      "hey 5\n",
      "hey 4\n"
     ]
    }
   ],
   "source": [
    "for x in range(8,3,-1):\n",
    "    print(\"hey\",x)"
   ]
  },
  {
   "cell_type": "code",
   "execution_count": 84,
   "id": "9a002b9b-21ab-46c3-a597-f797461dbfce",
   "metadata": {},
   "outputs": [
    {
     "name": "stdout",
     "output_type": "stream",
     "text": [
      "10\n",
      "11\n",
      "12\n",
      "13\n",
      "14\n",
      "15\n",
      "16\n",
      "17\n",
      "18\n",
      "19\n",
      "20\n"
     ]
    }
   ],
   "source": [
    "for i in range(10,21):\n",
    "    print(i)"
   ]
  },
  {
   "cell_type": "code",
   "execution_count": 92,
   "id": "cdd88b06-aa11-4237-aeb7-10bb300e2f7e",
   "metadata": {},
   "outputs": [
    {
     "name": "stdout",
     "output_type": "stream",
     "text": [
      "20\n",
      "19\n",
      "18\n",
      "17\n",
      "16\n",
      "15\n",
      "14\n",
      "13\n",
      "12\n",
      "11\n",
      "10\n"
     ]
    }
   ],
   "source": [
    "for i in range(20,9,-1):\n",
    "    print(i)"
   ]
  },
  {
   "cell_type": "code",
   "execution_count": 98,
   "id": "77494aff-33a8-4341-961b-db34b782a780",
   "metadata": {},
   "outputs": [
    {
     "name": "stdout",
     "output_type": "stream",
     "text": [
      "even 2\n",
      "odd 3\n",
      "even 4\n",
      "odd 5\n",
      "even 6\n"
     ]
    }
   ],
   "source": [
    "for x in range(2,7):\n",
    "    if(x%2==0):\n",
    "        print(\"even\",x)\n",
    "    else:\n",
    "        print(\"odd\",x)"
   ]
  },
  {
   "cell_type": "code",
   "execution_count": 108,
   "id": "71dbe900-1fb0-4737-be8d-57aefcfde33f",
   "metadata": {},
   "outputs": [
    {
     "name": "stdout",
     "output_type": "stream",
     "text": [
      "4 8 12 16 20 24 28 32 36 40 44 48 "
     ]
    }
   ],
   "source": [
    "for i in range(2,51):\n",
    "    if(i%2==0 and i%4==0):\n",
    "        print(i,end=\" \")"
   ]
  },
  {
   "cell_type": "code",
   "execution_count": 114,
   "id": "cd47ae9e-2965-4dff-92e4-f4960a5a634c",
   "metadata": {},
   "outputs": [
    {
     "name": "stdout",
     "output_type": "stream",
     "text": [
      "70 68 66 65 64 62 60 58 56 55 54 52 50 48 46 45 44 42 40 38 36 35 34 32 30 28 26 25 24 22 20 "
     ]
    }
   ],
   "source": [
    "for i in range(70,18,-1):\n",
    "    if(i%2==0 or i%5==0):\n",
    "        print(i,end=\" \")"
   ]
  },
  {
   "cell_type": "code",
   "execution_count": 126,
   "id": "7f2181b8-e0ac-4265-9d02-0a504f94c7b0",
   "metadata": {},
   "outputs": [
    {
     "name": "stdout",
     "output_type": "stream",
     "text": [
      "2\n",
      "3\n",
      "4\n",
      "5\n",
      "6\n",
      "7\n",
      "8\n",
      "total=> 35\n"
     ]
    }
   ],
   "source": [
    "sum = 0\n",
    "for i in range(2,9):\n",
    "    print(i)\n",
    "    sum = sum + i\n",
    "print(\"total=>\",sum)"
   ]
  },
  {
   "cell_type": "code",
   "execution_count": 128,
   "id": "12264157-91e2-4265-b6f5-5c5dbe4a527e",
   "metadata": {},
   "outputs": [],
   "source": [
    "# get 10 sum value form 90 to 80\n",
    "# get 10 sum all the odd number 15 to 45"
   ]
  },
  {
   "cell_type": "code",
   "execution_count": 150,
   "id": "7f1f5e45-2255-4d7e-beb8-3b1375cddb6d",
   "metadata": {},
   "outputs": [
    {
     "name": "stdout",
     "output_type": "stream",
     "text": [
      "609\n"
     ]
    }
   ],
   "source": [
    "sum =0\n",
    "for i in range(90,83,-1):\n",
    "    sum = sum +i\n",
    "print(sum)"
   ]
  },
  {
   "cell_type": "code",
   "execution_count": 178,
   "id": "56dd38ab-bc01-43ba-99d3-489481482e64",
   "metadata": {},
   "outputs": [
    {
     "name": "stdout",
     "output_type": "stream",
     "text": [
      "15\n",
      "17\n",
      "19\n",
      "21\n",
      "23\n",
      "25\n",
      "27\n",
      "29\n",
      "31\n",
      "33\n",
      "35\n",
      "37\n",
      "39\n",
      "41\n",
      "43\n",
      "45\n",
      "480\n"
     ]
    }
   ],
   "source": [
    "sum = 0\n",
    "for i in range(15,46):\n",
    "    if(i%2!=0):\n",
    "        print(i)\n",
    "        sum = sum + i\n",
    "print(sum)"
   ]
  },
  {
   "cell_type": "code",
   "execution_count": 180,
   "id": "5c8bd6b1-eefc-4ce9-8bc9-7b4eaf64ee55",
   "metadata": {},
   "outputs": [],
   "source": [
    "# now you have 1 to 95 ho bhi numbe 6 se divisible hai unka count chaiye"
   ]
  },
  {
   "cell_type": "code",
   "execution_count": 192,
   "id": "7e5583ba-44ae-4722-8abb-3f6959b7cc17",
   "metadata": {},
   "outputs": [
    {
     "name": "stdout",
     "output_type": "stream",
     "text": [
      "6\n",
      "12\n",
      "18\n",
      "24\n",
      "30\n",
      "36\n",
      "42\n",
      "48\n",
      "54\n",
      "60\n",
      "66\n",
      "72\n",
      "78\n",
      "84\n",
      "90\n",
      "total=> 720\n",
      "count=> 15\n"
     ]
    }
   ],
   "source": [
    "sum = 0\n",
    "count = 0\n",
    "for i in range(1,96):\n",
    "    if(i%6==0):\n",
    "        count = count + 1\n",
    "        print(i)\n",
    "        sum = sum +i\n",
    "print(\"total=>\",sum)\n",
    "print(\"count=>\",count)"
   ]
  },
  {
   "cell_type": "code",
   "execution_count": 196,
   "id": "5f9fb848-f254-431e-884b-36ec7b21cbb4",
   "metadata": {},
   "outputs": [
    {
     "name": "stdout",
     "output_type": "stream",
     "text": [
      "J\n",
      "A\n",
      "I\n",
      "P\n",
      "U\n",
      "R\n"
     ]
    }
   ],
   "source": [
    "city = \"JAIPUR\"\n",
    "for i in city:\n",
    "    print(i)"
   ]
  },
  {
   "cell_type": "code",
   "execution_count": 200,
   "id": "f0007296-2e9e-44bf-9a8e-d3596c80c8f5",
   "metadata": {},
   "outputs": [
    {
     "name": "stdout",
     "output_type": "stream",
     "text": [
      "J\n",
      "A\n",
      "I\n",
      "P\n",
      "U\n",
      "R\n"
     ]
    }
   ],
   "source": [
    "for i in \"JAIPUR\":\n",
    "    print(i)"
   ]
  },
  {
   "cell_type": "code",
   "execution_count": 206,
   "id": "d827e5ba-387b-4ab2-ad0b-8d0b3c6b6ee6",
   "metadata": {},
   "outputs": [
    {
     "name": "stdout",
     "output_type": "stream",
     "text": [
      "0 J\n",
      "1 A\n",
      "2 I\n",
      "3 P\n",
      "4 U\n",
      "5 R\n"
     ]
    }
   ],
   "source": [
    "city = \"JAIPUR\"\n",
    "for i in range(0,6):\n",
    "    print(i,city[i]) # this is better approach"
   ]
  },
  {
   "cell_type": "code",
   "execution_count": 226,
   "id": "a103cb0a-2bb7-484a-acf3-a5fc01eef5b2",
   "metadata": {},
   "outputs": [
    {
     "name": "stdout",
     "output_type": "stream",
     "text": [
      "1 A\n",
      "4 U\n"
     ]
    }
   ],
   "source": [
    "city = \"JAIPUR\"\n",
    "for i in range(0,6):\n",
    "    if(city[i]==\"A\" or city[i]==\"U\"):\n",
    "        print(i,city[i])"
   ]
  },
  {
   "cell_type": "code",
   "execution_count": 228,
   "id": "0a0f4489-d3c3-492d-b847-fb5d59ee8bb1",
   "metadata": {},
   "outputs": [],
   "source": [
    "#  differecne between == and is operator\n",
    "# Identity operator revise\n",
    "# while loop vs for loop"
   ]
  },
  {
   "cell_type": "code",
   "execution_count": null,
   "id": "b1ce790e-a8cb-429c-9e42-6de7c9b5f405",
   "metadata": {},
   "outputs": [],
   "source": []
  }
 ],
 "metadata": {
  "kernelspec": {
   "display_name": "Python [conda env:base] *",
   "language": "python",
   "name": "conda-base-py"
  },
  "language_info": {
   "codemirror_mode": {
    "name": "ipython",
    "version": 3
   },
   "file_extension": ".py",
   "mimetype": "text/x-python",
   "name": "python",
   "nbconvert_exporter": "python",
   "pygments_lexer": "ipython3",
   "version": "3.12.7"
  }
 },
 "nbformat": 4,
 "nbformat_minor": 5
}

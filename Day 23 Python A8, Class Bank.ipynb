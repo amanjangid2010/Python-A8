{
 "cells": [
  {
   "cell_type": "code",
   "execution_count": 2,
   "id": "1375e3c4-e434-4abf-817b-bfcba233a93a",
   "metadata": {},
   "outputs": [],
   "source": [
    "class BankAccount:\n",
    "    def __init__(self, accountNo, amount):\n",
    "        self.accountNo=accountNo\n",
    "        self.amount=amount\n",
    "\n",
    "    def deposit(self, deposit_amount):\n",
    "        if deposit_amount>0:\n",
    "            self.amount+=deposit_amount\n",
    "            return f\"Amount {deposit_amount} deposited in you account {self.accountNo}\"\n",
    "        else:\n",
    "            return \"Amount value is in negative\"\n",
    "\n",
    "    def check_amount(self):\n",
    "        return \"Your account balance is {self.amount}\""
   ]
  },
  {
   "cell_type": "code",
   "execution_count": 4,
   "id": "2766b047-efad-4705-9148-cc0e1178000b",
   "metadata": {},
   "outputs": [
    {
     "name": "stdout",
     "output_type": "stream",
     "text": [
      "Amount 500 deposited in you account 101203\n",
      "Your account balance is {self.amount}\n"
     ]
    }
   ],
   "source": [
    "b1 = BankAccount(101203,5000)\n",
    "print(b1.deposit(500))\n",
    "print(b1.check_amount())"
   ]
  },
  {
   "cell_type": "code",
   "execution_count": 93,
   "id": "6c364e8d-acfb-4b6c-b400-c7595d12db7e",
   "metadata": {},
   "outputs": [],
   "source": [
    "class BankAccount:\n",
    "    def __init__(self, accountName, amount=0):\n",
    "        self.accountName=accountName\n",
    "        self.amount=amount\n",
    "\n",
    "    def deposit(self, deposit_amount):\n",
    "        if deposit_amount>0:\n",
    "            self.amount+=deposit_amount\n",
    "            return f\"Amount {deposit_amount} deposited in you account {self.accountName}\"\n",
    "        else:\n",
    "            return \"Amount value is in negative\"\n",
    "\n",
    "    def withdraw(self,amount):\n",
    "        if amount > 0 and amount<=self.amount:\n",
    "            self.amount -= amount\n",
    "            return f\"After withdraw - balance is {self.amount}\"\n",
    "        else:\n",
    "            return \"invalid withdrawal amount\"\n",
    "        \n",
    "    def check_amount(self):\n",
    "        return \"Your account balance is {self.amount}\""
   ]
  },
  {
   "cell_type": "code",
   "execution_count": 118,
   "id": "2c137610-fd3e-4538-8100-b9586b1f5425",
   "metadata": {},
   "outputs": [],
   "source": [
    "class Customer:\n",
    "    def __init__(self,name):\n",
    "        self.name=name\n",
    "        self.account=BankAccount(name)  # account => reference to the account number, new account\n",
    "        print(self.account.accountName, self.account.amount)\n",
    "\n",
    "    def depotit_to_account(self,amount):\n",
    "\n",
    "        '''\n",
    "        docstring\n",
    "        '''\n",
    "        return self.account.deposit(amount)\n",
    "\n",
    "    def withdraw_from_account(self,amount):\n",
    "        return self.account.withdraw(amount)\n",
    "\n",
    "    def check_amount(self):\n",
    "        return self.check_amount\n",
    "    \n",
    "# class => instance variable  obj. variable    \n",
    "    def deposit_to_account(self,amount):\n",
    "        return f\"{self.name} is depositing amount {amount}\""
   ]
  },
  {
   "cell_type": "code",
   "execution_count": 120,
   "id": "31c9c341-2eb1-4108-a892-f2d2a8e749b3",
   "metadata": {},
   "outputs": [],
   "source": [
    "class Bank:\n",
    "    def __init__(self):\n",
    "        self.customers =[]\n",
    "\n",
    "    def customer_add(self,customer):\n",
    "        self.customers.append(customer)"
   ]
  },
  {
   "cell_type": "code",
   "execution_count": 122,
   "id": "31187f4f-b551-46d3-938f-b6821f3cdc02",
   "metadata": {},
   "outputs": [
    {
     "name": "stdout",
     "output_type": "stream",
     "text": [
      "aman 0\n",
      "naina 0\n"
     ]
    },
    {
     "data": {
      "text/plain": [
       "['aman', 'naina']"
      ]
     },
     "execution_count": 122,
     "metadata": {},
     "output_type": "execute_result"
    }
   ],
   "source": [
    "b=Bank()\n",
    "c1=Customer(\"aman\")\n",
    "b.customer_add(c1.name)\n",
    "b.customers\n",
    "\n",
    "c2=Customer(\"naina\")\n",
    "b.customer_add(c2.name)\n",
    "b.customers\n"
   ]
  },
  {
   "cell_type": "code",
   "execution_count": 126,
   "id": "adb53f8a-4b1b-4cd7-8f45-b0e64198b9ce",
   "metadata": {},
   "outputs": [
    {
     "name": "stdout",
     "output_type": "stream",
     "text": [
      "aman 0\n"
     ]
    },
    {
     "data": {
      "text/plain": [
       "'aman is depositing amount 400'"
      ]
     },
     "execution_count": 126,
     "metadata": {},
     "output_type": "execute_result"
    }
   ],
   "source": [
    "c1 =Customer(\"aman\")\n",
    "c1.deposit_to_account(400)"
   ]
  },
  {
   "cell_type": "code",
   "execution_count": 105,
   "id": "f68b0f9c-93b7-4add-8867-efa70044a463",
   "metadata": {},
   "outputs": [
    {
     "data": {
      "text/plain": [
       "'invalid withdrawal amount'"
      ]
     },
     "execution_count": 105,
     "metadata": {},
     "output_type": "execute_result"
    }
   ],
   "source": [
    "b1 = BankAccount(101203,5000)\n",
    "b1.withdraw(-100)"
   ]
  },
  {
   "cell_type": "code",
   "execution_count": 128,
   "id": "2bf43049-e255-471e-b877-0e99ac8fd8e6",
   "metadata": {},
   "outputs": [],
   "source": [
    "# libiry \n",
    "# aap kese bhi book ko ya to kharid skte ho yaa rent per le skte ho cell kar skte ho"
   ]
  },
  {
   "cell_type": "code",
   "execution_count": 132,
   "id": "119d8961-5c43-4e05-a3a0-5b791e6dae4c",
   "metadata": {},
   "outputs": [],
   "source": [
    "class Library:\n",
    "    def __init__(self,bookName,count=0):\n",
    "        self.bookName=bookName\n",
    "        self.count=count\n",
    "\n",
    "    def rent(self,rent_count):\n",
    "        if rent_count>0:\n",
    "            self.count+=rent_count\n",
    "            return f\"count {rent_count} rent in your library {self.bookName}\"\n",
    "        else:\n",
    "            return \"count value is in negative\"\n",
    "\n",
    "    def purchase(self,count):\n",
    "        if count > 0 and count<=self.count:\n",
    "            self.count-= count\n",
    "            return f\"After withdraw - balance is {self.count}\"\n",
    "        else:\n",
    "            return \"invalid withdrawal amount\"\n",
    "            \n",
    "        "
   ]
  },
  {
   "cell_type": "code",
   "execution_count": 136,
   "id": "8e3e088f-44d9-490f-8d69-6eb854a17285",
   "metadata": {},
   "outputs": [
    {
     "data": {
      "text/plain": [
       "'count 10 rent in your library 11552'"
      ]
     },
     "execution_count": 136,
     "metadata": {},
     "output_type": "execute_result"
    }
   ],
   "source": [
    "c1=Library(11552,5000)\n",
    "c1.rent(10)"
   ]
  },
  {
   "cell_type": "code",
   "execution_count": null,
   "id": "43b6f11c-1bca-457e-b1f4-feb885174e15",
   "metadata": {},
   "outputs": [],
   "source": []
  }
 ],
 "metadata": {
  "kernelspec": {
   "display_name": "Python [conda env:base] *",
   "language": "python",
   "name": "conda-base-py"
  },
  "language_info": {
   "codemirror_mode": {
    "name": "ipython",
    "version": 3
   },
   "file_extension": ".py",
   "mimetype": "text/x-python",
   "name": "python",
   "nbconvert_exporter": "python",
   "pygments_lexer": "ipython3",
   "version": "3.12.7"
  }
 },
 "nbformat": 4,
 "nbformat_minor": 5
}

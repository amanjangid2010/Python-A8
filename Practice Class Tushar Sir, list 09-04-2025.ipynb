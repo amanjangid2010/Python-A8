{
 "cells": [
  {
   "cell_type": "code",
   "execution_count": 30,
   "id": "80081d49-ad0f-4760-9786-469156c4dff1",
   "metadata": {},
   "outputs": [
    {
     "name": "stdout",
     "output_type": "stream",
     "text": [
      "[20]\n"
     ]
    }
   ],
   "source": [
    "mylist = [10,20,30,20,50,40,20]\n",
    "mylist1=[]\n",
    "for i in range(0,len(mylist)):\n",
    "    for j in range(i+1,len(mylist)):\n",
    "        if(mylist[i]==mylist[j]):\n",
    "            if mylist[i] not in mylist1:\n",
    "                mylist1.append(mylist[i])\n",
    "            \n",
    "\n",
    "print(mylist1)"
   ]
  },
  {
   "cell_type": "code",
   "execution_count": 46,
   "id": "e91f64d2-5bde-4408-adde-85c20e3b6525",
   "metadata": {},
   "outputs": [
    {
     "name": "stdout",
     "output_type": "stream",
     "text": [
      "Palindrome list\n"
     ]
    }
   ],
   "source": [
    "# two pointer approche\n",
    "\n",
    "mylist = [10,20,30,20,10]\n",
    "index = 0\n",
    "a = 0\n",
    "end=len(mylist)-1\n",
    "while(index < end):\n",
    "    if(mylist[index] != mylist[end]):\n",
    "        a = 5\n",
    "        break\n",
    "    \n",
    "    index+=1\n",
    "    end-=1\n",
    "\n",
    "if(a==0):\n",
    "    print(\"Palindrome list\")\n",
    "\n",
    "else:\n",
    "    print(\"Not a palindrome list\")"
   ]
  },
  {
   "cell_type": "code",
   "execution_count": 50,
   "id": "f804ec11-3d1b-4c78-a8c4-38f989b773e5",
   "metadata": {},
   "outputs": [
    {
     "name": "stdout",
     "output_type": "stream",
     "text": [
      "Palindrome List\n"
     ]
    }
   ],
   "source": [
    "string = \"mamam\"\n",
    "index = 0\n",
    "a = 0\n",
    "end = len(string)-1\n",
    "while(index < end):\n",
    "    if(string[index] != string[end]):\n",
    "        a = 1\n",
    "        break\n",
    "    index+=1\n",
    "    end-=1\n",
    "\n",
    "if(a==0):\n",
    "    print(\"Palindrome List\")\n",
    "\n",
    "else:\n",
    "    print(\"Not a Palindrome\")"
   ]
  },
  {
   "cell_type": "code",
   "execution_count": 52,
   "id": "d664e64f-d421-4674-b42c-f75679b25a00",
   "metadata": {},
   "outputs": [
    {
     "name": "stdout",
     "output_type": "stream",
     "text": [
      "20 10\n"
     ]
    }
   ],
   "source": [
    "a = 10\n",
    "b = 20\n",
    "# swap ?\n",
    "temp = a\n",
    "a = b\n",
    "b = temp\n",
    "print(a,b)"
   ]
  },
  {
   "cell_type": "code",
   "execution_count": 54,
   "id": "b5ad08b8-d191-47cf-96a8-3b352b304d2d",
   "metadata": {},
   "outputs": [
    {
     "name": "stdout",
     "output_type": "stream",
     "text": [
      "[50, 40, 30, 20, 10]\n"
     ]
    }
   ],
   "source": [
    "mylist = [10,20,30,40,50]\n",
    "start = 0\n",
    "end = len(mylist)-1\n",
    "while(start < end):\n",
    "    temp = mylist[start]\n",
    "    mylist[start]=mylist[end]\n",
    "    mylist[end]=temp\n",
    "    start+=1\n",
    "    end-=1\n",
    "\n",
    "print(mylist)"
   ]
  },
  {
   "cell_type": "code",
   "execution_count": 59,
   "id": "e462844c-45e7-4f70-b2e6-354be82cc64b",
   "metadata": {},
   "outputs": [
    {
     "name": "stdout",
     "output_type": "stream",
     "text": [
      "400\n"
     ]
    }
   ],
   "source": [
    "mylist = [10,20,3,400,50]\n",
    "max1 = 0\n",
    "for i in range(0,len(mylist)):\n",
    "    if(mylist[i]> max1):\n",
    "        max1 = mylist[i]\n",
    "\n",
    "print(max1)"
   ]
  },
  {
   "cell_type": "code",
   "execution_count": 69,
   "id": "94b75276-5249-4191-a534-d203addce23d",
   "metadata": {},
   "outputs": [
    {
     "name": "stdout",
     "output_type": "stream",
     "text": [
      "second max= 10\n",
      "20 10\n",
      "400 20\n",
      "second max= 50\n"
     ]
    }
   ],
   "source": [
    "max1=mylist[0]\n",
    "smax=0\n",
    "mylist = [10,20,3,400,50]\n",
    "for i in mylist:\n",
    "    if(i>max1):\n",
    "        smax=max1\n",
    "        max1=i\n",
    "        print(max1, smax)\n",
    "    elif(i > smax):\n",
    "        smax = i\n",
    "        print(\"second max=\",smax)"
   ]
  },
  {
   "cell_type": "code",
   "execution_count": 73,
   "id": "a0907315-9f1c-42aa-8363-fd6c53c9b314",
   "metadata": {},
   "outputs": [
    {
     "data": {
      "text/plain": [
       "['hey', 'hello', 'tushar']"
      ]
     },
     "execution_count": 73,
     "metadata": {},
     "output_type": "execute_result"
    }
   ],
   "source": [
    "s=\"hey hello tushar\"\n",
    "s.split(\" \") # string ke upar split method chlate hai to list main miltah hai"
   ]
  },
  {
   "cell_type": "code",
   "execution_count": 75,
   "id": "38d8bb79-668a-434f-b5da-77e77830afea",
   "metadata": {},
   "outputs": [
    {
     "name": "stdout",
     "output_type": "stream",
     "text": [
      "hey\n",
      "hello\n",
      "tushar\n"
     ]
    }
   ],
   "source": [
    "s=\"hey hello tushar\"\n",
    "for word in s.split(\" \"):\n",
    "    print(word)"
   ]
  },
  {
   "cell_type": "code",
   "execution_count": 77,
   "id": "1a7c53f4-a7ab-4f65-a927-fa13cd634deb",
   "metadata": {},
   "outputs": [
    {
     "name": "stdout",
     "output_type": "stream",
     "text": [
      "['hey', 'hello', 'tushar']\n"
     ]
    }
   ],
   "source": [
    "s=\"hey hello tushar\"\n",
    "x = s.split(\" \")\n",
    "print(x)"
   ]
  },
  {
   "cell_type": "code",
   "execution_count": 81,
   "id": "11f76014-2862-49ed-b98c-e493a44f601f",
   "metadata": {},
   "outputs": [
    {
     "data": {
      "text/plain": [
       "'hey-hello-tushar'"
      ]
     },
     "execution_count": 81,
     "metadata": {},
     "output_type": "execute_result"
    }
   ],
   "source": [
    "\"-\".join(x)     # join function list ko string main convert karte hai"
   ]
  },
  {
   "cell_type": "code",
   "execution_count": 83,
   "id": "a18539df-baf8-4b83-8bdf-2a008b5045f4",
   "metadata": {},
   "outputs": [],
   "source": [
    "# \"heyy\"\n",
    "# [h,he,hey,heyy,e,ey,eyy,y,yy,y]\n",
    "# string ka data list mian chiye"
   ]
  },
  {
   "cell_type": "code",
   "execution_count": 85,
   "id": "047ac79e-0b8f-4ced-8c31-6b6ee8e2b029",
   "metadata": {},
   "outputs": [],
   "source": [
    "# [10,2,3,5,7]\n",
    "# [10,12,15,20,27] runing sum value ke sath sath total karn hai"
   ]
  },
  {
   "cell_type": "code",
   "execution_count": 87,
   "id": "9fbf8042-0958-4c95-8a7c-7a9d5f0978f2",
   "metadata": {},
   "outputs": [],
   "source": [
    "# [ 10,20,10,60,7]\n",
    "# [20,60,7] unique element he aanye chaiye"
   ]
  },
  {
   "cell_type": "code",
   "execution_count": 89,
   "id": "c5ca8e38-088e-4e2a-bf84-eb922b8a8693",
   "metadata": {},
   "outputs": [],
   "source": [
    "# \"khokho\", \"abab\"\n",
    "# kye ye symmetric hai ya nhi\n",
    "# example = kho kho\n",
    "# example = ab ab"
   ]
  },
  {
   "cell_type": "code",
   "execution_count": null,
   "id": "1d25c9c1-f758-46d5-be5b-8b074c0018cb",
   "metadata": {},
   "outputs": [],
   "source": []
  }
 ],
 "metadata": {
  "kernelspec": {
   "display_name": "Python [conda env:base] *",
   "language": "python",
   "name": "conda-base-py"
  },
  "language_info": {
   "codemirror_mode": {
    "name": "ipython",
    "version": 3
   },
   "file_extension": ".py",
   "mimetype": "text/x-python",
   "name": "python",
   "nbconvert_exporter": "python",
   "pygments_lexer": "ipython3",
   "version": "3.12.7"
  }
 },
 "nbformat": 4,
 "nbformat_minor": 5
}
